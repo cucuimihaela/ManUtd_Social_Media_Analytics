{
 "cells": [
  {
   "cell_type": "markdown",
   "metadata": {
    "pycharm": {
     "name": "#%% md\n"
    }
   },
   "source": [
    "### Using Snscrape instead of Tweepy to get tweets and their stats\n",
    "This notebook collects the tweets based on Username or Hashtag and a desired timeline can easily be given to Snscrape."
   ]
  },
  {
   "cell_type": "code",
   "execution_count": 11,
   "metadata": {
    "collapsed": false,
    "pycharm": {
     "name": "#%%\n"
    }
   },
   "outputs": [],
   "source": [
    "import snscrape.modules.twitter as sntwitter\n",
    "import pandas as pd\n",
    "import os"
   ]
  },
  {
   "cell_type": "code",
   "execution_count": null,
   "metadata": {
    "collapsed": false,
    "pycharm": {
     "name": "#%%\n"
    }
   },
   "outputs": [],
   "source": [
    "tweets = []\n",
    "for i, tweet in enumerate(\n",
    "\tsntwitter.TwitterSearchScraper('#manutd since:2022-05-01 until:2022-10-22').get_items()):\n",
    "\ttweets.append(tweet)\n",
    "\t"
   ]
  },
  {
   "cell_type": "code",
   "execution_count": null,
   "metadata": {
    "collapsed": false,
    "pycharm": {
     "name": "#%%\n"
    }
   },
   "outputs": [],
   "source": [
    "attributes_container = []\n",
    "for tweet in tweets:\n",
    "    attributes_container.append([tweet.user.username, tweet.date, tweet.likeCount, tweet.sourceLabel, tweet.content, tweet.lang, tweet.retweetCount, tweet.mentionedUsers])\n",
    "\n",
    "tweets_df = pd.DataFrame(attributes_container, columns=[\"User\", \"Date Created\", \"Number of Likes\", \"Source of Tweet\", \"Tweet\", \"Language\", \"Retweets\", \"Mentioned Users\"])\n",
    "\n",
    "\n",
    "tweets_df"
   ]
  },
  {
   "cell_type": "code",
   "execution_count": 12,
   "metadata": {
    "collapsed": false,
    "pycharm": {
     "name": "#%%\n"
    }
   },
   "outputs": [],
   "source": [
    "tweets_df.to_csv(\"../../../data/raw/df_man_united.csv\")"
   ]
  }
 ],
 "metadata": {
  "kernelspec": {
   "display_name": "Python 3.10.5 64-bit",
   "language": "python",
   "name": "python3"
  },
  "language_info": {
   "codemirror_mode": {
    "name": "ipython",
    "version": 3
   },
   "file_extension": ".py",
   "mimetype": "text/x-python",
   "name": "python",
   "nbconvert_exporter": "python",
   "pygments_lexer": "ipython3",
   "version": "3.10.5"
  },
  "vscode": {
   "interpreter": {
    "hash": "1cb4cdeafc61a6c89e92f7723c86672e1ce8acb7f4f325f2b080f67667d6c07a"
   }
  }
 },
 "nbformat": 4,
 "nbformat_minor": 0
}