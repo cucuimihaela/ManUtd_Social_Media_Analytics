{
 "cells": [
  {
   "cell_type": "markdown",
   "metadata": {
    "id": "jTIxIwFMKFXl",
    "pycharm": {
     "name": "#%% md\n"
    }
   },
   "source": [
    "# **BERTopic** - Dynamic Topic Modeling with Twees hashtags: #manunited, #manchesterunited,#MUFC\n",
    "\n",
    "\n",
    "In this tutorial we will be using Dynamic Topic Modeling with BERTopic to visualize how topics in Tweets have evolved over time. These topics will be visualized and thoroughly explored. \n",
    "\n",
    "## Dynamic Topic Models\n",
    "Dynamic topic models can be used to analyze the evolution of topics of a collection of documents over time. \n",
    "\n",
    "<br>\n",
    "\n",
    "<img src=\"https://raw.githubusercontent.com/MaartenGr/BERTopic/master/images/logo.png\" width=\"40%\">"
   ]
  },
  {
   "cell_type": "markdown",
   "metadata": {
    "id": "p6HFHxqnK7J1",
    "pycharm": {
     "name": "#%% md\n"
    }
   },
   "source": [
    "# Enabling the GPU\n",
    "\n",
    "First, you'll need to enable GPUs for the notebook:\n",
    "\n",
    "- Navigate to Edit→Notebook Settings\n",
    "- select GPU from the Hardware Accelerator drop-down"
   ]
  },
  {
   "cell_type": "markdown",
   "metadata": {
    "id": "PxGBi-HTK-kj",
    "pycharm": {
     "name": "#%% md\n"
    }
   },
   "source": [
    "# Installing BERTopic\n",
    "\n",
    "We start by installing BERTopic from PyPi:"
   ]
  },
  {
   "cell_type": "code",
   "execution_count": 2,
   "metadata": {
    "id": "BSV43im0K8d7",
    "executionInfo": {
     "status": "ok",
     "timestamp": 1668363282843,
     "user_tz": -60,
     "elapsed": 5055,
     "user": {
      "displayName": "Naemi Graf",
      "userId": "00297558433787857996"
     }
    },
    "pycharm": {
     "name": "#%%\n"
    }
   },
   "outputs": [],
   "source": [
    "%%capture\n",
    "!pip install bertopic"
   ]
  },
  {
   "cell_type": "markdown",
   "metadata": {
    "id": "0C32KuGjLD1k",
    "pycharm": {
     "name": "#%% md\n"
    }
   },
   "source": [
    "## Restart the Notebook\n",
    "After installing BERTopic, some packages that were already loaded were updated and in order to correctly use them, we should now restart the notebook.\n",
    "\n",
    "From the Menu:\n",
    "\n",
    "Runtime → Restart Runtime"
   ]
  },
  {
   "cell_type": "markdown",
   "metadata": {
    "id": "kb8lkM_ELOYM",
    "pycharm": {
     "name": "#%% md\n"
    }
   },
   "source": [
    "# **Data**\n",
    "For this model we will need Tweets as Data. How to get data will be captured in a other notebook.\n",
    "\n",
    "In this notebook we will do two DF's. One with stopwords, and one without stopwords. We will compare the result"
   ]
  },
  {
   "cell_type": "code",
   "execution_count": 1,
   "metadata": {
    "id": "MAITjXJaL4O2",
    "executionInfo": {
     "status": "ok",
     "timestamp": 1668364802705,
     "user_tz": -60,
     "elapsed": 1418,
     "user": {
      "displayName": "Naemi Graf",
      "userId": "00297558433787857996"
     }
    },
    "pycharm": {
     "name": "#%%\n"
    }
   },
   "outputs": [],
   "source": [
    "import re\n",
    "import pandas as pd\n",
    "from datetime import datetime\n",
    "import pickle\n",
    "import plotly.express as px"
   ]
  },
  {
   "cell_type": "code",
   "source": [
    "tweets_no_stopwords = pd.read_csv('/content/drive/MyDrive/Interim/_Post_Twitter_all_Hashtags_with_matches_clean_removed_stopwords_no_lem.csv')"
   ],
   "metadata": {
    "colab": {
     "base_uri": "https://localhost:8080/"
    },
    "id": "6V1LW64SNRUl",
    "executionInfo": {
     "status": "ok",
     "timestamp": 1668364816524,
     "user_tz": -60,
     "elapsed": 13477,
     "user": {
      "displayName": "Naemi Graf",
      "userId": "00297558433787857996"
     }
    },
    "outputId": "a3cfc2b9-c09b-4a05-9941-ac2cb7cd5a14",
    "pycharm": {
     "name": "#%%\n"
    }
   },
   "execution_count": 2,
   "outputs": [
    {
     "output_type": "stream",
     "name": "stderr",
     "text": [
      "/usr/local/lib/python3.7/dist-packages/IPython/core/interactiveshell.py:3326: DtypeWarning: Columns (14,15,16,17,18,19,20,21,22,24,25,26,27,28) have mixed types.Specify dtype option on import or set low_memory=False.\n",
      "  exec(code_obj, self.user_global_ns, self.user_ns)\n"
     ]
    }
   ]
  },
  {
   "cell_type": "code",
   "source": [
    "tweets_no_stopwords= tweets_no_stopwords.dropna(subset = ['Tweet_clean'])"
   ],
   "metadata": {
    "id": "s3OdPLpdNRXe",
    "executionInfo": {
     "status": "ok",
     "timestamp": 1668364817294,
     "user_tz": -60,
     "elapsed": 5,
     "user": {
      "displayName": "Naemi Graf",
      "userId": "00297558433787857996"
     }
    },
    "pycharm": {
     "name": "#%%\n"
    }
   },
   "execution_count": 3,
   "outputs": []
  },
  {
   "cell_type": "code",
   "source": [
    "# create a list of all tweets\n",
    "tweets_no_stopwords_lst = tweets_no_stopwords.Tweet_clean.to_list()\n",
    "tweets_no_stopwords_lst[5123]\n",
    "timestamps = tweets_no_stopwords.Date_Created.to_list()"
   ],
   "metadata": {
    "id": "n74Wh411NRdL",
    "executionInfo": {
     "status": "ok",
     "timestamp": 1668364817294,
     "user_tz": -60,
     "elapsed": 4,
     "user": {
      "displayName": "Naemi Graf",
      "userId": "00297558433787857996"
     }
    },
    "pycharm": {
     "name": "#%%\n"
    }
   },
   "execution_count": 4,
   "outputs": []
  },
  {
   "cell_type": "markdown",
   "source": [
    "# Load Model"
   ],
   "metadata": {
    "id": "DVz5BEoERWL1",
    "pycharm": {
     "name": "#%% md\n"
    }
   }
  },
  {
   "cell_type": "code",
   "source": [
    "##%%time\n",
    "from bertopic import BERTopic\n",
    "topic_model = BERTopic(min_topic_size=35, verbose=True)\n",
    "topics, _ = topic_model.fit_transform(tweets_no_stopwords_lst)"
   ],
   "metadata": {
    "id": "-hfRfR70RVI7",
    "pycharm": {
     "name": "#%%\n"
    }
   },
   "execution_count": null,
   "outputs": []
  },
  {
   "cell_type": "markdown",
   "source": [
    "## Save the model"
   ],
   "metadata": {
    "id": "Xoim2VcHRmKe",
    "pycharm": {
     "name": "#%% md\n"
    }
   }
  },
  {
   "cell_type": "code",
   "source": [
    "filename = '/content/drive/MyDrive/Models/finalized_model_BERTopic_1M_DB_no_Stopwords_no_lem.sav'\n",
    "pickle.dump(model, open(filename, 'wb'))"
   ],
   "metadata": {
    "id": "_eBnFCToRVLl",
    "pycharm": {
     "name": "#%%\n"
    }
   },
   "execution_count": null,
   "outputs": []
  },
  {
   "cell_type": "markdown",
   "source": [
    "# Import pre saved Model"
   ],
   "metadata": {
    "id": "i_VUdAr3FG82",
    "pycharm": {
     "name": "#%% md\n"
    }
   }
  },
  {
   "cell_type": "code",
   "source": [
    "# load the model from disk\n",
    "filename = '/content/drive/MyDrive/Models/finalized_model_BERTopic_1M_DB_no_Stopwords_no_lem.sav'\n",
    "topic_model = pickle.load(open(filename, 'rb'))\n"
   ],
   "metadata": {
    "id": "stFmFL3xsfSW",
    "executionInfo": {
     "status": "ok",
     "timestamp": 1668364883698,
     "user_tz": -60,
     "elapsed": 66408,
     "user": {
      "displayName": "Naemi Graf",
      "userId": "00297558433787857996"
     }
    },
    "pycharm": {
     "name": "#%%\n"
    }
   },
   "execution_count": 5,
   "outputs": []
  },
  {
   "cell_type": "markdown",
   "source": [
    "We can then extract most frequent topics:"
   ],
   "metadata": {
    "id": "wkqtnlWRTeuw",
    "pycharm": {
     "name": "#%% md\n"
    }
   }
  },
  {
   "cell_type": "code",
   "source": [
    "freq1 = topic_model.get_topic_info(); freq1.head(22)"
   ],
   "metadata": {
    "colab": {
     "base_uri": "https://localhost:8080/",
     "height": 739
    },
    "id": "NcXIQeLnHXSa",
    "executionInfo": {
     "status": "ok",
     "timestamp": 1668364883698,
     "user_tz": -60,
     "elapsed": 7,
     "user": {
      "displayName": "Naemi Graf",
      "userId": "00297558433787857996"
     }
    },
    "outputId": "d82ea052-43d3-4e8e-8992-d613f2e077e2",
    "pycharm": {
     "name": "#%%\n"
    }
   },
   "execution_count": 6,
   "outputs": [
    {
     "output_type": "execute_result",
     "data": {
      "text/plain": [
       "    Topic   Count                                             Name\n",
       "0      -1  515338                -1_jong_frenkie_ronaldo_barcelona\n",
       "1       0    8531                              0_erik_ten_hag_hags\n",
       "2       1    6178                   1_signings_sign_signing_signed\n",
       "3       2    5873                  2_jadon_sancho_sanchooo_sanchos\n",
       "4       3    5782                 3_maguire_harry_captain_maguires\n",
       "5       4    5245          4_liverpool_liverpoolfc_liverpools_beat\n",
       "6       5    4682                    5_garner_james_forest_garners\n",
       "7       6    4609                        6_oh_interesting_love_wow\n",
       "8       7    4396                    7_brighton_bhamun_hove_albion\n",
       "9       8    4308                              8_gea_david_geas_de\n",
       "10      9    4300      9_fabrizioromano_caughtoffside_fab_fabrizio\n",
       "11     10    4054             10_arsenal_arsenals_gunners_unbeaten\n",
       "12     11    3999         11_bruno_brunos_brunofernandes_brunooooo\n",
       "13     12    3761           12_trafford_old_atmosphere_oldtrafford\n",
       "14     13    3484      13_cristianoronaldo_cristiano_cr_cristianos\n",
       "15     14    3412           14_protest_protests_protesting_boycott\n",
       "16     15    3410  15_martinez_lisandro_martinezs_lisandromartinez\n",
       "17     16    3023             16_mctominay_scott_scotty_mctominays\n",
       "18     17    3002       17_brentford_brentfordfc_bremun_brentfords\n",
       "19     18    2953             18_casemiro_casemiros_welcome_soumun\n",
       "20     19    2930              19_nunez_darwin_benfica_darwinnunez\n",
       "21     20    2706              20_lisandro_martinez_ajax_documents"
      ],
      "text/html": [
       "\n",
       "  <div id=\"df-0651dd0f-1200-459f-bf51-5e6f63d57259\">\n",
       "    <div class=\"colab-df-container\">\n",
       "      <div>\n",
       "<style scoped>\n",
       "    .dataframe tbody tr th:only-of-type {\n",
       "        vertical-align: middle;\n",
       "    }\n",
       "\n",
       "    .dataframe tbody tr th {\n",
       "        vertical-align: top;\n",
       "    }\n",
       "\n",
       "    .dataframe thead th {\n",
       "        text-align: right;\n",
       "    }\n",
       "</style>\n",
       "<table border=\"1\" class=\"dataframe\">\n",
       "  <thead>\n",
       "    <tr style=\"text-align: right;\">\n",
       "      <th></th>\n",
       "      <th>Topic</th>\n",
       "      <th>Count</th>\n",
       "      <th>Name</th>\n",
       "    </tr>\n",
       "  </thead>\n",
       "  <tbody>\n",
       "    <tr>\n",
       "      <th>0</th>\n",
       "      <td>-1</td>\n",
       "      <td>515338</td>\n",
       "      <td>-1_jong_frenkie_ronaldo_barcelona</td>\n",
       "    </tr>\n",
       "    <tr>\n",
       "      <th>1</th>\n",
       "      <td>0</td>\n",
       "      <td>8531</td>\n",
       "      <td>0_erik_ten_hag_hags</td>\n",
       "    </tr>\n",
       "    <tr>\n",
       "      <th>2</th>\n",
       "      <td>1</td>\n",
       "      <td>6178</td>\n",
       "      <td>1_signings_sign_signing_signed</td>\n",
       "    </tr>\n",
       "    <tr>\n",
       "      <th>3</th>\n",
       "      <td>2</td>\n",
       "      <td>5873</td>\n",
       "      <td>2_jadon_sancho_sanchooo_sanchos</td>\n",
       "    </tr>\n",
       "    <tr>\n",
       "      <th>4</th>\n",
       "      <td>3</td>\n",
       "      <td>5782</td>\n",
       "      <td>3_maguire_harry_captain_maguires</td>\n",
       "    </tr>\n",
       "    <tr>\n",
       "      <th>5</th>\n",
       "      <td>4</td>\n",
       "      <td>5245</td>\n",
       "      <td>4_liverpool_liverpoolfc_liverpools_beat</td>\n",
       "    </tr>\n",
       "    <tr>\n",
       "      <th>6</th>\n",
       "      <td>5</td>\n",
       "      <td>4682</td>\n",
       "      <td>5_garner_james_forest_garners</td>\n",
       "    </tr>\n",
       "    <tr>\n",
       "      <th>7</th>\n",
       "      <td>6</td>\n",
       "      <td>4609</td>\n",
       "      <td>6_oh_interesting_love_wow</td>\n",
       "    </tr>\n",
       "    <tr>\n",
       "      <th>8</th>\n",
       "      <td>7</td>\n",
       "      <td>4396</td>\n",
       "      <td>7_brighton_bhamun_hove_albion</td>\n",
       "    </tr>\n",
       "    <tr>\n",
       "      <th>9</th>\n",
       "      <td>8</td>\n",
       "      <td>4308</td>\n",
       "      <td>8_gea_david_geas_de</td>\n",
       "    </tr>\n",
       "    <tr>\n",
       "      <th>10</th>\n",
       "      <td>9</td>\n",
       "      <td>4300</td>\n",
       "      <td>9_fabrizioromano_caughtoffside_fab_fabrizio</td>\n",
       "    </tr>\n",
       "    <tr>\n",
       "      <th>11</th>\n",
       "      <td>10</td>\n",
       "      <td>4054</td>\n",
       "      <td>10_arsenal_arsenals_gunners_unbeaten</td>\n",
       "    </tr>\n",
       "    <tr>\n",
       "      <th>12</th>\n",
       "      <td>11</td>\n",
       "      <td>3999</td>\n",
       "      <td>11_bruno_brunos_brunofernandes_brunooooo</td>\n",
       "    </tr>\n",
       "    <tr>\n",
       "      <th>13</th>\n",
       "      <td>12</td>\n",
       "      <td>3761</td>\n",
       "      <td>12_trafford_old_atmosphere_oldtrafford</td>\n",
       "    </tr>\n",
       "    <tr>\n",
       "      <th>14</th>\n",
       "      <td>13</td>\n",
       "      <td>3484</td>\n",
       "      <td>13_cristianoronaldo_cristiano_cr_cristianos</td>\n",
       "    </tr>\n",
       "    <tr>\n",
       "      <th>15</th>\n",
       "      <td>14</td>\n",
       "      <td>3412</td>\n",
       "      <td>14_protest_protests_protesting_boycott</td>\n",
       "    </tr>\n",
       "    <tr>\n",
       "      <th>16</th>\n",
       "      <td>15</td>\n",
       "      <td>3410</td>\n",
       "      <td>15_martinez_lisandro_martinezs_lisandromartinez</td>\n",
       "    </tr>\n",
       "    <tr>\n",
       "      <th>17</th>\n",
       "      <td>16</td>\n",
       "      <td>3023</td>\n",
       "      <td>16_mctominay_scott_scotty_mctominays</td>\n",
       "    </tr>\n",
       "    <tr>\n",
       "      <th>18</th>\n",
       "      <td>17</td>\n",
       "      <td>3002</td>\n",
       "      <td>17_brentford_brentfordfc_bremun_brentfords</td>\n",
       "    </tr>\n",
       "    <tr>\n",
       "      <th>19</th>\n",
       "      <td>18</td>\n",
       "      <td>2953</td>\n",
       "      <td>18_casemiro_casemiros_welcome_soumun</td>\n",
       "    </tr>\n",
       "    <tr>\n",
       "      <th>20</th>\n",
       "      <td>19</td>\n",
       "      <td>2930</td>\n",
       "      <td>19_nunez_darwin_benfica_darwinnunez</td>\n",
       "    </tr>\n",
       "    <tr>\n",
       "      <th>21</th>\n",
       "      <td>20</td>\n",
       "      <td>2706</td>\n",
       "      <td>20_lisandro_martinez_ajax_documents</td>\n",
       "    </tr>\n",
       "  </tbody>\n",
       "</table>\n",
       "</div>\n",
       "      <button class=\"colab-df-convert\" onclick=\"convertToInteractive('df-0651dd0f-1200-459f-bf51-5e6f63d57259')\"\n",
       "              title=\"Convert this dataframe to an interactive table.\"\n",
       "              style=\"display:none;\">\n",
       "        \n",
       "  <svg xmlns=\"http://www.w3.org/2000/svg\" height=\"24px\"viewBox=\"0 0 24 24\"\n",
       "       width=\"24px\">\n",
       "    <path d=\"M0 0h24v24H0V0z\" fill=\"none\"/>\n",
       "    <path d=\"M18.56 5.44l.94 2.06.94-2.06 2.06-.94-2.06-.94-.94-2.06-.94 2.06-2.06.94zm-11 1L8.5 8.5l.94-2.06 2.06-.94-2.06-.94L8.5 2.5l-.94 2.06-2.06.94zm10 10l.94 2.06.94-2.06 2.06-.94-2.06-.94-.94-2.06-.94 2.06-2.06.94z\"/><path d=\"M17.41 7.96l-1.37-1.37c-.4-.4-.92-.59-1.43-.59-.52 0-1.04.2-1.43.59L10.3 9.45l-7.72 7.72c-.78.78-.78 2.05 0 2.83L4 21.41c.39.39.9.59 1.41.59.51 0 1.02-.2 1.41-.59l7.78-7.78 2.81-2.81c.8-.78.8-2.07 0-2.86zM5.41 20L4 18.59l7.72-7.72 1.47 1.35L5.41 20z\"/>\n",
       "  </svg>\n",
       "      </button>\n",
       "      \n",
       "  <style>\n",
       "    .colab-df-container {\n",
       "      display:flex;\n",
       "      flex-wrap:wrap;\n",
       "      gap: 12px;\n",
       "    }\n",
       "\n",
       "    .colab-df-convert {\n",
       "      background-color: #E8F0FE;\n",
       "      border: none;\n",
       "      border-radius: 50%;\n",
       "      cursor: pointer;\n",
       "      display: none;\n",
       "      fill: #1967D2;\n",
       "      height: 32px;\n",
       "      padding: 0 0 0 0;\n",
       "      width: 32px;\n",
       "    }\n",
       "\n",
       "    .colab-df-convert:hover {\n",
       "      background-color: #E2EBFA;\n",
       "      box-shadow: 0px 1px 2px rgba(60, 64, 67, 0.3), 0px 1px 3px 1px rgba(60, 64, 67, 0.15);\n",
       "      fill: #174EA6;\n",
       "    }\n",
       "\n",
       "    [theme=dark] .colab-df-convert {\n",
       "      background-color: #3B4455;\n",
       "      fill: #D2E3FC;\n",
       "    }\n",
       "\n",
       "    [theme=dark] .colab-df-convert:hover {\n",
       "      background-color: #434B5C;\n",
       "      box-shadow: 0px 1px 3px 1px rgba(0, 0, 0, 0.15);\n",
       "      filter: drop-shadow(0px 1px 2px rgba(0, 0, 0, 0.3));\n",
       "      fill: #FFFFFF;\n",
       "    }\n",
       "  </style>\n",
       "\n",
       "      <script>\n",
       "        const buttonEl =\n",
       "          document.querySelector('#df-0651dd0f-1200-459f-bf51-5e6f63d57259 button.colab-df-convert');\n",
       "        buttonEl.style.display =\n",
       "          google.colab.kernel.accessAllowed ? 'block' : 'none';\n",
       "\n",
       "        async function convertToInteractive(key) {\n",
       "          const element = document.querySelector('#df-0651dd0f-1200-459f-bf51-5e6f63d57259');\n",
       "          const dataTable =\n",
       "            await google.colab.kernel.invokeFunction('convertToInteractive',\n",
       "                                                     [key], {});\n",
       "          if (!dataTable) return;\n",
       "\n",
       "          const docLinkHtml = 'Like what you see? Visit the ' +\n",
       "            '<a target=\"_blank\" href=https://colab.research.google.com/notebooks/data_table.ipynb>data table notebook</a>'\n",
       "            + ' to learn more about interactive tables.';\n",
       "          element.innerHTML = '';\n",
       "          dataTable['output_type'] = 'display_data';\n",
       "          await google.colab.output.renderOutput(dataTable, element);\n",
       "          const docLink = document.createElement('div');\n",
       "          docLink.innerHTML = docLinkHtml;\n",
       "          element.appendChild(docLink);\n",
       "        }\n",
       "      </script>\n",
       "    </div>\n",
       "  </div>\n",
       "  "
      ]
     },
     "metadata": {},
     "execution_count": 6
    }
   ]
  },
  {
   "cell_type": "markdown",
   "source": [
    "-1 refers to all outliers and should typically be ignored. Next, let's take a look at a frequent topic that were generated:"
   ],
   "metadata": {
    "id": "6i_S3wkTTbB9",
    "pycharm": {
     "name": "#%% md\n"
    }
   }
  },
  {
   "cell_type": "markdown",
   "source": [
    "# Merge Topics"
   ],
   "metadata": {
    "id": "fbDy0ASKOL4k",
    "pycharm": {
     "name": "#%% md\n"
    }
   }
  },
  {
   "cell_type": "code",
   "source": [
    "topics_to_merge = [[0],[1, ],[2,5,8,9,11,13,15,18,19,20], [3], [4,10,17],[6,7,12,16],[14]]\n",
    "topic_model.merge_topics(tweets_no_stopwords_lst,topics_to_merge)"
   ],
   "metadata": {
    "id": "dNmlWu3QHpqI",
    "executionInfo": {
     "status": "ok",
     "timestamp": 1668364923472,
     "user_tz": -60,
     "elapsed": 39777,
     "user": {
      "displayName": "Naemi Graf",
      "userId": "00297558433787857996"
     }
    },
    "pycharm": {
     "name": "#%%\n"
    }
   },
   "execution_count": 7,
   "outputs": []
  },
  {
   "cell_type": "code",
   "source": [
    "freq_after_merge = topic_model.get_topic_info(); freq_after_merge.head(12)"
   ],
   "metadata": {
    "colab": {
     "base_uri": "https://localhost:8080/",
     "height": 426
    },
    "id": "3ZZakf5iNaK9",
    "executionInfo": {
     "status": "ok",
     "timestamp": 1668364923475,
     "user_tz": -60,
     "elapsed": 16,
     "user": {
      "displayName": "Naemi Graf",
      "userId": "00297558433787857996"
     }
    },
    "outputId": "23dcc889-fe18-4457-fe37-3ad30c58ed33",
    "pycharm": {
     "name": "#%%\n"
    }
   },
   "execution_count": 8,
   "outputs": [
    {
     "output_type": "execute_result",
     "data": {
      "text/plain": [
       "    Topic   Count                                       Name\n",
       "0      -1  515338          -1_jong_frenkie_ronaldo_barcelona\n",
       "1       0   38645                   0_garner_james_nunez_gea\n",
       "2       1   15789          1_brighton_trafford_mctominay_old\n",
       "3       2   12301  2_arsenal_brentford_brentfordfc_liverpool\n",
       "4       3    8531                        3_erik_ten_hag_hags\n",
       "5       4    6178             4_signings_sign_signing_signed\n",
       "6       5    5782           5_maguire_harry_captain_maguires\n",
       "7       6    3412      6_protest_protests_protesting_boycott\n",
       "8       7    2543   7_fernandes_bruno_brunofernandes_assists\n",
       "9       8    2511                 8_elonmusk_elon_musk_tesla\n",
       "10      9    2437                     9_eth_eths_trust_style\n",
       "11     10    2296   10_europa_europaleague_conference_league"
      ],
      "text/html": [
       "\n",
       "  <div id=\"df-7f253113-a3c6-4332-97e2-cd8af4d27f03\">\n",
       "    <div class=\"colab-df-container\">\n",
       "      <div>\n",
       "<style scoped>\n",
       "    .dataframe tbody tr th:only-of-type {\n",
       "        vertical-align: middle;\n",
       "    }\n",
       "\n",
       "    .dataframe tbody tr th {\n",
       "        vertical-align: top;\n",
       "    }\n",
       "\n",
       "    .dataframe thead th {\n",
       "        text-align: right;\n",
       "    }\n",
       "</style>\n",
       "<table border=\"1\" class=\"dataframe\">\n",
       "  <thead>\n",
       "    <tr style=\"text-align: right;\">\n",
       "      <th></th>\n",
       "      <th>Topic</th>\n",
       "      <th>Count</th>\n",
       "      <th>Name</th>\n",
       "    </tr>\n",
       "  </thead>\n",
       "  <tbody>\n",
       "    <tr>\n",
       "      <th>0</th>\n",
       "      <td>-1</td>\n",
       "      <td>515338</td>\n",
       "      <td>-1_jong_frenkie_ronaldo_barcelona</td>\n",
       "    </tr>\n",
       "    <tr>\n",
       "      <th>1</th>\n",
       "      <td>0</td>\n",
       "      <td>38645</td>\n",
       "      <td>0_garner_james_nunez_gea</td>\n",
       "    </tr>\n",
       "    <tr>\n",
       "      <th>2</th>\n",
       "      <td>1</td>\n",
       "      <td>15789</td>\n",
       "      <td>1_brighton_trafford_mctominay_old</td>\n",
       "    </tr>\n",
       "    <tr>\n",
       "      <th>3</th>\n",
       "      <td>2</td>\n",
       "      <td>12301</td>\n",
       "      <td>2_arsenal_brentford_brentfordfc_liverpool</td>\n",
       "    </tr>\n",
       "    <tr>\n",
       "      <th>4</th>\n",
       "      <td>3</td>\n",
       "      <td>8531</td>\n",
       "      <td>3_erik_ten_hag_hags</td>\n",
       "    </tr>\n",
       "    <tr>\n",
       "      <th>5</th>\n",
       "      <td>4</td>\n",
       "      <td>6178</td>\n",
       "      <td>4_signings_sign_signing_signed</td>\n",
       "    </tr>\n",
       "    <tr>\n",
       "      <th>6</th>\n",
       "      <td>5</td>\n",
       "      <td>5782</td>\n",
       "      <td>5_maguire_harry_captain_maguires</td>\n",
       "    </tr>\n",
       "    <tr>\n",
       "      <th>7</th>\n",
       "      <td>6</td>\n",
       "      <td>3412</td>\n",
       "      <td>6_protest_protests_protesting_boycott</td>\n",
       "    </tr>\n",
       "    <tr>\n",
       "      <th>8</th>\n",
       "      <td>7</td>\n",
       "      <td>2543</td>\n",
       "      <td>7_fernandes_bruno_brunofernandes_assists</td>\n",
       "    </tr>\n",
       "    <tr>\n",
       "      <th>9</th>\n",
       "      <td>8</td>\n",
       "      <td>2511</td>\n",
       "      <td>8_elonmusk_elon_musk_tesla</td>\n",
       "    </tr>\n",
       "    <tr>\n",
       "      <th>10</th>\n",
       "      <td>9</td>\n",
       "      <td>2437</td>\n",
       "      <td>9_eth_eths_trust_style</td>\n",
       "    </tr>\n",
       "    <tr>\n",
       "      <th>11</th>\n",
       "      <td>10</td>\n",
       "      <td>2296</td>\n",
       "      <td>10_europa_europaleague_conference_league</td>\n",
       "    </tr>\n",
       "  </tbody>\n",
       "</table>\n",
       "</div>\n",
       "      <button class=\"colab-df-convert\" onclick=\"convertToInteractive('df-7f253113-a3c6-4332-97e2-cd8af4d27f03')\"\n",
       "              title=\"Convert this dataframe to an interactive table.\"\n",
       "              style=\"display:none;\">\n",
       "        \n",
       "  <svg xmlns=\"http://www.w3.org/2000/svg\" height=\"24px\"viewBox=\"0 0 24 24\"\n",
       "       width=\"24px\">\n",
       "    <path d=\"M0 0h24v24H0V0z\" fill=\"none\"/>\n",
       "    <path d=\"M18.56 5.44l.94 2.06.94-2.06 2.06-.94-2.06-.94-.94-2.06-.94 2.06-2.06.94zm-11 1L8.5 8.5l.94-2.06 2.06-.94-2.06-.94L8.5 2.5l-.94 2.06-2.06.94zm10 10l.94 2.06.94-2.06 2.06-.94-2.06-.94-.94-2.06-.94 2.06-2.06.94z\"/><path d=\"M17.41 7.96l-1.37-1.37c-.4-.4-.92-.59-1.43-.59-.52 0-1.04.2-1.43.59L10.3 9.45l-7.72 7.72c-.78.78-.78 2.05 0 2.83L4 21.41c.39.39.9.59 1.41.59.51 0 1.02-.2 1.41-.59l7.78-7.78 2.81-2.81c.8-.78.8-2.07 0-2.86zM5.41 20L4 18.59l7.72-7.72 1.47 1.35L5.41 20z\"/>\n",
       "  </svg>\n",
       "      </button>\n",
       "      \n",
       "  <style>\n",
       "    .colab-df-container {\n",
       "      display:flex;\n",
       "      flex-wrap:wrap;\n",
       "      gap: 12px;\n",
       "    }\n",
       "\n",
       "    .colab-df-convert {\n",
       "      background-color: #E8F0FE;\n",
       "      border: none;\n",
       "      border-radius: 50%;\n",
       "      cursor: pointer;\n",
       "      display: none;\n",
       "      fill: #1967D2;\n",
       "      height: 32px;\n",
       "      padding: 0 0 0 0;\n",
       "      width: 32px;\n",
       "    }\n",
       "\n",
       "    .colab-df-convert:hover {\n",
       "      background-color: #E2EBFA;\n",
       "      box-shadow: 0px 1px 2px rgba(60, 64, 67, 0.3), 0px 1px 3px 1px rgba(60, 64, 67, 0.15);\n",
       "      fill: #174EA6;\n",
       "    }\n",
       "\n",
       "    [theme=dark] .colab-df-convert {\n",
       "      background-color: #3B4455;\n",
       "      fill: #D2E3FC;\n",
       "    }\n",
       "\n",
       "    [theme=dark] .colab-df-convert:hover {\n",
       "      background-color: #434B5C;\n",
       "      box-shadow: 0px 1px 3px 1px rgba(0, 0, 0, 0.15);\n",
       "      filter: drop-shadow(0px 1px 2px rgba(0, 0, 0, 0.3));\n",
       "      fill: #FFFFFF;\n",
       "    }\n",
       "  </style>\n",
       "\n",
       "      <script>\n",
       "        const buttonEl =\n",
       "          document.querySelector('#df-7f253113-a3c6-4332-97e2-cd8af4d27f03 button.colab-df-convert');\n",
       "        buttonEl.style.display =\n",
       "          google.colab.kernel.accessAllowed ? 'block' : 'none';\n",
       "\n",
       "        async function convertToInteractive(key) {\n",
       "          const element = document.querySelector('#df-7f253113-a3c6-4332-97e2-cd8af4d27f03');\n",
       "          const dataTable =\n",
       "            await google.colab.kernel.invokeFunction('convertToInteractive',\n",
       "                                                     [key], {});\n",
       "          if (!dataTable) return;\n",
       "\n",
       "          const docLinkHtml = 'Like what you see? Visit the ' +\n",
       "            '<a target=\"_blank\" href=https://colab.research.google.com/notebooks/data_table.ipynb>data table notebook</a>'\n",
       "            + ' to learn more about interactive tables.';\n",
       "          element.innerHTML = '';\n",
       "          dataTable['output_type'] = 'display_data';\n",
       "          await google.colab.output.renderOutput(dataTable, element);\n",
       "          const docLink = document.createElement('div');\n",
       "          docLink.innerHTML = docLinkHtml;\n",
       "          element.appendChild(docLink);\n",
       "        }\n",
       "      </script>\n",
       "    </div>\n",
       "  </div>\n",
       "  "
      ]
     },
     "metadata": {},
     "execution_count": 8
    }
   ]
  },
  {
   "cell_type": "markdown",
   "source": [
    "# Visualization"
   ],
   "metadata": {
    "id": "XGdvzqS9OOwk",
    "pycharm": {
     "name": "#%% md\n"
    }
   }
  },
  {
   "cell_type": "markdown",
   "source": [
    "## Topics over Time\n",
    "Before we start with the Dynamic Topic Modeling step, it is important that you are satisfied with the topics that were created previously. We are going to be using those specific topics as a base for Dynamic Topic Modeling. \n",
    "\n",
    "Thus, this step will essentially show you how the topics that were defined previously have evolved over time. "
   ],
   "metadata": {
    "id": "l9gCPJRKRH7z",
    "pycharm": {
     "name": "#%% md\n"
    }
   }
  },
  {
   "cell_type": "markdown",
   "source": [
    "There are a few important parameters that you should take note of, namely:\n",
    "\n",
    "* `docs`\n",
    "  * These are the tweets that we are using\n",
    "* `timestamps`\n",
    "  * The timestamp of each tweet/document\n",
    "* `global_tuning`\n",
    "  * Whether to average the topic representation of a topic at time *t* with its global topic representation\n",
    "* `evolution_tuning`\n",
    "  * Whether to average the topic representation of a topic at time *t* with the topic representation of that topic at time *t-1*\n",
    "* `nr_bins`\n",
    "  * The number of bins to put our timestamps into. It is computationally inefficient to extract the topics at thousands of different timestamps. Therefore, it is advised to keep this value below 20. "
   ],
   "metadata": {
    "id": "6EkW-mjRRLvq",
    "pycharm": {
     "name": "#%% md\n"
    }
   }
  },
  {
   "cell_type": "code",
   "source": [
    "topics_over_time = topic_model.topics_over_time(docs=tweets_no_stopwords_lst, \n",
    "                                                timestamps=timestamps, \n",
    "                                                global_tuning=True, \n",
    "                                                evolution_tuning=True, \n",
    "                                                nr_bins=20)"
   ],
   "metadata": {
    "colab": {
     "base_uri": "https://localhost:8080/"
    },
    "id": "3PmBI85lOm7Z",
    "outputId": "06c1b165-01f7-47b5-e0d5-e71f857a36a0",
    "pycharm": {
     "name": "#%%\n"
    }
   },
   "execution_count": null,
   "outputs": [
    {
     "output_type": "stream",
     "name": "stderr",
     "text": [
      "1it [00:02,  2.64s/it]"
     ]
    }
   ]
  },
  {
   "cell_type": "markdown",
   "source": [
    "## Visualize Topics over Time\n",
    "After having created our `topics_over_time`, we will have to visualize those topics as accessing them becomes a bit more difficult with the added temporal dimension. \n",
    "\n",
    "To do so, we are going to visualize the distribution of topics over time based on their frequency. Doing so allows us to see how the topics have evolved over time. Make sure to hover over any point to see how the topic representation at time *t* differs from the global topic representation. "
   ],
   "metadata": {
    "id": "KotAQNW4TjsK",
    "pycharm": {
     "name": "#%% md\n"
    }
   }
  },
  {
   "cell_type": "code",
   "source": [
    "# Create figure\n",
    "fig_timetable = topic_model.visualize_topics_over_time(topics_over_time, top_n_topics=10)\n",
    "fig_timetable"
   ],
   "metadata": {
    "id": "ZrjmIoIjNaUM",
    "pycharm": {
     "name": "#%%\n"
    }
   },
   "execution_count": null,
   "outputs": []
  },
  {
   "cell_type": "code",
   "source": [
    "# Save figure\n",
    "fig_timetable.write_html(\"/content/drive/MyDrive/Interim/fig_timetable.html\")"
   ],
   "metadata": {
    "id": "WhszAKI2Rx8i",
    "pycharm": {
     "name": "#%%\n"
    }
   },
   "execution_count": null,
   "outputs": []
  },
  {
   "cell_type": "code",
   "source": [
    "# Create figure\n",
    "fig_barchar = topic_model.visualize_barchart(top_n_topics = 10, n_words = 10); fig_barchar"
   ],
   "metadata": {
    "id": "8gSQFDnXNaWu",
    "pycharm": {
     "name": "#%%\n"
    }
   },
   "execution_count": null,
   "outputs": []
  },
  {
   "cell_type": "code",
   "source": [
    "# Save figure\n",
    "fig_barchar.write_html(\"/content/drive/MyDrive/Interim/fig_barchar.html\")"
   ],
   "metadata": {
    "id": "brjZSPUVR5Y_",
    "pycharm": {
     "name": "#%%\n"
    }
   },
   "execution_count": null,
   "outputs": []
  },
  {
   "cell_type": "code",
   "source": [
    "# Create figure\n",
    "fig_Cluster = topic_model.visualize_topics(); fig_Cluster"
   ],
   "metadata": {
    "id": "jdmTm20rNaZL",
    "pycharm": {
     "name": "#%%\n"
    }
   },
   "execution_count": null,
   "outputs": []
  },
  {
   "cell_type": "code",
   "source": [
    "# Save figure\n",
    "fig_Cluster.write_html(\"/content/drive/MyDrive/Interim/fig_Cluster.html\")"
   ],
   "metadata": {
    "id": "WcN1h3vYSOCz",
    "pycharm": {
     "name": "#%%\n"
    }
   },
   "execution_count": null,
   "outputs": []
  },
  {
   "cell_type": "code",
   "source": [
    "# Create figure\n",
    "fig_hierarchy = topic_model.visualize_hierarchy()\n",
    "fig_hierarchy\n"
   ],
   "metadata": {
    "id": "gbr6mpfDNabG",
    "pycharm": {
     "name": "#%%\n"
    }
   },
   "execution_count": null,
   "outputs": []
  },
  {
   "cell_type": "code",
   "source": [
    "# Save figure\n",
    "fig_hierarchy.write_html(\"/content/drive/MyDrive/Interim/fig_hierarchy.html\")"
   ],
   "metadata": {
    "id": "uPQtHRWDSQET",
    "pycharm": {
     "name": "#%%\n"
    }
   },
   "execution_count": null,
   "outputs": []
  },
  {
   "cell_type": "code",
   "source": [
    "# Create figure\n",
    "fig_heatmap = topic_model.visualize_heatmap(); fig_heatmap"
   ],
   "metadata": {
    "id": "cRYphstEQEDL",
    "pycharm": {
     "name": "#%%\n"
    }
   },
   "execution_count": null,
   "outputs": []
  },
  {
   "cell_type": "code",
   "source": [
    "# Save figure\n",
    "fig_heatmap.write_html(\"/content/drive/MyDrive/Interim/fig_heatmap.html\")"
   ],
   "metadata": {
    "id": "9VMlpkaNSR2f",
    "pycharm": {
     "name": "#%%\n"
    }
   },
   "execution_count": null,
   "outputs": []
  },
  {
   "cell_type": "markdown",
   "source": [
    "## Data insigths\n",
    "Let's get a representative tweet for a specific topic"
   ],
   "metadata": {
    "id": "dtyVWOiFSbyj",
    "pycharm": {
     "name": "#%% md\n"
    }
   }
  },
  {
   "cell_type": "code",
   "source": [
    "topic = topic_model.get_representative_docs(topic = 8)\n",
    "topic"
   ],
   "metadata": {
    "colab": {
     "base_uri": "https://localhost:8080/"
    },
    "id": "wE9R7LcgQEFZ",
    "executionInfo": {
     "status": "ok",
     "timestamp": 1668364969453,
     "user_tz": -60,
     "elapsed": 423,
     "user": {
      "displayName": "Naemi Graf",
      "userId": "00297558433787857996"
     }
    },
    "outputId": "b47cf905-2b72-4264-b10d-184c58bab2ce",
    "pycharm": {
     "name": "#%%\n"
    }
   },
   "execution_count": 10,
   "outputs": [
    {
     "output_type": "execute_result",
     "data": {
      "text/plain": [
       "['elonmusk good match Please make happen',\n",
       " 'Day trying get Elon buy elonmusk RT pls stcoXIqYOdqC',\n",
       " 'Day trying get Elon buy elonmusk stcooVnUJYJg']"
      ]
     },
     "metadata": {},
     "execution_count": 10
    }
   ]
  }
 ],
 "metadata": {
  "accelerator": "GPU",
  "colab": {
   "provenance": [
    {
     "file_id": "1_Nwz579mMYwRUGQlMspIpA1g8dYFIstk",
     "timestamp": 1668361942598
    }
   ],
   "collapsed_sections": [],
   "mount_file_id": "1SW-l6VHzL9pDCcgG4giqBGpO0yEaINBq",
   "authorship_tag": "ABX9TyMaW1eFPq+EwZFbhVnXAzhv"
  },
  "gpuClass": "premium",
  "kernelspec": {
   "display_name": "Python 3",
   "name": "python3"
  },
  "language_info": {
   "name": "python"
  }
 },
 "nbformat": 4,
 "nbformat_minor": 0
}