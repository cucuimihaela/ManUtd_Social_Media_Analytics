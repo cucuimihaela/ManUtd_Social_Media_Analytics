{
 "cells": [
  {
   "cell_type": "markdown",
   "source": [
    "# Twitter combine DF Posts #MUFC, #manunited, #manchesterunited\n",
    "\n",
    "After scraping different # in twitter, you need to combine the dataframes together. Follow a notebook how to combine the dataframes and add a column with the corresponding hashtag.\n",
    "\n",
    "###  1) Import Dataframes\n",
    "###  2) Add a column with the '#'\n",
    "###  3) merge all 3 DF to one big DF\n",
    "###  4) Drop Duplicates and check nunique()\n",
    "###  5) Drop all non EN and April\n"
   ],
   "metadata": {
    "collapsed": false,
    "pycharm": {
     "name": "#%% md\n"
    }
   }
  },
  {
   "cell_type": "code",
   "execution_count": 2,
   "outputs": [],
   "source": [
    "import pandas as pd\n",
    "import missingno as msno\n",
    "import numpy as np\n"
   ],
   "metadata": {
    "collapsed": false,
    "pycharm": {
     "name": "#%%\n"
    }
   }
  },
  {
   "cell_type": "markdown",
   "source": [
    "### Import all different Dataframes"
   ],
   "metadata": {
    "collapsed": false,
    "pycharm": {
     "name": "#%% md\n"
    }
   }
  },
  {
   "cell_type": "code",
   "execution_count": 23,
   "outputs": [],
   "source": [
    "df_MUFC = pd.read_csv('C:/Users/naemi/OneDrive/Dokumente/Propulsion/04_Data_Final_Project/Twitter_Posts/df_1M_new.csv')"
   ],
   "metadata": {
    "collapsed": false,
    "pycharm": {
     "name": "#%%\n"
    }
   }
  },
  {
   "cell_type": "code",
   "execution_count": 24,
   "outputs": [],
   "source": [
    "df_manchesterunited = pd.read_csv('C:/Users/naemi/OneDrive/Dokumente/Propulsion/04_Data_Final_Project/Twitter_Posts/df_long_htag.csv')"
   ],
   "metadata": {
    "collapsed": false,
    "pycharm": {
     "name": "#%%\n"
    }
   }
  },
  {
   "cell_type": "code",
   "execution_count": 25,
   "outputs": [],
   "source": [
    "df_manunited = pd.read_csv('C:/Users/naemi/OneDrive/Dokumente/Propulsion/04_Data_Final_Project/Twitter_Posts/df_man_united.csv')"
   ],
   "metadata": {
    "collapsed": false,
    "pycharm": {
     "name": "#%%\n"
    }
   }
  },
  {
   "cell_type": "code",
   "execution_count": 6,
   "outputs": [],
   "source": [
    "df_Whatt = pd.read_csv('C:/Users/naemi/OneDrive/Dokumente/Propulsion/04_Data_Final_Project/Twitter_Posts/mu_6m.csv')"
   ],
   "metadata": {
    "collapsed": false,
    "pycharm": {
     "name": "#%%\n"
    }
   }
  },
  {
   "cell_type": "code",
   "execution_count": 21,
   "outputs": [
    {
     "data": {
      "text/plain": "   Unnamed: 0       User               Date Created  Number of Likes  \\\n0           0    GOAL_ID  2022-10-21 23:30:00+00:00               10   \n1           1    ETalkUK  2022-10-21 23:22:53+00:00                1   \n2           2    ETalkUK  2022-10-21 23:15:51+00:00                0   \n3           3    ETalkUK  2022-10-21 23:10:57+00:00                0   \n4           4  cfcalex98  2022-10-21 23:10:13+00:00                3   \n\n      Source of Tweet                                              Tweet  \\\n0           TweetDeck  Ten Hag mengatakan Ronaldo masih bagian pentin...   \n1  Twitter for iPhone  You can support Entertainment Talk on #Patreon...   \n2  Twitter for iPhone  Want to support Entertainment Talk by donating...   \n3  Twitter for iPhone  The United Cast: The Treatment Of #EricBailey ...   \n4     Twitter Web App  MATCHDAY: #Chelsea 🆚 #ManUnited\\n\\nPredicted X...   \n\n  Language  Retweets Mentioned Users   Haschtag  \n0       in         1             NaN  manunited  \n1       en         0             NaN  manunited  \n2       en         0             NaN  manunited  \n3       en         0             NaN  manunited  \n4       en         0             NaN  manunited  ",
      "text/html": "<div>\n<style scoped>\n    .dataframe tbody tr th:only-of-type {\n        vertical-align: middle;\n    }\n\n    .dataframe tbody tr th {\n        vertical-align: top;\n    }\n\n    .dataframe thead th {\n        text-align: right;\n    }\n</style>\n<table border=\"1\" class=\"dataframe\">\n  <thead>\n    <tr style=\"text-align: right;\">\n      <th></th>\n      <th>Unnamed: 0</th>\n      <th>User</th>\n      <th>Date Created</th>\n      <th>Number of Likes</th>\n      <th>Source of Tweet</th>\n      <th>Tweet</th>\n      <th>Language</th>\n      <th>Retweets</th>\n      <th>Mentioned Users</th>\n      <th>Haschtag</th>\n    </tr>\n  </thead>\n  <tbody>\n    <tr>\n      <th>0</th>\n      <td>0</td>\n      <td>GOAL_ID</td>\n      <td>2022-10-21 23:30:00+00:00</td>\n      <td>10</td>\n      <td>TweetDeck</td>\n      <td>Ten Hag mengatakan Ronaldo masih bagian pentin...</td>\n      <td>in</td>\n      <td>1</td>\n      <td>NaN</td>\n      <td>manunited</td>\n    </tr>\n    <tr>\n      <th>1</th>\n      <td>1</td>\n      <td>ETalkUK</td>\n      <td>2022-10-21 23:22:53+00:00</td>\n      <td>1</td>\n      <td>Twitter for iPhone</td>\n      <td>You can support Entertainment Talk on #Patreon...</td>\n      <td>en</td>\n      <td>0</td>\n      <td>NaN</td>\n      <td>manunited</td>\n    </tr>\n    <tr>\n      <th>2</th>\n      <td>2</td>\n      <td>ETalkUK</td>\n      <td>2022-10-21 23:15:51+00:00</td>\n      <td>0</td>\n      <td>Twitter for iPhone</td>\n      <td>Want to support Entertainment Talk by donating...</td>\n      <td>en</td>\n      <td>0</td>\n      <td>NaN</td>\n      <td>manunited</td>\n    </tr>\n    <tr>\n      <th>3</th>\n      <td>3</td>\n      <td>ETalkUK</td>\n      <td>2022-10-21 23:10:57+00:00</td>\n      <td>0</td>\n      <td>Twitter for iPhone</td>\n      <td>The United Cast: The Treatment Of #EricBailey ...</td>\n      <td>en</td>\n      <td>0</td>\n      <td>NaN</td>\n      <td>manunited</td>\n    </tr>\n    <tr>\n      <th>4</th>\n      <td>4</td>\n      <td>cfcalex98</td>\n      <td>2022-10-21 23:10:13+00:00</td>\n      <td>3</td>\n      <td>Twitter Web App</td>\n      <td>MATCHDAY: #Chelsea 🆚 #ManUnited\\n\\nPredicted X...</td>\n      <td>en</td>\n      <td>0</td>\n      <td>NaN</td>\n      <td>manunited</td>\n    </tr>\n  </tbody>\n</table>\n</div>"
     },
     "execution_count": 21,
     "metadata": {},
     "output_type": "execute_result"
    }
   ],
   "source": [
    "df_manunited.head()"
   ],
   "metadata": {
    "collapsed": false,
    "pycharm": {
     "name": "#%%\n"
    }
   }
  },
  {
   "cell_type": "code",
   "execution_count": 22,
   "outputs": [
    {
     "data": {
      "text/plain": "   Unnamed: 0          User               Date Created  Number of Likes  \\\n0           0   Jonaalves44  2022-10-21 23:57:22+00:00                1   \n1           1     TODUPNews  2022-10-21 23:55:17+00:00                1   \n2           2  gmrobertpro_  2022-10-21 23:51:21+00:00                3   \n3           3   Jonaalves44  2022-10-21 23:46:33+00:00                1   \n4           4       No_F4se  2022-10-21 23:45:47+00:00                0   \n\n       Source of Tweet                                              Tweet  \\\n0  Twitter for Android  La trayectoria de #EriktenHan datos no opinion...   \n1      Blog2Social APP  Erik Ten Hag habla de la sanción a Cristiano R...   \n2  Twitter for Android  Mañana soy del Chelsea desde la cuna\\n#Chelsea...   \n3  Twitter for Android  En serio se dan el lujo de maltratarlo? De fal...   \n4  Twitter for Android     #ManchesterUnited vs #Chelsea speak your mind.   \n\n  Language  Retweets Mentioned Users          Haschtag  \n0       es         0             NaN  manchesterunited  \n1       es         2             NaN  manchesterunited  \n2       es         0             NaN  manchesterunited  \n3       es         0             NaN  manchesterunited  \n4       en         0             NaN  manchesterunited  ",
      "text/html": "<div>\n<style scoped>\n    .dataframe tbody tr th:only-of-type {\n        vertical-align: middle;\n    }\n\n    .dataframe tbody tr th {\n        vertical-align: top;\n    }\n\n    .dataframe thead th {\n        text-align: right;\n    }\n</style>\n<table border=\"1\" class=\"dataframe\">\n  <thead>\n    <tr style=\"text-align: right;\">\n      <th></th>\n      <th>Unnamed: 0</th>\n      <th>User</th>\n      <th>Date Created</th>\n      <th>Number of Likes</th>\n      <th>Source of Tweet</th>\n      <th>Tweet</th>\n      <th>Language</th>\n      <th>Retweets</th>\n      <th>Mentioned Users</th>\n      <th>Haschtag</th>\n    </tr>\n  </thead>\n  <tbody>\n    <tr>\n      <th>0</th>\n      <td>0</td>\n      <td>Jonaalves44</td>\n      <td>2022-10-21 23:57:22+00:00</td>\n      <td>1</td>\n      <td>Twitter for Android</td>\n      <td>La trayectoria de #EriktenHan datos no opinion...</td>\n      <td>es</td>\n      <td>0</td>\n      <td>NaN</td>\n      <td>manchesterunited</td>\n    </tr>\n    <tr>\n      <th>1</th>\n      <td>1</td>\n      <td>TODUPNews</td>\n      <td>2022-10-21 23:55:17+00:00</td>\n      <td>1</td>\n      <td>Blog2Social APP</td>\n      <td>Erik Ten Hag habla de la sanción a Cristiano R...</td>\n      <td>es</td>\n      <td>2</td>\n      <td>NaN</td>\n      <td>manchesterunited</td>\n    </tr>\n    <tr>\n      <th>2</th>\n      <td>2</td>\n      <td>gmrobertpro_</td>\n      <td>2022-10-21 23:51:21+00:00</td>\n      <td>3</td>\n      <td>Twitter for Android</td>\n      <td>Mañana soy del Chelsea desde la cuna\\n#Chelsea...</td>\n      <td>es</td>\n      <td>0</td>\n      <td>NaN</td>\n      <td>manchesterunited</td>\n    </tr>\n    <tr>\n      <th>3</th>\n      <td>3</td>\n      <td>Jonaalves44</td>\n      <td>2022-10-21 23:46:33+00:00</td>\n      <td>1</td>\n      <td>Twitter for Android</td>\n      <td>En serio se dan el lujo de maltratarlo? De fal...</td>\n      <td>es</td>\n      <td>0</td>\n      <td>NaN</td>\n      <td>manchesterunited</td>\n    </tr>\n    <tr>\n      <th>4</th>\n      <td>4</td>\n      <td>No_F4se</td>\n      <td>2022-10-21 23:45:47+00:00</td>\n      <td>0</td>\n      <td>Twitter for Android</td>\n      <td>#ManchesterUnited vs #Chelsea speak your mind.</td>\n      <td>en</td>\n      <td>0</td>\n      <td>NaN</td>\n      <td>manchesterunited</td>\n    </tr>\n  </tbody>\n</table>\n</div>"
     },
     "execution_count": 22,
     "metadata": {},
     "output_type": "execute_result"
    }
   ],
   "source": [
    "df_manchesterunited.head()"
   ],
   "metadata": {
    "collapsed": false,
    "pycharm": {
     "name": "#%%\n"
    }
   }
  },
  {
   "cell_type": "code",
   "execution_count": 9,
   "outputs": [
    {
     "data": {
      "text/plain": "   Unnamed: 0             User               Date Created  Number of Likes  \\\n0           0    FergieTime876  2022-10-21 23:59:24+00:00                2   \n1           1          mufcMPB  2022-10-21 23:58:23+00:00             6726   \n2           2      ADNFerguson  2022-10-21 23:58:04+00:00               20   \n3           3  MiguelA82859042  2022-10-21 23:57:03+00:00                9   \n4           4     KhashanDalia  2022-10-21 23:56:31+00:00                8   \n\n                                               Tweet  Retweets Language  \\\n0  No nonsense! 💪 #Gaff #mufc #ErikTenHag 🔴 https...         1       it   \n1  Erik ten Hag wants Cristiano Ronaldo to say so...       370       en   \n2  En medio de un gran golpe surgió otra tormenta...         4       es   \n3  El Mejor Jugador de La Historia del Madrid \\n\\...         2       es   \n4  Fair enough tbh. Those players look up to him ...         1       en   \n\n                                     Mentioned Users      Source of Tweet  \n0                                                NaN  Twitter for Android  \n1  [User(username='FabrizioRomano', id=330262748,...   Twitter for iPhone  \n2                                                NaN  Twitter for Android  \n3                                                NaN  Twitter for Android  \n4                                                NaN  Twitter for Android  ",
      "text/html": "<div>\n<style scoped>\n    .dataframe tbody tr th:only-of-type {\n        vertical-align: middle;\n    }\n\n    .dataframe tbody tr th {\n        vertical-align: top;\n    }\n\n    .dataframe thead th {\n        text-align: right;\n    }\n</style>\n<table border=\"1\" class=\"dataframe\">\n  <thead>\n    <tr style=\"text-align: right;\">\n      <th></th>\n      <th>Unnamed: 0</th>\n      <th>User</th>\n      <th>Date Created</th>\n      <th>Number of Likes</th>\n      <th>Tweet</th>\n      <th>Retweets</th>\n      <th>Language</th>\n      <th>Mentioned Users</th>\n      <th>Source of Tweet</th>\n    </tr>\n  </thead>\n  <tbody>\n    <tr>\n      <th>0</th>\n      <td>0</td>\n      <td>FergieTime876</td>\n      <td>2022-10-21 23:59:24+00:00</td>\n      <td>2</td>\n      <td>No nonsense! 💪 #Gaff #mufc #ErikTenHag 🔴 https...</td>\n      <td>1</td>\n      <td>it</td>\n      <td>NaN</td>\n      <td>Twitter for Android</td>\n    </tr>\n    <tr>\n      <th>1</th>\n      <td>1</td>\n      <td>mufcMPB</td>\n      <td>2022-10-21 23:58:23+00:00</td>\n      <td>6726</td>\n      <td>Erik ten Hag wants Cristiano Ronaldo to say so...</td>\n      <td>370</td>\n      <td>en</td>\n      <td>[User(username='FabrizioRomano', id=330262748,...</td>\n      <td>Twitter for iPhone</td>\n    </tr>\n    <tr>\n      <th>2</th>\n      <td>2</td>\n      <td>ADNFerguson</td>\n      <td>2022-10-21 23:58:04+00:00</td>\n      <td>20</td>\n      <td>En medio de un gran golpe surgió otra tormenta...</td>\n      <td>4</td>\n      <td>es</td>\n      <td>NaN</td>\n      <td>Twitter for Android</td>\n    </tr>\n    <tr>\n      <th>3</th>\n      <td>3</td>\n      <td>MiguelA82859042</td>\n      <td>2022-10-21 23:57:03+00:00</td>\n      <td>9</td>\n      <td>El Mejor Jugador de La Historia del Madrid \\n\\...</td>\n      <td>2</td>\n      <td>es</td>\n      <td>NaN</td>\n      <td>Twitter for Android</td>\n    </tr>\n    <tr>\n      <th>4</th>\n      <td>4</td>\n      <td>KhashanDalia</td>\n      <td>2022-10-21 23:56:31+00:00</td>\n      <td>8</td>\n      <td>Fair enough tbh. Those players look up to him ...</td>\n      <td>1</td>\n      <td>en</td>\n      <td>NaN</td>\n      <td>Twitter for Android</td>\n    </tr>\n  </tbody>\n</table>\n</div>"
     },
     "execution_count": 9,
     "metadata": {},
     "output_type": "execute_result"
    }
   ],
   "source": [
    "df_MUFC.head()"
   ],
   "metadata": {
    "collapsed": false,
    "pycharm": {
     "name": "#%%\n"
    }
   }
  },
  {
   "cell_type": "markdown",
   "source": [
    "### Create a column with the respective hashtag"
   ],
   "metadata": {
    "collapsed": false,
    "pycharm": {
     "name": "#%% md\n"
    }
   }
  },
  {
   "cell_type": "code",
   "execution_count": 36,
   "outputs": [],
   "source": [
    "df_MUFC['Haschtag'] = pd.Series(['MUFC' for x in range(len(df_MUFC.index))])\n",
    "df_manchesterunited['Haschtag'] = pd.Series(['manchesterunited' for x in range(len(df_manchesterunited.index))])\n",
    "df_manunited['Haschtag'] = pd.Series(['manunited' for x in range(len(df_manunited.index))])"
   ],
   "metadata": {
    "collapsed": false,
    "pycharm": {
     "name": "#%%\n"
    }
   }
  },
  {
   "cell_type": "code",
   "execution_count": 30,
   "outputs": [
    {
     "data": {
      "text/plain": "86291"
     },
     "execution_count": 30,
     "metadata": {},
     "output_type": "execute_result"
    }
   ],
   "source": [
    "df_manunited['Tweet'].nunique()"
   ],
   "metadata": {
    "collapsed": false,
    "pycharm": {
     "name": "#%%\n"
    }
   }
  },
  {
   "cell_type": "code",
   "execution_count": 31,
   "outputs": [],
   "source": [
    "df_MUFC.drop('Unnamed: 0',  axis=1, inplace=True)"
   ],
   "metadata": {
    "collapsed": false,
    "pycharm": {
     "name": "#%%\n"
    }
   }
  },
  {
   "cell_type": "code",
   "execution_count": 33,
   "outputs": [],
   "source": [
    "df_manchesterunited.drop('Unnamed: 0',  axis=1, inplace=True)\n",
    "df_manunited.drop('Unnamed: 0',  axis=1, inplace=True)"
   ],
   "metadata": {
    "collapsed": false,
    "pycharm": {
     "name": "#%%\n"
    }
   }
  },
  {
   "cell_type": "markdown",
   "source": [
    "### Combine different Dataframe"
   ],
   "metadata": {
    "collapsed": false,
    "pycharm": {
     "name": "#%% md\n"
    }
   }
  },
  {
   "cell_type": "code",
   "execution_count": 44,
   "outputs": [
    {
     "name": "stderr",
     "output_type": "stream",
     "text": [
      "C:\\Users\\naemi\\AppData\\Local\\Temp\\ipykernel_16836\\2955986226.py:1: FutureWarning: The frame.append method is deprecated and will be removed from pandas in a future version. Use pandas.concat instead.\n",
      "  df_post = df_MUFC.append(df_manchesterunited, ignore_index=True)\n"
     ]
    }
   ],
   "source": [
    "df_post = df_MUFC.append(df_manchesterunited, ignore_index=True)"
   ],
   "metadata": {
    "collapsed": false,
    "pycharm": {
     "name": "#%%\n"
    }
   }
  },
  {
   "cell_type": "code",
   "execution_count": 45,
   "outputs": [
    {
     "data": {
      "text/plain": "                    User               Date Created  Number of Likes  \\\n0          FergieTime876  2022-10-21 23:59:24+00:00                2   \n1                mufcMPB  2022-10-21 23:58:23+00:00             6726   \n2            ADNFerguson  2022-10-21 23:58:04+00:00               20   \n3        MiguelA82859042  2022-10-21 23:57:03+00:00                9   \n4           KhashanDalia  2022-10-21 23:56:31+00:00                8   \n...                  ...                        ...              ...   \n1381348      MarwanWahby  2022-05-01 01:07:04+00:00                0   \n1381349     Ibrahim59261  2022-05-01 00:44:20+00:00                0   \n1381350     SportNewsFan  2022-05-01 00:36:11+00:00                0   \n1381351         _emma_75  2022-05-01 00:01:08+00:00                0   \n1381352        kboresli1  2022-05-01 00:00:06+00:00                0   \n\n                                                     Tweet  Retweets Language  \\\n0        No nonsense! 💪 #Gaff #mufc #ErikTenHag 🔴 https...         1       it   \n1        Erik ten Hag wants Cristiano Ronaldo to say so...       370       en   \n2        En medio de un gran golpe surgió otra tormenta...         4       es   \n3        El Mejor Jugador de La Historia del Madrid \\n\\...         2       es   \n4        Fair enough tbh. Those players look up to him ...         1       en   \n...                                                    ...       ...      ...   \n1381348                     @Fa7aad09 #ManchesterUnited ❤️         0      und   \n1381349  #Ronaldo \\n#ManchesterUnited \\n#ManUnited \\n#B...         0      qme   \n1381350  Bet &amp; you will make money check it out: ht...         0       en   \n1381351  Watching United on Netflix. Heartbreaking. My ...         0       en   \n1381352  Cavani will leave at the end of the season fro...         0       en   \n\n                                           Mentioned Users  \\\n0                                                      NaN   \n1        [User(username='FabrizioRomano', id=330262748,...   \n2                                                      NaN   \n3                                                      NaN   \n4                                                      NaN   \n...                                                    ...   \n1381348  [User(username='Fa7aad09', id=869070565, displ...   \n1381349                                                NaN   \n1381350                                                NaN   \n1381351  [User(username='ManUtd', id=558797310, display...   \n1381352  [User(username='FabrizioRomano', id=330262748,...   \n\n             Source of Tweet          Haschtag  \n0        Twitter for Android              MUFC  \n1         Twitter for iPhone              MUFC  \n2        Twitter for Android              MUFC  \n3        Twitter for Android              MUFC  \n4        Twitter for Android              MUFC  \n...                      ...               ...  \n1381348   Twitter for iPhone  manchesterunited  \n1381349  Twitter for Android  manchesterunited  \n1381350          SocialOomph  manchesterunited  \n1381351   Twitter for iPhone  manchesterunited  \n1381352   Twitter for iPhone  manchesterunited  \n\n[1381353 rows x 9 columns]",
      "text/html": "<div>\n<style scoped>\n    .dataframe tbody tr th:only-of-type {\n        vertical-align: middle;\n    }\n\n    .dataframe tbody tr th {\n        vertical-align: top;\n    }\n\n    .dataframe thead th {\n        text-align: right;\n    }\n</style>\n<table border=\"1\" class=\"dataframe\">\n  <thead>\n    <tr style=\"text-align: right;\">\n      <th></th>\n      <th>User</th>\n      <th>Date Created</th>\n      <th>Number of Likes</th>\n      <th>Tweet</th>\n      <th>Retweets</th>\n      <th>Language</th>\n      <th>Mentioned Users</th>\n      <th>Source of Tweet</th>\n      <th>Haschtag</th>\n    </tr>\n  </thead>\n  <tbody>\n    <tr>\n      <th>0</th>\n      <td>FergieTime876</td>\n      <td>2022-10-21 23:59:24+00:00</td>\n      <td>2</td>\n      <td>No nonsense! 💪 #Gaff #mufc #ErikTenHag 🔴 https...</td>\n      <td>1</td>\n      <td>it</td>\n      <td>NaN</td>\n      <td>Twitter for Android</td>\n      <td>MUFC</td>\n    </tr>\n    <tr>\n      <th>1</th>\n      <td>mufcMPB</td>\n      <td>2022-10-21 23:58:23+00:00</td>\n      <td>6726</td>\n      <td>Erik ten Hag wants Cristiano Ronaldo to say so...</td>\n      <td>370</td>\n      <td>en</td>\n      <td>[User(username='FabrizioRomano', id=330262748,...</td>\n      <td>Twitter for iPhone</td>\n      <td>MUFC</td>\n    </tr>\n    <tr>\n      <th>2</th>\n      <td>ADNFerguson</td>\n      <td>2022-10-21 23:58:04+00:00</td>\n      <td>20</td>\n      <td>En medio de un gran golpe surgió otra tormenta...</td>\n      <td>4</td>\n      <td>es</td>\n      <td>NaN</td>\n      <td>Twitter for Android</td>\n      <td>MUFC</td>\n    </tr>\n    <tr>\n      <th>3</th>\n      <td>MiguelA82859042</td>\n      <td>2022-10-21 23:57:03+00:00</td>\n      <td>9</td>\n      <td>El Mejor Jugador de La Historia del Madrid \\n\\...</td>\n      <td>2</td>\n      <td>es</td>\n      <td>NaN</td>\n      <td>Twitter for Android</td>\n      <td>MUFC</td>\n    </tr>\n    <tr>\n      <th>4</th>\n      <td>KhashanDalia</td>\n      <td>2022-10-21 23:56:31+00:00</td>\n      <td>8</td>\n      <td>Fair enough tbh. Those players look up to him ...</td>\n      <td>1</td>\n      <td>en</td>\n      <td>NaN</td>\n      <td>Twitter for Android</td>\n      <td>MUFC</td>\n    </tr>\n    <tr>\n      <th>...</th>\n      <td>...</td>\n      <td>...</td>\n      <td>...</td>\n      <td>...</td>\n      <td>...</td>\n      <td>...</td>\n      <td>...</td>\n      <td>...</td>\n      <td>...</td>\n    </tr>\n    <tr>\n      <th>1381348</th>\n      <td>MarwanWahby</td>\n      <td>2022-05-01 01:07:04+00:00</td>\n      <td>0</td>\n      <td>@Fa7aad09 #ManchesterUnited ❤️</td>\n      <td>0</td>\n      <td>und</td>\n      <td>[User(username='Fa7aad09', id=869070565, displ...</td>\n      <td>Twitter for iPhone</td>\n      <td>manchesterunited</td>\n    </tr>\n    <tr>\n      <th>1381349</th>\n      <td>Ibrahim59261</td>\n      <td>2022-05-01 00:44:20+00:00</td>\n      <td>0</td>\n      <td>#Ronaldo \\n#ManchesterUnited \\n#ManUnited \\n#B...</td>\n      <td>0</td>\n      <td>qme</td>\n      <td>NaN</td>\n      <td>Twitter for Android</td>\n      <td>manchesterunited</td>\n    </tr>\n    <tr>\n      <th>1381350</th>\n      <td>SportNewsFan</td>\n      <td>2022-05-01 00:36:11+00:00</td>\n      <td>0</td>\n      <td>Bet &amp;amp; you will make money check it out: ht...</td>\n      <td>0</td>\n      <td>en</td>\n      <td>NaN</td>\n      <td>SocialOomph</td>\n      <td>manchesterunited</td>\n    </tr>\n    <tr>\n      <th>1381351</th>\n      <td>_emma_75</td>\n      <td>2022-05-01 00:01:08+00:00</td>\n      <td>0</td>\n      <td>Watching United on Netflix. Heartbreaking. My ...</td>\n      <td>0</td>\n      <td>en</td>\n      <td>[User(username='ManUtd', id=558797310, display...</td>\n      <td>Twitter for iPhone</td>\n      <td>manchesterunited</td>\n    </tr>\n    <tr>\n      <th>1381352</th>\n      <td>kboresli1</td>\n      <td>2022-05-01 00:00:06+00:00</td>\n      <td>0</td>\n      <td>Cavani will leave at the end of the season fro...</td>\n      <td>0</td>\n      <td>en</td>\n      <td>[User(username='FabrizioRomano', id=330262748,...</td>\n      <td>Twitter for iPhone</td>\n      <td>manchesterunited</td>\n    </tr>\n  </tbody>\n</table>\n<p>1381353 rows × 9 columns</p>\n</div>"
     },
     "execution_count": 45,
     "metadata": {},
     "output_type": "execute_result"
    }
   ],
   "source": [
    "df_post"
   ],
   "metadata": {
    "collapsed": false,
    "pycharm": {
     "name": "#%%\n"
    }
   }
  },
  {
   "cell_type": "code",
   "execution_count": 47,
   "outputs": [
    {
     "name": "stderr",
     "output_type": "stream",
     "text": [
      "C:\\Users\\naemi\\AppData\\Local\\Temp\\ipykernel_16836\\955817918.py:1: FutureWarning: The frame.append method is deprecated and will be removed from pandas in a future version. Use pandas.concat instead.\n",
      "  df_post = df_post.append(df_manunited, ignore_index=True)\n"
     ]
    },
    {
     "data": {
      "text/plain": "                    User               Date Created  Number of Likes  \\\n0          FergieTime876  2022-10-21 23:59:24+00:00                2   \n1                mufcMPB  2022-10-21 23:58:23+00:00             6726   \n2            ADNFerguson  2022-10-21 23:58:04+00:00               20   \n3        MiguelA82859042  2022-10-21 23:57:03+00:00                9   \n4           KhashanDalia  2022-10-21 23:56:31+00:00                8   \n...                  ...                        ...              ...   \n1468730          ETalkUK  2022-05-01 02:11:16+00:00                1   \n1468731           D1D1J1  2022-05-01 01:12:53+00:00                0   \n1468732     Ibrahim59261  2022-05-01 00:44:20+00:00                0   \n1468733      4abdullahi_  2022-05-01 00:04:21+00:00                0   \n1468734   GabriLannister  2022-05-01 00:02:58+00:00                1   \n\n                                                     Tweet  Retweets Language  \\\n0        No nonsense! 💪 #Gaff #mufc #ErikTenHag 🔴 https...         1       it   \n1        Erik ten Hag wants Cristiano Ronaldo to say so...       370       en   \n2        En medio de un gran golpe surgió otra tormenta...         4       es   \n3        El Mejor Jugador de La Historia del Madrid \\n\\...         2       es   \n4        Fair enough tbh. Those players look up to him ...         1       en   \n...                                                    ...       ...      ...   \n1468730  The United Cast: #ManUnited 1-1 #Chelsea #Prem...         0       en   \n1468731                 #ManUnited https://t.co/c4VJInsqnx         0      qme   \n1468732  #Ronaldo \\n#ManchesterUnited \\n#ManUnited \\n#B...         0      qme   \n1468733  #ManUnited sign up #speed ASAP 😮‍💨😂 https://t....         0       en   \n1468734  Eu tenho uma teoria de que o Harry Maguire é f...         0       pt   \n\n                                           Mentioned Users  \\\n0                                                      NaN   \n1        [User(username='FabrizioRomano', id=330262748,...   \n2                                                      NaN   \n3                                                      NaN   \n4                                                      NaN   \n...                                                    ...   \n1468730                                                NaN   \n1468731                                                NaN   \n1468732                                                NaN   \n1468733                                                NaN   \n1468734                                                NaN   \n\n             Source of Tweet   Haschtag  \n0        Twitter for Android       MUFC  \n1         Twitter for iPhone       MUFC  \n2        Twitter for Android       MUFC  \n3        Twitter for Android       MUFC  \n4        Twitter for Android       MUFC  \n...                      ...        ...  \n1468730   Twitter for iPhone  manunited  \n1468731      Twitter Web App  manunited  \n1468732  Twitter for Android  manunited  \n1468733  Twitter for Android  manunited  \n1468734  Twitter for Android  manunited  \n\n[1468735 rows x 9 columns]",
      "text/html": "<div>\n<style scoped>\n    .dataframe tbody tr th:only-of-type {\n        vertical-align: middle;\n    }\n\n    .dataframe tbody tr th {\n        vertical-align: top;\n    }\n\n    .dataframe thead th {\n        text-align: right;\n    }\n</style>\n<table border=\"1\" class=\"dataframe\">\n  <thead>\n    <tr style=\"text-align: right;\">\n      <th></th>\n      <th>User</th>\n      <th>Date Created</th>\n      <th>Number of Likes</th>\n      <th>Tweet</th>\n      <th>Retweets</th>\n      <th>Language</th>\n      <th>Mentioned Users</th>\n      <th>Source of Tweet</th>\n      <th>Haschtag</th>\n    </tr>\n  </thead>\n  <tbody>\n    <tr>\n      <th>0</th>\n      <td>FergieTime876</td>\n      <td>2022-10-21 23:59:24+00:00</td>\n      <td>2</td>\n      <td>No nonsense! 💪 #Gaff #mufc #ErikTenHag 🔴 https...</td>\n      <td>1</td>\n      <td>it</td>\n      <td>NaN</td>\n      <td>Twitter for Android</td>\n      <td>MUFC</td>\n    </tr>\n    <tr>\n      <th>1</th>\n      <td>mufcMPB</td>\n      <td>2022-10-21 23:58:23+00:00</td>\n      <td>6726</td>\n      <td>Erik ten Hag wants Cristiano Ronaldo to say so...</td>\n      <td>370</td>\n      <td>en</td>\n      <td>[User(username='FabrizioRomano', id=330262748,...</td>\n      <td>Twitter for iPhone</td>\n      <td>MUFC</td>\n    </tr>\n    <tr>\n      <th>2</th>\n      <td>ADNFerguson</td>\n      <td>2022-10-21 23:58:04+00:00</td>\n      <td>20</td>\n      <td>En medio de un gran golpe surgió otra tormenta...</td>\n      <td>4</td>\n      <td>es</td>\n      <td>NaN</td>\n      <td>Twitter for Android</td>\n      <td>MUFC</td>\n    </tr>\n    <tr>\n      <th>3</th>\n      <td>MiguelA82859042</td>\n      <td>2022-10-21 23:57:03+00:00</td>\n      <td>9</td>\n      <td>El Mejor Jugador de La Historia del Madrid \\n\\...</td>\n      <td>2</td>\n      <td>es</td>\n      <td>NaN</td>\n      <td>Twitter for Android</td>\n      <td>MUFC</td>\n    </tr>\n    <tr>\n      <th>4</th>\n      <td>KhashanDalia</td>\n      <td>2022-10-21 23:56:31+00:00</td>\n      <td>8</td>\n      <td>Fair enough tbh. Those players look up to him ...</td>\n      <td>1</td>\n      <td>en</td>\n      <td>NaN</td>\n      <td>Twitter for Android</td>\n      <td>MUFC</td>\n    </tr>\n    <tr>\n      <th>...</th>\n      <td>...</td>\n      <td>...</td>\n      <td>...</td>\n      <td>...</td>\n      <td>...</td>\n      <td>...</td>\n      <td>...</td>\n      <td>...</td>\n      <td>...</td>\n    </tr>\n    <tr>\n      <th>1468730</th>\n      <td>ETalkUK</td>\n      <td>2022-05-01 02:11:16+00:00</td>\n      <td>1</td>\n      <td>The United Cast: #ManUnited 1-1 #Chelsea #Prem...</td>\n      <td>0</td>\n      <td>en</td>\n      <td>NaN</td>\n      <td>Twitter for iPhone</td>\n      <td>manunited</td>\n    </tr>\n    <tr>\n      <th>1468731</th>\n      <td>D1D1J1</td>\n      <td>2022-05-01 01:12:53+00:00</td>\n      <td>0</td>\n      <td>#ManUnited https://t.co/c4VJInsqnx</td>\n      <td>0</td>\n      <td>qme</td>\n      <td>NaN</td>\n      <td>Twitter Web App</td>\n      <td>manunited</td>\n    </tr>\n    <tr>\n      <th>1468732</th>\n      <td>Ibrahim59261</td>\n      <td>2022-05-01 00:44:20+00:00</td>\n      <td>0</td>\n      <td>#Ronaldo \\n#ManchesterUnited \\n#ManUnited \\n#B...</td>\n      <td>0</td>\n      <td>qme</td>\n      <td>NaN</td>\n      <td>Twitter for Android</td>\n      <td>manunited</td>\n    </tr>\n    <tr>\n      <th>1468733</th>\n      <td>4abdullahi_</td>\n      <td>2022-05-01 00:04:21+00:00</td>\n      <td>0</td>\n      <td>#ManUnited sign up #speed ASAP 😮‍💨😂 https://t....</td>\n      <td>0</td>\n      <td>en</td>\n      <td>NaN</td>\n      <td>Twitter for Android</td>\n      <td>manunited</td>\n    </tr>\n    <tr>\n      <th>1468734</th>\n      <td>GabriLannister</td>\n      <td>2022-05-01 00:02:58+00:00</td>\n      <td>1</td>\n      <td>Eu tenho uma teoria de que o Harry Maguire é f...</td>\n      <td>0</td>\n      <td>pt</td>\n      <td>NaN</td>\n      <td>Twitter for Android</td>\n      <td>manunited</td>\n    </tr>\n  </tbody>\n</table>\n<p>1468735 rows × 9 columns</p>\n</div>"
     },
     "execution_count": 47,
     "metadata": {},
     "output_type": "execute_result"
    }
   ],
   "source": [
    "df_post = df_post.append(df_manunited, ignore_index=True)\n",
    "df_post"
   ],
   "metadata": {
    "collapsed": false,
    "pycharm": {
     "name": "#%%\n"
    }
   }
  },
  {
   "cell_type": "markdown",
   "source": [
    "### Drop duplicate and split some columns"
   ],
   "metadata": {
    "collapsed": false,
    "pycharm": {
     "name": "#%% md\n"
    }
   }
  },
  {
   "cell_type": "code",
   "execution_count": 50,
   "outputs": [
    {
     "data": {
      "text/plain": "Tweet    1347506\nUser      174257\ndtype: int64"
     },
     "execution_count": 50,
     "metadata": {},
     "output_type": "execute_result"
    }
   ],
   "source": [
    "df_post[['Tweet', 'User']].nunique()"
   ],
   "metadata": {
    "collapsed": false,
    "pycharm": {
     "name": "#%%\n"
    }
   }
  },
  {
   "cell_type": "code",
   "execution_count": 51,
   "outputs": [
    {
     "data": {
      "text/plain": "121229"
     },
     "execution_count": 51,
     "metadata": {},
     "output_type": "execute_result"
    }
   ],
   "source": [
    "# Nr of double tweets for having a bit control over what we drop\n",
    "1468735-1347506"
   ],
   "metadata": {
    "collapsed": false,
    "pycharm": {
     "name": "#%%\n"
    }
   }
  },
  {
   "cell_type": "code",
   "execution_count": 55,
   "outputs": [
    {
     "data": {
      "text/plain": "                    User               Date Created  Number of Likes  \\\n0          FergieTime876  2022-10-21 23:59:24+00:00                2   \n1                mufcMPB  2022-10-21 23:58:23+00:00             6726   \n2            ADNFerguson  2022-10-21 23:58:04+00:00               20   \n3        MiguelA82859042  2022-10-21 23:57:03+00:00                9   \n4           KhashanDalia  2022-10-21 23:56:31+00:00                8   \n...                  ...                        ...              ...   \n1468727    mufc_eagleton  2022-05-01 02:30:53+00:00                1   \n1468728           D1D1J1  2022-05-01 02:24:19+00:00                0   \n1468731           D1D1J1  2022-05-01 01:12:53+00:00                0   \n1468733      4abdullahi_  2022-05-01 00:04:21+00:00                0   \n1468734   GabriLannister  2022-05-01 00:02:58+00:00                1   \n\n                                                     Tweet  Retweets Language  \\\n0        No nonsense! 💪 #Gaff #mufc #ErikTenHag 🔴 https...         1       it   \n1        Erik ten Hag wants Cristiano Ronaldo to say so...       370       en   \n2        En medio de un gran golpe surgió otra tormenta...         4       es   \n3        El Mejor Jugador de La Historia del Madrid \\n\\...         2       es   \n4        Fair enough tbh. Those players look up to him ...         1       en   \n...                                                    ...       ...      ...   \n1468727  Going to bed an ANGRY #ManUnited supporter thi...         0       en   \n1468728                 #ManUnited https://t.co/kRkmYvV2jT         0      qme   \n1468731                 #ManUnited https://t.co/c4VJInsqnx         0      qme   \n1468733  #ManUnited sign up #speed ASAP 😮‍💨😂 https://t....         0       en   \n1468734  Eu tenho uma teoria de que o Harry Maguire é f...         0       pt   \n\n                                           Mentioned Users  \\\n0                                                      NaN   \n1        [User(username='FabrizioRomano', id=330262748,...   \n2                                                      NaN   \n3                                                      NaN   \n4                                                      NaN   \n...                                                    ...   \n1468727  [User(username='premierleague', id=343627165, ...   \n1468728                                                NaN   \n1468731                                                NaN   \n1468733                                                NaN   \n1468734                                                NaN   \n\n             Source of Tweet   Haschtag  \n0        Twitter for Android       MUFC  \n1         Twitter for iPhone       MUFC  \n2        Twitter for Android       MUFC  \n3        Twitter for Android       MUFC  \n4        Twitter for Android       MUFC  \n...                      ...        ...  \n1468727   Twitter for iPhone  manunited  \n1468728      Twitter Web App  manunited  \n1468731      Twitter Web App  manunited  \n1468733  Twitter for Android  manunited  \n1468734  Twitter for Android  manunited  \n\n[1347506 rows x 9 columns]",
      "text/html": "<div>\n<style scoped>\n    .dataframe tbody tr th:only-of-type {\n        vertical-align: middle;\n    }\n\n    .dataframe tbody tr th {\n        vertical-align: top;\n    }\n\n    .dataframe thead th {\n        text-align: right;\n    }\n</style>\n<table border=\"1\" class=\"dataframe\">\n  <thead>\n    <tr style=\"text-align: right;\">\n      <th></th>\n      <th>User</th>\n      <th>Date Created</th>\n      <th>Number of Likes</th>\n      <th>Tweet</th>\n      <th>Retweets</th>\n      <th>Language</th>\n      <th>Mentioned Users</th>\n      <th>Source of Tweet</th>\n      <th>Haschtag</th>\n    </tr>\n  </thead>\n  <tbody>\n    <tr>\n      <th>0</th>\n      <td>FergieTime876</td>\n      <td>2022-10-21 23:59:24+00:00</td>\n      <td>2</td>\n      <td>No nonsense! 💪 #Gaff #mufc #ErikTenHag 🔴 https...</td>\n      <td>1</td>\n      <td>it</td>\n      <td>NaN</td>\n      <td>Twitter for Android</td>\n      <td>MUFC</td>\n    </tr>\n    <tr>\n      <th>1</th>\n      <td>mufcMPB</td>\n      <td>2022-10-21 23:58:23+00:00</td>\n      <td>6726</td>\n      <td>Erik ten Hag wants Cristiano Ronaldo to say so...</td>\n      <td>370</td>\n      <td>en</td>\n      <td>[User(username='FabrizioRomano', id=330262748,...</td>\n      <td>Twitter for iPhone</td>\n      <td>MUFC</td>\n    </tr>\n    <tr>\n      <th>2</th>\n      <td>ADNFerguson</td>\n      <td>2022-10-21 23:58:04+00:00</td>\n      <td>20</td>\n      <td>En medio de un gran golpe surgió otra tormenta...</td>\n      <td>4</td>\n      <td>es</td>\n      <td>NaN</td>\n      <td>Twitter for Android</td>\n      <td>MUFC</td>\n    </tr>\n    <tr>\n      <th>3</th>\n      <td>MiguelA82859042</td>\n      <td>2022-10-21 23:57:03+00:00</td>\n      <td>9</td>\n      <td>El Mejor Jugador de La Historia del Madrid \\n\\...</td>\n      <td>2</td>\n      <td>es</td>\n      <td>NaN</td>\n      <td>Twitter for Android</td>\n      <td>MUFC</td>\n    </tr>\n    <tr>\n      <th>4</th>\n      <td>KhashanDalia</td>\n      <td>2022-10-21 23:56:31+00:00</td>\n      <td>8</td>\n      <td>Fair enough tbh. Those players look up to him ...</td>\n      <td>1</td>\n      <td>en</td>\n      <td>NaN</td>\n      <td>Twitter for Android</td>\n      <td>MUFC</td>\n    </tr>\n    <tr>\n      <th>...</th>\n      <td>...</td>\n      <td>...</td>\n      <td>...</td>\n      <td>...</td>\n      <td>...</td>\n      <td>...</td>\n      <td>...</td>\n      <td>...</td>\n      <td>...</td>\n    </tr>\n    <tr>\n      <th>1468727</th>\n      <td>mufc_eagleton</td>\n      <td>2022-05-01 02:30:53+00:00</td>\n      <td>1</td>\n      <td>Going to bed an ANGRY #ManUnited supporter thi...</td>\n      <td>0</td>\n      <td>en</td>\n      <td>[User(username='premierleague', id=343627165, ...</td>\n      <td>Twitter for iPhone</td>\n      <td>manunited</td>\n    </tr>\n    <tr>\n      <th>1468728</th>\n      <td>D1D1J1</td>\n      <td>2022-05-01 02:24:19+00:00</td>\n      <td>0</td>\n      <td>#ManUnited https://t.co/kRkmYvV2jT</td>\n      <td>0</td>\n      <td>qme</td>\n      <td>NaN</td>\n      <td>Twitter Web App</td>\n      <td>manunited</td>\n    </tr>\n    <tr>\n      <th>1468731</th>\n      <td>D1D1J1</td>\n      <td>2022-05-01 01:12:53+00:00</td>\n      <td>0</td>\n      <td>#ManUnited https://t.co/c4VJInsqnx</td>\n      <td>0</td>\n      <td>qme</td>\n      <td>NaN</td>\n      <td>Twitter Web App</td>\n      <td>manunited</td>\n    </tr>\n    <tr>\n      <th>1468733</th>\n      <td>4abdullahi_</td>\n      <td>2022-05-01 00:04:21+00:00</td>\n      <td>0</td>\n      <td>#ManUnited sign up #speed ASAP 😮‍💨😂 https://t....</td>\n      <td>0</td>\n      <td>en</td>\n      <td>NaN</td>\n      <td>Twitter for Android</td>\n      <td>manunited</td>\n    </tr>\n    <tr>\n      <th>1468734</th>\n      <td>GabriLannister</td>\n      <td>2022-05-01 00:02:58+00:00</td>\n      <td>1</td>\n      <td>Eu tenho uma teoria de que o Harry Maguire é f...</td>\n      <td>0</td>\n      <td>pt</td>\n      <td>NaN</td>\n      <td>Twitter for Android</td>\n      <td>manunited</td>\n    </tr>\n  </tbody>\n</table>\n<p>1347506 rows × 9 columns</p>\n</div>"
     },
     "execution_count": 55,
     "metadata": {},
     "output_type": "execute_result"
    }
   ],
   "source": [
    "df_post_clean = df_post.drop_duplicates(subset=['Tweet'])\n",
    "df_post_clean"
   ],
   "metadata": {
    "collapsed": false,
    "pycharm": {
     "name": "#%%\n"
    }
   }
  },
  {
   "cell_type": "code",
   "execution_count": 60,
   "outputs": [
    {
     "name": "stderr",
     "output_type": "stream",
     "text": [
      "C:\\Users\\naemi\\AppData\\Local\\Temp\\ipykernel_16836\\3228751276.py:1: SettingWithCopyWarning: \n",
      "A value is trying to be set on a copy of a slice from a DataFrame\n",
      "\n",
      "See the caveats in the documentation: https://pandas.pydata.org/pandas-docs/stable/user_guide/indexing.html#returning-a-view-versus-a-copy\n",
      "  df_post_clean.rename(columns = {'Date Created':'Date_Created'}, inplace = True)\n"
     ]
    }
   ],
   "source": [
    "# Rename a column\n",
    "df_post_clean.rename(columns = {'Date Created':'Date_Created'}, inplace = True)"
   ],
   "metadata": {
    "collapsed": false,
    "pycharm": {
     "name": "#%%\n"
    }
   }
  },
  {
   "cell_type": "code",
   "execution_count": 61,
   "outputs": [
    {
     "name": "stderr",
     "output_type": "stream",
     "text": [
      "C:\\Users\\naemi\\AppData\\Local\\Temp\\ipykernel_16836\\1669265214.py:1: SettingWithCopyWarning: \n",
      "A value is trying to be set on a copy of a slice from a DataFrame.\n",
      "Try using .loc[row_indexer,col_indexer] = value instead\n",
      "\n",
      "See the caveats in the documentation: https://pandas.pydata.org/pandas-docs/stable/user_guide/indexing.html#returning-a-view-versus-a-copy\n",
      "  df_post_clean['Date_Created'] = pd.to_datetime(df_post_clean.Date_Created, format='%Y-%m-%d %H:%M:%S')\n",
      "C:\\Users\\naemi\\AppData\\Local\\Temp\\ipykernel_16836\\1669265214.py:3: SettingWithCopyWarning: \n",
      "A value is trying to be set on a copy of a slice from a DataFrame.\n",
      "Try using .loc[row_indexer,col_indexer] = value instead\n",
      "\n",
      "See the caveats in the documentation: https://pandas.pydata.org/pandas-docs/stable/user_guide/indexing.html#returning-a-view-versus-a-copy\n",
      "  df_post_clean['Month'] = df_post_clean['Date_Created'].dt.month\n",
      "C:\\Users\\naemi\\AppData\\Local\\Temp\\ipykernel_16836\\1669265214.py:4: SettingWithCopyWarning: \n",
      "A value is trying to be set on a copy of a slice from a DataFrame.\n",
      "Try using .loc[row_indexer,col_indexer] = value instead\n",
      "\n",
      "See the caveats in the documentation: https://pandas.pydata.org/pandas-docs/stable/user_guide/indexing.html#returning-a-view-versus-a-copy\n",
      "  df_post_clean['Year'] = df_post_clean['Date_Created'].dt.year\n",
      "C:\\Users\\naemi\\AppData\\Local\\Temp\\ipykernel_16836\\1669265214.py:5: SettingWithCopyWarning: \n",
      "A value is trying to be set on a copy of a slice from a DataFrame.\n",
      "Try using .loc[row_indexer,col_indexer] = value instead\n",
      "\n",
      "See the caveats in the documentation: https://pandas.pydata.org/pandas-docs/stable/user_guide/indexing.html#returning-a-view-versus-a-copy\n",
      "  df_post_clean['Day'] = df_post_clean['Date_Created'].dt.day\n"
     ]
    }
   ],
   "source": [
    "#\n",
    "df_post_clean['Date_Created'] = pd.to_datetime(df_post_clean.Date_Created, format='%Y-%m-%d %H:%M:%S')\n",
    "\n",
    "df_post_clean['Month'] = df_post_clean['Date_Created'].dt.month\n",
    "df_post_clean['Year'] = df_post_clean['Date_Created'].dt.year\n",
    "df_post_clean['Day'] = df_post_clean['Date_Created'].dt.day"
   ],
   "metadata": {
    "collapsed": false,
    "pycharm": {
     "name": "#%%\n"
    }
   }
  },
  {
   "cell_type": "code",
   "execution_count": 62,
   "outputs": [
    {
     "data": {
      "text/plain": "                    User              Date_Created  Number of Likes  \\\n0          FergieTime876 2022-10-21 23:59:24+00:00                2   \n1                mufcMPB 2022-10-21 23:58:23+00:00             6726   \n2            ADNFerguson 2022-10-21 23:58:04+00:00               20   \n3        MiguelA82859042 2022-10-21 23:57:03+00:00                9   \n4           KhashanDalia 2022-10-21 23:56:31+00:00                8   \n...                  ...                       ...              ...   \n1468727    mufc_eagleton 2022-05-01 02:30:53+00:00                1   \n1468728           D1D1J1 2022-05-01 02:24:19+00:00                0   \n1468731           D1D1J1 2022-05-01 01:12:53+00:00                0   \n1468733      4abdullahi_ 2022-05-01 00:04:21+00:00                0   \n1468734   GabriLannister 2022-05-01 00:02:58+00:00                1   \n\n                                                     Tweet  Retweets Language  \\\n0        No nonsense! 💪 #Gaff #mufc #ErikTenHag 🔴 https...         1       it   \n1        Erik ten Hag wants Cristiano Ronaldo to say so...       370       en   \n2        En medio de un gran golpe surgió otra tormenta...         4       es   \n3        El Mejor Jugador de La Historia del Madrid \\n\\...         2       es   \n4        Fair enough tbh. Those players look up to him ...         1       en   \n...                                                    ...       ...      ...   \n1468727  Going to bed an ANGRY #ManUnited supporter thi...         0       en   \n1468728                 #ManUnited https://t.co/kRkmYvV2jT         0      qme   \n1468731                 #ManUnited https://t.co/c4VJInsqnx         0      qme   \n1468733  #ManUnited sign up #speed ASAP 😮‍💨😂 https://t....         0       en   \n1468734  Eu tenho uma teoria de que o Harry Maguire é f...         0       pt   \n\n                                           Mentioned Users  \\\n0                                                      NaN   \n1        [User(username='FabrizioRomano', id=330262748,...   \n2                                                      NaN   \n3                                                      NaN   \n4                                                      NaN   \n...                                                    ...   \n1468727  [User(username='premierleague', id=343627165, ...   \n1468728                                                NaN   \n1468731                                                NaN   \n1468733                                                NaN   \n1468734                                                NaN   \n\n             Source of Tweet   Haschtag  Month  Year  Day  \n0        Twitter for Android       MUFC     10  2022   21  \n1         Twitter for iPhone       MUFC     10  2022   21  \n2        Twitter for Android       MUFC     10  2022   21  \n3        Twitter for Android       MUFC     10  2022   21  \n4        Twitter for Android       MUFC     10  2022   21  \n...                      ...        ...    ...   ...  ...  \n1468727   Twitter for iPhone  manunited      5  2022    1  \n1468728      Twitter Web App  manunited      5  2022    1  \n1468731      Twitter Web App  manunited      5  2022    1  \n1468733  Twitter for Android  manunited      5  2022    1  \n1468734  Twitter for Android  manunited      5  2022    1  \n\n[1347506 rows x 12 columns]",
      "text/html": "<div>\n<style scoped>\n    .dataframe tbody tr th:only-of-type {\n        vertical-align: middle;\n    }\n\n    .dataframe tbody tr th {\n        vertical-align: top;\n    }\n\n    .dataframe thead th {\n        text-align: right;\n    }\n</style>\n<table border=\"1\" class=\"dataframe\">\n  <thead>\n    <tr style=\"text-align: right;\">\n      <th></th>\n      <th>User</th>\n      <th>Date_Created</th>\n      <th>Number of Likes</th>\n      <th>Tweet</th>\n      <th>Retweets</th>\n      <th>Language</th>\n      <th>Mentioned Users</th>\n      <th>Source of Tweet</th>\n      <th>Haschtag</th>\n      <th>Month</th>\n      <th>Year</th>\n      <th>Day</th>\n    </tr>\n  </thead>\n  <tbody>\n    <tr>\n      <th>0</th>\n      <td>FergieTime876</td>\n      <td>2022-10-21 23:59:24+00:00</td>\n      <td>2</td>\n      <td>No nonsense! 💪 #Gaff #mufc #ErikTenHag 🔴 https...</td>\n      <td>1</td>\n      <td>it</td>\n      <td>NaN</td>\n      <td>Twitter for Android</td>\n      <td>MUFC</td>\n      <td>10</td>\n      <td>2022</td>\n      <td>21</td>\n    </tr>\n    <tr>\n      <th>1</th>\n      <td>mufcMPB</td>\n      <td>2022-10-21 23:58:23+00:00</td>\n      <td>6726</td>\n      <td>Erik ten Hag wants Cristiano Ronaldo to say so...</td>\n      <td>370</td>\n      <td>en</td>\n      <td>[User(username='FabrizioRomano', id=330262748,...</td>\n      <td>Twitter for iPhone</td>\n      <td>MUFC</td>\n      <td>10</td>\n      <td>2022</td>\n      <td>21</td>\n    </tr>\n    <tr>\n      <th>2</th>\n      <td>ADNFerguson</td>\n      <td>2022-10-21 23:58:04+00:00</td>\n      <td>20</td>\n      <td>En medio de un gran golpe surgió otra tormenta...</td>\n      <td>4</td>\n      <td>es</td>\n      <td>NaN</td>\n      <td>Twitter for Android</td>\n      <td>MUFC</td>\n      <td>10</td>\n      <td>2022</td>\n      <td>21</td>\n    </tr>\n    <tr>\n      <th>3</th>\n      <td>MiguelA82859042</td>\n      <td>2022-10-21 23:57:03+00:00</td>\n      <td>9</td>\n      <td>El Mejor Jugador de La Historia del Madrid \\n\\...</td>\n      <td>2</td>\n      <td>es</td>\n      <td>NaN</td>\n      <td>Twitter for Android</td>\n      <td>MUFC</td>\n      <td>10</td>\n      <td>2022</td>\n      <td>21</td>\n    </tr>\n    <tr>\n      <th>4</th>\n      <td>KhashanDalia</td>\n      <td>2022-10-21 23:56:31+00:00</td>\n      <td>8</td>\n      <td>Fair enough tbh. Those players look up to him ...</td>\n      <td>1</td>\n      <td>en</td>\n      <td>NaN</td>\n      <td>Twitter for Android</td>\n      <td>MUFC</td>\n      <td>10</td>\n      <td>2022</td>\n      <td>21</td>\n    </tr>\n    <tr>\n      <th>...</th>\n      <td>...</td>\n      <td>...</td>\n      <td>...</td>\n      <td>...</td>\n      <td>...</td>\n      <td>...</td>\n      <td>...</td>\n      <td>...</td>\n      <td>...</td>\n      <td>...</td>\n      <td>...</td>\n      <td>...</td>\n    </tr>\n    <tr>\n      <th>1468727</th>\n      <td>mufc_eagleton</td>\n      <td>2022-05-01 02:30:53+00:00</td>\n      <td>1</td>\n      <td>Going to bed an ANGRY #ManUnited supporter thi...</td>\n      <td>0</td>\n      <td>en</td>\n      <td>[User(username='premierleague', id=343627165, ...</td>\n      <td>Twitter for iPhone</td>\n      <td>manunited</td>\n      <td>5</td>\n      <td>2022</td>\n      <td>1</td>\n    </tr>\n    <tr>\n      <th>1468728</th>\n      <td>D1D1J1</td>\n      <td>2022-05-01 02:24:19+00:00</td>\n      <td>0</td>\n      <td>#ManUnited https://t.co/kRkmYvV2jT</td>\n      <td>0</td>\n      <td>qme</td>\n      <td>NaN</td>\n      <td>Twitter Web App</td>\n      <td>manunited</td>\n      <td>5</td>\n      <td>2022</td>\n      <td>1</td>\n    </tr>\n    <tr>\n      <th>1468731</th>\n      <td>D1D1J1</td>\n      <td>2022-05-01 01:12:53+00:00</td>\n      <td>0</td>\n      <td>#ManUnited https://t.co/c4VJInsqnx</td>\n      <td>0</td>\n      <td>qme</td>\n      <td>NaN</td>\n      <td>Twitter Web App</td>\n      <td>manunited</td>\n      <td>5</td>\n      <td>2022</td>\n      <td>1</td>\n    </tr>\n    <tr>\n      <th>1468733</th>\n      <td>4abdullahi_</td>\n      <td>2022-05-01 00:04:21+00:00</td>\n      <td>0</td>\n      <td>#ManUnited sign up #speed ASAP 😮‍💨😂 https://t....</td>\n      <td>0</td>\n      <td>en</td>\n      <td>NaN</td>\n      <td>Twitter for Android</td>\n      <td>manunited</td>\n      <td>5</td>\n      <td>2022</td>\n      <td>1</td>\n    </tr>\n    <tr>\n      <th>1468734</th>\n      <td>GabriLannister</td>\n      <td>2022-05-01 00:02:58+00:00</td>\n      <td>1</td>\n      <td>Eu tenho uma teoria de que o Harry Maguire é f...</td>\n      <td>0</td>\n      <td>pt</td>\n      <td>NaN</td>\n      <td>Twitter for Android</td>\n      <td>manunited</td>\n      <td>5</td>\n      <td>2022</td>\n      <td>1</td>\n    </tr>\n  </tbody>\n</table>\n<p>1347506 rows × 12 columns</p>\n</div>"
     },
     "execution_count": 62,
     "metadata": {},
     "output_type": "execute_result"
    }
   ],
   "source": [
    "df_post_clean"
   ],
   "metadata": {
    "collapsed": false,
    "pycharm": {
     "name": "#%%\n"
    }
   }
  },
  {
   "cell_type": "markdown",
   "source": [
    "### Drop all tweets in April and keep only tweets in EN"
   ],
   "metadata": {
    "collapsed": false,
    "pycharm": {
     "name": "#%% md\n"
    }
   }
  },
  {
   "cell_type": "code",
   "execution_count": 63,
   "outputs": [],
   "source": [
    "df_post_clean = df_post_clean[df_post_clean.Month != 4]"
   ],
   "metadata": {
    "collapsed": false,
    "pycharm": {
     "name": "#%%\n"
    }
   }
  },
  {
   "cell_type": "code",
   "execution_count": 64,
   "outputs": [
    {
     "data": {
      "text/plain": "array([10,  9,  8,  7,  6,  5], dtype=int64)"
     },
     "execution_count": 64,
     "metadata": {},
     "output_type": "execute_result"
    }
   ],
   "source": [
    "df_post_clean['Month'].unique()"
   ],
   "metadata": {
    "collapsed": false,
    "pycharm": {
     "name": "#%%\n"
    }
   }
  },
  {
   "cell_type": "code",
   "execution_count": 65,
   "outputs": [
    {
     "data": {
      "text/plain": "array(['it', 'en', 'es', 'in', 'th', 'fr', 'ar', 'ja', 'qme', 'pt', 'da',\n       'und', 'sv', 'pl', 'tl', 'nl', 'qht', 'ro', 'fi', 'zh', 'de', 'ca',\n       'et', 'no', 'hi', 'is', 'ht', 'ko', 'sr', 'ru', 'tr', 'hu', 'cy',\n       'ml', 'vi', 'lv', 'cs', 'eu', 'sl', 'el', 'ur', 'bn', 'mr', 'iw',\n       'bg', 'ne', 'lt', 'uk', 'am', 'kn', 'fa', 'ta', 'qst', 'te', 'or',\n       'ckb', 'gu', 'si', 'my', 'ka', 'pa', 'lo'], dtype=object)"
     },
     "execution_count": 65,
     "metadata": {},
     "output_type": "execute_result"
    }
   ],
   "source": [
    "df_post_clean['Language'].unique()"
   ],
   "metadata": {
    "collapsed": false,
    "pycharm": {
     "name": "#%%\n"
    }
   }
  },
  {
   "cell_type": "code",
   "execution_count": 67,
   "outputs": [],
   "source": [
    "df_post_clean = df_post_clean[df_post_clean.Language == 'en']"
   ],
   "metadata": {
    "collapsed": false,
    "pycharm": {
     "name": "#%%\n"
    }
   }
  },
  {
   "cell_type": "code",
   "execution_count": 68,
   "outputs": [
    {
     "data": {
      "text/plain": "array(['en'], dtype=object)"
     },
     "execution_count": 68,
     "metadata": {},
     "output_type": "execute_result"
    }
   ],
   "source": [
    "df_post_clean['Language'].unique()\n"
   ],
   "metadata": {
    "collapsed": false,
    "pycharm": {
     "name": "#%%\n"
    }
   }
  },
  {
   "cell_type": "code",
   "execution_count": 69,
   "outputs": [
    {
     "data": {
      "text/plain": "                    User              Date_Created  Number of Likes  \\\n1                mufcMPB 2022-10-21 23:58:23+00:00             6726   \n4           KhashanDalia 2022-10-21 23:56:31+00:00                8   \n5              RedReveal 2022-10-21 23:54:21+00:00                6   \n8         manutdnewsonly 2022-10-21 23:47:00+00:00                3   \n10        colbeck_daniel 2022-10-21 23:42:07+00:00                1   \n...                  ...                       ...              ...   \n1468714          magfarm 2022-05-01 07:04:44+00:00                0   \n1468715  onthatilemodis5 2022-05-01 06:50:36+00:00                0   \n1468718    SteveBusbyPEC 2022-05-01 06:21:29+00:00                2   \n1468727    mufc_eagleton 2022-05-01 02:30:53+00:00                1   \n1468733      4abdullahi_ 2022-05-01 00:04:21+00:00                0   \n\n                                                     Tweet  Retweets Language  \\\n1        Erik ten Hag wants Cristiano Ronaldo to say so...       370       en   \n4        Fair enough tbh. Those players look up to him ...         1       en   \n5        Happy Birthday Jade Moore! #mufc https://t.co/...         1       en   \n8        Starting XI: Chelsea vs Manchester United #MUF...         0       en   \n10       Erik Ten Hag is definitely the best signing of...         1       en   \n...                                                    ...       ...      ...   \n1468714  @UtdXclusive Never in a thousand years🙈🤯💀#ManU...         0       en   \n1468715  @AdvoBarryRoux #Chiefs\\n#ManUnited\\n#RealMadri...         0       en   \n1468718  Hope there is a mass walk out in the 73rd minu...         0       en   \n1468727  Going to bed an ANGRY #ManUnited supporter thi...         0       en   \n1468733  #ManUnited sign up #speed ASAP 😮‍💨😂 https://t....         0       en   \n\n                                           Mentioned Users  \\\n1        [User(username='FabrizioRomano', id=330262748,...   \n4                                                      NaN   \n5                                                      NaN   \n8                                                      NaN   \n10                                                     NaN   \n...                                                    ...   \n1468714  [User(username='UtdXclusive', id=1193109572015...   \n1468715  [User(username='AdvoBarryRoux', id=2449502355,...   \n1468718                                                NaN   \n1468727  [User(username='premierleague', id=343627165, ...   \n1468733                                                NaN   \n\n             Source of Tweet   Haschtag  Month  Year  Day  \n1         Twitter for iPhone       MUFC     10  2022   21  \n4        Twitter for Android       MUFC     10  2022   21  \n5        Twitter for Android       MUFC     10  2022   21  \n8            SocialBee.io v2       MUFC     10  2022   21  \n10       Twitter for Android       MUFC     10  2022   21  \n...                      ...        ...    ...   ...  ...  \n1468714   Twitter for iPhone  manunited      5  2022    1  \n1468715  Twitter for Android  manunited      5  2022    1  \n1468718     Twitter for iPad  manunited      5  2022    1  \n1468727   Twitter for iPhone  manunited      5  2022    1  \n1468733  Twitter for Android  manunited      5  2022    1  \n\n[1075174 rows x 12 columns]",
      "text/html": "<div>\n<style scoped>\n    .dataframe tbody tr th:only-of-type {\n        vertical-align: middle;\n    }\n\n    .dataframe tbody tr th {\n        vertical-align: top;\n    }\n\n    .dataframe thead th {\n        text-align: right;\n    }\n</style>\n<table border=\"1\" class=\"dataframe\">\n  <thead>\n    <tr style=\"text-align: right;\">\n      <th></th>\n      <th>User</th>\n      <th>Date_Created</th>\n      <th>Number of Likes</th>\n      <th>Tweet</th>\n      <th>Retweets</th>\n      <th>Language</th>\n      <th>Mentioned Users</th>\n      <th>Source of Tweet</th>\n      <th>Haschtag</th>\n      <th>Month</th>\n      <th>Year</th>\n      <th>Day</th>\n    </tr>\n  </thead>\n  <tbody>\n    <tr>\n      <th>1</th>\n      <td>mufcMPB</td>\n      <td>2022-10-21 23:58:23+00:00</td>\n      <td>6726</td>\n      <td>Erik ten Hag wants Cristiano Ronaldo to say so...</td>\n      <td>370</td>\n      <td>en</td>\n      <td>[User(username='FabrizioRomano', id=330262748,...</td>\n      <td>Twitter for iPhone</td>\n      <td>MUFC</td>\n      <td>10</td>\n      <td>2022</td>\n      <td>21</td>\n    </tr>\n    <tr>\n      <th>4</th>\n      <td>KhashanDalia</td>\n      <td>2022-10-21 23:56:31+00:00</td>\n      <td>8</td>\n      <td>Fair enough tbh. Those players look up to him ...</td>\n      <td>1</td>\n      <td>en</td>\n      <td>NaN</td>\n      <td>Twitter for Android</td>\n      <td>MUFC</td>\n      <td>10</td>\n      <td>2022</td>\n      <td>21</td>\n    </tr>\n    <tr>\n      <th>5</th>\n      <td>RedReveal</td>\n      <td>2022-10-21 23:54:21+00:00</td>\n      <td>6</td>\n      <td>Happy Birthday Jade Moore! #mufc https://t.co/...</td>\n      <td>1</td>\n      <td>en</td>\n      <td>NaN</td>\n      <td>Twitter for Android</td>\n      <td>MUFC</td>\n      <td>10</td>\n      <td>2022</td>\n      <td>21</td>\n    </tr>\n    <tr>\n      <th>8</th>\n      <td>manutdnewsonly</td>\n      <td>2022-10-21 23:47:00+00:00</td>\n      <td>3</td>\n      <td>Starting XI: Chelsea vs Manchester United #MUF...</td>\n      <td>0</td>\n      <td>en</td>\n      <td>NaN</td>\n      <td>SocialBee.io v2</td>\n      <td>MUFC</td>\n      <td>10</td>\n      <td>2022</td>\n      <td>21</td>\n    </tr>\n    <tr>\n      <th>10</th>\n      <td>colbeck_daniel</td>\n      <td>2022-10-21 23:42:07+00:00</td>\n      <td>1</td>\n      <td>Erik Ten Hag is definitely the best signing of...</td>\n      <td>1</td>\n      <td>en</td>\n      <td>NaN</td>\n      <td>Twitter for Android</td>\n      <td>MUFC</td>\n      <td>10</td>\n      <td>2022</td>\n      <td>21</td>\n    </tr>\n    <tr>\n      <th>...</th>\n      <td>...</td>\n      <td>...</td>\n      <td>...</td>\n      <td>...</td>\n      <td>...</td>\n      <td>...</td>\n      <td>...</td>\n      <td>...</td>\n      <td>...</td>\n      <td>...</td>\n      <td>...</td>\n      <td>...</td>\n    </tr>\n    <tr>\n      <th>1468714</th>\n      <td>magfarm</td>\n      <td>2022-05-01 07:04:44+00:00</td>\n      <td>0</td>\n      <td>@UtdXclusive Never in a thousand years🙈🤯💀#ManU...</td>\n      <td>0</td>\n      <td>en</td>\n      <td>[User(username='UtdXclusive', id=1193109572015...</td>\n      <td>Twitter for iPhone</td>\n      <td>manunited</td>\n      <td>5</td>\n      <td>2022</td>\n      <td>1</td>\n    </tr>\n    <tr>\n      <th>1468715</th>\n      <td>onthatilemodis5</td>\n      <td>2022-05-01 06:50:36+00:00</td>\n      <td>0</td>\n      <td>@AdvoBarryRoux #Chiefs\\n#ManUnited\\n#RealMadri...</td>\n      <td>0</td>\n      <td>en</td>\n      <td>[User(username='AdvoBarryRoux', id=2449502355,...</td>\n      <td>Twitter for Android</td>\n      <td>manunited</td>\n      <td>5</td>\n      <td>2022</td>\n      <td>1</td>\n    </tr>\n    <tr>\n      <th>1468718</th>\n      <td>SteveBusbyPEC</td>\n      <td>2022-05-01 06:21:29+00:00</td>\n      <td>2</td>\n      <td>Hope there is a mass walk out in the 73rd minu...</td>\n      <td>0</td>\n      <td>en</td>\n      <td>NaN</td>\n      <td>Twitter for iPad</td>\n      <td>manunited</td>\n      <td>5</td>\n      <td>2022</td>\n      <td>1</td>\n    </tr>\n    <tr>\n      <th>1468727</th>\n      <td>mufc_eagleton</td>\n      <td>2022-05-01 02:30:53+00:00</td>\n      <td>1</td>\n      <td>Going to bed an ANGRY #ManUnited supporter thi...</td>\n      <td>0</td>\n      <td>en</td>\n      <td>[User(username='premierleague', id=343627165, ...</td>\n      <td>Twitter for iPhone</td>\n      <td>manunited</td>\n      <td>5</td>\n      <td>2022</td>\n      <td>1</td>\n    </tr>\n    <tr>\n      <th>1468733</th>\n      <td>4abdullahi_</td>\n      <td>2022-05-01 00:04:21+00:00</td>\n      <td>0</td>\n      <td>#ManUnited sign up #speed ASAP 😮‍💨😂 https://t....</td>\n      <td>0</td>\n      <td>en</td>\n      <td>NaN</td>\n      <td>Twitter for Android</td>\n      <td>manunited</td>\n      <td>5</td>\n      <td>2022</td>\n      <td>1</td>\n    </tr>\n  </tbody>\n</table>\n<p>1075174 rows × 12 columns</p>\n</div>"
     },
     "execution_count": 69,
     "metadata": {},
     "output_type": "execute_result"
    }
   ],
   "source": [
    "df_post_clean"
   ],
   "metadata": {
    "collapsed": false,
    "pycharm": {
     "name": "#%%\n"
    }
   }
  },
  {
   "cell_type": "markdown",
   "source": [
    "### Check witch columns contains Null values"
   ],
   "metadata": {
    "collapsed": false,
    "pycharm": {
     "name": "#%% md\n"
    }
   }
  },
  {
   "cell_type": "code",
   "execution_count": 72,
   "outputs": [
    {
     "data": {
      "text/plain": "<AxesSubplot: >"
     },
     "execution_count": 72,
     "metadata": {},
     "output_type": "execute_result"
    },
    {
     "data": {
      "text/plain": "<Figure size 1800x720 with 2 Axes>",
      "image/png": "[encoded data removed]"
     },
     "metadata": {
      "needs_background": "light"
     },
     "output_type": "display_data"
    }
   ],
   "source": [
    "msno.matrix(df_post_clean)"
   ],
   "metadata": {
    "collapsed": false,
    "pycharm": {
     "name": "#%%\n"
    }
   }
  },
  {
   "cell_type": "markdown",
   "source": [
    "### Save the combined Dataframe as a csv"
   ],
   "metadata": {
    "collapsed": false,
    "pycharm": {
     "name": "#%% md\n"
    }
   }
  },
  {
   "cell_type": "code",
   "execution_count": 70,
   "outputs": [],
   "source": [
    "posts_file = '../../data/interim/' + 'Post_'+'Twitter_all_Hashtags.csv'"
   ],
   "metadata": {
    "collapsed": false,
    "pycharm": {
     "name": "#%%\n"
    }
   }
  },
  {
   "cell_type": "code",
   "execution_count": 71,
   "outputs": [],
   "source": [
    "df_post_clean.to_csv(posts_file, encoding='utf-8', index = False)"
   ],
   "metadata": {
    "collapsed": false,
    "pycharm": {
     "name": "#%%\n"
    }
   }
  }
 ],
 "metadata": {
  "kernelspec": {
   "display_name": "Python 3",
   "language": "python",
   "name": "python3"
  },
  "language_info": {
   "codemirror_mode": {
    "name": "ipython",
    "version": 2
   },
   "file_extension": ".py",
   "mimetype": "text/x-python",
   "name": "python",
   "nbconvert_exporter": "python",
   "pygments_lexer": "ipython2",
   "version": "2.7.6"
  }
 },
 "nbformat": 4,
 "nbformat_minor": 0
}