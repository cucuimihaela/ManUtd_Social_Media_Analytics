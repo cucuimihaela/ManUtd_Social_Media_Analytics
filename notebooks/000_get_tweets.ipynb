{
 "cells": [
  {
   "cell_type": "markdown",
   "metadata": {
    "pycharm": {
     "name": "#%% md\n"
    }
   },
   "source": [
    "### Get tweets from list of users\n",
    "\n",
    "1700 users randomly sampled from 6700 users that interacted more than 20 times with the 3 obtained hashtags "
   ]
  },
  {
   "cell_type": "markdown",
   "metadata": {
    "pycharm": {
     "name": "#%% md\n"
    }
   },
   "source": [
    "If no random sampling is applied, will collect all tweets from given list of users\n"
   ]
  },
  {
   "cell_type": "code",
   "execution_count": 1,
   "metadata": {
    "pycharm": {
     "name": "#%%\n"
    }
   },
   "outputs": [],
   "source": [
    "import tweepy\n",
    "import json\n",
    "import pandas as pd"
   ]
  },
  {
   "cell_type": "code",
   "execution_count": 3,
   "metadata": {
    "pycharm": {
     "name": "#%%\n"
    }
   },
   "outputs": [],
   "source": [
    "with open(\"..\\..\\..\\data\\interim\\credentials.json\") as infile:\n",
    "    credentials = json.load(infile)"
   ]
  },
  {
   "cell_type": "code",
   "execution_count": 4,
   "metadata": {
    "pycharm": {
     "name": "#%%\n"
    }
   },
   "outputs": [],
   "source": [
    "auth = tweepy.OAuth1UserHandler(credentials[\"consumer_key\"],\n",
    "                         credentials[\"consumer_secret\"],\n",
    "                         credentials[\"access_token\"],\n",
    "                         credentials[\"access_token_secret\"])"
   ]
  },
  {
   "cell_type": "code",
   "execution_count": 5,
   "metadata": {
    "pycharm": {
     "name": "#%%\n"
    }
   },
   "outputs": [],
   "source": [
    "api = tweepy.API(auth, wait_on_rate_limit=True)"
   ]
  },
  {
   "cell_type": "code",
   "execution_count": 3,
   "metadata": {
    "pycharm": {
     "name": "#%%\n"
    }
   },
   "outputs": [
    {
     "name": "stderr",
     "output_type": "stream",
     "text": [
      "C:\\Users\\Study\\AppData\\Local\\Temp\\ipykernel_3016\\2940761130.py:1: DtypeWarning: Columns (13,14,15,16,17,18,19,20,21,23,24,25,26,27) have mixed types. Specify dtype option on import or set low_memory=False.\n",
      "  df_users = pd.read_csv(\"../../../data/interim/_Post_Twitter_all_Hashtags_with_matches_clean.csv\")\n"
     ]
    }
   ],
   "source": [
    "df_users = pd.read_csv(\"../../../data/interim/_Post_Twitter_all_Hashtags_with_matches_clean.csv\", low_memory=False)"
   ]
  },
  {
   "cell_type": "code",
   "execution_count": 7,
   "metadata": {
    "pycharm": {
     "name": "#%%\n"
    }
   },
   "outputs": [],
   "source": [
    "df_users = df_users[df_users[\"User\"].map(df_users[\"User\"].value_counts()) > 20]\n",
    "# out of 138k unique users that interacted with the hashtags, only 6717 used the hashtag more than 20 times in the period considered -> considered \"Core Fans\""
   ]
  },
  {
   "cell_type": "code",
   "execution_count": 8,
   "metadata": {
    "pycharm": {
     "name": "#%%\n"
    }
   },
   "outputs": [],
   "source": [
    "list_of_users = df_users[\"User\"].unique()"
   ]
  },
  {
   "cell_type": "code",
   "execution_count": null,
   "metadata": {
    "pycharm": {
     "name": "#%%\n"
    }
   },
   "outputs": [],
   "source": [
    "import random\n",
    "\n",
    "random.seed(42)\n",
    "\n",
    "limit = 300\n",
    "data = []\n",
    "count = 0\n",
    "count_tweets = 0\n",
    "for user in random.sample(list(list_of_users), 1700):  # 1700 users randomly sampled \n",
    "    try:\n",
    "        tweets = tweepy.Cursor(api.user_timeline, screen_name=user).items(limit)\n",
    "        count += 1\n",
    "        print(\"User: \", count)\n",
    "        for tweet in tweets:\n",
    "            data.append([tweet.user.name, tweet.id_str, str(tweet.created_at), tweet.text, tweet.favorite_count,  tweet.lang])\n",
    "            count_tweets += 1\n",
    "            print(count_tweets, \" tweets\")\n",
    "    except BaseException as e:\n",
    "        print(e)\n",
    "\n",
    "\n",
    "user_tweets_df = pd.DataFrame(data, columns=[\"Username\", \"ID\", \"Date Created\", \"Tweet\", \"Nr of Likes\", \"Language\"])\n",
    "user_tweets_df.to_csv(\"../../../data/processed/user_list_tweets\")"
   ]
  },
  {
   "cell_type": "code",
   "execution_count": null,
   "metadata": {
    "pycharm": {
     "name": "#%%\n"
    }
   },
   "outputs": [],
   "source": [
    "user_tweets_df"
   ]
  }
 ],
 "metadata": {
  "kernelspec": {
   "display_name": "Python 3.10.5 64-bit",
   "language": "python",
   "name": "python3"
  },
  "language_info": {
   "codemirror_mode": {
    "name": "ipython",
    "version": 3
   },
   "file_extension": ".py",
   "mimetype": "text/x-python",
   "name": "python",
   "nbconvert_exporter": "python",
   "pygments_lexer": "ipython3",
   "version": "3.10.5"
  },
  "orig_nbformat": 4,
  "vscode": {
   "interpreter": {
    "hash": "1cb4cdeafc61a6c89e92f7723c86672e1ce8acb7f4f325f2b080f67667d6c07a"
   }
  }
 },
 "nbformat": 4,
 "nbformat_minor": 2
}