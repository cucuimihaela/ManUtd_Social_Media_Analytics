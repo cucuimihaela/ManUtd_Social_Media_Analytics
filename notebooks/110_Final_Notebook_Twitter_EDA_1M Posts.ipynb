{
 "cells": [
  {
   "cell_type": "markdown",
   "source": [
    "# Basics EDA on Tweets\n",
    "This notebook will contain some code for doing some basics text analysis and EDA"
   ],
   "metadata": {
    "collapsed": false,
    "pycharm": {
     "name": "#%% md\n"
    }
   }
  },
  {
   "cell_type": "code",
   "execution_count": 50,
   "outputs": [],
   "source": [
    "import pandas as pd\n",
    "import plotly.express as px\n",
    "import missingno as msno\n",
    "import plotly.graph_objects as go\n",
    "import plotly.io as pio\n",
    "import numpy as np\n"
   ],
   "metadata": {
    "collapsed": false,
    "pycharm": {
     "name": "#%%\n"
    }
   }
  },
  {
   "cell_type": "markdown",
   "source": [
    "### Import data"
   ],
   "metadata": {
    "collapsed": false,
    "pycharm": {
     "name": "#%% md\n"
    }
   }
  },
  {
   "cell_type": "code",
   "execution_count": 129,
   "outputs": [],
   "source": [
    "df = pd.read_csv('C:/Users/naemi/OneDrive/Dokumente/Propulsion/04_Data_Final_Project/Twitter_Posts/df_1M_new.csv')"
   ],
   "metadata": {
    "collapsed": false,
    "pycharm": {
     "name": "#%%\n"
    }
   }
  },
  {
   "cell_type": "code",
   "execution_count": 21,
   "outputs": [
    {
     "data": {
      "text/plain": "(1223215, 9)"
     },
     "execution_count": 21,
     "metadata": {},
     "output_type": "execute_result"
    }
   ],
   "source": [
    "df.shape"
   ],
   "metadata": {
    "collapsed": false,
    "pycharm": {
     "name": "#%%\n"
    }
   }
  },
  {
   "cell_type": "code",
   "execution_count": 91,
   "outputs": [
    {
     "data": {
      "text/plain": "                    User              Date_Created  Number of Likes  \\\n0          FergieTime876 2022-10-21 23:59:24+00:00                2   \n1                mufcMPB 2022-10-21 23:58:23+00:00             6726   \n2            ADNFerguson 2022-10-21 23:58:04+00:00               20   \n3        MiguelA82859042 2022-10-21 23:57:03+00:00                9   \n4           KhashanDalia 2022-10-21 23:56:31+00:00                8   \n...                  ...                       ...              ...   \n1223210   WesExpressFTBL 2022-04-30 00:04:21+00:00                0   \n1223211         Jhozharo 2022-04-30 00:02:58+00:00                2   \n1223212            Gindy 2022-04-30 00:00:49+00:00                0   \n1223213  FootballocksRob 2022-04-30 00:00:29+00:00                0   \n1223214             F365 2022-04-30 00:00:01+00:00                3   \n\n                                                     Tweet  Retweets Language  \\\n0        No nonsense! 💪 #Gaff #mufc #ErikTenHag 🔴 https...         1       it   \n1        Erik ten Hag wants Cristiano Ronaldo to say so...       370       en   \n2        En medio de un gran golpe surgió otra tormenta...         4       es   \n3        El Mejor Jugador de La Historia del Madrid \\n\\...         2       es   \n4        Fair enough tbh. Those players look up to him ...         1       en   \n...                                                    ...       ...      ...   \n1223210  and then protests will be more effective and p...         0       en   \n1223211  Rangnick : \"Il [Sancho] a une inflammation des...         0       fr   \n1223212  Mason Greenwood: Police to extend rape-accused...         1       en   \n1223213  Check out the latest #footballocks. I get angr...         0       en   \n1223214  Man United have been told to leave Ten hag alo...         1       en   \n\n                                           Mentioned Users  \\\n0                                                      NaN   \n1        [User(username='FabrizioRomano', id=330262748,...   \n2                                                      NaN   \n3                                                      NaN   \n4                                                      NaN   \n...                                                    ...   \n1223210                                                NaN   \n1223211                                                NaN   \n1223212                                                NaN   \n1223213                                                NaN   \n1223214                                                NaN   \n\n             Source of Tweet  Month  Year  Day  \n0        Twitter for Android     10  2022   21  \n1         Twitter for iPhone     10  2022   21  \n2        Twitter for Android     10  2022   21  \n3        Twitter for Android     10  2022   21  \n4        Twitter for Android     10  2022   21  \n...                      ...    ...   ...  ...  \n1223210  Twitter for Android      4  2022   30  \n1223211        Twitter Brave      4  2022   30  \n1223212   Twitter for iPhone      4  2022   30  \n1223213  Twitter for Android      4  2022   30  \n1223214            TweetDeck      4  2022   30  \n\n[1223215 rows x 11 columns]",
      "text/html": "<div>\n<style scoped>\n    .dataframe tbody tr th:only-of-type {\n        vertical-align: middle;\n    }\n\n    .dataframe tbody tr th {\n        vertical-align: top;\n    }\n\n    .dataframe thead th {\n        text-align: right;\n    }\n</style>\n<table border=\"1\" class=\"dataframe\">\n  <thead>\n    <tr style=\"text-align: right;\">\n      <th></th>\n      <th>User</th>\n      <th>Date_Created</th>\n      <th>Number of Likes</th>\n      <th>Tweet</th>\n      <th>Retweets</th>\n      <th>Language</th>\n      <th>Mentioned Users</th>\n      <th>Source of Tweet</th>\n      <th>Month</th>\n      <th>Year</th>\n      <th>Day</th>\n    </tr>\n  </thead>\n  <tbody>\n    <tr>\n      <th>0</th>\n      <td>FergieTime876</td>\n      <td>2022-10-21 23:59:24+00:00</td>\n      <td>2</td>\n      <td>No nonsense! 💪 #Gaff #mufc #ErikTenHag 🔴 https...</td>\n      <td>1</td>\n      <td>it</td>\n      <td>NaN</td>\n      <td>Twitter for Android</td>\n      <td>10</td>\n      <td>2022</td>\n      <td>21</td>\n    </tr>\n    <tr>\n      <th>1</th>\n      <td>mufcMPB</td>\n      <td>2022-10-21 23:58:23+00:00</td>\n      <td>6726</td>\n      <td>Erik ten Hag wants Cristiano Ronaldo to say so...</td>\n      <td>370</td>\n      <td>en</td>\n      <td>[User(username='FabrizioRomano', id=330262748,...</td>\n      <td>Twitter for iPhone</td>\n      <td>10</td>\n      <td>2022</td>\n      <td>21</td>\n    </tr>\n    <tr>\n      <th>2</th>\n      <td>ADNFerguson</td>\n      <td>2022-10-21 23:58:04+00:00</td>\n      <td>20</td>\n      <td>En medio de un gran golpe surgió otra tormenta...</td>\n      <td>4</td>\n      <td>es</td>\n      <td>NaN</td>\n      <td>Twitter for Android</td>\n      <td>10</td>\n      <td>2022</td>\n      <td>21</td>\n    </tr>\n    <tr>\n      <th>3</th>\n      <td>MiguelA82859042</td>\n      <td>2022-10-21 23:57:03+00:00</td>\n      <td>9</td>\n      <td>El Mejor Jugador de La Historia del Madrid \\n\\...</td>\n      <td>2</td>\n      <td>es</td>\n      <td>NaN</td>\n      <td>Twitter for Android</td>\n      <td>10</td>\n      <td>2022</td>\n      <td>21</td>\n    </tr>\n    <tr>\n      <th>4</th>\n      <td>KhashanDalia</td>\n      <td>2022-10-21 23:56:31+00:00</td>\n      <td>8</td>\n      <td>Fair enough tbh. Those players look up to him ...</td>\n      <td>1</td>\n      <td>en</td>\n      <td>NaN</td>\n      <td>Twitter for Android</td>\n      <td>10</td>\n      <td>2022</td>\n      <td>21</td>\n    </tr>\n    <tr>\n      <th>...</th>\n      <td>...</td>\n      <td>...</td>\n      <td>...</td>\n      <td>...</td>\n      <td>...</td>\n      <td>...</td>\n      <td>...</td>\n      <td>...</td>\n      <td>...</td>\n      <td>...</td>\n      <td>...</td>\n    </tr>\n    <tr>\n      <th>1223210</th>\n      <td>WesExpressFTBL</td>\n      <td>2022-04-30 00:04:21+00:00</td>\n      <td>0</td>\n      <td>and then protests will be more effective and p...</td>\n      <td>0</td>\n      <td>en</td>\n      <td>NaN</td>\n      <td>Twitter for Android</td>\n      <td>4</td>\n      <td>2022</td>\n      <td>30</td>\n    </tr>\n    <tr>\n      <th>1223211</th>\n      <td>Jhozharo</td>\n      <td>2022-04-30 00:02:58+00:00</td>\n      <td>2</td>\n      <td>Rangnick : \"Il [Sancho] a une inflammation des...</td>\n      <td>0</td>\n      <td>fr</td>\n      <td>NaN</td>\n      <td>Twitter Brave</td>\n      <td>4</td>\n      <td>2022</td>\n      <td>30</td>\n    </tr>\n    <tr>\n      <th>1223212</th>\n      <td>Gindy</td>\n      <td>2022-04-30 00:00:49+00:00</td>\n      <td>0</td>\n      <td>Mason Greenwood: Police to extend rape-accused...</td>\n      <td>1</td>\n      <td>en</td>\n      <td>NaN</td>\n      <td>Twitter for iPhone</td>\n      <td>4</td>\n      <td>2022</td>\n      <td>30</td>\n    </tr>\n    <tr>\n      <th>1223213</th>\n      <td>FootballocksRob</td>\n      <td>2022-04-30 00:00:29+00:00</td>\n      <td>0</td>\n      <td>Check out the latest #footballocks. I get angr...</td>\n      <td>0</td>\n      <td>en</td>\n      <td>NaN</td>\n      <td>Twitter for Android</td>\n      <td>4</td>\n      <td>2022</td>\n      <td>30</td>\n    </tr>\n    <tr>\n      <th>1223214</th>\n      <td>F365</td>\n      <td>2022-04-30 00:00:01+00:00</td>\n      <td>3</td>\n      <td>Man United have been told to leave Ten hag alo...</td>\n      <td>1</td>\n      <td>en</td>\n      <td>NaN</td>\n      <td>TweetDeck</td>\n      <td>4</td>\n      <td>2022</td>\n      <td>30</td>\n    </tr>\n  </tbody>\n</table>\n<p>1223215 rows × 11 columns</p>\n</div>"
     },
     "execution_count": 91,
     "metadata": {},
     "output_type": "execute_result"
    }
   ],
   "source": [
    "df"
   ],
   "metadata": {
    "collapsed": false,
    "pycharm": {
     "name": "#%%\n"
    }
   }
  },
  {
   "cell_type": "markdown",
   "source": [
    "#### basic analysis on columns"
   ],
   "metadata": {
    "collapsed": false,
    "pycharm": {
     "name": "#%% md\n"
    }
   }
  },
  {
   "cell_type": "code",
   "execution_count": 128,
   "outputs": [
    {
     "data": {
      "text/plain": "array(['Twitter for Android', 'Twitter for iPhone', 'Twitter for Mac',\n       'SocialBee.io v2', 'Twitter Web App', 'Hootsuite Inc.',\n       'twittbot.net', 'Twittimer', 'United Addict Es',\n       'Twitter Media Studio', 'TweetDeck', 'IFTTT',\n       'Microsoft Power Platform', 'Dynamic Tweets', 'Planable',\n       'Twitter for iPad', 'ToJapBot', 'Chorus publishing platform',\n       'bold.dk newsfeed', 'MUFC_Telegram', 'ManUtd_PL',\n       '1footballstats-website-int', 'Tweetbot for iΟS',\n       'Manchester United Rooter', 'Twitter for Advertisers', 'Buffer',\n       'LTTV Nigeria', 'Periscope', 'WordPress.com', 'THEDOTBEST',\n       'BestTLDApp', 'LaterMedia', 'BestTLD', 'Eyefootball Tweet Post',\n       'Fenix 2', 'OverCoffee', 'Voetbalkrant.com', 'Loomly',\n       'omniversee', 'ManchesterCityBeatUtd', 'Whose Giggsy?', 'Walfoot',\n       'TM Poster', 'Sprout Social', 'Tweetlogix', 'Echobox',\n       'CleverPush', 'Agorapulse app', 'PremierInjuries',\n       'ManUtdinPidgin', 'PressBox Graphics', 'HubSpot',\n       'Tweetings  for iPhone', 'SocialFlow', 'Fanportt Twitter App',\n       'mufc_onthisday', \"Mo's Bot98\", 'TweetCaster for Android',\n       'City Numbers', 'Paper.li', 'YTCanadaTrends', 'The Tweeted Times',\n       'Sprinklr', 'Sports Mole Ligue 1', 'Twitter Ads',\n       'Hatena Blog / はてなブログ', 'ryan_b0t', 'Typefully', 'closefeed bot',\n       'RSS Ground', 'Postcron App', 'Voetbalnieuwsbe',\n       'mLabs - Gestão de Redes Sociais', 'Grabyo', 'Wildmoka',\n       'plrewind', 'Hookle App', 'YouKaMed', 'Tweetbot for Mac',\n       'Instagram', 'MichMich75000', 'PlayStation®Network', 'badgerapp9',\n       'ManUtdAreRubbish', 'researcher_2013', 'tweechaPrime',\n       'TheVisualized', 'The Kitman Football Shirts', 'SMMplanner',\n       'SzentimentBot', 'Tweets_Trending', 'data expert', 'TwitPanePlus',\n       'PureLoot Deals', 'WHD.my.id', 'WeatherFairy App',\n       'Flamingo for Android', 'msperfect', 'pubkichu', 'Yiwen Tang',\n       'The Tweeted Times Mobile', 'oysttyer', 'Echofon', 'ThisIsPirend',\n       'Jobssummary v1', 'twitter_trendranking_bot',\n       'Janetter Pro for iPhone', 'UberSocial for Android',\n       'Plume\\xa0for\\xa0Android', 'mclachbot_prod',\n       'com.anywaycount.auto.tweet', 'Twitter Media Studio - LiveCut',\n       'FPLLIVE', 'TweetDeck Web App', 'Twidere for Android',\n       'Twitter Web Client', 'ChotaStream Movies', 'HD Stream 1',\n       'Twitter for clinet', 'Twitter for advertiser', 'Canva', 'Live en',\n       'Live en1', 'Twitter for Muppets', 'Stream L3', 'Restream.io',\n       'Tumblr', 'Soccer Livetips', 'Revive Social App', 'TAG24 App',\n       'CityBetterThanUtd', 'Facelift-Cloud', 'Adobe Express',\n       'SocialPilot.co', 'Acast Podcasts', 'Twitter_Angular_Meteor',\n       'SN Clickbait Bot', 'SoccernewsNL', 'Podbean Podcast', 'Olutmies',\n       'ManCityAreBetter', 'SPOORTS English', 'MalamBacacom',\n       'TopHashtags', 'Twitterrific for iOS', 'TheAthletic',\n       'Crowdfire App', 'ManchesterIsBluee', 'Orlo', 'LinkedIn',\n       'Tweet Hunter Pro', 'RockMUSIC', 'ManUtdLatest.com News',\n       'Fussballdaten App', 'F1Fergie', 'Footnewsbe', 'dailyindia',\n       'Trend Now Indonesia', 'ZA_pbot', 'breaking-news.it', 'FAZ.NET',\n       'whotrendedit', '50trends U.K.', '4k Planet Stream 2',\n       '4k Planet Stream', '4k Planet Stream 4', '4k Planet Stream 3',\n       'Brandwatch', 'eClincher', 'FS-Poster-App', 'No-Mention-Plz',\n       'TrendingEvent', 'Zapier.com', 'Оwly', 'Fenix for iOS',\n       'ec_601_miniproject', 'oldcitybot', 'wakary potter',\n       'tweetspython123', 'Data_Engineering_Twitter_Project', 'Don Balon',\n       'Spreaker', 'YTUKTrends', 'kakaapi', 'OTF auto-tweeter',\n       'My Transfer Value Auto Tweet', 'Datalelang.id', 'Tweet Found',\n       'MahyasEl', 'SupaNeat', 'syllogiTweeter', 'Yuzzit Pro',\n       'Broadcast: Write-Only Twitter', 'Albatross for Twitter', 'Etsy',\n       'TtwTimes Top News', 'usercc', 'Mithhu', 'ManUtdAreBaaad',\n       'Football.AI', 'citytrendsapi', '_ebooksMotherbitch',\n       'Rekomendasi Produk', 'citrusbolt.net', 'Visitory 2', 'soothing',\n       'middleeastbusiness', 'Qualtrics Social Connect', 'JesseTheDog',\n       'Aiir', 'SocialDog for Twitter', 'Tweet Suite', 'Flipboard',\n       'knittwitteranalysis', 'Semrush Social Media Tool',\n       'AlexFergusonIsMiffed', 'WeatherWearBot', 'Emplifi', 'tweetr-fun',\n       'SoCrowd', 'Zoho Social', 'Publer.io', 'zerozero.pt',\n       'twitcle plus', 'Talon Android', 'Echofon  Android', 'FenixApp',\n       'bold.dk newsfeed for Man. City ', 'dlvr.it', 'OneUp App',\n       'ManUre', 'Sendible', 'Surreal Donald Trump 1', 'VDG Sports',\n       'OneClout', 'Bandana Jha', 'Maplecroft Twitter Feed', 'new_bee',\n       'Post Planner Inc.', 'helpro', 'Xbox One Social',\n       'testtesttesttesttesttesttest545',\n       'bold.dk newsfeed for Skandinav', 'ツイタマ for Android',\n       'Autotw_e_e_t', 'bold.dk newsfeed for Roma', 'MillencolinRock',\n       'BestOfDate', 'MCtweetBot_1993', 'Telesport Voetbal App',\n       'Telegraaf televoetbal', 'ManUtdCantWin', 'ManUtdIsSaaad',\n       \"Derek's Twitter is Great\", 'Comicus', 'Apphi',\n       \"Yash's twitter bot\", 'TestTweepyTwitterIntegration',\n       'Sreehari Sreenath', 'Fake bot! I like to skate lol',\n       'hashtagprint', 'Apple-Bot', 'memoma', 'Time and Temp',\n       'Sentiment Analysis by Yash', 'ashvika-codechella', 'Weiyan Shi',\n       'andreaFeed', 'graduate_project', 'mapplecode_app',\n       'Social Media Analysis UV', 'Dauphine Project',\n       \"Twitter's Numbers\", 'ALBA research', 'twitter comments analysis',\n       'MohammedNazzal', 'MyDissertationApp', 'SATYABRATA AICH',\n       'datanote11', 'kafka-storm from yuanmiao', 'Twittingbot!@#',\n       'Crawler-Jyo', 'Twitter Text Capture', 'JoshsAIBot',\n       'sentiment_analysis_PW_CSDPII', 'yahoo_app_name',\n       'erased18052322_eJoggUGvBx', 'Brand name analysis', 'Weike Dai',\n       'likhita971', 'senti_analysis_t_data', 'Many5011 twiter bot',\n       'uda_YOG', 'sentiment analysis by word', 'Aditi_S',\n       'social dynamics studies', 'WSMA_Assignment', 'Word cloud Wupeng',\n       'IR-user-authenticity', 'Tweetbot UCSC', 'Next Book Suggestor',\n       'Versatile Cove', 'Currency Denominator Calculator',\n       'IntroTwitter', 'chonguisTwitBot', 'TwittoMe', 'gettingpolitical',\n       'analysetwitter123', 'Tweet Getter by Vee', 'peppin1',\n       'jessie.JNing', 'Sentiment-nakhjava', 'MilitaryFlightTracker',\n       'memento_mori_bot', 'BahasaShmahasa', 'fasdfsadfsaffasdfg',\n       'my.kevin.sentiment', 'TrendMemo', 'GhanaNewsSummary', 'HD Stream',\n       'Khoros Publishing App', 'Revue', 'Blog2Social APP',\n       'Crypto_Suggestions', 'medea_botv1', 'Conversations research',\n       'StockTwits Web', 'SupraInfo', 'Hypefury', 'TWTD Admin',\n       'Brand Networks Composer', 'nafeezha', 'Dynamic Signal',\n       'GreatCallieApps', 'deeper@webbel', 'FRIDAY-V1',\n       'Horloge_Parlante', 'Bearguin', 'thai devloper',\n       'APISearchTestforMe', 'poembott', \"Ollo's Bot DEV\", 'VitaminBoop',\n       'Kenyans On Reddit', 'ReverbNation', 'Quoth the Pigeon',\n       'ExplorerTwt', '4amit', 'KenyanTraffic', 'Sprinklr Publishing',\n       'WSC Sports', 'bold.dk newsfeed for Arsenal', 'Birdie for Twitter',\n       'EtsyEmail', 'Baca Utas', 'CoSchedule', 'atoply', '50trends',\n       'Foursquare Swarm', 'Streamlabs Twitter', 'IakiPHP',\n       'Octipulse Backup', 'Inspirityou', 'a sparkly butt',\n       \"Jack's GIF camera\", 'Fussballeck - Wordpress - Prod',\n       'NLP Testing Bott', 'Metricool', 'Trending Topics Nederland',\n       'Echofon for Android PRO', 'GrampyFeed', '50trends Australia',\n       'Twitter Bolt', 'Education-wise', 'Market Vulture', 'Shopee_ID',\n       'bold.dk newsfeed for Liverpool', 'PostLo', 'Stocks_highlight',\n       'twitter_analyse_get_on', 'feather free for iOS ', 'Cek Sinyal',\n       '50trends Germany', 'TrendyBot_MX', 'Ripl App', 'HelloWoofy.com',\n       'Tagdef.', 'TW Blue', 'MyTwitter_RuiZhong',\n       'bold.dk newsfeed for Real Madrid', 'scrapy_course_test',\n       'harpy for Twitter', 'UniProjectSocMed', 'TrendingMK',\n       'testdoubleStream', 'Tweets-download', 'FeedHive.io',\n       'The Football Faithful', 'get_tweets_data_fetching', 'OLPlusApp',\n       'Reputation.com-Social', 'Burak.Twitter.Handler', 'badgerapp7',\n       'sentimental#@', 'Anderlecht Online connection DE',\n       'Anderlecht Online connection ES', 'gunners Tweet',\n       'Anderlecht Online connection EN',\n       'bold.dk newsfeed for AtlMadrid', 'Bitly', 'PurpleSpirit',\n       'Anderlecht Online connection NL', 'Beesotted Nextgen',\n       'The Thaiger TH News', 'Janetter Pro for Android',\n       'SportsRooter.com', 'PagalShayari', 'Twitter for  iPhone',\n       'mb sincr', 'bold.dk newsfeed for PSG',\n       'bold.dk newsfeed for Ligue 1', 'Sports Hub Video Man Utd',\n       'Pub Rooms Retweets', 'bold.dk newsfeed for Juventus',\n       'PhillyBot5000', 'GCP_2020', 'Commenty 2', 'PolitiTweet Alerts',\n       '50trends U.S.', 'Nanoputty_dev', 'test_ajf22', 'UnitedReds_',\n       'oncasislot_baby_bot', 'Twitterrific for Mac', 'EyeTestBot',\n       'Twidere X Android', 'Townflex', 'Dash Hudson',\n       'WPwamnwebsitescript', 'hamoooooon', 'Dabr', 'lazada mobile',\n       'erased24866253_SqZ69eOP20', 'Uncanny Automator for WordPress',\n       'TweetShift.com', 'Twitter editor deportes', 'VZ Nieuws', 'EyeEm',\n       'postnews_fr', 'Valurank', 'SkoloTweet', 'Article Tweetbot',\n       'BolaBanget Sports Indonesia', 'bold.dk newsfeed for Barcelona',\n       'TwitterMaintance', 'bold.dk newsfeed for Bayern M.',\n       'Handshake SLDs', 'Social Web Suite app', 'RedditGetter',\n       'TrafficChiefNG', 'Twitter SmartApp', 'DartsnewsWP',\n       'Twitter Brave App', 'Snagit', 'Fan Page App', 'Hotot for Chrome',\n       'bold.dk newsfeed for Tottenham', 'Football Tweeter 20',\n       'bold.dk newsfeed for Chelsea', 'bold.dk newsfeed for Napoli',\n       'bold.dk newsfeed for Serie A', 'Twitter for Advertisers.',\n       'SoccerAmerica', 'Tweetoshi', 'MyTopFollowers Pro',\n       'MyTopFollowers ❤️', '24liveblog', '@LastWordOnSport',\n       ' Xinhua Sports', 'TonnyNormaal', 'Manchester News', 'oispa',\n       'thatsmalayalam videos', 'bold.dk newsfeed for SIF',\n       'bold.dk newsfeed for AAB', 'PostPickr', 'Twitter Brave'],\n      dtype=object)"
     },
     "execution_count": 128,
     "metadata": {},
     "output_type": "execute_result"
    }
   ],
   "source": [
    "df['Source of Tweet'].unique()"
   ],
   "metadata": {
    "collapsed": false,
    "pycharm": {
     "name": "#%%\n"
    }
   }
  },
  {
   "cell_type": "markdown",
   "source": [
    "#### Check Nan Value"
   ],
   "metadata": {
    "collapsed": false,
    "pycharm": {
     "name": "#%% md\n"
    }
   }
  },
  {
   "cell_type": "code",
   "execution_count": 25,
   "outputs": [
    {
     "data": {
      "text/plain": "<AxesSubplot: >"
     },
     "execution_count": 25,
     "metadata": {},
     "output_type": "execute_result"
    },
    {
     "data": {
      "text/plain": "<Figure size 1800x720 with 2 Axes>",
      "image/png": "[encoded data removed]"
     },
     "metadata": {
      "needs_background": "light"
     },
     "output_type": "display_data"
    }
   ],
   "source": [
    "msno.matrix(df)"
   ],
   "metadata": {
    "collapsed": false,
    "pycharm": {
     "name": "#%%\n"
    }
   }
  },
  {
   "cell_type": "markdown",
   "source": [
    "### Visualize some statistics"
   ],
   "metadata": {
    "collapsed": false,
    "pycharm": {
     "name": "#%% md\n"
    }
   }
  },
  {
   "cell_type": "code",
   "execution_count": 46,
   "outputs": [
    {
     "data": {
      "text/plain": "   Language    count\n0        am       24\n1        ar    19634\n2        bg       51\n3        bn       14\n4        ca      987\n5       ckb        1\n6        cs      326\n7        cy      631\n8        da     3531\n9        de     8341\n10       el      430\n11       en  1009829\n12       es    29092\n13       et     1654\n14       eu      328\n15       fa      117\n16       fi     2011\n17       fr    20878\n18       gu        2\n19       hi      530\n20       ht     1246\n21       hu      209\n22       in    26305\n23       is      188\n24       it     2265\n25       iw       38\n26       ja    12712\n27       kn        2\n28       ko      211\n29       lt      132\n30       lv      356\n31       ml      171\n32       mr       12\n33       ne       30\n34       nl     5684\n35       no     2084\n36       or        1\n37       pl     4043\n38       pt     9357\n39      qht     6363\n40      qme    16266\n41      qst        2\n42       ro     1671\n43       ru      149\n44       si        1\n45       sl      324\n46       sr       32\n47       sv     2729\n48       ta       11\n49       te        1\n50       th     9266\n51       tl     4596\n52       tr      748\n53       uk       14\n54      und    17363\n55       ur       34\n56       vi      111\n57       zh       77",
      "text/html": "<div>\n<style scoped>\n    .dataframe tbody tr th:only-of-type {\n        vertical-align: middle;\n    }\n\n    .dataframe tbody tr th {\n        vertical-align: top;\n    }\n\n    .dataframe thead th {\n        text-align: right;\n    }\n</style>\n<table border=\"1\" class=\"dataframe\">\n  <thead>\n    <tr style=\"text-align: right;\">\n      <th></th>\n      <th>Language</th>\n      <th>count</th>\n    </tr>\n  </thead>\n  <tbody>\n    <tr>\n      <th>0</th>\n      <td>am</td>\n      <td>24</td>\n    </tr>\n    <tr>\n      <th>1</th>\n      <td>ar</td>\n      <td>19634</td>\n    </tr>\n    <tr>\n      <th>2</th>\n      <td>bg</td>\n      <td>51</td>\n    </tr>\n    <tr>\n      <th>3</th>\n      <td>bn</td>\n      <td>14</td>\n    </tr>\n    <tr>\n      <th>4</th>\n      <td>ca</td>\n      <td>987</td>\n    </tr>\n    <tr>\n      <th>5</th>\n      <td>ckb</td>\n      <td>1</td>\n    </tr>\n    <tr>\n      <th>6</th>\n      <td>cs</td>\n      <td>326</td>\n    </tr>\n    <tr>\n      <th>7</th>\n      <td>cy</td>\n      <td>631</td>\n    </tr>\n    <tr>\n      <th>8</th>\n      <td>da</td>\n      <td>3531</td>\n    </tr>\n    <tr>\n      <th>9</th>\n      <td>de</td>\n      <td>8341</td>\n    </tr>\n    <tr>\n      <th>10</th>\n      <td>el</td>\n      <td>430</td>\n    </tr>\n    <tr>\n      <th>11</th>\n      <td>en</td>\n      <td>1009829</td>\n    </tr>\n    <tr>\n      <th>12</th>\n      <td>es</td>\n      <td>29092</td>\n    </tr>\n    <tr>\n      <th>13</th>\n      <td>et</td>\n      <td>1654</td>\n    </tr>\n    <tr>\n      <th>14</th>\n      <td>eu</td>\n      <td>328</td>\n    </tr>\n    <tr>\n      <th>15</th>\n      <td>fa</td>\n      <td>117</td>\n    </tr>\n    <tr>\n      <th>16</th>\n      <td>fi</td>\n      <td>2011</td>\n    </tr>\n    <tr>\n      <th>17</th>\n      <td>fr</td>\n      <td>20878</td>\n    </tr>\n    <tr>\n      <th>18</th>\n      <td>gu</td>\n      <td>2</td>\n    </tr>\n    <tr>\n      <th>19</th>\n      <td>hi</td>\n      <td>530</td>\n    </tr>\n    <tr>\n      <th>20</th>\n      <td>ht</td>\n      <td>1246</td>\n    </tr>\n    <tr>\n      <th>21</th>\n      <td>hu</td>\n      <td>209</td>\n    </tr>\n    <tr>\n      <th>22</th>\n      <td>in</td>\n      <td>26305</td>\n    </tr>\n    <tr>\n      <th>23</th>\n      <td>is</td>\n      <td>188</td>\n    </tr>\n    <tr>\n      <th>24</th>\n      <td>it</td>\n      <td>2265</td>\n    </tr>\n    <tr>\n      <th>25</th>\n      <td>iw</td>\n      <td>38</td>\n    </tr>\n    <tr>\n      <th>26</th>\n      <td>ja</td>\n      <td>12712</td>\n    </tr>\n    <tr>\n      <th>27</th>\n      <td>kn</td>\n      <td>2</td>\n    </tr>\n    <tr>\n      <th>28</th>\n      <td>ko</td>\n      <td>211</td>\n    </tr>\n    <tr>\n      <th>29</th>\n      <td>lt</td>\n      <td>132</td>\n    </tr>\n    <tr>\n      <th>30</th>\n      <td>lv</td>\n      <td>356</td>\n    </tr>\n    <tr>\n      <th>31</th>\n      <td>ml</td>\n      <td>171</td>\n    </tr>\n    <tr>\n      <th>32</th>\n      <td>mr</td>\n      <td>12</td>\n    </tr>\n    <tr>\n      <th>33</th>\n      <td>ne</td>\n      <td>30</td>\n    </tr>\n    <tr>\n      <th>34</th>\n      <td>nl</td>\n      <td>5684</td>\n    </tr>\n    <tr>\n      <th>35</th>\n      <td>no</td>\n      <td>2084</td>\n    </tr>\n    <tr>\n      <th>36</th>\n      <td>or</td>\n      <td>1</td>\n    </tr>\n    <tr>\n      <th>37</th>\n      <td>pl</td>\n      <td>4043</td>\n    </tr>\n    <tr>\n      <th>38</th>\n      <td>pt</td>\n      <td>9357</td>\n    </tr>\n    <tr>\n      <th>39</th>\n      <td>qht</td>\n      <td>6363</td>\n    </tr>\n    <tr>\n      <th>40</th>\n      <td>qme</td>\n      <td>16266</td>\n    </tr>\n    <tr>\n      <th>41</th>\n      <td>qst</td>\n      <td>2</td>\n    </tr>\n    <tr>\n      <th>42</th>\n      <td>ro</td>\n      <td>1671</td>\n    </tr>\n    <tr>\n      <th>43</th>\n      <td>ru</td>\n      <td>149</td>\n    </tr>\n    <tr>\n      <th>44</th>\n      <td>si</td>\n      <td>1</td>\n    </tr>\n    <tr>\n      <th>45</th>\n      <td>sl</td>\n      <td>324</td>\n    </tr>\n    <tr>\n      <th>46</th>\n      <td>sr</td>\n      <td>32</td>\n    </tr>\n    <tr>\n      <th>47</th>\n      <td>sv</td>\n      <td>2729</td>\n    </tr>\n    <tr>\n      <th>48</th>\n      <td>ta</td>\n      <td>11</td>\n    </tr>\n    <tr>\n      <th>49</th>\n      <td>te</td>\n      <td>1</td>\n    </tr>\n    <tr>\n      <th>50</th>\n      <td>th</td>\n      <td>9266</td>\n    </tr>\n    <tr>\n      <th>51</th>\n      <td>tl</td>\n      <td>4596</td>\n    </tr>\n    <tr>\n      <th>52</th>\n      <td>tr</td>\n      <td>748</td>\n    </tr>\n    <tr>\n      <th>53</th>\n      <td>uk</td>\n      <td>14</td>\n    </tr>\n    <tr>\n      <th>54</th>\n      <td>und</td>\n      <td>17363</td>\n    </tr>\n    <tr>\n      <th>55</th>\n      <td>ur</td>\n      <td>34</td>\n    </tr>\n    <tr>\n      <th>56</th>\n      <td>vi</td>\n      <td>111</td>\n    </tr>\n    <tr>\n      <th>57</th>\n      <td>zh</td>\n      <td>77</td>\n    </tr>\n  </tbody>\n</table>\n</div>"
     },
     "execution_count": 46,
     "metadata": {},
     "output_type": "execute_result"
    }
   ],
   "source": [
    "# Group by language for having a overview if we need translation\n",
    "df_groupped_language = df.groupby([\"Language\"]).agg(count = ('Language',\"size\")).reset_index()\n",
    "df_groupped_language"
   ],
   "metadata": {
    "collapsed": false,
    "pycharm": {
     "name": "#%%\n"
    }
   }
  },
  {
   "cell_type": "code",
   "execution_count": 47,
   "outputs": [
    {
     "data": {
      "text/plain": "   Language    count\n11       en  1009829\n12       es    29092\n22       in    26305\n17       fr    20878\n1        ar    19634\n54      und    17363\n40      qme    16266\n26       ja    12712\n38       pt     9357\n50       th     9266\n9        de     8341\n39      qht     6363\n34       nl     5684\n51       tl     4596\n37       pl     4043\n8        da     3531\n47       sv     2729\n24       it     2265\n35       no     2084\n16       fi     2011\n42       ro     1671\n13       et     1654\n20       ht     1246\n4        ca      987\n52       tr      748\n7        cy      631\n19       hi      530\n10       el      430\n30       lv      356\n14       eu      328\n6        cs      326\n45       sl      324\n28       ko      211\n21       hu      209\n23       is      188\n31       ml      171\n43       ru      149\n29       lt      132\n15       fa      117\n56       vi      111\n57       zh       77\n2        bg       51\n25       iw       38\n55       ur       34\n46       sr       32\n33       ne       30\n0        am       24\n53       uk       14\n3        bn       14\n32       mr       12\n48       ta       11\n41      qst        2\n18       gu        2\n27       kn        2\n5       ckb        1\n36       or        1\n44       si        1\n49       te        1",
      "text/html": "<div>\n<style scoped>\n    .dataframe tbody tr th:only-of-type {\n        vertical-align: middle;\n    }\n\n    .dataframe tbody tr th {\n        vertical-align: top;\n    }\n\n    .dataframe thead th {\n        text-align: right;\n    }\n</style>\n<table border=\"1\" class=\"dataframe\">\n  <thead>\n    <tr style=\"text-align: right;\">\n      <th></th>\n      <th>Language</th>\n      <th>count</th>\n    </tr>\n  </thead>\n  <tbody>\n    <tr>\n      <th>11</th>\n      <td>en</td>\n      <td>1009829</td>\n    </tr>\n    <tr>\n      <th>12</th>\n      <td>es</td>\n      <td>29092</td>\n    </tr>\n    <tr>\n      <th>22</th>\n      <td>in</td>\n      <td>26305</td>\n    </tr>\n    <tr>\n      <th>17</th>\n      <td>fr</td>\n      <td>20878</td>\n    </tr>\n    <tr>\n      <th>1</th>\n      <td>ar</td>\n      <td>19634</td>\n    </tr>\n    <tr>\n      <th>54</th>\n      <td>und</td>\n      <td>17363</td>\n    </tr>\n    <tr>\n      <th>40</th>\n      <td>qme</td>\n      <td>16266</td>\n    </tr>\n    <tr>\n      <th>26</th>\n      <td>ja</td>\n      <td>12712</td>\n    </tr>\n    <tr>\n      <th>38</th>\n      <td>pt</td>\n      <td>9357</td>\n    </tr>\n    <tr>\n      <th>50</th>\n      <td>th</td>\n      <td>9266</td>\n    </tr>\n    <tr>\n      <th>9</th>\n      <td>de</td>\n      <td>8341</td>\n    </tr>\n    <tr>\n      <th>39</th>\n      <td>qht</td>\n      <td>6363</td>\n    </tr>\n    <tr>\n      <th>34</th>\n      <td>nl</td>\n      <td>5684</td>\n    </tr>\n    <tr>\n      <th>51</th>\n      <td>tl</td>\n      <td>4596</td>\n    </tr>\n    <tr>\n      <th>37</th>\n      <td>pl</td>\n      <td>4043</td>\n    </tr>\n    <tr>\n      <th>8</th>\n      <td>da</td>\n      <td>3531</td>\n    </tr>\n    <tr>\n      <th>47</th>\n      <td>sv</td>\n      <td>2729</td>\n    </tr>\n    <tr>\n      <th>24</th>\n      <td>it</td>\n      <td>2265</td>\n    </tr>\n    <tr>\n      <th>35</th>\n      <td>no</td>\n      <td>2084</td>\n    </tr>\n    <tr>\n      <th>16</th>\n      <td>fi</td>\n      <td>2011</td>\n    </tr>\n    <tr>\n      <th>42</th>\n      <td>ro</td>\n      <td>1671</td>\n    </tr>\n    <tr>\n      <th>13</th>\n      <td>et</td>\n      <td>1654</td>\n    </tr>\n    <tr>\n      <th>20</th>\n      <td>ht</td>\n      <td>1246</td>\n    </tr>\n    <tr>\n      <th>4</th>\n      <td>ca</td>\n      <td>987</td>\n    </tr>\n    <tr>\n      <th>52</th>\n      <td>tr</td>\n      <td>748</td>\n    </tr>\n    <tr>\n      <th>7</th>\n      <td>cy</td>\n      <td>631</td>\n    </tr>\n    <tr>\n      <th>19</th>\n      <td>hi</td>\n      <td>530</td>\n    </tr>\n    <tr>\n      <th>10</th>\n      <td>el</td>\n      <td>430</td>\n    </tr>\n    <tr>\n      <th>30</th>\n      <td>lv</td>\n      <td>356</td>\n    </tr>\n    <tr>\n      <th>14</th>\n      <td>eu</td>\n      <td>328</td>\n    </tr>\n    <tr>\n      <th>6</th>\n      <td>cs</td>\n      <td>326</td>\n    </tr>\n    <tr>\n      <th>45</th>\n      <td>sl</td>\n      <td>324</td>\n    </tr>\n    <tr>\n      <th>28</th>\n      <td>ko</td>\n      <td>211</td>\n    </tr>\n    <tr>\n      <th>21</th>\n      <td>hu</td>\n      <td>209</td>\n    </tr>\n    <tr>\n      <th>23</th>\n      <td>is</td>\n      <td>188</td>\n    </tr>\n    <tr>\n      <th>31</th>\n      <td>ml</td>\n      <td>171</td>\n    </tr>\n    <tr>\n      <th>43</th>\n      <td>ru</td>\n      <td>149</td>\n    </tr>\n    <tr>\n      <th>29</th>\n      <td>lt</td>\n      <td>132</td>\n    </tr>\n    <tr>\n      <th>15</th>\n      <td>fa</td>\n      <td>117</td>\n    </tr>\n    <tr>\n      <th>56</th>\n      <td>vi</td>\n      <td>111</td>\n    </tr>\n    <tr>\n      <th>57</th>\n      <td>zh</td>\n      <td>77</td>\n    </tr>\n    <tr>\n      <th>2</th>\n      <td>bg</td>\n      <td>51</td>\n    </tr>\n    <tr>\n      <th>25</th>\n      <td>iw</td>\n      <td>38</td>\n    </tr>\n    <tr>\n      <th>55</th>\n      <td>ur</td>\n      <td>34</td>\n    </tr>\n    <tr>\n      <th>46</th>\n      <td>sr</td>\n      <td>32</td>\n    </tr>\n    <tr>\n      <th>33</th>\n      <td>ne</td>\n      <td>30</td>\n    </tr>\n    <tr>\n      <th>0</th>\n      <td>am</td>\n      <td>24</td>\n    </tr>\n    <tr>\n      <th>53</th>\n      <td>uk</td>\n      <td>14</td>\n    </tr>\n    <tr>\n      <th>3</th>\n      <td>bn</td>\n      <td>14</td>\n    </tr>\n    <tr>\n      <th>32</th>\n      <td>mr</td>\n      <td>12</td>\n    </tr>\n    <tr>\n      <th>48</th>\n      <td>ta</td>\n      <td>11</td>\n    </tr>\n    <tr>\n      <th>41</th>\n      <td>qst</td>\n      <td>2</td>\n    </tr>\n    <tr>\n      <th>18</th>\n      <td>gu</td>\n      <td>2</td>\n    </tr>\n    <tr>\n      <th>27</th>\n      <td>kn</td>\n      <td>2</td>\n    </tr>\n    <tr>\n      <th>5</th>\n      <td>ckb</td>\n      <td>1</td>\n    </tr>\n    <tr>\n      <th>36</th>\n      <td>or</td>\n      <td>1</td>\n    </tr>\n    <tr>\n      <th>44</th>\n      <td>si</td>\n      <td>1</td>\n    </tr>\n    <tr>\n      <th>49</th>\n      <td>te</td>\n      <td>1</td>\n    </tr>\n  </tbody>\n</table>\n</div>"
     },
     "execution_count": 47,
     "metadata": {},
     "output_type": "execute_result"
    }
   ],
   "source": [
    "df_groupped_language=df_groupped_language.sort_values(by=['count'], ascending=False)\n",
    "df_groupped_language"
   ],
   "metadata": {
    "collapsed": false,
    "pycharm": {
     "name": "#%%\n"
    }
   }
  },
  {
   "cell_type": "code",
   "execution_count": 58,
   "outputs": [
    {
     "data": {
      "application/vnd.plotly.v1+json": {
       "data": [
        {
         "alignmentgroup": "True",
         "bingroup": "x",
         "histfunc": "sum",
         "hovertemplate": "Language=%{x}<br>sum of count=%{y}<extra></extra>",
         "legendgroup": "",
         "marker": {
          "color": "#636efa",
          "pattern": {
           "shape": ""
          }
         },
         "name": "",
         "offsetgroup": "",
         "orientation": "v",
         "showlegend": false,
         "x": [
          "en",
          "es",
          "in",
          "fr",
          "ar",
          "und",
          "qme",
          "ja",
          "pt",
          "th",
          "de",
          "qht",
          "nl",
          "tl",
          "pl",
          "da",
          "sv",
          "it",
          "no",
          "fi",
          "ro",
          "et",
          "ht",
          "ca",
          "tr",
          "cy",
          "hi",
          "el",
          "lv",
          "eu",
          "cs",
          "sl",
          "ko",
          "hu",
          "is",
          "ml",
          "ru",
          "lt",
          "fa",
          "vi",
          "zh",
          "bg",
          "iw",
          "ur",
          "sr",
          "ne",
          "am",
          "uk",
          "bn",
          "mr",
          "ta",
          "qst",
          "gu",
          "kn",
          "ckb",
          "or",
          "si",
          "te"
         ],
         "xaxis": "x",
         "y": [
          1009829,
          29092,
          26305,
          20878,
          19634,
          17363,
          16266,
          12712,
          9357,
          9266,
          8341,
          6363,
          5684,
          4596,
          4043,
          3531,
          2729,
          2265,
          2084,
          2011,
          1671,
          1654,
          1246,
          987,
          748,
          631,
          530,
          430,
          356,
          328,
          326,
          324,
          211,
          209,
          188,
          171,
          149,
          132,
          117,
          111,
          77,
          51,
          38,
          34,
          32,
          30,
          24,
          14,
          14,
          12,
          11,
          2,
          2,
          2,
          1,
          1,
          1,
          1
         ],
         "yaxis": "y",
         "type": "histogram"
        }
       ],
       "layout": {
        "template": {
         "data": {
          "histogram2dcontour": [
           {
            "type": "histogram2dcontour",
            "colorbar": {
             "outlinewidth": 0,
             "ticks": ""
            },
            "colorscale": [
             [
              0.0,
              "#0d0887"
             ],
             [
              0.1111111111111111,
              "#46039f"
             ],
             [
              0.2222222222222222,
              "#7201a8"
             ],
             [
              0.3333333333333333,
              "#9c179e"
             ],
             [
              0.4444444444444444,
              "#bd3786"
             ],
             [
              0.5555555555555556,
              "#d8576b"
             ],
             [
              0.6666666666666666,
              "#ed7953"
             ],
             [
              0.7777777777777778,
              "#fb9f3a"
             ],
             [
              0.8888888888888888,
              "#fdca26"
             ],
             [
              1.0,
              "#f0f921"
             ]
            ]
           }
          ],
          "choropleth": [
           {
            "type": "choropleth",
            "colorbar": {
             "outlinewidth": 0,
             "ticks": ""
            }
           }
          ],
          "histogram2d": [
           {
            "type": "histogram2d",
            "colorbar": {
             "outlinewidth": 0,
             "ticks": ""
            },
            "colorscale": [
             [
              0.0,
              "#0d0887"
             ],
             [
              0.1111111111111111,
              "#46039f"
             ],
             [
              0.2222222222222222,
              "#7201a8"
             ],
             [
              0.3333333333333333,
              "#9c179e"
             ],
             [
              0.4444444444444444,
              "#bd3786"
             ],
             [
              0.5555555555555556,
              "#d8576b"
             ],
             [
              0.6666666666666666,
              "#ed7953"
             ],
             [
              0.7777777777777778,
              "#fb9f3a"
             ],
             [
              0.8888888888888888,
              "#fdca26"
             ],
             [
              1.0,
              "#f0f921"
             ]
            ]
           }
          ],
          "heatmap": [
           {
            "type": "heatmap",
            "colorbar": {
             "outlinewidth": 0,
             "ticks": ""
            },
            "colorscale": [
             [
              0.0,
              "#0d0887"
             ],
             [
              0.1111111111111111,
              "#46039f"
             ],
             [
              0.2222222222222222,
              "#7201a8"
             ],
             [
              0.3333333333333333,
              "#9c179e"
             ],
             [
              0.4444444444444444,
              "#bd3786"
             ],
             [
              0.5555555555555556,
              "#d8576b"
             ],
             [
              0.6666666666666666,
              "#ed7953"
             ],
             [
              0.7777777777777778,
              "#fb9f3a"
             ],
             [
              0.8888888888888888,
              "#fdca26"
             ],
             [
              1.0,
              "#f0f921"
             ]
            ]
           }
          ],
          "heatmapgl": [
           {
            "type": "heatmapgl",
            "colorbar": {
             "outlinewidth": 0,
             "ticks": ""
            },
            "colorscale": [
             [
              0.0,
              "#0d0887"
             ],
             [
              0.1111111111111111,
              "#46039f"
             ],
             [
              0.2222222222222222,
              "#7201a8"
             ],
             [
              0.3333333333333333,
              "#9c179e"
             ],
             [
              0.4444444444444444,
              "#bd3786"
             ],
             [
              0.5555555555555556,
              "#d8576b"
             ],
             [
              0.6666666666666666,
              "#ed7953"
             ],
             [
              0.7777777777777778,
              "#fb9f3a"
             ],
             [
              0.8888888888888888,
              "#fdca26"
             ],
             [
              1.0,
              "#f0f921"
             ]
            ]
           }
          ],
          "contourcarpet": [
           {
            "type": "contourcarpet",
            "colorbar": {
             "outlinewidth": 0,
             "ticks": ""
            }
           }
          ],
          "contour": [
           {
            "type": "contour",
            "colorbar": {
             "outlinewidth": 0,
             "ticks": ""
            },
            "colorscale": [
             [
              0.0,
              "#0d0887"
             ],
             [
              0.1111111111111111,
              "#46039f"
             ],
             [
              0.2222222222222222,
              "#7201a8"
             ],
             [
              0.3333333333333333,
              "#9c179e"
             ],
             [
              0.4444444444444444,
              "#bd3786"
             ],
             [
              0.5555555555555556,
              "#d8576b"
             ],
             [
              0.6666666666666666,
              "#ed7953"
             ],
             [
              0.7777777777777778,
              "#fb9f3a"
             ],
             [
              0.8888888888888888,
              "#fdca26"
             ],
             [
              1.0,
              "#f0f921"
             ]
            ]
           }
          ],
          "surface": [
           {
            "type": "surface",
            "colorbar": {
             "outlinewidth": 0,
             "ticks": ""
            },
            "colorscale": [
             [
              0.0,
              "#0d0887"
             ],
             [
              0.1111111111111111,
              "#46039f"
             ],
             [
              0.2222222222222222,
              "#7201a8"
             ],
             [
              0.3333333333333333,
              "#9c179e"
             ],
             [
              0.4444444444444444,
              "#bd3786"
             ],
             [
              0.5555555555555556,
              "#d8576b"
             ],
             [
              0.6666666666666666,
              "#ed7953"
             ],
             [
              0.7777777777777778,
              "#fb9f3a"
             ],
             [
              0.8888888888888888,
              "#fdca26"
             ],
             [
              1.0,
              "#f0f921"
             ]
            ]
           }
          ],
          "mesh3d": [
           {
            "type": "mesh3d",
            "colorbar": {
             "outlinewidth": 0,
             "ticks": ""
            }
           }
          ],
          "scatter": [
           {
            "fillpattern": {
             "fillmode": "overlay",
             "size": 10,
             "solidity": 0.2
            },
            "type": "scatter"
           }
          ],
          "parcoords": [
           {
            "type": "parcoords",
            "line": {
             "colorbar": {
              "outlinewidth": 0,
              "ticks": ""
             }
            }
           }
          ],
          "scatterpolargl": [
           {
            "type": "scatterpolargl",
            "marker": {
             "colorbar": {
              "outlinewidth": 0,
              "ticks": ""
             }
            }
           }
          ],
          "bar": [
           {
            "error_x": {
             "color": "#2a3f5f"
            },
            "error_y": {
             "color": "#2a3f5f"
            },
            "marker": {
             "line": {
              "color": "#E5ECF6",
              "width": 0.5
             },
             "pattern": {
              "fillmode": "overlay",
              "size": 10,
              "solidity": 0.2
             }
            },
            "type": "bar"
           }
          ],
          "scattergeo": [
           {
            "type": "scattergeo",
            "marker": {
             "colorbar": {
              "outlinewidth": 0,
              "ticks": ""
             }
            }
           }
          ],
          "scatterpolar": [
           {
            "type": "scatterpolar",
            "marker": {
             "colorbar": {
              "outlinewidth": 0,
              "ticks": ""
             }
            }
           }
          ],
          "histogram": [
           {
            "marker": {
             "pattern": {
              "fillmode": "overlay",
              "size": 10,
              "solidity": 0.2
             }
            },
            "type": "histogram"
           }
          ],
          "scattergl": [
           {
            "type": "scattergl",
            "marker": {
             "colorbar": {
              "outlinewidth": 0,
              "ticks": ""
             }
            }
           }
          ],
          "scatter3d": [
           {
            "type": "scatter3d",
            "line": {
             "colorbar": {
              "outlinewidth": 0,
              "ticks": ""
             }
            },
            "marker": {
             "colorbar": {
              "outlinewidth": 0,
              "ticks": ""
             }
            }
           }
          ],
          "scattermapbox": [
           {
            "type": "scattermapbox",
            "marker": {
             "colorbar": {
              "outlinewidth": 0,
              "ticks": ""
             }
            }
           }
          ],
          "scatterternary": [
           {
            "type": "scatterternary",
            "marker": {
             "colorbar": {
              "outlinewidth": 0,
              "ticks": ""
             }
            }
           }
          ],
          "scattercarpet": [
           {
            "type": "scattercarpet",
            "marker": {
             "colorbar": {
              "outlinewidth": 0,
              "ticks": ""
             }
            }
           }
          ],
          "carpet": [
           {
            "aaxis": {
             "endlinecolor": "#2a3f5f",
             "gridcolor": "white",
             "linecolor": "white",
             "minorgridcolor": "white",
             "startlinecolor": "#2a3f5f"
            },
            "baxis": {
             "endlinecolor": "#2a3f5f",
             "gridcolor": "white",
             "linecolor": "white",
             "minorgridcolor": "white",
             "startlinecolor": "#2a3f5f"
            },
            "type": "carpet"
           }
          ],
          "table": [
           {
            "cells": {
             "fill": {
              "color": "#EBF0F8"
             },
             "line": {
              "color": "white"
             }
            },
            "header": {
             "fill": {
              "color": "#C8D4E3"
             },
             "line": {
              "color": "white"
             }
            },
            "type": "table"
           }
          ],
          "barpolar": [
           {
            "marker": {
             "line": {
              "color": "#E5ECF6",
              "width": 0.5
             },
             "pattern": {
              "fillmode": "overlay",
              "size": 10,
              "solidity": 0.2
             }
            },
            "type": "barpolar"
           }
          ],
          "pie": [
           {
            "automargin": true,
            "type": "pie"
           }
          ]
         },
         "layout": {
          "autotypenumbers": "strict",
          "colorway": [
           "#636efa",
           "#EF553B",
           "#00cc96",
           "#ab63fa",
           "#FFA15A",
           "#19d3f3",
           "#FF6692",
           "#B6E880",
           "#FF97FF",
           "#FECB52"
          ],
          "font": {
           "color": "#2a3f5f"
          },
          "hovermode": "closest",
          "hoverlabel": {
           "align": "left"
          },
          "paper_bgcolor": "white",
          "plot_bgcolor": "#E5ECF6",
          "polar": {
           "bgcolor": "#E5ECF6",
           "angularaxis": {
            "gridcolor": "white",
            "linecolor": "white",
            "ticks": ""
           },
           "radialaxis": {
            "gridcolor": "white",
            "linecolor": "white",
            "ticks": ""
           }
          },
          "ternary": {
           "bgcolor": "#E5ECF6",
           "aaxis": {
            "gridcolor": "white",
            "linecolor": "white",
            "ticks": ""
           },
           "baxis": {
            "gridcolor": "white",
            "linecolor": "white",
            "ticks": ""
           },
           "caxis": {
            "gridcolor": "white",
            "linecolor": "white",
            "ticks": ""
           }
          },
          "coloraxis": {
           "colorbar": {
            "outlinewidth": 0,
            "ticks": ""
           }
          },
          "colorscale": {
           "sequential": [
            [
             0.0,
             "#0d0887"
            ],
            [
             0.1111111111111111,
             "#46039f"
            ],
            [
             0.2222222222222222,
             "#7201a8"
            ],
            [
             0.3333333333333333,
             "#9c179e"
            ],
            [
             0.4444444444444444,
             "#bd3786"
            ],
            [
             0.5555555555555556,
             "#d8576b"
            ],
            [
             0.6666666666666666,
             "#ed7953"
            ],
            [
             0.7777777777777778,
             "#fb9f3a"
            ],
            [
             0.8888888888888888,
             "#fdca26"
            ],
            [
             1.0,
             "#f0f921"
            ]
           ],
           "sequentialminus": [
            [
             0.0,
             "#0d0887"
            ],
            [
             0.1111111111111111,
             "#46039f"
            ],
            [
             0.2222222222222222,
             "#7201a8"
            ],
            [
             0.3333333333333333,
             "#9c179e"
            ],
            [
             0.4444444444444444,
             "#bd3786"
            ],
            [
             0.5555555555555556,
             "#d8576b"
            ],
            [
             0.6666666666666666,
             "#ed7953"
            ],
            [
             0.7777777777777778,
             "#fb9f3a"
            ],
            [
             0.8888888888888888,
             "#fdca26"
            ],
            [
             1.0,
             "#f0f921"
            ]
           ],
           "diverging": [
            [
             0,
             "#8e0152"
            ],
            [
             0.1,
             "#c51b7d"
            ],
            [
             0.2,
             "#de77ae"
            ],
            [
             0.3,
             "#f1b6da"
            ],
            [
             0.4,
             "#fde0ef"
            ],
            [
             0.5,
             "#f7f7f7"
            ],
            [
             0.6,
             "#e6f5d0"
            ],
            [
             0.7,
             "#b8e186"
            ],
            [
             0.8,
             "#7fbc41"
            ],
            [
             0.9,
             "#4d9221"
            ],
            [
             1,
             "#276419"
            ]
           ]
          },
          "xaxis": {
           "gridcolor": "white",
           "linecolor": "white",
           "ticks": "",
           "title": {
            "standoff": 15
           },
           "zerolinecolor": "white",
           "automargin": true,
           "zerolinewidth": 2
          },
          "yaxis": {
           "gridcolor": "white",
           "linecolor": "white",
           "ticks": "",
           "title": {
            "standoff": 15
           },
           "zerolinecolor": "white",
           "automargin": true,
           "zerolinewidth": 2
          },
          "scene": {
           "xaxis": {
            "backgroundcolor": "#E5ECF6",
            "gridcolor": "white",
            "linecolor": "white",
            "showbackground": true,
            "ticks": "",
            "zerolinecolor": "white",
            "gridwidth": 2
           },
           "yaxis": {
            "backgroundcolor": "#E5ECF6",
            "gridcolor": "white",
            "linecolor": "white",
            "showbackground": true,
            "ticks": "",
            "zerolinecolor": "white",
            "gridwidth": 2
           },
           "zaxis": {
            "backgroundcolor": "#E5ECF6",
            "gridcolor": "white",
            "linecolor": "white",
            "showbackground": true,
            "ticks": "",
            "zerolinecolor": "white",
            "gridwidth": 2
           }
          },
          "shapedefaults": {
           "line": {
            "color": "#2a3f5f"
           }
          },
          "annotationdefaults": {
           "arrowcolor": "#2a3f5f",
           "arrowhead": 0,
           "arrowwidth": 1
          },
          "geo": {
           "bgcolor": "white",
           "landcolor": "#E5ECF6",
           "subunitcolor": "white",
           "showland": true,
           "showlakes": true,
           "lakecolor": "white"
          },
          "title": {
           "x": 0.05
          },
          "mapbox": {
           "style": "light"
          }
         }
        },
        "xaxis": {
         "anchor": "y",
         "domain": [
          0.0,
          1.0
         ],
         "title": {
          "text": "Language"
         }
        },
        "yaxis": {
         "anchor": "x",
         "domain": [
          0.0,
          1.0
         ],
         "title": {
          "text": "sum of count"
         }
        },
        "legend": {
         "tracegroupgap": 0
        },
        "title": {
         "text": "Most used language for the posts"
        },
        "barmode": "relative"
       },
       "config": {
        "plotlyServerURL": "https://plot.ly"
       }
      },
      "text/html": "<div>                            <div id=\"fd645936-99d0-4608-9c78-2f1eaf4b8075\" class=\"plotly-graph-div\" style=\"height:525px; width:100%;\"></div>            <script type=\"text/javascript\">                require([\"plotly\"], function(Plotly) {                    window.PLOTLYENV=window.PLOTLYENV || {};                                    if (document.getElementById(\"fd645936-99d0-4608-9c78-2f1eaf4b8075\")) {                    Plotly.newPlot(                        \"fd645936-99d0-4608-9c78-2f1eaf4b8075\",                        [{\"alignmentgroup\":\"True\",\"bingroup\":\"x\",\"histfunc\":\"sum\",\"hovertemplate\":\"Language=%{x}<br>sum of count=%{y}<extra></extra>\",\"legendgroup\":\"\",\"marker\":{\"color\":\"#636efa\",\"pattern\":{\"shape\":\"\"}},\"name\":\"\",\"offsetgroup\":\"\",\"orientation\":\"v\",\"showlegend\":false,\"x\":[\"en\",\"es\",\"in\",\"fr\",\"ar\",\"und\",\"qme\",\"ja\",\"pt\",\"th\",\"de\",\"qht\",\"nl\",\"tl\",\"pl\",\"da\",\"sv\",\"it\",\"no\",\"fi\",\"ro\",\"et\",\"ht\",\"ca\",\"tr\",\"cy\",\"hi\",\"el\",\"lv\",\"eu\",\"cs\",\"sl\",\"ko\",\"hu\",\"is\",\"ml\",\"ru\",\"lt\",\"fa\",\"vi\",\"zh\",\"bg\",\"iw\",\"ur\",\"sr\",\"ne\",\"am\",\"uk\",\"bn\",\"mr\",\"ta\",\"qst\",\"gu\",\"kn\",\"ckb\",\"or\",\"si\",\"te\"],\"xaxis\":\"x\",\"y\":[1009829,29092,26305,20878,19634,17363,16266,12712,9357,9266,8341,6363,5684,4596,4043,3531,2729,2265,2084,2011,1671,1654,1246,987,748,631,530,430,356,328,326,324,211,209,188,171,149,132,117,111,77,51,38,34,32,30,24,14,14,12,11,2,2,2,1,1,1,1],\"yaxis\":\"y\",\"type\":\"histogram\"}],                        {\"template\":{\"data\":{\"histogram2dcontour\":[{\"type\":\"histogram2dcontour\",\"colorbar\":{\"outlinewidth\":0,\"ticks\":\"\"},\"colorscale\":[[0.0,\"#0d0887\"],[0.1111111111111111,\"#46039f\"],[0.2222222222222222,\"#7201a8\"],[0.3333333333333333,\"#9c179e\"],[0.4444444444444444,\"#bd3786\"],[0.5555555555555556,\"#d8576b\"],[0.6666666666666666,\"#ed7953\"],[0.7777777777777778,\"#fb9f3a\"],[0.8888888888888888,\"#fdca26\"],[1.0,\"#f0f921\"]]}],\"choropleth\":[{\"type\":\"choropleth\",\"colorbar\":{\"outlinewidth\":0,\"ticks\":\"\"}}],\"histogram2d\":[{\"type\":\"histogram2d\",\"colorbar\":{\"outlinewidth\":0,\"ticks\":\"\"},\"colorscale\":[[0.0,\"#0d0887\"],[0.1111111111111111,\"#46039f\"],[0.2222222222222222,\"#7201a8\"],[0.3333333333333333,\"#9c179e\"],[0.4444444444444444,\"#bd3786\"],[0.5555555555555556,\"#d8576b\"],[0.6666666666666666,\"#ed7953\"],[0.7777777777777778,\"#fb9f3a\"],[0.8888888888888888,\"#fdca26\"],[1.0,\"#f0f921\"]]}],\"heatmap\":[{\"type\":\"heatmap\",\"colorbar\":{\"outlinewidth\":0,\"ticks\":\"\"},\"colorscale\":[[0.0,\"#0d0887\"],[0.1111111111111111,\"#46039f\"],[0.2222222222222222,\"#7201a8\"],[0.3333333333333333,\"#9c179e\"],[0.4444444444444444,\"#bd3786\"],[0.5555555555555556,\"#d8576b\"],[0.6666666666666666,\"#ed7953\"],[0.7777777777777778,\"#fb9f3a\"],[0.8888888888888888,\"#fdca26\"],[1.0,\"#f0f921\"]]}],\"heatmapgl\":[{\"type\":\"heatmapgl\",\"colorbar\":{\"outlinewidth\":0,\"ticks\":\"\"},\"colorscale\":[[0.0,\"#0d0887\"],[0.1111111111111111,\"#46039f\"],[0.2222222222222222,\"#7201a8\"],[0.3333333333333333,\"#9c179e\"],[0.4444444444444444,\"#bd3786\"],[0.5555555555555556,\"#d8576b\"],[0.6666666666666666,\"#ed7953\"],[0.7777777777777778,\"#fb9f3a\"],[0.8888888888888888,\"#fdca26\"],[1.0,\"#f0f921\"]]}],\"contourcarpet\":[{\"type\":\"contourcarpet\",\"colorbar\":{\"outlinewidth\":0,\"ticks\":\"\"}}],\"contour\":[{\"type\":\"contour\",\"colorbar\":{\"outlinewidth\":0,\"ticks\":\"\"},\"colorscale\":[[0.0,\"#0d0887\"],[0.1111111111111111,\"#46039f\"],[0.2222222222222222,\"#7201a8\"],[0.3333333333333333,\"#9c179e\"],[0.4444444444444444,\"#bd3786\"],[0.5555555555555556,\"#d8576b\"],[0.6666666666666666,\"#ed7953\"],[0.7777777777777778,\"#fb9f3a\"],[0.8888888888888888,\"#fdca26\"],[1.0,\"#f0f921\"]]}],\"surface\":[{\"type\":\"surface\",\"colorbar\":{\"outlinewidth\":0,\"ticks\":\"\"},\"colorscale\":[[0.0,\"#0d0887\"],[0.1111111111111111,\"#46039f\"],[0.2222222222222222,\"#7201a8\"],[0.3333333333333333,\"#9c179e\"],[0.4444444444444444,\"#bd3786\"],[0.5555555555555556,\"#d8576b\"],[0.6666666666666666,\"#ed7953\"],[0.7777777777777778,\"#fb9f3a\"],[0.8888888888888888,\"#fdca26\"],[1.0,\"#f0f921\"]]}],\"mesh3d\":[{\"type\":\"mesh3d\",\"colorbar\":{\"outlinewidth\":0,\"ticks\":\"\"}}],\"scatter\":[{\"fillpattern\":{\"fillmode\":\"overlay\",\"size\":10,\"solidity\":0.2},\"type\":\"scatter\"}],\"parcoords\":[{\"type\":\"parcoords\",\"line\":{\"colorbar\":{\"outlinewidth\":0,\"ticks\":\"\"}}}],\"scatterpolargl\":[{\"type\":\"scatterpolargl\",\"marker\":{\"colorbar\":{\"outlinewidth\":0,\"ticks\":\"\"}}}],\"bar\":[{\"error_x\":{\"color\":\"#2a3f5f\"},\"error_y\":{\"color\":\"#2a3f5f\"},\"marker\":{\"line\":{\"color\":\"#E5ECF6\",\"width\":0.5},\"pattern\":{\"fillmode\":\"overlay\",\"size\":10,\"solidity\":0.2}},\"type\":\"bar\"}],\"scattergeo\":[{\"type\":\"scattergeo\",\"marker\":{\"colorbar\":{\"outlinewidth\":0,\"ticks\":\"\"}}}],\"scatterpolar\":[{\"type\":\"scatterpolar\",\"marker\":{\"colorbar\":{\"outlinewidth\":0,\"ticks\":\"\"}}}],\"histogram\":[{\"marker\":{\"pattern\":{\"fillmode\":\"overlay\",\"size\":10,\"solidity\":0.2}},\"type\":\"histogram\"}],\"scattergl\":[{\"type\":\"scattergl\",\"marker\":{\"colorbar\":{\"outlinewidth\":0,\"ticks\":\"\"}}}],\"scatter3d\":[{\"type\":\"scatter3d\",\"line\":{\"colorbar\":{\"outlinewidth\":0,\"ticks\":\"\"}},\"marker\":{\"colorbar\":{\"outlinewidth\":0,\"ticks\":\"\"}}}],\"scattermapbox\":[{\"type\":\"scattermapbox\",\"marker\":{\"colorbar\":{\"outlinewidth\":0,\"ticks\":\"\"}}}],\"scatterternary\":[{\"type\":\"scatterternary\",\"marker\":{\"colorbar\":{\"outlinewidth\":0,\"ticks\":\"\"}}}],\"scattercarpet\":[{\"type\":\"scattercarpet\",\"marker\":{\"colorbar\":{\"outlinewidth\":0,\"ticks\":\"\"}}}],\"carpet\":[{\"aaxis\":{\"endlinecolor\":\"#2a3f5f\",\"gridcolor\":\"white\",\"linecolor\":\"white\",\"minorgridcolor\":\"white\",\"startlinecolor\":\"#2a3f5f\"},\"baxis\":{\"endlinecolor\":\"#2a3f5f\",\"gridcolor\":\"white\",\"linecolor\":\"white\",\"minorgridcolor\":\"white\",\"startlinecolor\":\"#2a3f5f\"},\"type\":\"carpet\"}],\"table\":[{\"cells\":{\"fill\":{\"color\":\"#EBF0F8\"},\"line\":{\"color\":\"white\"}},\"header\":{\"fill\":{\"color\":\"#C8D4E3\"},\"line\":{\"color\":\"white\"}},\"type\":\"table\"}],\"barpolar\":[{\"marker\":{\"line\":{\"color\":\"#E5ECF6\",\"width\":0.5},\"pattern\":{\"fillmode\":\"overlay\",\"size\":10,\"solidity\":0.2}},\"type\":\"barpolar\"}],\"pie\":[{\"automargin\":true,\"type\":\"pie\"}]},\"layout\":{\"autotypenumbers\":\"strict\",\"colorway\":[\"#636efa\",\"#EF553B\",\"#00cc96\",\"#ab63fa\",\"#FFA15A\",\"#19d3f3\",\"#FF6692\",\"#B6E880\",\"#FF97FF\",\"#FECB52\"],\"font\":{\"color\":\"#2a3f5f\"},\"hovermode\":\"closest\",\"hoverlabel\":{\"align\":\"left\"},\"paper_bgcolor\":\"white\",\"plot_bgcolor\":\"#E5ECF6\",\"polar\":{\"bgcolor\":\"#E5ECF6\",\"angularaxis\":{\"gridcolor\":\"white\",\"linecolor\":\"white\",\"ticks\":\"\"},\"radialaxis\":{\"gridcolor\":\"white\",\"linecolor\":\"white\",\"ticks\":\"\"}},\"ternary\":{\"bgcolor\":\"#E5ECF6\",\"aaxis\":{\"gridcolor\":\"white\",\"linecolor\":\"white\",\"ticks\":\"\"},\"baxis\":{\"gridcolor\":\"white\",\"linecolor\":\"white\",\"ticks\":\"\"},\"caxis\":{\"gridcolor\":\"white\",\"linecolor\":\"white\",\"ticks\":\"\"}},\"coloraxis\":{\"colorbar\":{\"outlinewidth\":0,\"ticks\":\"\"}},\"colorscale\":{\"sequential\":[[0.0,\"#0d0887\"],[0.1111111111111111,\"#46039f\"],[0.2222222222222222,\"#7201a8\"],[0.3333333333333333,\"#9c179e\"],[0.4444444444444444,\"#bd3786\"],[0.5555555555555556,\"#d8576b\"],[0.6666666666666666,\"#ed7953\"],[0.7777777777777778,\"#fb9f3a\"],[0.8888888888888888,\"#fdca26\"],[1.0,\"#f0f921\"]],\"sequentialminus\":[[0.0,\"#0d0887\"],[0.1111111111111111,\"#46039f\"],[0.2222222222222222,\"#7201a8\"],[0.3333333333333333,\"#9c179e\"],[0.4444444444444444,\"#bd3786\"],[0.5555555555555556,\"#d8576b\"],[0.6666666666666666,\"#ed7953\"],[0.7777777777777778,\"#fb9f3a\"],[0.8888888888888888,\"#fdca26\"],[1.0,\"#f0f921\"]],\"diverging\":[[0,\"#8e0152\"],[0.1,\"#c51b7d\"],[0.2,\"#de77ae\"],[0.3,\"#f1b6da\"],[0.4,\"#fde0ef\"],[0.5,\"#f7f7f7\"],[0.6,\"#e6f5d0\"],[0.7,\"#b8e186\"],[0.8,\"#7fbc41\"],[0.9,\"#4d9221\"],[1,\"#276419\"]]},\"xaxis\":{\"gridcolor\":\"white\",\"linecolor\":\"white\",\"ticks\":\"\",\"title\":{\"standoff\":15},\"zerolinecolor\":\"white\",\"automargin\":true,\"zerolinewidth\":2},\"yaxis\":{\"gridcolor\":\"white\",\"linecolor\":\"white\",\"ticks\":\"\",\"title\":{\"standoff\":15},\"zerolinecolor\":\"white\",\"automargin\":true,\"zerolinewidth\":2},\"scene\":{\"xaxis\":{\"backgroundcolor\":\"#E5ECF6\",\"gridcolor\":\"white\",\"linecolor\":\"white\",\"showbackground\":true,\"ticks\":\"\",\"zerolinecolor\":\"white\",\"gridwidth\":2},\"yaxis\":{\"backgroundcolor\":\"#E5ECF6\",\"gridcolor\":\"white\",\"linecolor\":\"white\",\"showbackground\":true,\"ticks\":\"\",\"zerolinecolor\":\"white\",\"gridwidth\":2},\"zaxis\":{\"backgroundcolor\":\"#E5ECF6\",\"gridcolor\":\"white\",\"linecolor\":\"white\",\"showbackground\":true,\"ticks\":\"\",\"zerolinecolor\":\"white\",\"gridwidth\":2}},\"shapedefaults\":{\"line\":{\"color\":\"#2a3f5f\"}},\"annotationdefaults\":{\"arrowcolor\":\"#2a3f5f\",\"arrowhead\":0,\"arrowwidth\":1},\"geo\":{\"bgcolor\":\"white\",\"landcolor\":\"#E5ECF6\",\"subunitcolor\":\"white\",\"showland\":true,\"showlakes\":true,\"lakecolor\":\"white\"},\"title\":{\"x\":0.05},\"mapbox\":{\"style\":\"light\"}}},\"xaxis\":{\"anchor\":\"y\",\"domain\":[0.0,1.0],\"title\":{\"text\":\"Language\"}},\"yaxis\":{\"anchor\":\"x\",\"domain\":[0.0,1.0],\"title\":{\"text\":\"sum of count\"}},\"legend\":{\"tracegroupgap\":0},\"title\":{\"text\":\"Most used language for the posts\"},\"barmode\":\"relative\"},                        {\"responsive\": true}                    ).then(function(){\n                            \nvar gd = document.getElementById('fd645936-99d0-4608-9c78-2f1eaf4b8075');\nvar x = new MutationObserver(function (mutations, observer) {{\n        var display = window.getComputedStyle(gd).display;\n        if (!display || display === 'none') {{\n            console.log([gd, 'removed!']);\n            Plotly.purge(gd);\n            observer.disconnect();\n        }}\n}});\n\n// Listen for the removal of the full notebook cells\nvar notebookContainer = gd.closest('#notebook-container');\nif (notebookContainer) {{\n    x.observe(notebookContainer, {childList: true});\n}}\n\n// Listen for the clearing of the current output cell\nvar outputEl = gd.closest('.output');\nif (outputEl) {{\n    x.observe(outputEl, {childList: true});\n}}\n\n                        })                };                });            </script>        </div>"
     },
     "metadata": {},
     "output_type": "display_data"
    }
   ],
   "source": [
    "\n",
    "fig = px.histogram(df_groupped_language, x=\"Language\", y='count',title=\"Most used language for the posts\")\n",
    "fig.show()"
   ],
   "metadata": {
    "collapsed": false,
    "pycharm": {
     "name": "#%%\n"
    }
   }
  },
  {
   "cell_type": "code",
   "execution_count": null,
   "outputs": [],
   "source": [
    "df = df.drop(['Unnamed: 0'],axis = 1)"
   ],
   "metadata": {
    "collapsed": false,
    "pycharm": {
     "is_executing": true,
     "name": "#%%\n"
    }
   }
  },
  {
   "cell_type": "markdown",
   "source": [
    "#### Split Date column for checking tweet frequency by Month in a figure"
   ],
   "metadata": {
    "collapsed": false,
    "pycharm": {
     "name": "#%% md\n"
    }
   }
  },
  {
   "cell_type": "code",
   "execution_count": 69,
   "outputs": [],
   "source": [
    "df.rename(columns = {'Date Created':'Date_Created'}, inplace = True)"
   ],
   "metadata": {
    "collapsed": false,
    "pycharm": {
     "name": "#%%\n"
    }
   }
  },
  {
   "cell_type": "code",
   "execution_count": 70,
   "outputs": [],
   "source": [
    "df['Date_Created'] = pd.to_datetime(df.Date_Created, format='%Y-%m-%d %H:%M:%S')"
   ],
   "metadata": {
    "collapsed": false,
    "pycharm": {
     "name": "#%%\n"
    }
   }
  },
  {
   "cell_type": "code",
   "execution_count": 92,
   "outputs": [],
   "source": [
    "df['Month'] = df['Date_Created'].dt.month\n",
    "df['Year'] = df['Date_Created'].dt.year\n",
    "df['Day'] = df['Date_Created'].dt.day\n",
    "df['Week_Day'] = df['Date_Created'].dt.dayofweek"
   ],
   "metadata": {
    "collapsed": false,
    "pycharm": {
     "name": "#%%\n"
    }
   }
  },
  {
   "cell_type": "code",
   "execution_count": 83,
   "outputs": [
    {
     "data": {
      "text/plain": "   Month  Year  count_of_Posts\n1      5  2022          146807\n2      6  2022          144713\n3      7  2022          238008\n4      8  2022          387340\n5      9  2022          163951\n6     10  2022          139749",
      "text/html": "<div>\n<style scoped>\n    .dataframe tbody tr th:only-of-type {\n        vertical-align: middle;\n    }\n\n    .dataframe tbody tr th {\n        vertical-align: top;\n    }\n\n    .dataframe thead th {\n        text-align: right;\n    }\n</style>\n<table border=\"1\" class=\"dataframe\">\n  <thead>\n    <tr style=\"text-align: right;\">\n      <th></th>\n      <th>Month</th>\n      <th>Year</th>\n      <th>count_of_Posts</th>\n    </tr>\n  </thead>\n  <tbody>\n    <tr>\n      <th>1</th>\n      <td>5</td>\n      <td>2022</td>\n      <td>146807</td>\n    </tr>\n    <tr>\n      <th>2</th>\n      <td>6</td>\n      <td>2022</td>\n      <td>144713</td>\n    </tr>\n    <tr>\n      <th>3</th>\n      <td>7</td>\n      <td>2022</td>\n      <td>238008</td>\n    </tr>\n    <tr>\n      <th>4</th>\n      <td>8</td>\n      <td>2022</td>\n      <td>387340</td>\n    </tr>\n    <tr>\n      <th>5</th>\n      <td>9</td>\n      <td>2022</td>\n      <td>163951</td>\n    </tr>\n    <tr>\n      <th>6</th>\n      <td>10</td>\n      <td>2022</td>\n      <td>139749</td>\n    </tr>\n  </tbody>\n</table>\n</div>"
     },
     "execution_count": 83,
     "metadata": {},
     "output_type": "execute_result"
    }
   ],
   "source": [
    "df_groupped_Month_Year = df.groupby([\"Month\", \"Year\"]).agg(count_of_Posts = (\"Year\", \"size\")).reset_index()\n",
    "df_groupped_Month_Year= df_groupped_Month_Year.drop(0)\n",
    "\n",
    "df_groupped_Month_Year"
   ],
   "metadata": {
    "collapsed": false,
    "pycharm": {
     "name": "#%%\n"
    }
   }
  },
  {
   "cell_type": "code",
   "execution_count": null,
   "outputs": [],
   "source": [
    "\n",
    "fig = px.bar(df_groupped_Month_Year,\n",
    "             x=\"Month\",\n",
    "             y='count_of_Posts',\n",
    "             title=\"Count of posts per month #MUFC\",\n",
    "             labels={\n",
    "                     \"Month\": \"Month 2022\",\n",
    "                     \"count_of_Posts\": \"Count of posts\",\n",
    "                                  },\n",
    "             text_auto=True)\n",
    "fig.show()"
   ],
   "metadata": {
    "collapsed": false,
    "pycharm": {
     "name": "#%%\n"
    }
   }
  },
  {
   "cell_type": "markdown",
   "source": [
    "#### Split Date column for checking tweet frequency by Weekday in a figure"
   ],
   "metadata": {
    "collapsed": false,
    "pycharm": {
     "name": "#%% md\n"
    }
   }
  },
  {
   "cell_type": "code",
   "execution_count": 97,
   "outputs": [],
   "source": [
    "Week_Day = {\n",
    "    0 : 'Monday',\n",
    "    1 : 'Tuesday',\n",
    "    2 : 'Wednesday',\n",
    "    3 : 'Thursday',\n",
    "    4 : 'Friday',\n",
    "    5 : 'Saturday',\n",
    "    6 : 'Sunday',\n",
    "}"
   ],
   "metadata": {
    "collapsed": false,
    "pycharm": {
     "name": "#%%\n"
    }
   }
  },
  {
   "cell_type": "code",
   "execution_count": 107,
   "outputs": [
    {
     "data": {
      "text/plain": "   Week_Day  count_of_Posts Week_Day_New\n0         0          182615       Monday\n1         1          150696      Tuesday\n2         2          151538    Wednesday\n3         3          189687     Thursday\n4         4          146896       Friday\n5         5          176163     Saturday\n6         6          225620       Sunday",
      "text/html": "<div>\n<style scoped>\n    .dataframe tbody tr th:only-of-type {\n        vertical-align: middle;\n    }\n\n    .dataframe tbody tr th {\n        vertical-align: top;\n    }\n\n    .dataframe thead th {\n        text-align: right;\n    }\n</style>\n<table border=\"1\" class=\"dataframe\">\n  <thead>\n    <tr style=\"text-align: right;\">\n      <th></th>\n      <th>Week_Day</th>\n      <th>count_of_Posts</th>\n      <th>Week_Day_New</th>\n    </tr>\n  </thead>\n  <tbody>\n    <tr>\n      <th>0</th>\n      <td>0</td>\n      <td>182615</td>\n      <td>Monday</td>\n    </tr>\n    <tr>\n      <th>1</th>\n      <td>1</td>\n      <td>150696</td>\n      <td>Tuesday</td>\n    </tr>\n    <tr>\n      <th>2</th>\n      <td>2</td>\n      <td>151538</td>\n      <td>Wednesday</td>\n    </tr>\n    <tr>\n      <th>3</th>\n      <td>3</td>\n      <td>189687</td>\n      <td>Thursday</td>\n    </tr>\n    <tr>\n      <th>4</th>\n      <td>4</td>\n      <td>146896</td>\n      <td>Friday</td>\n    </tr>\n    <tr>\n      <th>5</th>\n      <td>5</td>\n      <td>176163</td>\n      <td>Saturday</td>\n    </tr>\n    <tr>\n      <th>6</th>\n      <td>6</td>\n      <td>225620</td>\n      <td>Sunday</td>\n    </tr>\n  </tbody>\n</table>\n</div>"
     },
     "execution_count": 107,
     "metadata": {},
     "output_type": "execute_result"
    }
   ],
   "source": [
    "df_groupped_weekday = df.groupby([\"Week_Day\"]).agg(count_of_Posts = (\"Week_Day\", \"size\")).reset_index()\n",
    "#df_groupped_weekday= df_groupped_Month_Year.drop(0)\n",
    "df_groupped_weekday['Week_Day_New'] = df_groupped_weekday['Week_Day'].map(Week_Day)\n",
    "\n",
    "df_groupped_weekday"
   ],
   "metadata": {
    "collapsed": false,
    "pycharm": {
     "name": "#%%\n"
    }
   }
  },
  {
   "cell_type": "code",
   "execution_count": 111,
   "outputs": [
    {
     "data": {
      "application/vnd.plotly.v1+json": {
       "data": [
        {
         "alignmentgroup": "True",
         "hovertemplate": "Weekday=%{x}<br>Count of posts=%{y}<extra></extra>",
         "legendgroup": "",
         "marker": {
          "color": "#636efa",
          "pattern": {
           "shape": ""
          }
         },
         "name": "",
         "offsetgroup": "",
         "orientation": "v",
         "showlegend": false,
         "textposition": "auto",
         "texttemplate": "%{y}",
         "x": [
          "Monday",
          "Tuesday",
          "Wednesday",
          "Thursday",
          "Friday",
          "Saturday",
          "Sunday"
         ],
         "xaxis": "x",
         "y": [
          182615,
          150696,
          151538,
          189687,
          146896,
          176163,
          225620
         ],
         "yaxis": "y",
         "type": "bar"
        }
       ],
       "layout": {
        "template": {
         "data": {
          "histogram2dcontour": [
           {
            "type": "histogram2dcontour",
            "colorbar": {
             "outlinewidth": 0,
             "ticks": ""
            },
            "colorscale": [
             [
              0.0,
              "#0d0887"
             ],
             [
              0.1111111111111111,
              "#46039f"
             ],
             [
              0.2222222222222222,
              "#7201a8"
             ],
             [
              0.3333333333333333,
              "#9c179e"
             ],
             [
              0.4444444444444444,
              "#bd3786"
             ],
             [
              0.5555555555555556,
              "#d8576b"
             ],
             [
              0.6666666666666666,
              "#ed7953"
             ],
             [
              0.7777777777777778,
              "#fb9f3a"
             ],
             [
              0.8888888888888888,
              "#fdca26"
             ],
             [
              1.0,
              "#f0f921"
             ]
            ]
           }
          ],
          "choropleth": [
           {
            "type": "choropleth",
            "colorbar": {
             "outlinewidth": 0,
             "ticks": ""
            }
           }
          ],
          "histogram2d": [
           {
            "type": "histogram2d",
            "colorbar": {
             "outlinewidth": 0,
             "ticks": ""
            },
            "colorscale": [
             [
              0.0,
              "#0d0887"
             ],
             [
              0.1111111111111111,
              "#46039f"
             ],
             [
              0.2222222222222222,
              "#7201a8"
             ],
             [
              0.3333333333333333,
              "#9c179e"
             ],
             [
              0.4444444444444444,
              "#bd3786"
             ],
             [
              0.5555555555555556,
              "#d8576b"
             ],
             [
              0.6666666666666666,
              "#ed7953"
             ],
             [
              0.7777777777777778,
              "#fb9f3a"
             ],
             [
              0.8888888888888888,
              "#fdca26"
             ],
             [
              1.0,
              "#f0f921"
             ]
            ]
           }
          ],
          "heatmap": [
           {
            "type": "heatmap",
            "colorbar": {
             "outlinewidth": 0,
             "ticks": ""
            },
            "colorscale": [
             [
              0.0,
              "#0d0887"
             ],
             [
              0.1111111111111111,
              "#46039f"
             ],
             [
              0.2222222222222222,
              "#7201a8"
             ],
             [
              0.3333333333333333,
              "#9c179e"
             ],
             [
              0.4444444444444444,
              "#bd3786"
             ],
             [
              0.5555555555555556,
              "#d8576b"
             ],
             [
              0.6666666666666666,
              "#ed7953"
             ],
             [
              0.7777777777777778,
              "#fb9f3a"
             ],
             [
              0.8888888888888888,
              "#fdca26"
             ],
             [
              1.0,
              "#f0f921"
             ]
            ]
           }
          ],
          "heatmapgl": [
           {
            "type": "heatmapgl",
            "colorbar": {
             "outlinewidth": 0,
             "ticks": ""
            },
            "colorscale": [
             [
              0.0,
              "#0d0887"
             ],
             [
              0.1111111111111111,
              "#46039f"
             ],
             [
              0.2222222222222222,
              "#7201a8"
             ],
             [
              0.3333333333333333,
              "#9c179e"
             ],
             [
              0.4444444444444444,
              "#bd3786"
             ],
             [
              0.5555555555555556,
              "#d8576b"
             ],
             [
              0.6666666666666666,
              "#ed7953"
             ],
             [
              0.7777777777777778,
              "#fb9f3a"
             ],
             [
              0.8888888888888888,
              "#fdca26"
             ],
             [
              1.0,
              "#f0f921"
             ]
            ]
           }
          ],
          "contourcarpet": [
           {
            "type": "contourcarpet",
            "colorbar": {
             "outlinewidth": 0,
             "ticks": ""
            }
           }
          ],
          "contour": [
           {
            "type": "contour",
            "colorbar": {
             "outlinewidth": 0,
             "ticks": ""
            },
            "colorscale": [
             [
              0.0,
              "#0d0887"
             ],
             [
              0.1111111111111111,
              "#46039f"
             ],
             [
              0.2222222222222222,
              "#7201a8"
             ],
             [
              0.3333333333333333,
              "#9c179e"
             ],
             [
              0.4444444444444444,
              "#bd3786"
             ],
             [
              0.5555555555555556,
              "#d8576b"
             ],
             [
              0.6666666666666666,
              "#ed7953"
             ],
             [
              0.7777777777777778,
              "#fb9f3a"
             ],
             [
              0.8888888888888888,
              "#fdca26"
             ],
             [
              1.0,
              "#f0f921"
             ]
            ]
           }
          ],
          "surface": [
           {
            "type": "surface",
            "colorbar": {
             "outlinewidth": 0,
             "ticks": ""
            },
            "colorscale": [
             [
              0.0,
              "#0d0887"
             ],
             [
              0.1111111111111111,
              "#46039f"
             ],
             [
              0.2222222222222222,
              "#7201a8"
             ],
             [
              0.3333333333333333,
              "#9c179e"
             ],
             [
              0.4444444444444444,
              "#bd3786"
             ],
             [
              0.5555555555555556,
              "#d8576b"
             ],
             [
              0.6666666666666666,
              "#ed7953"
             ],
             [
              0.7777777777777778,
              "#fb9f3a"
             ],
             [
              0.8888888888888888,
              "#fdca26"
             ],
             [
              1.0,
              "#f0f921"
             ]
            ]
           }
          ],
          "mesh3d": [
           {
            "type": "mesh3d",
            "colorbar": {
             "outlinewidth": 0,
             "ticks": ""
            }
           }
          ],
          "scatter": [
           {
            "fillpattern": {
             "fillmode": "overlay",
             "size": 10,
             "solidity": 0.2
            },
            "type": "scatter"
           }
          ],
          "parcoords": [
           {
            "type": "parcoords",
            "line": {
             "colorbar": {
              "outlinewidth": 0,
              "ticks": ""
             }
            }
           }
          ],
          "scatterpolargl": [
           {
            "type": "scatterpolargl",
            "marker": {
             "colorbar": {
              "outlinewidth": 0,
              "ticks": ""
             }
            }
           }
          ],
          "bar": [
           {
            "error_x": {
             "color": "#2a3f5f"
            },
            "error_y": {
             "color": "#2a3f5f"
            },
            "marker": {
             "line": {
              "color": "#E5ECF6",
              "width": 0.5
             },
             "pattern": {
              "fillmode": "overlay",
              "size": 10,
              "solidity": 0.2
             }
            },
            "type": "bar"
           }
          ],
          "scattergeo": [
           {
            "type": "scattergeo",
            "marker": {
             "colorbar": {
              "outlinewidth": 0,
              "ticks": ""
             }
            }
           }
          ],
          "scatterpolar": [
           {
            "type": "scatterpolar",
            "marker": {
             "colorbar": {
              "outlinewidth": 0,
              "ticks": ""
             }
            }
           }
          ],
          "histogram": [
           {
            "marker": {
             "pattern": {
              "fillmode": "overlay",
              "size": 10,
              "solidity": 0.2
             }
            },
            "type": "histogram"
           }
          ],
          "scattergl": [
           {
            "type": "scattergl",
            "marker": {
             "colorbar": {
              "outlinewidth": 0,
              "ticks": ""
             }
            }
           }
          ],
          "scatter3d": [
           {
            "type": "scatter3d",
            "line": {
             "colorbar": {
              "outlinewidth": 0,
              "ticks": ""
             }
            },
            "marker": {
             "colorbar": {
              "outlinewidth": 0,
              "ticks": ""
             }
            }
           }
          ],
          "scattermapbox": [
           {
            "type": "scattermapbox",
            "marker": {
             "colorbar": {
              "outlinewidth": 0,
              "ticks": ""
             }
            }
           }
          ],
          "scatterternary": [
           {
            "type": "scatterternary",
            "marker": {
             "colorbar": {
              "outlinewidth": 0,
              "ticks": ""
             }
            }
           }
          ],
          "scattercarpet": [
           {
            "type": "scattercarpet",
            "marker": {
             "colorbar": {
              "outlinewidth": 0,
              "ticks": ""
             }
            }
           }
          ],
          "carpet": [
           {
            "aaxis": {
             "endlinecolor": "#2a3f5f",
             "gridcolor": "white",
             "linecolor": "white",
             "minorgridcolor": "white",
             "startlinecolor": "#2a3f5f"
            },
            "baxis": {
             "endlinecolor": "#2a3f5f",
             "gridcolor": "white",
             "linecolor": "white",
             "minorgridcolor": "white",
             "startlinecolor": "#2a3f5f"
            },
            "type": "carpet"
           }
          ],
          "table": [
           {
            "cells": {
             "fill": {
              "color": "#EBF0F8"
             },
             "line": {
              "color": "white"
             }
            },
            "header": {
             "fill": {
              "color": "#C8D4E3"
             },
             "line": {
              "color": "white"
             }
            },
            "type": "table"
           }
          ],
          "barpolar": [
           {
            "marker": {
             "line": {
              "color": "#E5ECF6",
              "width": 0.5
             },
             "pattern": {
              "fillmode": "overlay",
              "size": 10,
              "solidity": 0.2
             }
            },
            "type": "barpolar"
           }
          ],
          "pie": [
           {
            "automargin": true,
            "type": "pie"
           }
          ]
         },
         "layout": {
          "autotypenumbers": "strict",
          "colorway": [
           "#636efa",
           "#EF553B",
           "#00cc96",
           "#ab63fa",
           "#FFA15A",
           "#19d3f3",
           "#FF6692",
           "#B6E880",
           "#FF97FF",
           "#FECB52"
          ],
          "font": {
           "color": "#2a3f5f"
          },
          "hovermode": "closest",
          "hoverlabel": {
           "align": "left"
          },
          "paper_bgcolor": "white",
          "plot_bgcolor": "#E5ECF6",
          "polar": {
           "bgcolor": "#E5ECF6",
           "angularaxis": {
            "gridcolor": "white",
            "linecolor": "white",
            "ticks": ""
           },
           "radialaxis": {
            "gridcolor": "white",
            "linecolor": "white",
            "ticks": ""
           }
          },
          "ternary": {
           "bgcolor": "#E5ECF6",
           "aaxis": {
            "gridcolor": "white",
            "linecolor": "white",
            "ticks": ""
           },
           "baxis": {
            "gridcolor": "white",
            "linecolor": "white",
            "ticks": ""
           },
           "caxis": {
            "gridcolor": "white",
            "linecolor": "white",
            "ticks": ""
           }
          },
          "coloraxis": {
           "colorbar": {
            "outlinewidth": 0,
            "ticks": ""
           }
          },
          "colorscale": {
           "sequential": [
            [
             0.0,
             "#0d0887"
            ],
            [
             0.1111111111111111,
             "#46039f"
            ],
            [
             0.2222222222222222,
             "#7201a8"
            ],
            [
             0.3333333333333333,
             "#9c179e"
            ],
            [
             0.4444444444444444,
             "#bd3786"
            ],
            [
             0.5555555555555556,
             "#d8576b"
            ],
            [
             0.6666666666666666,
             "#ed7953"
            ],
            [
             0.7777777777777778,
             "#fb9f3a"
            ],
            [
             0.8888888888888888,
             "#fdca26"
            ],
            [
             1.0,
             "#f0f921"
            ]
           ],
           "sequentialminus": [
            [
             0.0,
             "#0d0887"
            ],
            [
             0.1111111111111111,
             "#46039f"
            ],
            [
             0.2222222222222222,
             "#7201a8"
            ],
            [
             0.3333333333333333,
             "#9c179e"
            ],
            [
             0.4444444444444444,
             "#bd3786"
            ],
            [
             0.5555555555555556,
             "#d8576b"
            ],
            [
             0.6666666666666666,
             "#ed7953"
            ],
            [
             0.7777777777777778,
             "#fb9f3a"
            ],
            [
             0.8888888888888888,
             "#fdca26"
            ],
            [
             1.0,
             "#f0f921"
            ]
           ],
           "diverging": [
            [
             0,
             "#8e0152"
            ],
            [
             0.1,
             "#c51b7d"
            ],
            [
             0.2,
             "#de77ae"
            ],
            [
             0.3,
             "#f1b6da"
            ],
            [
             0.4,
             "#fde0ef"
            ],
            [
             0.5,
             "#f7f7f7"
            ],
            [
             0.6,
             "#e6f5d0"
            ],
            [
             0.7,
             "#b8e186"
            ],
            [
             0.8,
             "#7fbc41"
            ],
            [
             0.9,
             "#4d9221"
            ],
            [
             1,
             "#276419"
            ]
           ]
          },
          "xaxis": {
           "gridcolor": "white",
           "linecolor": "white",
           "ticks": "",
           "title": {
            "standoff": 15
           },
           "zerolinecolor": "white",
           "automargin": true,
           "zerolinewidth": 2
          },
          "yaxis": {
           "gridcolor": "white",
           "linecolor": "white",
           "ticks": "",
           "title": {
            "standoff": 15
           },
           "zerolinecolor": "white",
           "automargin": true,
           "zerolinewidth": 2
          },
          "scene": {
           "xaxis": {
            "backgroundcolor": "#E5ECF6",
            "gridcolor": "white",
            "linecolor": "white",
            "showbackground": true,
            "ticks": "",
            "zerolinecolor": "white",
            "gridwidth": 2
           },
           "yaxis": {
            "backgroundcolor": "#E5ECF6",
            "gridcolor": "white",
            "linecolor": "white",
            "showbackground": true,
            "ticks": "",
            "zerolinecolor": "white",
            "gridwidth": 2
           },
           "zaxis": {
            "backgroundcolor": "#E5ECF6",
            "gridcolor": "white",
            "linecolor": "white",
            "showbackground": true,
            "ticks": "",
            "zerolinecolor": "white",
            "gridwidth": 2
           }
          },
          "shapedefaults": {
           "line": {
            "color": "#2a3f5f"
           }
          },
          "annotationdefaults": {
           "arrowcolor": "#2a3f5f",
           "arrowhead": 0,
           "arrowwidth": 1
          },
          "geo": {
           "bgcolor": "white",
           "landcolor": "#E5ECF6",
           "subunitcolor": "white",
           "showland": true,
           "showlakes": true,
           "lakecolor": "white"
          },
          "title": {
           "x": 0.05
          },
          "mapbox": {
           "style": "light"
          }
         }
        },
        "xaxis": {
         "anchor": "y",
         "domain": [
          0.0,
          1.0
         ],
         "title": {
          "text": "Weekday"
         }
        },
        "yaxis": {
         "anchor": "x",
         "domain": [
          0.0,
          1.0
         ],
         "title": {
          "text": "Count of posts"
         }
        },
        "legend": {
         "tracegroupgap": 0
        },
        "title": {
         "text": "Count of posts per weekday #MUFC"
        },
        "barmode": "relative"
       },
       "config": {
        "plotlyServerURL": "https://plot.ly"
       }
      },
      "text/html": "<div>                            <div id=\"1a0ce366-280e-4a1c-8f86-3ed6193122d3\" class=\"plotly-graph-div\" style=\"height:525px; width:100%;\"></div>            <script type=\"text/javascript\">                require([\"plotly\"], function(Plotly) {                    window.PLOTLYENV=window.PLOTLYENV || {};                                    if (document.getElementById(\"1a0ce366-280e-4a1c-8f86-3ed6193122d3\")) {                    Plotly.newPlot(                        \"1a0ce366-280e-4a1c-8f86-3ed6193122d3\",                        [{\"alignmentgroup\":\"True\",\"hovertemplate\":\"Weekday=%{x}<br>Count of posts=%{y}<extra></extra>\",\"legendgroup\":\"\",\"marker\":{\"color\":\"#636efa\",\"pattern\":{\"shape\":\"\"}},\"name\":\"\",\"offsetgroup\":\"\",\"orientation\":\"v\",\"showlegend\":false,\"textposition\":\"auto\",\"texttemplate\":\"%{y}\",\"x\":[\"Monday\",\"Tuesday\",\"Wednesday\",\"Thursday\",\"Friday\",\"Saturday\",\"Sunday\"],\"xaxis\":\"x\",\"y\":[182615,150696,151538,189687,146896,176163,225620],\"yaxis\":\"y\",\"type\":\"bar\"}],                        {\"template\":{\"data\":{\"histogram2dcontour\":[{\"type\":\"histogram2dcontour\",\"colorbar\":{\"outlinewidth\":0,\"ticks\":\"\"},\"colorscale\":[[0.0,\"#0d0887\"],[0.1111111111111111,\"#46039f\"],[0.2222222222222222,\"#7201a8\"],[0.3333333333333333,\"#9c179e\"],[0.4444444444444444,\"#bd3786\"],[0.5555555555555556,\"#d8576b\"],[0.6666666666666666,\"#ed7953\"],[0.7777777777777778,\"#fb9f3a\"],[0.8888888888888888,\"#fdca26\"],[1.0,\"#f0f921\"]]}],\"choropleth\":[{\"type\":\"choropleth\",\"colorbar\":{\"outlinewidth\":0,\"ticks\":\"\"}}],\"histogram2d\":[{\"type\":\"histogram2d\",\"colorbar\":{\"outlinewidth\":0,\"ticks\":\"\"},\"colorscale\":[[0.0,\"#0d0887\"],[0.1111111111111111,\"#46039f\"],[0.2222222222222222,\"#7201a8\"],[0.3333333333333333,\"#9c179e\"],[0.4444444444444444,\"#bd3786\"],[0.5555555555555556,\"#d8576b\"],[0.6666666666666666,\"#ed7953\"],[0.7777777777777778,\"#fb9f3a\"],[0.8888888888888888,\"#fdca26\"],[1.0,\"#f0f921\"]]}],\"heatmap\":[{\"type\":\"heatmap\",\"colorbar\":{\"outlinewidth\":0,\"ticks\":\"\"},\"colorscale\":[[0.0,\"#0d0887\"],[0.1111111111111111,\"#46039f\"],[0.2222222222222222,\"#7201a8\"],[0.3333333333333333,\"#9c179e\"],[0.4444444444444444,\"#bd3786\"],[0.5555555555555556,\"#d8576b\"],[0.6666666666666666,\"#ed7953\"],[0.7777777777777778,\"#fb9f3a\"],[0.8888888888888888,\"#fdca26\"],[1.0,\"#f0f921\"]]}],\"heatmapgl\":[{\"type\":\"heatmapgl\",\"colorbar\":{\"outlinewidth\":0,\"ticks\":\"\"},\"colorscale\":[[0.0,\"#0d0887\"],[0.1111111111111111,\"#46039f\"],[0.2222222222222222,\"#7201a8\"],[0.3333333333333333,\"#9c179e\"],[0.4444444444444444,\"#bd3786\"],[0.5555555555555556,\"#d8576b\"],[0.6666666666666666,\"#ed7953\"],[0.7777777777777778,\"#fb9f3a\"],[0.8888888888888888,\"#fdca26\"],[1.0,\"#f0f921\"]]}],\"contourcarpet\":[{\"type\":\"contourcarpet\",\"colorbar\":{\"outlinewidth\":0,\"ticks\":\"\"}}],\"contour\":[{\"type\":\"contour\",\"colorbar\":{\"outlinewidth\":0,\"ticks\":\"\"},\"colorscale\":[[0.0,\"#0d0887\"],[0.1111111111111111,\"#46039f\"],[0.2222222222222222,\"#7201a8\"],[0.3333333333333333,\"#9c179e\"],[0.4444444444444444,\"#bd3786\"],[0.5555555555555556,\"#d8576b\"],[0.6666666666666666,\"#ed7953\"],[0.7777777777777778,\"#fb9f3a\"],[0.8888888888888888,\"#fdca26\"],[1.0,\"#f0f921\"]]}],\"surface\":[{\"type\":\"surface\",\"colorbar\":{\"outlinewidth\":0,\"ticks\":\"\"},\"colorscale\":[[0.0,\"#0d0887\"],[0.1111111111111111,\"#46039f\"],[0.2222222222222222,\"#7201a8\"],[0.3333333333333333,\"#9c179e\"],[0.4444444444444444,\"#bd3786\"],[0.5555555555555556,\"#d8576b\"],[0.6666666666666666,\"#ed7953\"],[0.7777777777777778,\"#fb9f3a\"],[0.8888888888888888,\"#fdca26\"],[1.0,\"#f0f921\"]]}],\"mesh3d\":[{\"type\":\"mesh3d\",\"colorbar\":{\"outlinewidth\":0,\"ticks\":\"\"}}],\"scatter\":[{\"fillpattern\":{\"fillmode\":\"overlay\",\"size\":10,\"solidity\":0.2},\"type\":\"scatter\"}],\"parcoords\":[{\"type\":\"parcoords\",\"line\":{\"colorbar\":{\"outlinewidth\":0,\"ticks\":\"\"}}}],\"scatterpolargl\":[{\"type\":\"scatterpolargl\",\"marker\":{\"colorbar\":{\"outlinewidth\":0,\"ticks\":\"\"}}}],\"bar\":[{\"error_x\":{\"color\":\"#2a3f5f\"},\"error_y\":{\"color\":\"#2a3f5f\"},\"marker\":{\"line\":{\"color\":\"#E5ECF6\",\"width\":0.5},\"pattern\":{\"fillmode\":\"overlay\",\"size\":10,\"solidity\":0.2}},\"type\":\"bar\"}],\"scattergeo\":[{\"type\":\"scattergeo\",\"marker\":{\"colorbar\":{\"outlinewidth\":0,\"ticks\":\"\"}}}],\"scatterpolar\":[{\"type\":\"scatterpolar\",\"marker\":{\"colorbar\":{\"outlinewidth\":0,\"ticks\":\"\"}}}],\"histogram\":[{\"marker\":{\"pattern\":{\"fillmode\":\"overlay\",\"size\":10,\"solidity\":0.2}},\"type\":\"histogram\"}],\"scattergl\":[{\"type\":\"scattergl\",\"marker\":{\"colorbar\":{\"outlinewidth\":0,\"ticks\":\"\"}}}],\"scatter3d\":[{\"type\":\"scatter3d\",\"line\":{\"colorbar\":{\"outlinewidth\":0,\"ticks\":\"\"}},\"marker\":{\"colorbar\":{\"outlinewidth\":0,\"ticks\":\"\"}}}],\"scattermapbox\":[{\"type\":\"scattermapbox\",\"marker\":{\"colorbar\":{\"outlinewidth\":0,\"ticks\":\"\"}}}],\"scatterternary\":[{\"type\":\"scatterternary\",\"marker\":{\"colorbar\":{\"outlinewidth\":0,\"ticks\":\"\"}}}],\"scattercarpet\":[{\"type\":\"scattercarpet\",\"marker\":{\"colorbar\":{\"outlinewidth\":0,\"ticks\":\"\"}}}],\"carpet\":[{\"aaxis\":{\"endlinecolor\":\"#2a3f5f\",\"gridcolor\":\"white\",\"linecolor\":\"white\",\"minorgridcolor\":\"white\",\"startlinecolor\":\"#2a3f5f\"},\"baxis\":{\"endlinecolor\":\"#2a3f5f\",\"gridcolor\":\"white\",\"linecolor\":\"white\",\"minorgridcolor\":\"white\",\"startlinecolor\":\"#2a3f5f\"},\"type\":\"carpet\"}],\"table\":[{\"cells\":{\"fill\":{\"color\":\"#EBF0F8\"},\"line\":{\"color\":\"white\"}},\"header\":{\"fill\":{\"color\":\"#C8D4E3\"},\"line\":{\"color\":\"white\"}},\"type\":\"table\"}],\"barpolar\":[{\"marker\":{\"line\":{\"color\":\"#E5ECF6\",\"width\":0.5},\"pattern\":{\"fillmode\":\"overlay\",\"size\":10,\"solidity\":0.2}},\"type\":\"barpolar\"}],\"pie\":[{\"automargin\":true,\"type\":\"pie\"}]},\"layout\":{\"autotypenumbers\":\"strict\",\"colorway\":[\"#636efa\",\"#EF553B\",\"#00cc96\",\"#ab63fa\",\"#FFA15A\",\"#19d3f3\",\"#FF6692\",\"#B6E880\",\"#FF97FF\",\"#FECB52\"],\"font\":{\"color\":\"#2a3f5f\"},\"hovermode\":\"closest\",\"hoverlabel\":{\"align\":\"left\"},\"paper_bgcolor\":\"white\",\"plot_bgcolor\":\"#E5ECF6\",\"polar\":{\"bgcolor\":\"#E5ECF6\",\"angularaxis\":{\"gridcolor\":\"white\",\"linecolor\":\"white\",\"ticks\":\"\"},\"radialaxis\":{\"gridcolor\":\"white\",\"linecolor\":\"white\",\"ticks\":\"\"}},\"ternary\":{\"bgcolor\":\"#E5ECF6\",\"aaxis\":{\"gridcolor\":\"white\",\"linecolor\":\"white\",\"ticks\":\"\"},\"baxis\":{\"gridcolor\":\"white\",\"linecolor\":\"white\",\"ticks\":\"\"},\"caxis\":{\"gridcolor\":\"white\",\"linecolor\":\"white\",\"ticks\":\"\"}},\"coloraxis\":{\"colorbar\":{\"outlinewidth\":0,\"ticks\":\"\"}},\"colorscale\":{\"sequential\":[[0.0,\"#0d0887\"],[0.1111111111111111,\"#46039f\"],[0.2222222222222222,\"#7201a8\"],[0.3333333333333333,\"#9c179e\"],[0.4444444444444444,\"#bd3786\"],[0.5555555555555556,\"#d8576b\"],[0.6666666666666666,\"#ed7953\"],[0.7777777777777778,\"#fb9f3a\"],[0.8888888888888888,\"#fdca26\"],[1.0,\"#f0f921\"]],\"sequentialminus\":[[0.0,\"#0d0887\"],[0.1111111111111111,\"#46039f\"],[0.2222222222222222,\"#7201a8\"],[0.3333333333333333,\"#9c179e\"],[0.4444444444444444,\"#bd3786\"],[0.5555555555555556,\"#d8576b\"],[0.6666666666666666,\"#ed7953\"],[0.7777777777777778,\"#fb9f3a\"],[0.8888888888888888,\"#fdca26\"],[1.0,\"#f0f921\"]],\"diverging\":[[0,\"#8e0152\"],[0.1,\"#c51b7d\"],[0.2,\"#de77ae\"],[0.3,\"#f1b6da\"],[0.4,\"#fde0ef\"],[0.5,\"#f7f7f7\"],[0.6,\"#e6f5d0\"],[0.7,\"#b8e186\"],[0.8,\"#7fbc41\"],[0.9,\"#4d9221\"],[1,\"#276419\"]]},\"xaxis\":{\"gridcolor\":\"white\",\"linecolor\":\"white\",\"ticks\":\"\",\"title\":{\"standoff\":15},\"zerolinecolor\":\"white\",\"automargin\":true,\"zerolinewidth\":2},\"yaxis\":{\"gridcolor\":\"white\",\"linecolor\":\"white\",\"ticks\":\"\",\"title\":{\"standoff\":15},\"zerolinecolor\":\"white\",\"automargin\":true,\"zerolinewidth\":2},\"scene\":{\"xaxis\":{\"backgroundcolor\":\"#E5ECF6\",\"gridcolor\":\"white\",\"linecolor\":\"white\",\"showbackground\":true,\"ticks\":\"\",\"zerolinecolor\":\"white\",\"gridwidth\":2},\"yaxis\":{\"backgroundcolor\":\"#E5ECF6\",\"gridcolor\":\"white\",\"linecolor\":\"white\",\"showbackground\":true,\"ticks\":\"\",\"zerolinecolor\":\"white\",\"gridwidth\":2},\"zaxis\":{\"backgroundcolor\":\"#E5ECF6\",\"gridcolor\":\"white\",\"linecolor\":\"white\",\"showbackground\":true,\"ticks\":\"\",\"zerolinecolor\":\"white\",\"gridwidth\":2}},\"shapedefaults\":{\"line\":{\"color\":\"#2a3f5f\"}},\"annotationdefaults\":{\"arrowcolor\":\"#2a3f5f\",\"arrowhead\":0,\"arrowwidth\":1},\"geo\":{\"bgcolor\":\"white\",\"landcolor\":\"#E5ECF6\",\"subunitcolor\":\"white\",\"showland\":true,\"showlakes\":true,\"lakecolor\":\"white\"},\"title\":{\"x\":0.05},\"mapbox\":{\"style\":\"light\"}}},\"xaxis\":{\"anchor\":\"y\",\"domain\":[0.0,1.0],\"title\":{\"text\":\"Weekday\"}},\"yaxis\":{\"anchor\":\"x\",\"domain\":[0.0,1.0],\"title\":{\"text\":\"Count of posts\"}},\"legend\":{\"tracegroupgap\":0},\"title\":{\"text\":\"Count of posts per weekday #MUFC\"},\"barmode\":\"relative\"},                        {\"responsive\": true}                    ).then(function(){\n                            \nvar gd = document.getElementById('1a0ce366-280e-4a1c-8f86-3ed6193122d3');\nvar x = new MutationObserver(function (mutations, observer) {{\n        var display = window.getComputedStyle(gd).display;\n        if (!display || display === 'none') {{\n            console.log([gd, 'removed!']);\n            Plotly.purge(gd);\n            observer.disconnect();\n        }}\n}});\n\n// Listen for the removal of the full notebook cells\nvar notebookContainer = gd.closest('#notebook-container');\nif (notebookContainer) {{\n    x.observe(notebookContainer, {childList: true});\n}}\n\n// Listen for the clearing of the current output cell\nvar outputEl = gd.closest('.output');\nif (outputEl) {{\n    x.observe(outputEl, {childList: true});\n}}\n\n                        })                };                });            </script>        </div>"
     },
     "metadata": {},
     "output_type": "display_data"
    }
   ],
   "source": [
    "fig = px.bar(df_groupped_weekday,\n",
    "             x=\"Week_Day_New\",\n",
    "             y='count_of_Posts',\n",
    "             title=\"Count of posts per weekday #MUFC\",\n",
    "             labels={\n",
    "                     \"Week_Day_New\": \"Weekday\",\n",
    "                     \"count_of_Posts\": \"Count of posts\",\n",
    "                                  },\n",
    "             text_auto=True)\n",
    "fig.show()"
   ],
   "metadata": {
    "collapsed": false,
    "pycharm": {
     "name": "#%%\n"
    }
   }
  },
  {
   "cell_type": "markdown",
   "source": [
    "#### Check how many users tweet how often within 6 month"
   ],
   "metadata": {
    "collapsed": false,
    "pycharm": {
     "name": "#%% md\n"
    }
   }
  },
  {
   "cell_type": "code",
   "execution_count": 114,
   "outputs": [],
   "source": [
    "data_user=df.groupby(['User']).size().reset_index(name\n",
    "    = 'tweets')"
   ],
   "metadata": {
    "collapsed": false,
    "pycharm": {
     "name": "#%%\n"
    }
   }
  },
  {
   "cell_type": "code",
   "execution_count": 122,
   "outputs": [
    {
     "data": {
      "text/plain": "            index     cat\n0         (0, 10]  102444\n1        (10, 50]    9056\n2       (50, 100]    1634\n3      (100, 300]    1165\n4      (300, 500]     206\n5     (500, 1000]     148\n6   (1000, 10000]     125\n7  (10000, 20000]       1",
      "text/html": "<div>\n<style scoped>\n    .dataframe tbody tr th:only-of-type {\n        vertical-align: middle;\n    }\n\n    .dataframe tbody tr th {\n        vertical-align: top;\n    }\n\n    .dataframe thead th {\n        text-align: right;\n    }\n</style>\n<table border=\"1\" class=\"dataframe\">\n  <thead>\n    <tr style=\"text-align: right;\">\n      <th></th>\n      <th>index</th>\n      <th>cat</th>\n    </tr>\n  </thead>\n  <tbody>\n    <tr>\n      <th>0</th>\n      <td>(0, 10]</td>\n      <td>102444</td>\n    </tr>\n    <tr>\n      <th>1</th>\n      <td>(10, 50]</td>\n      <td>9056</td>\n    </tr>\n    <tr>\n      <th>2</th>\n      <td>(50, 100]</td>\n      <td>1634</td>\n    </tr>\n    <tr>\n      <th>3</th>\n      <td>(100, 300]</td>\n      <td>1165</td>\n    </tr>\n    <tr>\n      <th>4</th>\n      <td>(300, 500]</td>\n      <td>206</td>\n    </tr>\n    <tr>\n      <th>5</th>\n      <td>(500, 1000]</td>\n      <td>148</td>\n    </tr>\n    <tr>\n      <th>6</th>\n      <td>(1000, 10000]</td>\n      <td>125</td>\n    </tr>\n    <tr>\n      <th>7</th>\n      <td>(10000, 20000]</td>\n      <td>1</td>\n    </tr>\n  </tbody>\n</table>\n</div>"
     },
     "execution_count": 122,
     "metadata": {},
     "output_type": "execute_result"
    }
   ],
   "source": [
    "cut_bins = [0,10, 50, 100, 300, 500,1000, 10000, 20000]\n",
    "#df['cut_ex1'] = pd.cut(df['ext price'], bins=cut_bins, labels=cut_labels_4)\n",
    "\n",
    "data_user['cat']=pd.cut(data_user['tweets'], bins=cut_bins)\n",
    "bar=data_user['cat'].sort_values().value_counts()\n",
    "bar=pd.DataFrame(bar).reset_index()\n",
    "bar"
   ],
   "metadata": {
    "collapsed": false,
    "pycharm": {
     "name": "#%%\n"
    }
   }
  }
 ],
 "metadata": {
  "kernelspec": {
   "display_name": "Python 3",
   "language": "python",
   "name": "python3"
  },
  "language_info": {
   "codemirror_mode": {
    "name": "ipython",
    "version": 2
   },
   "file_extension": ".py",
   "mimetype": "text/x-python",
   "name": "python",
   "nbconvert_exporter": "python",
   "pygments_lexer": "ipython2",
   "version": "2.7.6"
  }
 },
 "nbformat": 4,
 "nbformat_minor": 0
}