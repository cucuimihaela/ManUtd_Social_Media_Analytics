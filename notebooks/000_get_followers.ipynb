{
 "cells": [
  {
   "cell_type": "markdown",
   "metadata": {
    "pycharm": {
     "name": "#%% md\n"
    }
   },
   "source": [
    "### Get user's followers\n",
    "This notebook collects followers details [\"Username\", \"User_ID\", \"Location\", \"Language\", \"Nr_of_Posts\"] from a given user and saves it to a dataframe.\n",
    "If no value is provided in .items(), all followers will be collected."
   ]
  },
  {
   "cell_type": "code",
   "execution_count": 1,
   "metadata": {
    "pycharm": {
     "name": "#%%\n"
    }
   },
   "outputs": [],
   "source": [
    "import pandas as pd\n",
    "import tweepy\n",
    "import json"
   ]
  },
  {
   "cell_type": "code",
   "execution_count": 2,
   "metadata": {
    "pycharm": {
     "name": "#%%\n"
    }
   },
   "outputs": [],
   "source": [
    "with open(r\"..\\..\\..\\data\\interim\\credentials.json\") as infile:\n",
    "    credentials = json.load(infile)"
   ]
  },
  {
   "cell_type": "code",
   "execution_count": 3,
   "metadata": {
    "pycharm": {
     "name": "#%%\n"
    }
   },
   "outputs": [],
   "source": [
    "auth = tweepy.OAuth1UserHandler(credentials[\"consumer_key\"], credentials[\"consumer_secret\"], credentials[\"access_token\"], credentials[\"access_token_secret\"])"
   ]
  },
  {
   "cell_type": "code",
   "execution_count": 4,
   "metadata": {
    "pycharm": {
     "name": "#%%\n"
    }
   },
   "outputs": [],
   "source": [
    "api = tweepy.API(auth, wait_on_rate_limit=True)"
   ]
  },
  {
   "cell_type": "code",
   "execution_count": null,
   "metadata": {
    "pycharm": {
     "name": "#%%\n"
    }
   },
   "outputs": [],
   "source": [
    "screen_name = \"ManUtd\"\n",
    "list_of_followers = []\n",
    "count = 0  # count added to keep track of progress\n",
    "\n",
    "for follower in tweepy.Cursor(api.get_followers, screen_name=screen_name).items():  # if no value is given in .items(), all users will be collected\n",
    "    try:\n",
    "        list_of_followers.append([follower.screen_name, follower.id_str, follower.location, follower.lang, follower.statuses_count])\n",
    "        count +=1\n",
    "        print(count)\n",
    "    \n",
    "        with open(\"followers.txt\", \"w\") as f:\n",
    "            for item in list_of_followers:\n",
    "                f.write(json.dumps(\"%s\\n\" % item))\n",
    "    except BaseException as e:\n",
    "        print(\"Status Failed on: \", str(e))"
   ]
  },
  {
   "cell_type": "code",
   "execution_count": null,
   "metadata": {
    "pycharm": {
     "name": "#%%\n"
    }
   },
   "outputs": [],
   "source": [
    "list_of_followers"
   ]
  },
  {
   "cell_type": "code",
   "execution_count": 15,
   "metadata": {
    "pycharm": {
     "name": "#%%\n"
    }
   },
   "outputs": [],
   "source": [
    "df_followers = pd.DataFrame(list_of_followers, columns=[\"Username\", \"User_ID\", \"Location\", \"Language\", \"Nr_of_Posts\"])"
   ]
  },
  {
   "cell_type": "code",
   "execution_count": null,
   "metadata": {
    "pycharm": {
     "name": "#%%\n"
    }
   },
   "outputs": [],
   "source": [
    "df_followers.head()"
   ]
  },
  {
   "cell_type": "code",
   "execution_count": null,
   "metadata": {
    "pycharm": {
     "name": "#%%\n"
    }
   },
   "outputs": [],
   "source": [
    "df_followers.to_csv(\"../../../data/raw/df_followers.csv\", index = False)"
   ]
  }
 ],
 "metadata": {
  "kernelspec": {
   "display_name": "Python 3.10.5 64-bit",
   "language": "python",
   "name": "python3"
  },
  "language_info": {
   "codemirror_mode": {
    "name": "ipython",
    "version": 3
   },
   "file_extension": ".py",
   "mimetype": "text/x-python",
   "name": "python",
   "nbconvert_exporter": "python",
   "pygments_lexer": "ipython3",
   "version": "3.10.5"
  },
  "orig_nbformat": 4,
  "vscode": {
   "interpreter": {
    "hash": "1cb4cdeafc61a6c89e92f7723c86672e1ce8acb7f4f325f2b080f67667d6c07a"
   }
  }
 },
 "nbformat": 4,
 "nbformat_minor": 2
}