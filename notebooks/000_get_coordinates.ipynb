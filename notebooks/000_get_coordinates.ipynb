{
 "cells": [
  {
   "cell_type": "markdown",
   "metadata": {
    "pycharm": {
     "name": "#%% md\n"
    }
   },
   "source": [
    "### Get latitude and longitude based on the location obtained from scraping the users' profiles that have this information available "
   ]
  },
  {
   "cell_type": "markdown",
   "metadata": {
    "pycharm": {
     "name": "#%% md\n"
    }
   },
   "source": [
    "This notebook provides coordinates for the twitter users based on the location provided in their profile.\n",
    "It adds 2 columns to the dataframe - \"latitude\" and \"longitude\" that can be used to plot in a map the fanbase distribution. "
   ]
  },
  {
   "cell_type": "code",
   "execution_count": 1,
   "metadata": {
    "pycharm": {
     "name": "#%%\n"
    }
   },
   "outputs": [],
   "source": [
    "import pandas as pd\n",
    "from geopy.geocoders import Nominatim\n",
    "import time"
   ]
  },
  {
   "cell_type": "code",
   "execution_count": 26,
   "metadata": {
    "pycharm": {
     "name": "#%%\n"
    }
   },
   "outputs": [],
   "source": [
    "users_details = pd.read_csv(\"../../../data/processed/user_details_full\", index_col=0)"
   ]
  },
  {
   "cell_type": "code",
   "execution_count": 27,
   "metadata": {
    "pycharm": {
     "name": "#%%\n"
    }
   },
   "outputs": [
    {
     "data": {
      "text/html": [
       "<div>\n",
       "<style scoped>\n",
       "    .dataframe tbody tr th:only-of-type {\n",
       "        vertical-align: middle;\n",
       "    }\n",
       "\n",
       "    .dataframe tbody tr th {\n",
       "        vertical-align: top;\n",
       "    }\n",
       "\n",
       "    .dataframe thead th {\n",
       "        text-align: right;\n",
       "    }\n",
       "</style>\n",
       "<table border=\"1\" class=\"dataframe\">\n",
       "  <thead>\n",
       "    <tr style=\"text-align: right;\">\n",
       "      <th></th>\n",
       "      <th>Username</th>\n",
       "      <th>ID</th>\n",
       "      <th>Date Created</th>\n",
       "      <th>Nr of Likes</th>\n",
       "      <th>Nr of Followers</th>\n",
       "      <th>Language</th>\n",
       "      <th>Location</th>\n",
       "      <th>nr of posts</th>\n",
       "      <th>Description</th>\n",
       "      <th>Likes_count</th>\n",
       "    </tr>\n",
       "  </thead>\n",
       "  <tbody>\n",
       "    <tr>\n",
       "      <th>0</th>\n",
       "      <td>mufcMPB</td>\n",
       "      <td>1245665630969384962</td>\n",
       "      <td>2020-04-02 10:53:43+00:00</td>\n",
       "      <td>12061</td>\n",
       "      <td>284282</td>\n",
       "      <td>NaN</td>\n",
       "      <td>NaN</td>\n",
       "      <td>13468</td>\n",
       "      <td>Manchester United Transfer News Hub.🔴📲 Sourced...</td>\n",
       "      <td>12061</td>\n",
       "    </tr>\n",
       "    <tr>\n",
       "      <th>1</th>\n",
       "      <td>KhashanDalia</td>\n",
       "      <td>1383801795823116291</td>\n",
       "      <td>2021-04-18 15:17:23+00:00</td>\n",
       "      <td>19991</td>\n",
       "      <td>1809</td>\n",
       "      <td>NaN</td>\n",
       "      <td>Toronto, Ontario</td>\n",
       "      <td>5717</td>\n",
       "      <td>Passionate #MUFC Fan | Views are my own 🔴⚪⚫ #G...</td>\n",
       "      <td>19991</td>\n",
       "    </tr>\n",
       "    <tr>\n",
       "      <th>2</th>\n",
       "      <td>RedReveal</td>\n",
       "      <td>3013468463</td>\n",
       "      <td>2015-02-03 00:33:32+00:00</td>\n",
       "      <td>3124</td>\n",
       "      <td>18977</td>\n",
       "      <td>NaN</td>\n",
       "      <td>NaN</td>\n",
       "      <td>108766</td>\n",
       "      <td>Manchester United Men, Women, Academy. By fans...</td>\n",
       "      <td>3124</td>\n",
       "    </tr>\n",
       "    <tr>\n",
       "      <th>3</th>\n",
       "      <td>manutdnewsonly</td>\n",
       "      <td>347571686</td>\n",
       "      <td>2011-08-03 00:45:01+00:00</td>\n",
       "      <td>37</td>\n",
       "      <td>31597</td>\n",
       "      <td>NaN</td>\n",
       "      <td>NaN</td>\n",
       "      <td>291077</td>\n",
       "      <td>Manchester United FC Fan Page. NOT linked to O...</td>\n",
       "      <td>37</td>\n",
       "    </tr>\n",
       "    <tr>\n",
       "      <th>4</th>\n",
       "      <td>colbeck_daniel</td>\n",
       "      <td>1132972165572308993</td>\n",
       "      <td>2019-05-27 11:29:48+00:00</td>\n",
       "      <td>10075</td>\n",
       "      <td>1886</td>\n",
       "      <td>NaN</td>\n",
       "      <td>England, United Kingdom</td>\n",
       "      <td>5882</td>\n",
       "      <td>Live in Yorkshire. Lover of comics and books. ...</td>\n",
       "      <td>10075</td>\n",
       "    </tr>\n",
       "  </tbody>\n",
       "</table>\n",
       "</div>"
      ],
      "text/plain": [
       "         Username                   ID               Date Created  \\\n",
       "0         mufcMPB  1245665630969384962  2020-04-02 10:53:43+00:00   \n",
       "1    KhashanDalia  1383801795823116291  2021-04-18 15:17:23+00:00   \n",
       "2       RedReveal           3013468463  2015-02-03 00:33:32+00:00   \n",
       "3  manutdnewsonly            347571686  2011-08-03 00:45:01+00:00   \n",
       "4  colbeck_daniel  1132972165572308993  2019-05-27 11:29:48+00:00   \n",
       "\n",
       "   Nr of Likes  Nr of Followers  Language                 Location  \\\n",
       "0        12061           284282       NaN                      NaN   \n",
       "1        19991             1809       NaN         Toronto, Ontario   \n",
       "2         3124            18977       NaN                      NaN   \n",
       "3           37            31597       NaN                      NaN   \n",
       "4        10075             1886       NaN  England, United Kingdom   \n",
       "\n",
       "   nr of posts                                        Description  Likes_count  \n",
       "0        13468  Manchester United Transfer News Hub.🔴📲 Sourced...        12061  \n",
       "1         5717  Passionate #MUFC Fan | Views are my own 🔴⚪⚫ #G...        19991  \n",
       "2       108766  Manchester United Men, Women, Academy. By fans...         3124  \n",
       "3       291077  Manchester United FC Fan Page. NOT linked to O...           37  \n",
       "4         5882  Live in Yorkshire. Lover of comics and books. ...        10075  "
      ]
     },
     "execution_count": 27,
     "metadata": {},
     "output_type": "execute_result"
    }
   ],
   "source": [
    "users_details.head()"
   ]
  },
  {
   "cell_type": "code",
   "execution_count": 4,
   "metadata": {
    "pycharm": {
     "name": "#%%\n"
    }
   },
   "outputs": [
    {
     "data": {
      "text/plain": [
       "Lagos, Nigeria         2873\n",
       "Nigeria                2382\n",
       "Manchester, England    1852\n",
       "London, England        1527\n",
       "United Kingdom         1392\n",
       "                       ... \n",
       "Oldham, UK                1\n",
       "live, laugh, love         1\n",
       "living life               1\n",
       "Kota Dumai, Riau          1\n",
       "Adriatic                  1\n",
       "Name: Location, Length: 30321, dtype: int64"
      ]
     },
     "execution_count": 4,
     "metadata": {},
     "output_type": "execute_result"
    }
   ],
   "source": [
    "users_details[\"Location\"].value_counts()"
   ]
  },
  {
   "cell_type": "code",
   "execution_count": 5,
   "metadata": {
    "pycharm": {
     "name": "#%%\n"
    }
   },
   "outputs": [],
   "source": [
    "df_splitted = users_details.dropna(subset=[\"Location\"])"
   ]
  },
  {
   "cell_type": "code",
   "execution_count": 12,
   "metadata": {
    "pycharm": {
     "name": "#%%\n"
    }
   },
   "outputs": [
    {
     "data": {
      "text/plain": [
       "(90024, 12)"
      ]
     },
     "execution_count": 12,
     "metadata": {},
     "output_type": "execute_result"
    }
   ],
   "source": [
    "df_splitted.shape"
   ]
  },
  {
   "cell_type": "code",
   "execution_count": 28,
   "metadata": {
    "pycharm": {
     "name": "#%%\n"
    }
   },
   "outputs": [
    {
     "name": "stderr",
     "output_type": "stream",
     "text": [
      "C:\\Users\\Study\\AppData\\Local\\Temp\\ipykernel_11840\\2528763334.py:13: SettingWithCopyWarning: \n",
      "A value is trying to be set on a copy of a slice from a DataFrame.\n",
      "Try using .loc[row_indexer,col_indexer] = value instead\n",
      "\n",
      "See the caveats in the documentation: https://pandas.pydata.org/pandas-docs/stable/user_guide/indexing.html#returning-a-view-versus-a-copy\n",
      "  df_splitted.loc[i,'latitude'] = \"\"\n",
      "C:\\Users\\Study\\AppData\\Local\\Temp\\ipykernel_11840\\2528763334.py:14: SettingWithCopyWarning: \n",
      "A value is trying to be set on a copy of a slice from a DataFrame.\n",
      "Try using .loc[row_indexer,col_indexer] = value instead\n",
      "\n",
      "See the caveats in the documentation: https://pandas.pydata.org/pandas-docs/stable/user_guide/indexing.html#returning-a-view-versus-a-copy\n",
      "  df_splitted.loc[i,'longitude'] = \"\"\n"
     ]
    }
   ],
   "source": [
    "geolocator = Nominatim(user_agent=\"myApp\")\n",
    "for i in df_splitted.index:\n",
    "    try:\n",
    "        #tries fetch address from geopy\n",
    "        location = geolocator.geocode(df_splitted['Location'][i])\n",
    "        \n",
    "        #append lat/long to column using dataframe location\n",
    "        df_splitted.loc[i,('latitude')] = location.latitude\n",
    "        df_splitted.loc[i,'longitude'] = location.longitude\n",
    "    except:\n",
    "        #catches exception for the case where no value is returned\n",
    "        #appends null value to column\n",
    "        df_splitted.loc[i,'latitude'] = \"\"\n",
    "        df_splitted.loc[i,'longitude'] = \"\"\n",
    "\n",
    "df_splitted.to_csv(\"../../../data/processed/df_locs_full.csv\", index = False)\n",
    "#print first rows as sample\n",
    "df_splitted.head()"
   ]
  }
 ],
 "metadata": {
  "kernelspec": {
   "display_name": "Python 3.10.5 64-bit",
   "language": "python",
   "name": "python3"
  },
  "language_info": {
   "codemirror_mode": {
    "name": "ipython",
    "version": 3
   },
   "file_extension": ".py",
   "mimetype": "text/x-python",
   "name": "python",
   "nbconvert_exporter": "python",
   "pygments_lexer": "ipython3",
   "version": "3.10.5"
  },
  "orig_nbformat": 4,
  "vscode": {
   "interpreter": {
    "hash": "1cb4cdeafc61a6c89e92f7723c86672e1ce8acb7f4f325f2b080f67667d6c07a"
   }
  }
 },
 "nbformat": 4,
 "nbformat_minor": 2
}