{
 "cells": [
  {
   "cell_type": "markdown",
   "metadata": {
    "id": "jTIxIwFMKFXl",
    "pycharm": {
     "name": "#%% md\n"
    }
   },
   "source": [
    "# **BERTopic** - Dynamic Topic Modeling with Twees hashtags: #manunited, #manchesterunited,#MUFC\n",
    "\n",
    "\n",
    "In this tutorial we will be using Dynamic Topic Modeling with BERTopic to visualize how topics in Tweets have evolved over time. These topics will be visualized and thoroughly explored. \n",
    "\n",
    "## Dynamic Topic Models\n",
    "Dynamic topic models can be used to analyze the evolution of topics of a collection of documents over time. \n",
    "\n",
    "<br>\n",
    "\n",
    "<img src=\"https://raw.githubusercontent.com/MaartenGr/BERTopic/master/images/logo.png\" width=\"40%\">"
   ]
  },
  {
   "cell_type": "markdown",
   "metadata": {
    "id": "p6HFHxqnK7J1",
    "pycharm": {
     "name": "#%% md\n"
    }
   },
   "source": [
    "# Enabling the GPU\n",
    "\n",
    "First, you'll need to enable GPUs for the notebook:\n",
    "\n",
    "- Navigate to Edit→Notebook Settings\n",
    "- select GPU from the Hardware Accelerator drop-down"
   ]
  },
  {
   "cell_type": "markdown",
   "metadata": {
    "id": "PxGBi-HTK-kj",
    "pycharm": {
     "name": "#%% md\n"
    }
   },
   "source": [
    "# Installing BERTopic\n",
    "\n",
    "We start by installing BERTopic from PyPi:"
   ]
  },
  {
   "cell_type": "code",
   "execution_count": null,
   "metadata": {
    "id": "BSV43im0K8d7",
    "pycharm": {
     "name": "#%%\n"
    }
   },
   "outputs": [],
   "source": [
    "%%capture\n",
    "!pip install bertopic"
   ]
  },
  {
   "cell_type": "markdown",
   "metadata": {
    "id": "0C32KuGjLD1k",
    "pycharm": {
     "name": "#%% md\n"
    }
   },
   "source": [
    "## Restart the Notebook\n",
    "After installing BERTopic, some packages that were already loaded were updated and in order to correctly use them, we should now restart the notebook.\n",
    "\n",
    "From the Menu:\n",
    "\n",
    "Runtime → Restart Runtime"
   ]
  },
  {
   "cell_type": "markdown",
   "metadata": {
    "id": "kb8lkM_ELOYM",
    "pycharm": {
     "name": "#%% md\n"
    }
   },
   "source": [
    "# **Data**\n",
    "For this model we will need Tweets as Data. How to get data will be captured in a other notebook.\n",
    "\n",
    "In this notebook we will do two DF's. One with stopwords, and one without stopwords. We will compare the result"
   ]
  },
  {
   "cell_type": "code",
   "execution_count": null,
   "metadata": {
    "id": "MAITjXJaL4O2",
    "pycharm": {
     "name": "#%%\n"
    }
   },
   "outputs": [],
   "source": [
    "import re\n",
    "import pandas as pd\n",
    "from datetime import datetime"
   ]
  },
  {
   "cell_type": "code",
   "execution_count": null,
   "metadata": {
    "id": "CzheAZRcLiRy",
    "pycharm": {
     "name": "#%%\n"
    }
   },
   "outputs": [],
   "source": [
    "description_topics = pd.read_csv('/content/drive/MyDrive/Interim/_User_Description_clean.csv')"
   ]
  },
  {
   "cell_type": "code",
   "source": [
    "description_topics.head()\n"
   ],
   "metadata": {
    "colab": {
     "base_uri": "https://localhost:8080/",
     "height": 424
    },
    "id": "K4NUXR_L37vE",
    "executionInfo": {
     "status": "ok",
     "timestamp": 1668097092538,
     "user_tz": -60,
     "elapsed": 3,
     "user": {
      "displayName": "Naemi Graf",
      "userId": "00297558433787857996"
     }
    },
    "outputId": "2cb327af-7b18-42ed-8646-85ce905f7487",
    "pycharm": {
     "name": "#%%\n"
    }
   },
   "execution_count": null,
   "outputs": [
    {
     "output_type": "execute_result",
     "data": {
      "text/plain": [
       "   Unnamed: 0         Username                   ID  \\\n",
       "0           1     KhashanDalia  1383801795823116291   \n",
       "1           4   colbeck_daniel  1132972165572308993   \n",
       "2           5           Muphyk            501818126   \n",
       "3           8     trueREDdeviI  1556141606171947008   \n",
       "4           9  JasdeepSChhabra           1717151600   \n",
       "\n",
       "                Date Created  Nr of Likes  Nr of Followers  Language  \\\n",
       "0  2021-04-18 15:17:23+00:00        19991             1809       NaN   \n",
       "1  2019-05-27 11:29:48+00:00        10075             1886       NaN   \n",
       "2  2012-02-24 14:19:32+00:00        28123              489       NaN   \n",
       "3  2022-08-07 04:54:26+00:00          748              423       NaN   \n",
       "4  2013-08-31 23:57:15+00:00         6051              301       NaN   \n",
       "\n",
       "                  Location  nr of posts  \\\n",
       "0         Toronto, Ontario         5717   \n",
       "1  England, United Kingdom         5882   \n",
       "2                    LAGOS        71584   \n",
       "3        Theater of dreams          414   \n",
       "4                Australia         3033   \n",
       "\n",
       "                                         Description  Likes_count  \\\n",
       "0  Passionate #MUFC Fan | Views are my own 🔴⚪⚫ #G...        19991   \n",
       "1  Live in Yorkshire. Lover of comics and books. ...        10075   \n",
       "2  Iron merchant services \\nVbank : 1004686329 \\n...        28123   \n",
       "3                       Red Devil since 1983 🇾🇪 #F4F          748   \n",
       "4  Born in India, grew up in Singapore and living...         6051   \n",
       "\n",
       "   location_lat  location_long  \\\n",
       "0     43.653482     -79.383935   \n",
       "1     52.531021      -1.264906   \n",
       "2      6.455057       3.394179   \n",
       "3     38.976963     -76.486973   \n",
       "4    -24.776109     134.755000   \n",
       "\n",
       "                                   Description_clean  \n",
       "0   Passionate MUFC Fan Views GGMU GlazersOut Manutd  \n",
       "1  Live Yorkshire Lover comics books football coa...  \n",
       "2                  Iron merchant services Vbank MUFC  \n",
       "3                                 Red Devil since FF  \n",
       "4  Born India grew Singapore living Australia Man...  "
      ],
      "text/html": [
       "\n",
       "  <div id=\"df-9485a404-e554-45fb-a7c2-57802cd95e8a\">\n",
       "    <div class=\"colab-df-container\">\n",
       "      <div>\n",
       "<style scoped>\n",
       "    .dataframe tbody tr th:only-of-type {\n",
       "        vertical-align: middle;\n",
       "    }\n",
       "\n",
       "    .dataframe tbody tr th {\n",
       "        vertical-align: top;\n",
       "    }\n",
       "\n",
       "    .dataframe thead th {\n",
       "        text-align: right;\n",
       "    }\n",
       "</style>\n",
       "<table border=\"1\" class=\"dataframe\">\n",
       "  <thead>\n",
       "    <tr style=\"text-align: right;\">\n",
       "      <th></th>\n",
       "      <th>Unnamed: 0</th>\n",
       "      <th>Username</th>\n",
       "      <th>ID</th>\n",
       "      <th>Date Created</th>\n",
       "      <th>Nr of Likes</th>\n",
       "      <th>Nr of Followers</th>\n",
       "      <th>Language</th>\n",
       "      <th>Location</th>\n",
       "      <th>nr of posts</th>\n",
       "      <th>Description</th>\n",
       "      <th>Likes_count</th>\n",
       "      <th>location_lat</th>\n",
       "      <th>location_long</th>\n",
       "      <th>Description_clean</th>\n",
       "    </tr>\n",
       "  </thead>\n",
       "  <tbody>\n",
       "    <tr>\n",
       "      <th>0</th>\n",
       "      <td>1</td>\n",
       "      <td>KhashanDalia</td>\n",
       "      <td>1383801795823116291</td>\n",
       "      <td>2021-04-18 15:17:23+00:00</td>\n",
       "      <td>19991</td>\n",
       "      <td>1809</td>\n",
       "      <td>NaN</td>\n",
       "      <td>Toronto, Ontario</td>\n",
       "      <td>5717</td>\n",
       "      <td>Passionate #MUFC Fan | Views are my own 🔴⚪⚫ #G...</td>\n",
       "      <td>19991</td>\n",
       "      <td>43.653482</td>\n",
       "      <td>-79.383935</td>\n",
       "      <td>Passionate MUFC Fan Views GGMU GlazersOut Manutd</td>\n",
       "    </tr>\n",
       "    <tr>\n",
       "      <th>1</th>\n",
       "      <td>4</td>\n",
       "      <td>colbeck_daniel</td>\n",
       "      <td>1132972165572308993</td>\n",
       "      <td>2019-05-27 11:29:48+00:00</td>\n",
       "      <td>10075</td>\n",
       "      <td>1886</td>\n",
       "      <td>NaN</td>\n",
       "      <td>England, United Kingdom</td>\n",
       "      <td>5882</td>\n",
       "      <td>Live in Yorkshire. Lover of comics and books. ...</td>\n",
       "      <td>10075</td>\n",
       "      <td>52.531021</td>\n",
       "      <td>-1.264906</td>\n",
       "      <td>Live Yorkshire Lover comics books football coa...</td>\n",
       "    </tr>\n",
       "    <tr>\n",
       "      <th>2</th>\n",
       "      <td>5</td>\n",
       "      <td>Muphyk</td>\n",
       "      <td>501818126</td>\n",
       "      <td>2012-02-24 14:19:32+00:00</td>\n",
       "      <td>28123</td>\n",
       "      <td>489</td>\n",
       "      <td>NaN</td>\n",
       "      <td>LAGOS</td>\n",
       "      <td>71584</td>\n",
       "      <td>Iron merchant services \\nVbank : 1004686329 \\n...</td>\n",
       "      <td>28123</td>\n",
       "      <td>6.455057</td>\n",
       "      <td>3.394179</td>\n",
       "      <td>Iron merchant services Vbank MUFC</td>\n",
       "    </tr>\n",
       "    <tr>\n",
       "      <th>3</th>\n",
       "      <td>8</td>\n",
       "      <td>trueREDdeviI</td>\n",
       "      <td>1556141606171947008</td>\n",
       "      <td>2022-08-07 04:54:26+00:00</td>\n",
       "      <td>748</td>\n",
       "      <td>423</td>\n",
       "      <td>NaN</td>\n",
       "      <td>Theater of dreams</td>\n",
       "      <td>414</td>\n",
       "      <td>Red Devil since 1983 🇾🇪 #F4F</td>\n",
       "      <td>748</td>\n",
       "      <td>38.976963</td>\n",
       "      <td>-76.486973</td>\n",
       "      <td>Red Devil since FF</td>\n",
       "    </tr>\n",
       "    <tr>\n",
       "      <th>4</th>\n",
       "      <td>9</td>\n",
       "      <td>JasdeepSChhabra</td>\n",
       "      <td>1717151600</td>\n",
       "      <td>2013-08-31 23:57:15+00:00</td>\n",
       "      <td>6051</td>\n",
       "      <td>301</td>\n",
       "      <td>NaN</td>\n",
       "      <td>Australia</td>\n",
       "      <td>3033</td>\n",
       "      <td>Born in India, grew up in Singapore and living...</td>\n",
       "      <td>6051</td>\n",
       "      <td>-24.776109</td>\n",
       "      <td>134.755000</td>\n",
       "      <td>Born India grew Singapore living Australia Man...</td>\n",
       "    </tr>\n",
       "  </tbody>\n",
       "</table>\n",
       "</div>\n",
       "      <button class=\"colab-df-convert\" onclick=\"convertToInteractive('df-9485a404-e554-45fb-a7c2-57802cd95e8a')\"\n",
       "              title=\"Convert this dataframe to an interactive table.\"\n",
       "              style=\"display:none;\">\n",
       "        \n",
       "  <svg xmlns=\"http://www.w3.org/2000/svg\" height=\"24px\"viewBox=\"0 0 24 24\"\n",
       "       width=\"24px\">\n",
       "    <path d=\"M0 0h24v24H0V0z\" fill=\"none\"/>\n",
       "    <path d=\"M18.56 5.44l.94 2.06.94-2.06 2.06-.94-2.06-.94-.94-2.06-.94 2.06-2.06.94zm-11 1L8.5 8.5l.94-2.06 2.06-.94-2.06-.94L8.5 2.5l-.94 2.06-2.06.94zm10 10l.94 2.06.94-2.06 2.06-.94-2.06-.94-.94-2.06-.94 2.06-2.06.94z\"/><path d=\"M17.41 7.96l-1.37-1.37c-.4-.4-.92-.59-1.43-.59-.52 0-1.04.2-1.43.59L10.3 9.45l-7.72 7.72c-.78.78-.78 2.05 0 2.83L4 21.41c.39.39.9.59 1.41.59.51 0 1.02-.2 1.41-.59l7.78-7.78 2.81-2.81c.8-.78.8-2.07 0-2.86zM5.41 20L4 18.59l7.72-7.72 1.47 1.35L5.41 20z\"/>\n",
       "  </svg>\n",
       "      </button>\n",
       "      \n",
       "  <style>\n",
       "    .colab-df-container {\n",
       "      display:flex;\n",
       "      flex-wrap:wrap;\n",
       "      gap: 12px;\n",
       "    }\n",
       "\n",
       "    .colab-df-convert {\n",
       "      background-color: #E8F0FE;\n",
       "      border: none;\n",
       "      border-radius: 50%;\n",
       "      cursor: pointer;\n",
       "      display: none;\n",
       "      fill: #1967D2;\n",
       "      height: 32px;\n",
       "      padding: 0 0 0 0;\n",
       "      width: 32px;\n",
       "    }\n",
       "\n",
       "    .colab-df-convert:hover {\n",
       "      background-color: #E2EBFA;\n",
       "      box-shadow: 0px 1px 2px rgba(60, 64, 67, 0.3), 0px 1px 3px 1px rgba(60, 64, 67, 0.15);\n",
       "      fill: #174EA6;\n",
       "    }\n",
       "\n",
       "    [theme=dark] .colab-df-convert {\n",
       "      background-color: #3B4455;\n",
       "      fill: #D2E3FC;\n",
       "    }\n",
       "\n",
       "    [theme=dark] .colab-df-convert:hover {\n",
       "      background-color: #434B5C;\n",
       "      box-shadow: 0px 1px 3px 1px rgba(0, 0, 0, 0.15);\n",
       "      filter: drop-shadow(0px 1px 2px rgba(0, 0, 0, 0.3));\n",
       "      fill: #FFFFFF;\n",
       "    }\n",
       "  </style>\n",
       "\n",
       "      <script>\n",
       "        const buttonEl =\n",
       "          document.querySelector('#df-9485a404-e554-45fb-a7c2-57802cd95e8a button.colab-df-convert');\n",
       "        buttonEl.style.display =\n",
       "          google.colab.kernel.accessAllowed ? 'block' : 'none';\n",
       "\n",
       "        async function convertToInteractive(key) {\n",
       "          const element = document.querySelector('#df-9485a404-e554-45fb-a7c2-57802cd95e8a');\n",
       "          const dataTable =\n",
       "            await google.colab.kernel.invokeFunction('convertToInteractive',\n",
       "                                                     [key], {});\n",
       "          if (!dataTable) return;\n",
       "\n",
       "          const docLinkHtml = 'Like what you see? Visit the ' +\n",
       "            '<a target=\"_blank\" href=https://colab.research.google.com/notebooks/data_table.ipynb>data table notebook</a>'\n",
       "            + ' to learn more about interactive tables.';\n",
       "          element.innerHTML = '';\n",
       "          dataTable['output_type'] = 'display_data';\n",
       "          await google.colab.output.renderOutput(dataTable, element);\n",
       "          const docLink = document.createElement('div');\n",
       "          docLink.innerHTML = docLinkHtml;\n",
       "          element.appendChild(docLink);\n",
       "        }\n",
       "      </script>\n",
       "    </div>\n",
       "  </div>\n",
       "  "
      ]
     },
     "metadata": {},
     "execution_count": 118
    }
   ]
  },
  {
   "cell_type": "code",
   "source": [
    "description_topics= description_topics.dropna(subset = ['Description_clean']).reset_index()"
   ],
   "metadata": {
    "id": "thxmBrsSrI75",
    "pycharm": {
     "name": "#%%\n"
    }
   },
   "execution_count": null,
   "outputs": []
  },
  {
   "cell_type": "code",
   "execution_count": null,
   "metadata": {
    "id": "N7R0rjQqM10a",
    "colab": {
     "base_uri": "https://localhost:8080/",
     "height": 36
    },
    "executionInfo": {
     "status": "ok",
     "timestamp": 1668090814557,
     "user_tz": -60,
     "elapsed": 5,
     "user": {
      "displayName": "Naemi Graf",
      "userId": "00297558433787857996"
     }
    },
    "outputId": "4266f900-f2d0-4c40-f32b-9d8c29e7a0ec",
    "pycharm": {
     "name": "#%%\n"
    }
   },
   "outputs": [
    {
     "output_type": "execute_result",
     "data": {
      "text/plain": [
       "'Founding Member kiburifc manutd Series Movies Red bull Racing'"
      ],
      "application/vnd.google.colaboratory.intrinsic+json": {
       "type": "string"
      }
     },
     "metadata": {},
     "execution_count": 32
    }
   ],
   "source": [
    "# create a list of all tweets\n",
    "description_topics_lst = description_topics.Description_clean.to_list()\n",
    "description_topics_lst[5123]\n",
    "#timestamps = description_topics.Date_Created.to_list()"
   ]
  },
  {
   "cell_type": "markdown",
   "metadata": {
    "id": "azMGfmP4NNHn",
    "pycharm": {
     "name": "#%% md\n"
    }
   },
   "source": [
    "# **Dynamic Topic Modeling**\n"
   ]
  },
  {
   "cell_type": "markdown",
   "metadata": {
    "id": "lSXlxdoGNOzo",
    "pycharm": {
     "name": "#%% md\n"
    }
   },
   "source": [
    "## Basic Topic Model\n",
    "To perform Dynamic Topic Modeling with BERTopic we will first need to create a basic topic model using all tweets. The temporal aspect will be ignored as we are, for now, only interested in the topics that reside in those tweets. "
   ]
  },
  {
   "cell_type": "code",
   "execution_count": null,
   "metadata": {
    "colab": {
     "base_uri": "https://localhost:8080/",
     "height": 118,
     "referenced_widgets": [
      "53f77796c7cd4484b2f6dc94cfa5cd68",
      "1b3ae699a97f4c2cbce2a9d236b00177",
      "9ce9607e7abb45be8e3f9f4fe4f9bad1",
      "899d706c3ac442c0a94c8efe10492dda",
      "86399bb51df2452da2d4f1aee13f4899",
      "f05172d3e93e4af79f8562f6d09b1c79",
      "0db9998147cc44a2a11416f80b42c501",
      "72121d5345954b0a8793224e85afa35a",
      "a3d96db22f1b4ef0a415f441e061ad39",
      "0fbcc3fe447f4204a52f03336f072ae6",
      "af7461bf7ed14135ae4b27a008ed170c"
     ]
    },
    "id": "zZr_LN7NNSPG",
    "outputId": "7c9d4275-7e80-4024-fbbe-5ffda3c8cd5a",
    "executionInfo": {
     "status": "ok",
     "timestamp": 1668090973540,
     "user_tz": -60,
     "elapsed": 148853,
     "user": {
      "displayName": "Naemi Graf",
      "userId": "00297558433787857996"
     }
    },
    "pycharm": {
     "name": "#%%\n"
    }
   },
   "outputs": [
    {
     "output_type": "display_data",
     "data": {
      "text/plain": [
       "Batches:   0%|          | 0/2546 [00:00<?, ?it/s]"
      ],
      "application/vnd.jupyter.widget-view+json": {
       "version_major": 2,
       "version_minor": 0,
       "model_id": "53f77796c7cd4484b2f6dc94cfa5cd68"
      }
     },
     "metadata": {}
    },
    {
     "output_type": "stream",
     "name": "stderr",
     "text": [
      "2022-11-10 14:34:11,996 - BERTopic - Transformed documents to Embeddings\n",
      "2022-11-10 14:35:59,897 - BERTopic - Reduced dimensionality\n",
      "2022-11-10 14:36:08,798 - BERTopic - Clustered reduced embeddings\n",
      "2022-11-10 14:36:14,388 - BERTopic - Reduced number of topics from 263 to 51\n"
     ]
    }
   ],
   "source": [
    "from bertopic import BERTopic\n",
    "topic_model = BERTopic(min_topic_size=35, verbose=True, nr_topics=50)\n",
    "topics, _ = topic_model.fit_transform(description_topics_lst)"
   ]
  },
  {
   "cell_type": "markdown",
   "source": [
    "We can then extract most frequent topics:"
   ],
   "metadata": {
    "id": "1cCuIvelkKUa",
    "pycharm": {
     "name": "#%% md\n"
    }
   }
  },
  {
   "cell_type": "code",
   "source": [
    "freq = topic_model.get_topic_info(); freq.head(10)"
   ],
   "metadata": {
    "id": "uTUHnDBUsTSz",
    "colab": {
     "base_uri": "https://localhost:8080/",
     "height": 363
    },
    "executionInfo": {
     "status": "ok",
     "timestamp": 1668091036381,
     "user_tz": -60,
     "elapsed": 280,
     "user": {
      "displayName": "Naemi Graf",
      "userId": "00297558433787857996"
     }
    },
    "outputId": "ae28f43d-f2f1-4bb3-8ac0-33f9a081ef16",
    "pycharm": {
     "name": "#%%\n"
    }
   },
   "execution_count": null,
   "outputs": [
    {
     "output_type": "execute_result",
     "data": {
      "text/plain": [
       "   Topic  Count                                             Name\n",
       "0     -1  50651                           -1_fan_not_mufc_united\n",
       "1      0   2790                     0_father_husband_dad_married\n",
       "2      1   2347                     1_music_dj_bookings_producer\n",
       "3      2   1135  2_photographer_photography_film_cinematographer\n",
       "4      3   1060                                   3_de_la_en_que\n",
       "5      4    914         4_journalist_sports_reporter_commentator\n",
       "6      5    908                      5_manchester_united_die_fan\n",
       "7      6    885               6_designer_graphic_design_graphics\n",
       "8      7    872                        7_crypto_nft_trader_forex\n",
       "9      8    819                      8_tweets_tweet_twitter_mind"
      ],
      "text/html": [
       "\n",
       "  <div id=\"df-169fad6d-97c7-4193-b77c-d5080c27c481\">\n",
       "    <div class=\"colab-df-container\">\n",
       "      <div>\n",
       "<style scoped>\n",
       "    .dataframe tbody tr th:only-of-type {\n",
       "        vertical-align: middle;\n",
       "    }\n",
       "\n",
       "    .dataframe tbody tr th {\n",
       "        vertical-align: top;\n",
       "    }\n",
       "\n",
       "    .dataframe thead th {\n",
       "        text-align: right;\n",
       "    }\n",
       "</style>\n",
       "<table border=\"1\" class=\"dataframe\">\n",
       "  <thead>\n",
       "    <tr style=\"text-align: right;\">\n",
       "      <th></th>\n",
       "      <th>Topic</th>\n",
       "      <th>Count</th>\n",
       "      <th>Name</th>\n",
       "    </tr>\n",
       "  </thead>\n",
       "  <tbody>\n",
       "    <tr>\n",
       "      <th>0</th>\n",
       "      <td>-1</td>\n",
       "      <td>50651</td>\n",
       "      <td>-1_fan_not_mufc_united</td>\n",
       "    </tr>\n",
       "    <tr>\n",
       "      <th>1</th>\n",
       "      <td>0</td>\n",
       "      <td>2790</td>\n",
       "      <td>0_father_husband_dad_married</td>\n",
       "    </tr>\n",
       "    <tr>\n",
       "      <th>2</th>\n",
       "      <td>1</td>\n",
       "      <td>2347</td>\n",
       "      <td>1_music_dj_bookings_producer</td>\n",
       "    </tr>\n",
       "    <tr>\n",
       "      <th>3</th>\n",
       "      <td>2</td>\n",
       "      <td>1135</td>\n",
       "      <td>2_photographer_photography_film_cinematographer</td>\n",
       "    </tr>\n",
       "    <tr>\n",
       "      <th>4</th>\n",
       "      <td>3</td>\n",
       "      <td>1060</td>\n",
       "      <td>3_de_la_en_que</td>\n",
       "    </tr>\n",
       "    <tr>\n",
       "      <th>5</th>\n",
       "      <td>4</td>\n",
       "      <td>914</td>\n",
       "      <td>4_journalist_sports_reporter_commentator</td>\n",
       "    </tr>\n",
       "    <tr>\n",
       "      <th>6</th>\n",
       "      <td>5</td>\n",
       "      <td>908</td>\n",
       "      <td>5_manchester_united_die_fan</td>\n",
       "    </tr>\n",
       "    <tr>\n",
       "      <th>7</th>\n",
       "      <td>6</td>\n",
       "      <td>885</td>\n",
       "      <td>6_designer_graphic_design_graphics</td>\n",
       "    </tr>\n",
       "    <tr>\n",
       "      <th>8</th>\n",
       "      <td>7</td>\n",
       "      <td>872</td>\n",
       "      <td>7_crypto_nft_trader_forex</td>\n",
       "    </tr>\n",
       "    <tr>\n",
       "      <th>9</th>\n",
       "      <td>8</td>\n",
       "      <td>819</td>\n",
       "      <td>8_tweets_tweet_twitter_mind</td>\n",
       "    </tr>\n",
       "  </tbody>\n",
       "</table>\n",
       "</div>\n",
       "      <button class=\"colab-df-convert\" onclick=\"convertToInteractive('df-169fad6d-97c7-4193-b77c-d5080c27c481')\"\n",
       "              title=\"Convert this dataframe to an interactive table.\"\n",
       "              style=\"display:none;\">\n",
       "        \n",
       "  <svg xmlns=\"http://www.w3.org/2000/svg\" height=\"24px\"viewBox=\"0 0 24 24\"\n",
       "       width=\"24px\">\n",
       "    <path d=\"M0 0h24v24H0V0z\" fill=\"none\"/>\n",
       "    <path d=\"M18.56 5.44l.94 2.06.94-2.06 2.06-.94-2.06-.94-.94-2.06-.94 2.06-2.06.94zm-11 1L8.5 8.5l.94-2.06 2.06-.94-2.06-.94L8.5 2.5l-.94 2.06-2.06.94zm10 10l.94 2.06.94-2.06 2.06-.94-2.06-.94-.94-2.06-.94 2.06-2.06.94z\"/><path d=\"M17.41 7.96l-1.37-1.37c-.4-.4-.92-.59-1.43-.59-.52 0-1.04.2-1.43.59L10.3 9.45l-7.72 7.72c-.78.78-.78 2.05 0 2.83L4 21.41c.39.39.9.59 1.41.59.51 0 1.02-.2 1.41-.59l7.78-7.78 2.81-2.81c.8-.78.8-2.07 0-2.86zM5.41 20L4 18.59l7.72-7.72 1.47 1.35L5.41 20z\"/>\n",
       "  </svg>\n",
       "      </button>\n",
       "      \n",
       "  <style>\n",
       "    .colab-df-container {\n",
       "      display:flex;\n",
       "      flex-wrap:wrap;\n",
       "      gap: 12px;\n",
       "    }\n",
       "\n",
       "    .colab-df-convert {\n",
       "      background-color: #E8F0FE;\n",
       "      border: none;\n",
       "      border-radius: 50%;\n",
       "      cursor: pointer;\n",
       "      display: none;\n",
       "      fill: #1967D2;\n",
       "      height: 32px;\n",
       "      padding: 0 0 0 0;\n",
       "      width: 32px;\n",
       "    }\n",
       "\n",
       "    .colab-df-convert:hover {\n",
       "      background-color: #E2EBFA;\n",
       "      box-shadow: 0px 1px 2px rgba(60, 64, 67, 0.3), 0px 1px 3px 1px rgba(60, 64, 67, 0.15);\n",
       "      fill: #174EA6;\n",
       "    }\n",
       "\n",
       "    [theme=dark] .colab-df-convert {\n",
       "      background-color: #3B4455;\n",
       "      fill: #D2E3FC;\n",
       "    }\n",
       "\n",
       "    [theme=dark] .colab-df-convert:hover {\n",
       "      background-color: #434B5C;\n",
       "      box-shadow: 0px 1px 3px 1px rgba(0, 0, 0, 0.15);\n",
       "      filter: drop-shadow(0px 1px 2px rgba(0, 0, 0, 0.3));\n",
       "      fill: #FFFFFF;\n",
       "    }\n",
       "  </style>\n",
       "\n",
       "      <script>\n",
       "        const buttonEl =\n",
       "          document.querySelector('#df-169fad6d-97c7-4193-b77c-d5080c27c481 button.colab-df-convert');\n",
       "        buttonEl.style.display =\n",
       "          google.colab.kernel.accessAllowed ? 'block' : 'none';\n",
       "\n",
       "        async function convertToInteractive(key) {\n",
       "          const element = document.querySelector('#df-169fad6d-97c7-4193-b77c-d5080c27c481');\n",
       "          const dataTable =\n",
       "            await google.colab.kernel.invokeFunction('convertToInteractive',\n",
       "                                                     [key], {});\n",
       "          if (!dataTable) return;\n",
       "\n",
       "          const docLinkHtml = 'Like what you see? Visit the ' +\n",
       "            '<a target=\"_blank\" href=https://colab.research.google.com/notebooks/data_table.ipynb>data table notebook</a>'\n",
       "            + ' to learn more about interactive tables.';\n",
       "          element.innerHTML = '';\n",
       "          dataTable['output_type'] = 'display_data';\n",
       "          await google.colab.output.renderOutput(dataTable, element);\n",
       "          const docLink = document.createElement('div');\n",
       "          docLink.innerHTML = docLinkHtml;\n",
       "          element.appendChild(docLink);\n",
       "        }\n",
       "      </script>\n",
       "    </div>\n",
       "  </div>\n",
       "  "
      ]
     },
     "metadata": {},
     "execution_count": 35
    }
   ]
  },
  {
   "cell_type": "code",
   "source": [
    "# Save the topics in a csv\n",
    "freq.to_csv('/content/drive/MyDrive/Interim/Topics_User_description_raw_50.csv')"
   ],
   "metadata": {
    "id": "XcXRB3EwzCrU",
    "pycharm": {
     "name": "#%%\n"
    }
   },
   "execution_count": null,
   "outputs": []
  },
  {
   "cell_type": "markdown",
   "source": [
    "-1 refers to all outliers and should typically be ignored. Next, let's take a look at a frequent topic that were generated:"
   ],
   "metadata": {
    "id": "FE0L5QXwkOhX",
    "pycharm": {
     "name": "#%% md\n"
    }
   }
  },
  {
   "cell_type": "code",
   "source": [
    "topic_model.get_topic(4)"
   ],
   "metadata": {
    "id": "Hafq04s5kPBj",
    "colab": {
     "base_uri": "https://localhost:8080/"
    },
    "executionInfo": {
     "status": "ok",
     "timestamp": 1667999680514,
     "user_tz": -60,
     "elapsed": 10,
     "user": {
      "displayName": "Naemi Graf",
      "userId": "00297558433787857996"
     }
    },
    "outputId": "55b67606-ff20-490c-892b-eb4db2895578",
    "pycharm": {
     "name": "#%%\n"
    }
   },
   "execution_count": null,
   "outputs": [
    {
     "output_type": "execute_result",
     "data": {
      "text/plain": [
       "[('oh', 0.004259714562970829),\n",
       " ('accurate', 0.0035216235022884276),\n",
       " ('interesting', 0.002996559234843513),\n",
       " ('love', 0.0027784602787626483),\n",
       " ('lol', 0.0025949206970104543),\n",
       " ('go', 0.0025273435763190854),\n",
       " ('fuck', 0.002379300111827104),\n",
       " ('exactly', 0.002358197869057448),\n",
       " ('wow', 0.002353931228478137),\n",
       " ('come', 0.002229340020141025)]"
      ]
     },
     "metadata": {},
     "execution_count": 9
    }
   ]
  },
  {
   "cell_type": "markdown",
   "source": [
    "# Save the model #"
   ],
   "metadata": {
    "id": "NG82LEz_3zBr",
    "pycharm": {
     "name": "#%% md\n"
    }
   }
  },
  {
   "cell_type": "code",
   "source": [
    "import pickle\n"
   ],
   "metadata": {
    "id": "wQd28Nqm32jO",
    "pycharm": {
     "name": "#%%\n"
    }
   },
   "execution_count": null,
   "outputs": []
  },
  {
   "cell_type": "code",
   "source": [
    "# save the model to disk\n",
    "filename = '/content/drive/MyDrive/Interim/Topic_Model_User_Description.sav'\n",
    "pickle.dump(topic_model, open(filename, 'wb'))"
   ],
   "metadata": {
    "id": "Gk0vDeJ9xpQ4",
    "pycharm": {
     "name": "#%%\n"
    }
   },
   "execution_count": null,
   "outputs": []
  },
  {
   "cell_type": "markdown",
   "source": [
    "# Load the model"
   ],
   "metadata": {
    "id": "nFJbJXTnB2SS",
    "pycharm": {
     "name": "#%% md\n"
    }
   }
  },
  {
   "cell_type": "code",
   "source": [
    "\n",
    "loaded_model = pickle.load(open(filename, 'rb'))\n",
    "freq = loaded_model.get_topic_info(); freq.head(10)\n"
   ],
   "metadata": {
    "id": "9qznXT8H5fvg",
    "colab": {
     "base_uri": "https://localhost:8080/",
     "height": 363
    },
    "executionInfo": {
     "status": "ok",
     "timestamp": 1668096830950,
     "user_tz": -60,
     "elapsed": 3592,
     "user": {
      "displayName": "Naemi Graf",
      "userId": "00297558433787857996"
     }
    },
    "outputId": "0071ecd1-599d-411f-dd5c-6aa193d8773f",
    "pycharm": {
     "name": "#%%\n"
    }
   },
   "execution_count": null,
   "outputs": [
    {
     "output_type": "execute_result",
     "data": {
      "text/plain": [
       "   Topic  Count                                             Name\n",
       "0     -1  50651                           -1_fan_not_mufc_united\n",
       "1      0   2790                     0_father_husband_dad_married\n",
       "2      1   2347                     1_music_dj_bookings_producer\n",
       "3      2   1135  2_photographer_photography_film_cinematographer\n",
       "4      3   1060                                   3_de_la_en_que\n",
       "5      4    914         4_journalist_sports_reporter_commentator\n",
       "6      5    908                      5_manchester_united_die_fan\n",
       "7      6    885               6_designer_graphic_design_graphics\n",
       "8      7    872                        7_crypto_nft_trader_forex\n",
       "9      8    819                      8_tweets_tweet_twitter_mind"
      ],
      "text/html": [
       "\n",
       "  <div id=\"df-c2c75866-99c2-4fd2-920c-a1b945c54a9f\">\n",
       "    <div class=\"colab-df-container\">\n",
       "      <div>\n",
       "<style scoped>\n",
       "    .dataframe tbody tr th:only-of-type {\n",
       "        vertical-align: middle;\n",
       "    }\n",
       "\n",
       "    .dataframe tbody tr th {\n",
       "        vertical-align: top;\n",
       "    }\n",
       "\n",
       "    .dataframe thead th {\n",
       "        text-align: right;\n",
       "    }\n",
       "</style>\n",
       "<table border=\"1\" class=\"dataframe\">\n",
       "  <thead>\n",
       "    <tr style=\"text-align: right;\">\n",
       "      <th></th>\n",
       "      <th>Topic</th>\n",
       "      <th>Count</th>\n",
       "      <th>Name</th>\n",
       "    </tr>\n",
       "  </thead>\n",
       "  <tbody>\n",
       "    <tr>\n",
       "      <th>0</th>\n",
       "      <td>-1</td>\n",
       "      <td>50651</td>\n",
       "      <td>-1_fan_not_mufc_united</td>\n",
       "    </tr>\n",
       "    <tr>\n",
       "      <th>1</th>\n",
       "      <td>0</td>\n",
       "      <td>2790</td>\n",
       "      <td>0_father_husband_dad_married</td>\n",
       "    </tr>\n",
       "    <tr>\n",
       "      <th>2</th>\n",
       "      <td>1</td>\n",
       "      <td>2347</td>\n",
       "      <td>1_music_dj_bookings_producer</td>\n",
       "    </tr>\n",
       "    <tr>\n",
       "      <th>3</th>\n",
       "      <td>2</td>\n",
       "      <td>1135</td>\n",
       "      <td>2_photographer_photography_film_cinematographer</td>\n",
       "    </tr>\n",
       "    <tr>\n",
       "      <th>4</th>\n",
       "      <td>3</td>\n",
       "      <td>1060</td>\n",
       "      <td>3_de_la_en_que</td>\n",
       "    </tr>\n",
       "    <tr>\n",
       "      <th>5</th>\n",
       "      <td>4</td>\n",
       "      <td>914</td>\n",
       "      <td>4_journalist_sports_reporter_commentator</td>\n",
       "    </tr>\n",
       "    <tr>\n",
       "      <th>6</th>\n",
       "      <td>5</td>\n",
       "      <td>908</td>\n",
       "      <td>5_manchester_united_die_fan</td>\n",
       "    </tr>\n",
       "    <tr>\n",
       "      <th>7</th>\n",
       "      <td>6</td>\n",
       "      <td>885</td>\n",
       "      <td>6_designer_graphic_design_graphics</td>\n",
       "    </tr>\n",
       "    <tr>\n",
       "      <th>8</th>\n",
       "      <td>7</td>\n",
       "      <td>872</td>\n",
       "      <td>7_crypto_nft_trader_forex</td>\n",
       "    </tr>\n",
       "    <tr>\n",
       "      <th>9</th>\n",
       "      <td>8</td>\n",
       "      <td>819</td>\n",
       "      <td>8_tweets_tweet_twitter_mind</td>\n",
       "    </tr>\n",
       "  </tbody>\n",
       "</table>\n",
       "</div>\n",
       "      <button class=\"colab-df-convert\" onclick=\"convertToInteractive('df-c2c75866-99c2-4fd2-920c-a1b945c54a9f')\"\n",
       "              title=\"Convert this dataframe to an interactive table.\"\n",
       "              style=\"display:none;\">\n",
       "        \n",
       "  <svg xmlns=\"http://www.w3.org/2000/svg\" height=\"24px\"viewBox=\"0 0 24 24\"\n",
       "       width=\"24px\">\n",
       "    <path d=\"M0 0h24v24H0V0z\" fill=\"none\"/>\n",
       "    <path d=\"M18.56 5.44l.94 2.06.94-2.06 2.06-.94-2.06-.94-.94-2.06-.94 2.06-2.06.94zm-11 1L8.5 8.5l.94-2.06 2.06-.94-2.06-.94L8.5 2.5l-.94 2.06-2.06.94zm10 10l.94 2.06.94-2.06 2.06-.94-2.06-.94-.94-2.06-.94 2.06-2.06.94z\"/><path d=\"M17.41 7.96l-1.37-1.37c-.4-.4-.92-.59-1.43-.59-.52 0-1.04.2-1.43.59L10.3 9.45l-7.72 7.72c-.78.78-.78 2.05 0 2.83L4 21.41c.39.39.9.59 1.41.59.51 0 1.02-.2 1.41-.59l7.78-7.78 2.81-2.81c.8-.78.8-2.07 0-2.86zM5.41 20L4 18.59l7.72-7.72 1.47 1.35L5.41 20z\"/>\n",
       "  </svg>\n",
       "      </button>\n",
       "      \n",
       "  <style>\n",
       "    .colab-df-container {\n",
       "      display:flex;\n",
       "      flex-wrap:wrap;\n",
       "      gap: 12px;\n",
       "    }\n",
       "\n",
       "    .colab-df-convert {\n",
       "      background-color: #E8F0FE;\n",
       "      border: none;\n",
       "      border-radius: 50%;\n",
       "      cursor: pointer;\n",
       "      display: none;\n",
       "      fill: #1967D2;\n",
       "      height: 32px;\n",
       "      padding: 0 0 0 0;\n",
       "      width: 32px;\n",
       "    }\n",
       "\n",
       "    .colab-df-convert:hover {\n",
       "      background-color: #E2EBFA;\n",
       "      box-shadow: 0px 1px 2px rgba(60, 64, 67, 0.3), 0px 1px 3px 1px rgba(60, 64, 67, 0.15);\n",
       "      fill: #174EA6;\n",
       "    }\n",
       "\n",
       "    [theme=dark] .colab-df-convert {\n",
       "      background-color: #3B4455;\n",
       "      fill: #D2E3FC;\n",
       "    }\n",
       "\n",
       "    [theme=dark] .colab-df-convert:hover {\n",
       "      background-color: #434B5C;\n",
       "      box-shadow: 0px 1px 3px 1px rgba(0, 0, 0, 0.15);\n",
       "      filter: drop-shadow(0px 1px 2px rgba(0, 0, 0, 0.3));\n",
       "      fill: #FFFFFF;\n",
       "    }\n",
       "  </style>\n",
       "\n",
       "      <script>\n",
       "        const buttonEl =\n",
       "          document.querySelector('#df-c2c75866-99c2-4fd2-920c-a1b945c54a9f button.colab-df-convert');\n",
       "        buttonEl.style.display =\n",
       "          google.colab.kernel.accessAllowed ? 'block' : 'none';\n",
       "\n",
       "        async function convertToInteractive(key) {\n",
       "          const element = document.querySelector('#df-c2c75866-99c2-4fd2-920c-a1b945c54a9f');\n",
       "          const dataTable =\n",
       "            await google.colab.kernel.invokeFunction('convertToInteractive',\n",
       "                                                     [key], {});\n",
       "          if (!dataTable) return;\n",
       "\n",
       "          const docLinkHtml = 'Like what you see? Visit the ' +\n",
       "            '<a target=\"_blank\" href=https://colab.research.google.com/notebooks/data_table.ipynb>data table notebook</a>'\n",
       "            + ' to learn more about interactive tables.';\n",
       "          element.innerHTML = '';\n",
       "          dataTable['output_type'] = 'display_data';\n",
       "          await google.colab.output.renderOutput(dataTable, element);\n",
       "          const docLink = document.createElement('div');\n",
       "          docLink.innerHTML = docLinkHtml;\n",
       "          element.appendChild(docLink);\n",
       "        }\n",
       "      </script>\n",
       "    </div>\n",
       "  </div>\n",
       "  "
      ]
     },
     "metadata": {},
     "execution_count": 107
    }
   ]
  },
  {
   "cell_type": "markdown",
   "source": [
    "# Merge and reduce Topics"
   ],
   "metadata": {
    "id": "LXhx5pyJ1J6S",
    "pycharm": {
     "name": "#%% md\n"
    }
   }
  },
  {
   "cell_type": "code",
   "source": [
    "df_topics = pd.DataFrame(topics_lst)\n",
    "df_topics.head()"
   ],
   "metadata": {
    "colab": {
     "base_uri": "https://localhost:8080/",
     "height": 206
    },
    "id": "Kz4PAdr7MuTl",
    "executionInfo": {
     "status": "ok",
     "timestamp": 1668097137267,
     "user_tz": -60,
     "elapsed": 5,
     "user": {
      "displayName": "Naemi Graf",
      "userId": "00297558433787857996"
     }
    },
    "outputId": "4c3ec9aa-f3a7-4383-e4db-32f80f870fd7",
    "pycharm": {
     "name": "#%%\n"
    }
   },
   "execution_count": null,
   "outputs": [
    {
     "output_type": "execute_result",
     "data": {
      "text/plain": [
       "    0\n",
       "0  -1\n",
       "1  -1\n",
       "2  -1\n",
       "3  15\n",
       "4  -1"
      ],
      "text/html": [
       "\n",
       "  <div id=\"df-8936b079-50ff-4817-842e-fbb7754e9762\">\n",
       "    <div class=\"colab-df-container\">\n",
       "      <div>\n",
       "<style scoped>\n",
       "    .dataframe tbody tr th:only-of-type {\n",
       "        vertical-align: middle;\n",
       "    }\n",
       "\n",
       "    .dataframe tbody tr th {\n",
       "        vertical-align: top;\n",
       "    }\n",
       "\n",
       "    .dataframe thead th {\n",
       "        text-align: right;\n",
       "    }\n",
       "</style>\n",
       "<table border=\"1\" class=\"dataframe\">\n",
       "  <thead>\n",
       "    <tr style=\"text-align: right;\">\n",
       "      <th></th>\n",
       "      <th>0</th>\n",
       "    </tr>\n",
       "  </thead>\n",
       "  <tbody>\n",
       "    <tr>\n",
       "      <th>0</th>\n",
       "      <td>-1</td>\n",
       "    </tr>\n",
       "    <tr>\n",
       "      <th>1</th>\n",
       "      <td>-1</td>\n",
       "    </tr>\n",
       "    <tr>\n",
       "      <th>2</th>\n",
       "      <td>-1</td>\n",
       "    </tr>\n",
       "    <tr>\n",
       "      <th>3</th>\n",
       "      <td>15</td>\n",
       "    </tr>\n",
       "    <tr>\n",
       "      <th>4</th>\n",
       "      <td>-1</td>\n",
       "    </tr>\n",
       "  </tbody>\n",
       "</table>\n",
       "</div>\n",
       "      <button class=\"colab-df-convert\" onclick=\"convertToInteractive('df-8936b079-50ff-4817-842e-fbb7754e9762')\"\n",
       "              title=\"Convert this dataframe to an interactive table.\"\n",
       "              style=\"display:none;\">\n",
       "        \n",
       "  <svg xmlns=\"http://www.w3.org/2000/svg\" height=\"24px\"viewBox=\"0 0 24 24\"\n",
       "       width=\"24px\">\n",
       "    <path d=\"M0 0h24v24H0V0z\" fill=\"none\"/>\n",
       "    <path d=\"M18.56 5.44l.94 2.06.94-2.06 2.06-.94-2.06-.94-.94-2.06-.94 2.06-2.06.94zm-11 1L8.5 8.5l.94-2.06 2.06-.94-2.06-.94L8.5 2.5l-.94 2.06-2.06.94zm10 10l.94 2.06.94-2.06 2.06-.94-2.06-.94-.94-2.06-.94 2.06-2.06.94z\"/><path d=\"M17.41 7.96l-1.37-1.37c-.4-.4-.92-.59-1.43-.59-.52 0-1.04.2-1.43.59L10.3 9.45l-7.72 7.72c-.78.78-.78 2.05 0 2.83L4 21.41c.39.39.9.59 1.41.59.51 0 1.02-.2 1.41-.59l7.78-7.78 2.81-2.81c.8-.78.8-2.07 0-2.86zM5.41 20L4 18.59l7.72-7.72 1.47 1.35L5.41 20z\"/>\n",
       "  </svg>\n",
       "      </button>\n",
       "      \n",
       "  <style>\n",
       "    .colab-df-container {\n",
       "      display:flex;\n",
       "      flex-wrap:wrap;\n",
       "      gap: 12px;\n",
       "    }\n",
       "\n",
       "    .colab-df-convert {\n",
       "      background-color: #E8F0FE;\n",
       "      border: none;\n",
       "      border-radius: 50%;\n",
       "      cursor: pointer;\n",
       "      display: none;\n",
       "      fill: #1967D2;\n",
       "      height: 32px;\n",
       "      padding: 0 0 0 0;\n",
       "      width: 32px;\n",
       "    }\n",
       "\n",
       "    .colab-df-convert:hover {\n",
       "      background-color: #E2EBFA;\n",
       "      box-shadow: 0px 1px 2px rgba(60, 64, 67, 0.3), 0px 1px 3px 1px rgba(60, 64, 67, 0.15);\n",
       "      fill: #174EA6;\n",
       "    }\n",
       "\n",
       "    [theme=dark] .colab-df-convert {\n",
       "      background-color: #3B4455;\n",
       "      fill: #D2E3FC;\n",
       "    }\n",
       "\n",
       "    [theme=dark] .colab-df-convert:hover {\n",
       "      background-color: #434B5C;\n",
       "      box-shadow: 0px 1px 3px 1px rgba(0, 0, 0, 0.15);\n",
       "      filter: drop-shadow(0px 1px 2px rgba(0, 0, 0, 0.3));\n",
       "      fill: #FFFFFF;\n",
       "    }\n",
       "  </style>\n",
       "\n",
       "      <script>\n",
       "        const buttonEl =\n",
       "          document.querySelector('#df-8936b079-50ff-4817-842e-fbb7754e9762 button.colab-df-convert');\n",
       "        buttonEl.style.display =\n",
       "          google.colab.kernel.accessAllowed ? 'block' : 'none';\n",
       "\n",
       "        async function convertToInteractive(key) {\n",
       "          const element = document.querySelector('#df-8936b079-50ff-4817-842e-fbb7754e9762');\n",
       "          const dataTable =\n",
       "            await google.colab.kernel.invokeFunction('convertToInteractive',\n",
       "                                                     [key], {});\n",
       "          if (!dataTable) return;\n",
       "\n",
       "          const docLinkHtml = 'Like what you see? Visit the ' +\n",
       "            '<a target=\"_blank\" href=https://colab.research.google.com/notebooks/data_table.ipynb>data table notebook</a>'\n",
       "            + ' to learn more about interactive tables.';\n",
       "          element.innerHTML = '';\n",
       "          dataTable['output_type'] = 'display_data';\n",
       "          await google.colab.output.renderOutput(dataTable, element);\n",
       "          const docLink = document.createElement('div');\n",
       "          docLink.innerHTML = docLinkHtml;\n",
       "          element.appendChild(docLink);\n",
       "        }\n",
       "      </script>\n",
       "    </div>\n",
       "  </div>\n",
       "  "
      ]
     },
     "metadata": {},
     "execution_count": 119
    }
   ]
  },
  {
   "cell_type": "code",
   "source": [
    "description_topics_merged = pd.merge(description_topics, df_topics, left_index=True, right_index=True)"
   ],
   "metadata": {
    "id": "kaJvUBPEM7on",
    "pycharm": {
     "name": "#%%\n"
    }
   },
   "execution_count": null,
   "outputs": []
  },
  {
   "cell_type": "code",
   "source": [
    "description_topics_merged.shape"
   ],
   "metadata": {
    "colab": {
     "base_uri": "https://localhost:8080/"
    },
    "id": "sCSaR-TpUmIp",
    "executionInfo": {
     "status": "ok",
     "timestamp": 1668097238605,
     "user_tz": -60,
     "elapsed": 307,
     "user": {
      "displayName": "Naemi Graf",
      "userId": "00297558433787857996"
     }
    },
    "outputId": "4702ba19-a559-428d-ead8-c6508be06ca2",
    "pycharm": {
     "name": "#%%\n"
    }
   },
   "execution_count": null,
   "outputs": [
    {
     "output_type": "execute_result",
     "data": {
      "text/plain": [
       "(81444, 16)"
      ]
     },
     "metadata": {},
     "execution_count": 122
    }
   ]
  },
  {
   "cell_type": "code",
   "source": [
    "description_topics_merged.drop('Unnamed: 0', axis = 1)"
   ],
   "metadata": {
    "id": "OE2c90JKNvm7",
    "pycharm": {
     "name": "#%%\n"
    }
   },
   "execution_count": null,
   "outputs": []
  },
  {
   "cell_type": "code",
   "source": [
    "description_topics_merged.rename(columns = {0:'Topic_Nr'}, inplace = True)"
   ],
   "metadata": {
    "id": "bNMkF6WpOTYU",
    "pycharm": {
     "name": "#%%\n"
    }
   },
   "execution_count": null,
   "outputs": []
  },
  {
   "cell_type": "code",
   "source": [
    "description_topics_merged.shape"
   ],
   "metadata": {
    "colab": {
     "base_uri": "https://localhost:8080/"
    },
    "id": "eKU7xSfWOHkg",
    "executionInfo": {
     "status": "ok",
     "timestamp": 1668095776125,
     "user_tz": -60,
     "elapsed": 315,
     "user": {
      "displayName": "Naemi Graf",
      "userId": "00297558433787857996"
     }
    },
    "outputId": "1ea9e709-e405-47d9-8ebc-0e41e71b3391",
    "pycharm": {
     "name": "#%%\n"
    }
   },
   "execution_count": null,
   "outputs": [
    {
     "output_type": "execute_result",
     "data": {
      "text/plain": [
       "(79425, 15)"
      ]
     },
     "metadata": {},
     "execution_count": 88
    }
   ]
  },
  {
   "cell_type": "code",
   "source": [
    "Classes = pd.read_csv('/content/drive/MyDrive/Interim/Topics_User_description_raw_50_with_labels.csv')\n",
    "Classes.head()"
   ],
   "metadata": {
    "colab": {
     "base_uri": "https://localhost:8080/",
     "height": 206
    },
    "id": "6dBj9JSnPJLO",
    "executionInfo": {
     "status": "ok",
     "timestamp": 1668097279462,
     "user_tz": -60,
     "elapsed": 320,
     "user": {
      "displayName": "Naemi Graf",
      "userId": "00297558433787857996"
     }
    },
    "outputId": "77c04914-64bf-4b2f-de9e-e6d7b36853a3",
    "pycharm": {
     "name": "#%%\n"
    }
   },
   "execution_count": null,
   "outputs": [
    {
     "output_type": "execute_result",
     "data": {
      "text/plain": [
       "   Unnamed: 0  Topic  Count                                             Name  \\\n",
       "0           0     -1  50651                           -1_fan_not_mufc_united   \n",
       "1           1      0   2790                     0_father_husband_dad_married   \n",
       "2           2      1   2347                     1_music_dj_bookings_producer   \n",
       "3           3      2   1135  2_photographer_photography_film_cinematographer   \n",
       "4           4      3   1060                                   3_de_la_en_que   \n",
       "\n",
       "           Label  \n",
       "0      Unlabeled  \n",
       "1         Family  \n",
       "2          Music  \n",
       "3  Professionals  \n",
       "4    Non english  "
      ],
      "text/html": [
       "\n",
       "  <div id=\"df-8251adfe-bf80-43ee-8930-20a464dfefd5\">\n",
       "    <div class=\"colab-df-container\">\n",
       "      <div>\n",
       "<style scoped>\n",
       "    .dataframe tbody tr th:only-of-type {\n",
       "        vertical-align: middle;\n",
       "    }\n",
       "\n",
       "    .dataframe tbody tr th {\n",
       "        vertical-align: top;\n",
       "    }\n",
       "\n",
       "    .dataframe thead th {\n",
       "        text-align: right;\n",
       "    }\n",
       "</style>\n",
       "<table border=\"1\" class=\"dataframe\">\n",
       "  <thead>\n",
       "    <tr style=\"text-align: right;\">\n",
       "      <th></th>\n",
       "      <th>Unnamed: 0</th>\n",
       "      <th>Topic</th>\n",
       "      <th>Count</th>\n",
       "      <th>Name</th>\n",
       "      <th>Label</th>\n",
       "    </tr>\n",
       "  </thead>\n",
       "  <tbody>\n",
       "    <tr>\n",
       "      <th>0</th>\n",
       "      <td>0</td>\n",
       "      <td>-1</td>\n",
       "      <td>50651</td>\n",
       "      <td>-1_fan_not_mufc_united</td>\n",
       "      <td>Unlabeled</td>\n",
       "    </tr>\n",
       "    <tr>\n",
       "      <th>1</th>\n",
       "      <td>1</td>\n",
       "      <td>0</td>\n",
       "      <td>2790</td>\n",
       "      <td>0_father_husband_dad_married</td>\n",
       "      <td>Family</td>\n",
       "    </tr>\n",
       "    <tr>\n",
       "      <th>2</th>\n",
       "      <td>2</td>\n",
       "      <td>1</td>\n",
       "      <td>2347</td>\n",
       "      <td>1_music_dj_bookings_producer</td>\n",
       "      <td>Music</td>\n",
       "    </tr>\n",
       "    <tr>\n",
       "      <th>3</th>\n",
       "      <td>3</td>\n",
       "      <td>2</td>\n",
       "      <td>1135</td>\n",
       "      <td>2_photographer_photography_film_cinematographer</td>\n",
       "      <td>Professionals</td>\n",
       "    </tr>\n",
       "    <tr>\n",
       "      <th>4</th>\n",
       "      <td>4</td>\n",
       "      <td>3</td>\n",
       "      <td>1060</td>\n",
       "      <td>3_de_la_en_que</td>\n",
       "      <td>Non english</td>\n",
       "    </tr>\n",
       "  </tbody>\n",
       "</table>\n",
       "</div>\n",
       "      <button class=\"colab-df-convert\" onclick=\"convertToInteractive('df-8251adfe-bf80-43ee-8930-20a464dfefd5')\"\n",
       "              title=\"Convert this dataframe to an interactive table.\"\n",
       "              style=\"display:none;\">\n",
       "        \n",
       "  <svg xmlns=\"http://www.w3.org/2000/svg\" height=\"24px\"viewBox=\"0 0 24 24\"\n",
       "       width=\"24px\">\n",
       "    <path d=\"M0 0h24v24H0V0z\" fill=\"none\"/>\n",
       "    <path d=\"M18.56 5.44l.94 2.06.94-2.06 2.06-.94-2.06-.94-.94-2.06-.94 2.06-2.06.94zm-11 1L8.5 8.5l.94-2.06 2.06-.94-2.06-.94L8.5 2.5l-.94 2.06-2.06.94zm10 10l.94 2.06.94-2.06 2.06-.94-2.06-.94-.94-2.06-.94 2.06-2.06.94z\"/><path d=\"M17.41 7.96l-1.37-1.37c-.4-.4-.92-.59-1.43-.59-.52 0-1.04.2-1.43.59L10.3 9.45l-7.72 7.72c-.78.78-.78 2.05 0 2.83L4 21.41c.39.39.9.59 1.41.59.51 0 1.02-.2 1.41-.59l7.78-7.78 2.81-2.81c.8-.78.8-2.07 0-2.86zM5.41 20L4 18.59l7.72-7.72 1.47 1.35L5.41 20z\"/>\n",
       "  </svg>\n",
       "      </button>\n",
       "      \n",
       "  <style>\n",
       "    .colab-df-container {\n",
       "      display:flex;\n",
       "      flex-wrap:wrap;\n",
       "      gap: 12px;\n",
       "    }\n",
       "\n",
       "    .colab-df-convert {\n",
       "      background-color: #E8F0FE;\n",
       "      border: none;\n",
       "      border-radius: 50%;\n",
       "      cursor: pointer;\n",
       "      display: none;\n",
       "      fill: #1967D2;\n",
       "      height: 32px;\n",
       "      padding: 0 0 0 0;\n",
       "      width: 32px;\n",
       "    }\n",
       "\n",
       "    .colab-df-convert:hover {\n",
       "      background-color: #E2EBFA;\n",
       "      box-shadow: 0px 1px 2px rgba(60, 64, 67, 0.3), 0px 1px 3px 1px rgba(60, 64, 67, 0.15);\n",
       "      fill: #174EA6;\n",
       "    }\n",
       "\n",
       "    [theme=dark] .colab-df-convert {\n",
       "      background-color: #3B4455;\n",
       "      fill: #D2E3FC;\n",
       "    }\n",
       "\n",
       "    [theme=dark] .colab-df-convert:hover {\n",
       "      background-color: #434B5C;\n",
       "      box-shadow: 0px 1px 3px 1px rgba(0, 0, 0, 0.15);\n",
       "      filter: drop-shadow(0px 1px 2px rgba(0, 0, 0, 0.3));\n",
       "      fill: #FFFFFF;\n",
       "    }\n",
       "  </style>\n",
       "\n",
       "      <script>\n",
       "        const buttonEl =\n",
       "          document.querySelector('#df-8251adfe-bf80-43ee-8930-20a464dfefd5 button.colab-df-convert');\n",
       "        buttonEl.style.display =\n",
       "          google.colab.kernel.accessAllowed ? 'block' : 'none';\n",
       "\n",
       "        async function convertToInteractive(key) {\n",
       "          const element = document.querySelector('#df-8251adfe-bf80-43ee-8930-20a464dfefd5');\n",
       "          const dataTable =\n",
       "            await google.colab.kernel.invokeFunction('convertToInteractive',\n",
       "                                                     [key], {});\n",
       "          if (!dataTable) return;\n",
       "\n",
       "          const docLinkHtml = 'Like what you see? Visit the ' +\n",
       "            '<a target=\"_blank\" href=https://colab.research.google.com/notebooks/data_table.ipynb>data table notebook</a>'\n",
       "            + ' to learn more about interactive tables.';\n",
       "          element.innerHTML = '';\n",
       "          dataTable['output_type'] = 'display_data';\n",
       "          await google.colab.output.renderOutput(dataTable, element);\n",
       "          const docLink = document.createElement('div');\n",
       "          docLink.innerHTML = docLinkHtml;\n",
       "          element.appendChild(docLink);\n",
       "        }\n",
       "      </script>\n",
       "    </div>\n",
       "  </div>\n",
       "  "
      ]
     },
     "metadata": {},
     "execution_count": 126
    }
   ]
  },
  {
   "cell_type": "code",
   "source": [
    "data = pd.merge(description_topics_merged, Classes, how = 'left', left_on='Topic_Nr', right_on = 'Topic' )"
   ],
   "metadata": {
    "id": "8n_gThGEPfod",
    "pycharm": {
     "name": "#%%\n"
    }
   },
   "execution_count": null,
   "outputs": []
  },
  {
   "cell_type": "code",
   "source": [
    "data.info()"
   ],
   "metadata": {
    "id": "trwEQgPkQPdW",
    "pycharm": {
     "name": "#%%\n"
    }
   },
   "execution_count": null,
   "outputs": []
  },
  {
   "cell_type": "code",
   "source": [
    "docs = data[\"Description\"]\n",
    "targets = data[\"Topic_Nr\"]\n",
    "target_names = data[\"Label\"]\n",
    "#classes = [data[\"Label\"][i] for i in data[\"Topic_Nr\"]]\n",
    "classes = data['Label']\n",
    "topics_per_class = topic_model.topics_per_class(docs, classes=classes)\n",
    "fig_classes = topic_model.visualize_topics_per_class(topics_per_class, top_n_topics=50)\n",
    "\n",
    "fig_classes"
   ],
   "metadata": {
    "colab": {
     "base_uri": "https://localhost:8080/",
     "height": 934
    },
    "id": "XxFH-IsjQeVu",
    "executionInfo": {
     "status": "ok",
     "timestamp": 1668099748540,
     "user_tz": -60,
     "elapsed": 3281,
     "user": {
      "displayName": "Naemi Graf",
      "userId": "00297558433787857996"
     }
    },
    "outputId": "06ea8adf-ebdb-42b7-cece-6cd7daed30aa",
    "pycharm": {
     "name": "#%%\n"
    }
   },
   "execution_count": null,
   "outputs": [
    {
     "output_type": "stream",
     "name": "stderr",
     "text": [
      "20it [00:02,  7.27it/s]\n"
     ]
    },
    {
     "output_type": "display_data",
     "data": {
      "text/html": [
       "<html>\n",
       "<head><meta charset=\"utf-8\" /></head>\n",
       "<body>\n",
       "    <div>            <script src=\"https://cdnjs.cloudflare.com/ajax/libs/mathjax/2.7.5/MathJax.js?config=TeX-AMS-MML_SVG\"></script><script type=\"text/javascript\">if (window.MathJax) {MathJax.Hub.Config({SVG: {font: \"STIX-Web\"}});}</script>                <script type=\"text/javascript\">window.PlotlyConfig = {MathJaxConfig: 'local'};</script>\n",
       "        <script src=\"https://cdn.plot.ly/plotly-2.8.3.min.js\"></script>                <div id=\"52d72a5c-62a2-4858-8341-f3f67b7523e2\" class=\"plotly-graph-div\" style=\"height:900px; width:1250px;\"></div>            <script type=\"text/javascript\">                                    window.PLOTLYENV=window.PLOTLYENV || {};                                    if (document.getElementById(\"52d72a5c-62a2-4858-8341-f3f67b7523e2\")) {                    Plotly.newPlot(                        \"52d72a5c-62a2-4858-8341-f3f67b7523e2\",                        [{\"hoverinfo\":\"text\",\"hovertext\":[\"<b>Topic 0</b><br>Words: father, husband, dad, married, wife\"],\"marker\":{\"color\":\"#E69F00\"},\"name\":\"0_father_husband_dad_married\",\"orientation\":\"h\",\"visible\":true,\"x\":[2790],\"y\":[\"Family\"],\"type\":\"bar\"},{\"hoverinfo\":\"text\",\"hovertext\":[\"<b>Topic 1</b><br>Words: music, dj, bookings, producer, artist\"],\"marker\":{\"color\":\"#56B4E9\"},\"name\":\"1_music_dj_bookings_producer\",\"orientation\":\"h\",\"visible\":\"legendonly\",\"x\":[2347],\"y\":[\"Music\"],\"type\":\"bar\"},{\"hoverinfo\":\"text\",\"hovertext\":[\"<b>Topic 2</b><br>Words: photographer, photography, film, director, cinematographer\"],\"marker\":{\"color\":\"#009E73\"},\"name\":\"2_photographer_photography_film_cinemato...\",\"orientation\":\"h\",\"visible\":\"legendonly\",\"x\":[1135],\"y\":[\"Professionals\"],\"type\":\"bar\"},{\"hoverinfo\":\"text\",\"hovertext\":[\"<b>Topic 3</b><br>Words: de, la, en, que, del\"],\"marker\":{\"color\":\"#F0E442\"},\"name\":\"3_de_la_en_que\",\"orientation\":\"h\",\"visible\":\"legendonly\",\"x\":[1060],\"y\":[\"Non english\"],\"type\":\"bar\"},{\"hoverinfo\":\"text\",\"hovertext\":[\"<b>Topic 4</b><br>Words: journalist, sports, reporter, commentator, journalism\"],\"marker\":{\"color\":\"#D55E00\"},\"name\":\"4_journalist_sports_reporter_commentator\",\"orientation\":\"h\",\"visible\":\"legendonly\",\"x\":[914],\"y\":[\"Journalists/podcasters\"],\"type\":\"bar\"},{\"hoverinfo\":\"text\",\"hovertext\":[\"<b>Topic 5</b><br>Words: manchester, united, die, fan, hard\"],\"marker\":{\"color\":\"#0072B2\"},\"name\":\"5_manchester_united_die_fan\",\"orientation\":\"h\",\"visible\":\"legendonly\",\"x\":[908],\"y\":[\"Die hard fans\"],\"type\":\"bar\"},{\"hoverinfo\":\"text\",\"hovertext\":[\"<b>Topic 6</b><br>Words: designer, graphic, design, graphics, art\"],\"marker\":{\"color\":\"#CC79A7\"},\"name\":\"6_designer_graphic_design_graphics\",\"orientation\":\"h\",\"visible\":\"legendonly\",\"x\":[885],\"y\":[\"Professionals\"],\"type\":\"bar\"},{\"hoverinfo\":\"text\",\"hovertext\":[\"<b>Topic 7</b><br>Words: crypto, nft, trader, forex, nfts\"],\"marker\":{\"color\":\"#E69F00\"},\"name\":\"7_crypto_nft_trader_forex\",\"orientation\":\"h\",\"visible\":\"legendonly\",\"x\":[872],\"y\":[\"Others\"],\"type\":\"bar\"},{\"hoverinfo\":\"text\",\"hovertext\":[\"<b>Topic 8</b><br>Words: tweets, tweet, twitter, mind, tweeting\"],\"marker\":{\"color\":\"#56B4E9\"},\"name\":\"8_tweets_tweet_twitter_mind\",\"orientation\":\"h\",\"visible\":\"legendonly\",\"x\":[819],\"y\":[\"Others\"],\"type\":\"bar\"},{\"hoverinfo\":\"text\",\"hovertext\":[\"<b>Topic 9</b><br>Words: mufc, ok, not, good, ittihad\"],\"marker\":{\"color\":\"#009E73\"},\"name\":\"9_mufc_ok_aminulh_not\",\"orientation\":\"h\",\"visible\":\"legendonly\",\"x\":[797],\"y\":[\"Die hard fans\"],\"type\":\"bar\"},{\"hoverinfo\":\"text\",\"hovertext\":[\"<b>Topic 10</b><br>Words: life, live, living, mufc, love\"],\"marker\":{\"color\":\"#F0E442\"},\"name\":\"10_life_live_living_mufc\",\"orientation\":\"h\",\"visible\":\"legendonly\",\"x\":[751],\"y\":[\"Hedonists\"],\"type\":\"bar\"},{\"hoverinfo\":\"text\",\"hovertext\":[\"<b>Topic 11</b><br>Words: developer, engineer, software, manchester, web\"],\"marker\":{\"color\":\"#D55E00\"},\"name\":\"11_developer_engineer_software_mancheste...\",\"orientation\":\"h\",\"visible\":\"legendonly\",\"x\":[716],\"y\":[\"Professionals\"],\"type\":\"bar\"},{\"hoverinfo\":\"text\",\"hovertext\":[\"<b>Topic 12</b><br>Words: ggmu, united, manchester, mufc, red\"],\"marker\":{\"color\":\"#0072B2\"},\"name\":\"12_ggmu_united_manchester_mufc\",\"orientation\":\"h\",\"visible\":\"legendonly\",\"x\":[712],\"y\":[\"Die hard fans\"],\"type\":\"bar\"},{\"hoverinfo\":\"text\",\"hovertext\":[\"<b>Topic 13</b><br>Words: news, sports, latest, breaking, updates\"],\"marker\":{\"color\":\"#CC79A7\"},\"name\":\"13_news_sports_latest_breaking\",\"orientation\":\"h\",\"visible\":\"legendonly\",\"x\":[675],\"y\":[\"Journalists/podcasters\"],\"type\":\"bar\"},{\"hoverinfo\":\"text\",\"hovertext\":[\"<b>Topic 14</b><br>Words: music, football, realmadrid, lover, halamadrid\"],\"marker\":{\"color\":\"#E69F00\"},\"name\":\"14_music_football_realmadrid_lover\",\"orientation\":\"h\",\"visible\":\"legendonly\",\"x\":[668],\"y\":[\"Other clubs fans\"],\"type\":\"bar\"},{\"hoverinfo\":\"text\",\"hovertext\":[\"<b>Topic 15</b><br>Words: red, glory, devil, devils, manchester\"],\"marker\":{\"color\":\"#56B4E9\"},\"name\":\"15_red_glory_devil_devils\",\"orientation\":\"h\",\"visible\":\"legendonly\",\"x\":[623],\"y\":[\"Die hard fans\"],\"type\":\"bar\"},{\"hoverinfo\":\"text\",\"hovertext\":[\"<b>Topic 16</b><br>Words: podcast, host, podcaster, podcasts, weekly\"],\"marker\":{\"color\":\"#009E73\"},\"name\":\"16_podcast_host_podcaster_podcasts\",\"orientation\":\"h\",\"visible\":\"legendonly\",\"x\":[604],\"y\":[\"Journalists/podcasters\"],\"type\":\"bar\"},{\"hoverinfo\":\"text\",\"hovertext\":[\"<b>Topic 17</b><br>Words: trust, smile, grace, god, manchester\"],\"marker\":{\"color\":\"#F0E442\"},\"name\":\"17_trust_smile_grace_god\",\"orientation\":\"h\",\"visible\":\"legendonly\",\"x\":[599],\"y\":[\"Religious\"],\"type\":\"bar\"},{\"hoverinfo\":\"text\",\"hovertext\":[\"<b>Topic 18</b><br>Words: yang, dan, di, suka, aku\"],\"marker\":{\"color\":\"#D55E00\"},\"name\":\"18_yang_dan_di_suka\",\"orientation\":\"h\",\"visible\":\"legendonly\",\"x\":[596],\"y\":[\"Non english\"],\"type\":\"bar\"}],                        {\"template\":{\"data\":{\"barpolar\":[{\"marker\":{\"line\":{\"color\":\"white\",\"width\":0.5},\"pattern\":{\"fillmode\":\"overlay\",\"size\":10,\"solidity\":0.2}},\"type\":\"barpolar\"}],\"bar\":[{\"error_x\":{\"color\":\"rgb(36,36,36)\"},\"error_y\":{\"color\":\"rgb(36,36,36)\"},\"marker\":{\"line\":{\"color\":\"white\",\"width\":0.5},\"pattern\":{\"fillmode\":\"overlay\",\"size\":10,\"solidity\":0.2}},\"type\":\"bar\"}],\"carpet\":[{\"aaxis\":{\"endlinecolor\":\"rgb(36,36,36)\",\"gridcolor\":\"white\",\"linecolor\":\"white\",\"minorgridcolor\":\"white\",\"startlinecolor\":\"rgb(36,36,36)\"},\"baxis\":{\"endlinecolor\":\"rgb(36,36,36)\",\"gridcolor\":\"white\",\"linecolor\":\"white\",\"minorgridcolor\":\"white\",\"startlinecolor\":\"rgb(36,36,36)\"},\"type\":\"carpet\"}],\"choropleth\":[{\"colorbar\":{\"outlinewidth\":1,\"tickcolor\":\"rgb(36,36,36)\",\"ticks\":\"outside\"},\"type\":\"choropleth\"}],\"contourcarpet\":[{\"colorbar\":{\"outlinewidth\":1,\"tickcolor\":\"rgb(36,36,36)\",\"ticks\":\"outside\"},\"type\":\"contourcarpet\"}],\"contour\":[{\"colorbar\":{\"outlinewidth\":1,\"tickcolor\":\"rgb(36,36,36)\",\"ticks\":\"outside\"},\"colorscale\":[[0.0,\"#440154\"],[0.1111111111111111,\"#482878\"],[0.2222222222222222,\"#3e4989\"],[0.3333333333333333,\"#31688e\"],[0.4444444444444444,\"#26828e\"],[0.5555555555555556,\"#1f9e89\"],[0.6666666666666666,\"#35b779\"],[0.7777777777777778,\"#6ece58\"],[0.8888888888888888,\"#b5de2b\"],[1.0,\"#fde725\"]],\"type\":\"contour\"}],\"heatmapgl\":[{\"colorbar\":{\"outlinewidth\":1,\"tickcolor\":\"rgb(36,36,36)\",\"ticks\":\"outside\"},\"colorscale\":[[0.0,\"#440154\"],[0.1111111111111111,\"#482878\"],[0.2222222222222222,\"#3e4989\"],[0.3333333333333333,\"#31688e\"],[0.4444444444444444,\"#26828e\"],[0.5555555555555556,\"#1f9e89\"],[0.6666666666666666,\"#35b779\"],[0.7777777777777778,\"#6ece58\"],[0.8888888888888888,\"#b5de2b\"],[1.0,\"#fde725\"]],\"type\":\"heatmapgl\"}],\"heatmap\":[{\"colorbar\":{\"outlinewidth\":1,\"tickcolor\":\"rgb(36,36,36)\",\"ticks\":\"outside\"},\"colorscale\":[[0.0,\"#440154\"],[0.1111111111111111,\"#482878\"],[0.2222222222222222,\"#3e4989\"],[0.3333333333333333,\"#31688e\"],[0.4444444444444444,\"#26828e\"],[0.5555555555555556,\"#1f9e89\"],[0.6666666666666666,\"#35b779\"],[0.7777777777777778,\"#6ece58\"],[0.8888888888888888,\"#b5de2b\"],[1.0,\"#fde725\"]],\"type\":\"heatmap\"}],\"histogram2dcontour\":[{\"colorbar\":{\"outlinewidth\":1,\"tickcolor\":\"rgb(36,36,36)\",\"ticks\":\"outside\"},\"colorscale\":[[0.0,\"#440154\"],[0.1111111111111111,\"#482878\"],[0.2222222222222222,\"#3e4989\"],[0.3333333333333333,\"#31688e\"],[0.4444444444444444,\"#26828e\"],[0.5555555555555556,\"#1f9e89\"],[0.6666666666666666,\"#35b779\"],[0.7777777777777778,\"#6ece58\"],[0.8888888888888888,\"#b5de2b\"],[1.0,\"#fde725\"]],\"type\":\"histogram2dcontour\"}],\"histogram2d\":[{\"colorbar\":{\"outlinewidth\":1,\"tickcolor\":\"rgb(36,36,36)\",\"ticks\":\"outside\"},\"colorscale\":[[0.0,\"#440154\"],[0.1111111111111111,\"#482878\"],[0.2222222222222222,\"#3e4989\"],[0.3333333333333333,\"#31688e\"],[0.4444444444444444,\"#26828e\"],[0.5555555555555556,\"#1f9e89\"],[0.6666666666666666,\"#35b779\"],[0.7777777777777778,\"#6ece58\"],[0.8888888888888888,\"#b5de2b\"],[1.0,\"#fde725\"]],\"type\":\"histogram2d\"}],\"histogram\":[{\"marker\":{\"line\":{\"color\":\"white\",\"width\":0.6}},\"type\":\"histogram\"}],\"mesh3d\":[{\"colorbar\":{\"outlinewidth\":1,\"tickcolor\":\"rgb(36,36,36)\",\"ticks\":\"outside\"},\"type\":\"mesh3d\"}],\"parcoords\":[{\"line\":{\"colorbar\":{\"outlinewidth\":1,\"tickcolor\":\"rgb(36,36,36)\",\"ticks\":\"outside\"}},\"type\":\"parcoords\"}],\"pie\":[{\"automargin\":true,\"type\":\"pie\"}],\"scatter3d\":[{\"line\":{\"colorbar\":{\"outlinewidth\":1,\"tickcolor\":\"rgb(36,36,36)\",\"ticks\":\"outside\"}},\"marker\":{\"colorbar\":{\"outlinewidth\":1,\"tickcolor\":\"rgb(36,36,36)\",\"ticks\":\"outside\"}},\"type\":\"scatter3d\"}],\"scattercarpet\":[{\"marker\":{\"colorbar\":{\"outlinewidth\":1,\"tickcolor\":\"rgb(36,36,36)\",\"ticks\":\"outside\"}},\"type\":\"scattercarpet\"}],\"scattergeo\":[{\"marker\":{\"colorbar\":{\"outlinewidth\":1,\"tickcolor\":\"rgb(36,36,36)\",\"ticks\":\"outside\"}},\"type\":\"scattergeo\"}],\"scattergl\":[{\"marker\":{\"colorbar\":{\"outlinewidth\":1,\"tickcolor\":\"rgb(36,36,36)\",\"ticks\":\"outside\"}},\"type\":\"scattergl\"}],\"scattermapbox\":[{\"marker\":{\"colorbar\":{\"outlinewidth\":1,\"tickcolor\":\"rgb(36,36,36)\",\"ticks\":\"outside\"}},\"type\":\"scattermapbox\"}],\"scatterpolargl\":[{\"marker\":{\"colorbar\":{\"outlinewidth\":1,\"tickcolor\":\"rgb(36,36,36)\",\"ticks\":\"outside\"}},\"type\":\"scatterpolargl\"}],\"scatterpolar\":[{\"marker\":{\"colorbar\":{\"outlinewidth\":1,\"tickcolor\":\"rgb(36,36,36)\",\"ticks\":\"outside\"}},\"type\":\"scatterpolar\"}],\"scatter\":[{\"marker\":{\"colorbar\":{\"outlinewidth\":1,\"tickcolor\":\"rgb(36,36,36)\",\"ticks\":\"outside\"}},\"type\":\"scatter\"}],\"scatterternary\":[{\"marker\":{\"colorbar\":{\"outlinewidth\":1,\"tickcolor\":\"rgb(36,36,36)\",\"ticks\":\"outside\"}},\"type\":\"scatterternary\"}],\"surface\":[{\"colorbar\":{\"outlinewidth\":1,\"tickcolor\":\"rgb(36,36,36)\",\"ticks\":\"outside\"},\"colorscale\":[[0.0,\"#440154\"],[0.1111111111111111,\"#482878\"],[0.2222222222222222,\"#3e4989\"],[0.3333333333333333,\"#31688e\"],[0.4444444444444444,\"#26828e\"],[0.5555555555555556,\"#1f9e89\"],[0.6666666666666666,\"#35b779\"],[0.7777777777777778,\"#6ece58\"],[0.8888888888888888,\"#b5de2b\"],[1.0,\"#fde725\"]],\"type\":\"surface\"}],\"table\":[{\"cells\":{\"fill\":{\"color\":\"rgb(237,237,237)\"},\"line\":{\"color\":\"white\"}},\"header\":{\"fill\":{\"color\":\"rgb(217,217,217)\"},\"line\":{\"color\":\"white\"}},\"type\":\"table\"}]},\"layout\":{\"annotationdefaults\":{\"arrowhead\":0,\"arrowwidth\":1},\"autotypenumbers\":\"strict\",\"coloraxis\":{\"colorbar\":{\"outlinewidth\":1,\"tickcolor\":\"rgb(36,36,36)\",\"ticks\":\"outside\"}},\"colorscale\":{\"diverging\":[[0.0,\"rgb(103,0,31)\"],[0.1,\"rgb(178,24,43)\"],[0.2,\"rgb(214,96,77)\"],[0.3,\"rgb(244,165,130)\"],[0.4,\"rgb(253,219,199)\"],[0.5,\"rgb(247,247,247)\"],[0.6,\"rgb(209,229,240)\"],[0.7,\"rgb(146,197,222)\"],[0.8,\"rgb(67,147,195)\"],[0.9,\"rgb(33,102,172)\"],[1.0,\"rgb(5,48,97)\"]],\"sequential\":[[0.0,\"#440154\"],[0.1111111111111111,\"#482878\"],[0.2222222222222222,\"#3e4989\"],[0.3333333333333333,\"#31688e\"],[0.4444444444444444,\"#26828e\"],[0.5555555555555556,\"#1f9e89\"],[0.6666666666666666,\"#35b779\"],[0.7777777777777778,\"#6ece58\"],[0.8888888888888888,\"#b5de2b\"],[1.0,\"#fde725\"]],\"sequentialminus\":[[0.0,\"#440154\"],[0.1111111111111111,\"#482878\"],[0.2222222222222222,\"#3e4989\"],[0.3333333333333333,\"#31688e\"],[0.4444444444444444,\"#26828e\"],[0.5555555555555556,\"#1f9e89\"],[0.6666666666666666,\"#35b779\"],[0.7777777777777778,\"#6ece58\"],[0.8888888888888888,\"#b5de2b\"],[1.0,\"#fde725\"]]},\"colorway\":[\"#1F77B4\",\"#FF7F0E\",\"#2CA02C\",\"#D62728\",\"#9467BD\",\"#8C564B\",\"#E377C2\",\"#7F7F7F\",\"#BCBD22\",\"#17BECF\"],\"font\":{\"color\":\"rgb(36,36,36)\"},\"geo\":{\"bgcolor\":\"white\",\"lakecolor\":\"white\",\"landcolor\":\"white\",\"showlakes\":true,\"showland\":true,\"subunitcolor\":\"white\"},\"hoverlabel\":{\"align\":\"left\"},\"hovermode\":\"closest\",\"mapbox\":{\"style\":\"light\"},\"paper_bgcolor\":\"white\",\"plot_bgcolor\":\"white\",\"polar\":{\"angularaxis\":{\"gridcolor\":\"rgb(232,232,232)\",\"linecolor\":\"rgb(36,36,36)\",\"showgrid\":false,\"showline\":true,\"ticks\":\"outside\"},\"bgcolor\":\"white\",\"radialaxis\":{\"gridcolor\":\"rgb(232,232,232)\",\"linecolor\":\"rgb(36,36,36)\",\"showgrid\":false,\"showline\":true,\"ticks\":\"outside\"}},\"scene\":{\"xaxis\":{\"backgroundcolor\":\"white\",\"gridcolor\":\"rgb(232,232,232)\",\"gridwidth\":2,\"linecolor\":\"rgb(36,36,36)\",\"showbackground\":true,\"showgrid\":false,\"showline\":true,\"ticks\":\"outside\",\"zeroline\":false,\"zerolinecolor\":\"rgb(36,36,36)\"},\"yaxis\":{\"backgroundcolor\":\"white\",\"gridcolor\":\"rgb(232,232,232)\",\"gridwidth\":2,\"linecolor\":\"rgb(36,36,36)\",\"showbackground\":true,\"showgrid\":false,\"showline\":true,\"ticks\":\"outside\",\"zeroline\":false,\"zerolinecolor\":\"rgb(36,36,36)\"},\"zaxis\":{\"backgroundcolor\":\"white\",\"gridcolor\":\"rgb(232,232,232)\",\"gridwidth\":2,\"linecolor\":\"rgb(36,36,36)\",\"showbackground\":true,\"showgrid\":false,\"showline\":true,\"ticks\":\"outside\",\"zeroline\":false,\"zerolinecolor\":\"rgb(36,36,36)\"}},\"shapedefaults\":{\"fillcolor\":\"black\",\"line\":{\"width\":0},\"opacity\":0.3},\"ternary\":{\"aaxis\":{\"gridcolor\":\"rgb(232,232,232)\",\"linecolor\":\"rgb(36,36,36)\",\"showgrid\":false,\"showline\":true,\"ticks\":\"outside\"},\"baxis\":{\"gridcolor\":\"rgb(232,232,232)\",\"linecolor\":\"rgb(36,36,36)\",\"showgrid\":false,\"showline\":true,\"ticks\":\"outside\"},\"bgcolor\":\"white\",\"caxis\":{\"gridcolor\":\"rgb(232,232,232)\",\"linecolor\":\"rgb(36,36,36)\",\"showgrid\":false,\"showline\":true,\"ticks\":\"outside\"}},\"title\":{\"x\":0.05},\"xaxis\":{\"automargin\":true,\"gridcolor\":\"rgb(232,232,232)\",\"linecolor\":\"rgb(36,36,36)\",\"showgrid\":false,\"showline\":true,\"ticks\":\"outside\",\"title\":{\"standoff\":15},\"zeroline\":false,\"zerolinecolor\":\"rgb(36,36,36)\"},\"yaxis\":{\"automargin\":true,\"gridcolor\":\"rgb(232,232,232)\",\"linecolor\":\"rgb(36,36,36)\",\"showgrid\":false,\"showline\":true,\"ticks\":\"outside\",\"title\":{\"standoff\":15},\"zeroline\":false,\"zerolinecolor\":\"rgb(36,36,36)\"}}},\"xaxis\":{\"showgrid\":true,\"title\":{\"text\":\"Frequency\"}},\"yaxis\":{\"showgrid\":true,\"title\":{\"text\":\"Class\"}},\"title\":{\"font\":{\"size\":22,\"color\":\"Black\"},\"text\":\"<b>Topics per Class\",\"y\":0.95,\"x\":0.4,\"xanchor\":\"center\",\"yanchor\":\"top\"},\"hoverlabel\":{\"font\":{\"size\":16,\"family\":\"Rockwell\"},\"bgcolor\":\"white\"},\"width\":1250,\"height\":900,\"legend\":{\"title\":{\"text\":\"<b>Global Topic Representation\"}}},                        {\"responsive\": true}                    ).then(function(){\n",
       "                            \n",
       "var gd = document.getElementById('52d72a5c-62a2-4858-8341-f3f67b7523e2');\n",
       "var x = new MutationObserver(function (mutations, observer) {{\n",
       "        var display = window.getComputedStyle(gd).display;\n",
       "        if (!display || display === 'none') {{\n",
       "            console.log([gd, 'removed!']);\n",
       "            Plotly.purge(gd);\n",
       "            observer.disconnect();\n",
       "        }}\n",
       "}});\n",
       "\n",
       "// Listen for the removal of the full notebook cells\n",
       "var notebookContainer = gd.closest('#notebook-container');\n",
       "if (notebookContainer) {{\n",
       "    x.observe(notebookContainer, {childList: true});\n",
       "}}\n",
       "\n",
       "// Listen for the clearing of the current output cell\n",
       "var outputEl = gd.closest('.output');\n",
       "if (outputEl) {{\n",
       "    x.observe(outputEl, {childList: true});\n",
       "}}\n",
       "\n",
       "                        })                };                            </script>        </div>\n",
       "</body>\n",
       "</html>"
      ]
     },
     "metadata": {}
    }
   ]
  },
  {
   "cell_type": "code",
   "source": [
    "import plotly.express as px\n",
    "fig_classes.write_html(\"/content/drive/MyDrive/Interim/fig_classes.html\")"
   ],
   "metadata": {
    "id": "WQmJeozgfsag",
    "pycharm": {
     "name": "#%%\n"
    }
   },
   "execution_count": null,
   "outputs": []
  },
  {
   "cell_type": "markdown",
   "source": [
    "# Vizualisation"
   ],
   "metadata": {
    "id": "de18XWDBzn0i",
    "pycharm": {
     "name": "#%% md\n"
    }
   }
  },
  {
   "cell_type": "markdown",
   "source": [
    "\n",
    "We can visualize the basic topics that were created with the Intertopic Distance Map. This allows us to judge visually whether the basic topics are sufficient before proceeding to creating the topics over time."
   ],
   "metadata": {
    "id": "N2VmO6LJkT8K",
    "pycharm": {
     "name": "#%% md\n"
    }
   }
  },
  {
   "cell_type": "code",
   "source": [
    "fig_Cluster = topic_model.visualize_topics(); fig_Cluster"
   ],
   "metadata": {
    "id": "bVpUT6RAspP4",
    "colab": {
     "base_uri": "https://localhost:8080/",
     "height": 667
    },
    "executionInfo": {
     "status": "ok",
     "timestamp": 1668099847871,
     "user_tz": -60,
     "elapsed": 3697,
     "user": {
      "displayName": "Naemi Graf",
      "userId": "00297558433787857996"
     }
    },
    "outputId": "3a4db219-2d6e-4a32-d852-1e37169c17c5",
    "pycharm": {
     "name": "#%%\n"
    }
   },
   "execution_count": null,
   "outputs": [
    {
     "output_type": "display_data",
     "data": {
      "text/html": [
       "<html>\n",
       "<head><meta charset=\"utf-8\" /></head>\n",
       "<body>\n",
       "    <div>            <script src=\"https://cdnjs.cloudflare.com/ajax/libs/mathjax/2.7.5/MathJax.js?config=TeX-AMS-MML_SVG\"></script><script type=\"text/javascript\">if (window.MathJax) {MathJax.Hub.Config({SVG: {font: \"STIX-Web\"}});}</script>                <script type=\"text/javascript\">window.PlotlyConfig = {MathJaxConfig: 'local'};</script>\n",
       "        <script src=\"https://cdn.plot.ly/plotly-2.8.3.min.js\"></script>                <div id=\"670209ed-8051-4f31-bae8-768e81e312c0\" class=\"plotly-graph-div\" style=\"height:650px; width:650px;\"></div>            <script type=\"text/javascript\">                                    window.PLOTLYENV=window.PLOTLYENV || {};                                    if (document.getElementById(\"670209ed-8051-4f31-bae8-768e81e312c0\")) {                    Plotly.newPlot(                        \"670209ed-8051-4f31-bae8-768e81e312c0\",                        [{\"customdata\":[[0,\"father | husband | dad | married | wife\",2790],[1,\"music | dj | bookings | producer | artist\",2347],[2,\"photographer | photography | film | cinematographer | director\",1135],[3,\"de | la | en | que | del\",1060],[4,\"journalist | sports | reporter | commentator | journalism\",914],[5,\"manchester | united | die | fan | hard\",908],[6,\"designer | graphic | design | graphics | art\",885],[7,\"crypto | nft | trader | forex | nfts\",872],[8,\"tweets | tweet | twitter | mind | not\",819],[9,\"mufc | ok | aminulh | not | cr\",797],[10,\"life | live | living | mufc | love\",751],[11,\"developer | engineer | software | manchester | web\",716],[12,\"ggmu | united | manchester | mufc | red\",712],[13,\"news | sports | latest | breaking | updates\",675],[14,\"music | football | realmadrid | lover | halamadrid\",668],[15,\"red | glory | devil | devils | manchester\",623],[16,\"podcast | host | podcaster | podcasts | weekly\",604],[17,\"trust | smile | grace | god | manchester\",599],[18,\"yang | dan | di | suka | aku\",596],[19,\"chelsea | chelseafc | fc | fan | blue\",590],[20,\"betting | tips | odds | bet | responsibly\",589],[21,\"data | politics | analyst | sports | football\",529],[22,\"arsenal | fan | coyg | gunners | gunner\",525],[23,\"utd | man | fan | die | united\",519],[24,\"glazersout | glazers | mufc | united | glazersoutnow\",505],[25,\"news | transfer | transfers | latest | updates\",497],[26,\"ig | follow | st | join | fb\",490],[27,\"marketing | digital | marketer | social | media\",486],[28,\"cricket | indian | tennis | proud | football\",473],[29,\"beer | coffee | wine | food | drink\",433],[30,\"music | manchester | united | lover | fan\",429],[31,\"human | political | activist | rights | advocate\",380],[32,\"live | watch | stream | free | streams\",376],[33,\"manutd | fan | die | manutdwomen | hard\",373],[34,\"celtics | yankees | patriots | boston | bruins\",370],[35,\"engineer | civil | engineering | electrical | mechanical\",366],[36,\"doctor | health | pharmacist | medical | mental\",365],[37,\"instagram | snapchat | insta | facebook | snap\",362],[38,\"liverpool | lfc | ynwa | walk | alone\",352],[39,\"whatsapp | logistics | car | delivery | accessories\",322],[40,\"messi | barcelona | barca | fc | visca\",314],[41,\"allah | muslim | alhamdulillah | islam | muhammad\",314],[42,\"twitter | villa | leeds | official | tweets\",309],[43,\"ronaldo | cristiano | manutd | fan | viva\",307],[44,\"fpl | rank | top | fantasy | finishes\",303],[45,\"accountant | accounting | financial | chartered | finance\",297],[46,\"ireland | irish | dublin | gaa | celtic\",292],[47,\"boxing | ufc | mma | mufc | boxer\",291],[48,\"views | opinions | opinion | employer | not\",285],[49,\"endorsements | endorsement | rts | retweets | not\",279]],\"hovertemplate\":\"<b>Topic %{customdata[0]}</b><br>Words: %{customdata[1]}<br>Size: %{customdata[2]}\",\"legendgroup\":\"\",\"marker\":{\"color\":\"#B0BEC5\",\"size\":[2790,2347,1135,1060,914,908,885,872,819,797,751,716,712,675,668,623,604,599,596,590,589,529,525,519,505,497,490,486,473,433,429,380,376,373,370,366,365,362,352,322,314,314,309,307,303,297,292,291,285,279],\"sizemode\":\"area\",\"sizeref\":1.74375,\"symbol\":\"circle\",\"line\":{\"color\":\"DarkSlateGrey\",\"width\":2}},\"mode\":\"markers\",\"name\":\"\",\"orientation\":\"v\",\"showlegend\":false,\"x\":[-2.5233492851257324,-2.273716688156128,-5.8792853355407715,-5.54356575012207,8.553840637207031,4.480282306671143,4.178457260131836,4.426825523376465,-6.849070072174072,-6.222337245941162,-6.416174411773682,5.275294303894043,-6.513021945953369,8.142098426818848,-2.166623592376709,4.482617378234863,8.633941650390625,-6.104614734649658,-6.660589218139648,-5.79841947555542,8.370091438293457,6.191242218017578,4.348809242248535,4.189502239227295,4.198585510253906,8.471212387084961,-7.065830230712891,4.694547653198242,6.293613910675049,-2.4493703842163086,-2.3909077644348145,6.077569007873535,8.127095222473145,4.132527828216553,-5.820938587188721,5.185184478759766,6.933678150177002,4.2635498046875,-5.970993518829346,4.571071624755859,-5.735150337219238,-6.034613132476807,4.569893836975098,-5.764050006866455,7.96546745300293,6.833155632019043,4.720337390899658,4.557764530181885,-7.114802360534668,5.965967655181885],\"xaxis\":\"x\",\"y\":[7.505513668060303,7.97187614440918,-9.434089660644531,-8.94603443145752,11.223699569702148,-7.979773044586182,2.5901684761047363,2.4515061378479004,-11.185961723327637,-10.959281921386719,-10.84574031829834,2.6192188262939453,-9.81083869934082,10.433815956115723,8.040963172912598,-8.380606651306152,11.071672439575195,-9.938353538513184,-9.68093204498291,-9.448789596557617,10.66462230682373,2.8585305213928223,-7.183216094970703,-8.145051956176758,-7.866061687469482,10.520273208618164,-11.36032772064209,2.520059108734131,2.6133315563201904,7.613441467285156,7.8653883934021,2.8017358779907227,10.798022270202637,-8.292391777038574,-11.545238494873047,2.715057849884033,3.015244722366333,-6.964902400970459,-11.375373840332031,2.428157091140747,-8.853156089782715,-9.995795249938965,-8.697388648986816,-8.733034133911133,10.469024658203125,2.951735496520996,-8.841039657592773,-7.946732044219971,-11.419471740722656,2.5766000747680664],\"yaxis\":\"y\",\"type\":\"scatter\"}],                        {\"template\":{\"data\":{\"barpolar\":[{\"marker\":{\"line\":{\"color\":\"white\",\"width\":0.5},\"pattern\":{\"fillmode\":\"overlay\",\"size\":10,\"solidity\":0.2}},\"type\":\"barpolar\"}],\"bar\":[{\"error_x\":{\"color\":\"rgb(36,36,36)\"},\"error_y\":{\"color\":\"rgb(36,36,36)\"},\"marker\":{\"line\":{\"color\":\"white\",\"width\":0.5},\"pattern\":{\"fillmode\":\"overlay\",\"size\":10,\"solidity\":0.2}},\"type\":\"bar\"}],\"carpet\":[{\"aaxis\":{\"endlinecolor\":\"rgb(36,36,36)\",\"gridcolor\":\"white\",\"linecolor\":\"white\",\"minorgridcolor\":\"white\",\"startlinecolor\":\"rgb(36,36,36)\"},\"baxis\":{\"endlinecolor\":\"rgb(36,36,36)\",\"gridcolor\":\"white\",\"linecolor\":\"white\",\"minorgridcolor\":\"white\",\"startlinecolor\":\"rgb(36,36,36)\"},\"type\":\"carpet\"}],\"choropleth\":[{\"colorbar\":{\"outlinewidth\":1,\"tickcolor\":\"rgb(36,36,36)\",\"ticks\":\"outside\"},\"type\":\"choropleth\"}],\"contourcarpet\":[{\"colorbar\":{\"outlinewidth\":1,\"tickcolor\":\"rgb(36,36,36)\",\"ticks\":\"outside\"},\"type\":\"contourcarpet\"}],\"contour\":[{\"colorbar\":{\"outlinewidth\":1,\"tickcolor\":\"rgb(36,36,36)\",\"ticks\":\"outside\"},\"colorscale\":[[0.0,\"#440154\"],[0.1111111111111111,\"#482878\"],[0.2222222222222222,\"#3e4989\"],[0.3333333333333333,\"#31688e\"],[0.4444444444444444,\"#26828e\"],[0.5555555555555556,\"#1f9e89\"],[0.6666666666666666,\"#35b779\"],[0.7777777777777778,\"#6ece58\"],[0.8888888888888888,\"#b5de2b\"],[1.0,\"#fde725\"]],\"type\":\"contour\"}],\"heatmapgl\":[{\"colorbar\":{\"outlinewidth\":1,\"tickcolor\":\"rgb(36,36,36)\",\"ticks\":\"outside\"},\"colorscale\":[[0.0,\"#440154\"],[0.1111111111111111,\"#482878\"],[0.2222222222222222,\"#3e4989\"],[0.3333333333333333,\"#31688e\"],[0.4444444444444444,\"#26828e\"],[0.5555555555555556,\"#1f9e89\"],[0.6666666666666666,\"#35b779\"],[0.7777777777777778,\"#6ece58\"],[0.8888888888888888,\"#b5de2b\"],[1.0,\"#fde725\"]],\"type\":\"heatmapgl\"}],\"heatmap\":[{\"colorbar\":{\"outlinewidth\":1,\"tickcolor\":\"rgb(36,36,36)\",\"ticks\":\"outside\"},\"colorscale\":[[0.0,\"#440154\"],[0.1111111111111111,\"#482878\"],[0.2222222222222222,\"#3e4989\"],[0.3333333333333333,\"#31688e\"],[0.4444444444444444,\"#26828e\"],[0.5555555555555556,\"#1f9e89\"],[0.6666666666666666,\"#35b779\"],[0.7777777777777778,\"#6ece58\"],[0.8888888888888888,\"#b5de2b\"],[1.0,\"#fde725\"]],\"type\":\"heatmap\"}],\"histogram2dcontour\":[{\"colorbar\":{\"outlinewidth\":1,\"tickcolor\":\"rgb(36,36,36)\",\"ticks\":\"outside\"},\"colorscale\":[[0.0,\"#440154\"],[0.1111111111111111,\"#482878\"],[0.2222222222222222,\"#3e4989\"],[0.3333333333333333,\"#31688e\"],[0.4444444444444444,\"#26828e\"],[0.5555555555555556,\"#1f9e89\"],[0.6666666666666666,\"#35b779\"],[0.7777777777777778,\"#6ece58\"],[0.8888888888888888,\"#b5de2b\"],[1.0,\"#fde725\"]],\"type\":\"histogram2dcontour\"}],\"histogram2d\":[{\"colorbar\":{\"outlinewidth\":1,\"tickcolor\":\"rgb(36,36,36)\",\"ticks\":\"outside\"},\"colorscale\":[[0.0,\"#440154\"],[0.1111111111111111,\"#482878\"],[0.2222222222222222,\"#3e4989\"],[0.3333333333333333,\"#31688e\"],[0.4444444444444444,\"#26828e\"],[0.5555555555555556,\"#1f9e89\"],[0.6666666666666666,\"#35b779\"],[0.7777777777777778,\"#6ece58\"],[0.8888888888888888,\"#b5de2b\"],[1.0,\"#fde725\"]],\"type\":\"histogram2d\"}],\"histogram\":[{\"marker\":{\"line\":{\"color\":\"white\",\"width\":0.6}},\"type\":\"histogram\"}],\"mesh3d\":[{\"colorbar\":{\"outlinewidth\":1,\"tickcolor\":\"rgb(36,36,36)\",\"ticks\":\"outside\"},\"type\":\"mesh3d\"}],\"parcoords\":[{\"line\":{\"colorbar\":{\"outlinewidth\":1,\"tickcolor\":\"rgb(36,36,36)\",\"ticks\":\"outside\"}},\"type\":\"parcoords\"}],\"pie\":[{\"automargin\":true,\"type\":\"pie\"}],\"scatter3d\":[{\"line\":{\"colorbar\":{\"outlinewidth\":1,\"tickcolor\":\"rgb(36,36,36)\",\"ticks\":\"outside\"}},\"marker\":{\"colorbar\":{\"outlinewidth\":1,\"tickcolor\":\"rgb(36,36,36)\",\"ticks\":\"outside\"}},\"type\":\"scatter3d\"}],\"scattercarpet\":[{\"marker\":{\"colorbar\":{\"outlinewidth\":1,\"tickcolor\":\"rgb(36,36,36)\",\"ticks\":\"outside\"}},\"type\":\"scattercarpet\"}],\"scattergeo\":[{\"marker\":{\"colorbar\":{\"outlinewidth\":1,\"tickcolor\":\"rgb(36,36,36)\",\"ticks\":\"outside\"}},\"type\":\"scattergeo\"}],\"scattergl\":[{\"marker\":{\"colorbar\":{\"outlinewidth\":1,\"tickcolor\":\"rgb(36,36,36)\",\"ticks\":\"outside\"}},\"type\":\"scattergl\"}],\"scattermapbox\":[{\"marker\":{\"colorbar\":{\"outlinewidth\":1,\"tickcolor\":\"rgb(36,36,36)\",\"ticks\":\"outside\"}},\"type\":\"scattermapbox\"}],\"scatterpolargl\":[{\"marker\":{\"colorbar\":{\"outlinewidth\":1,\"tickcolor\":\"rgb(36,36,36)\",\"ticks\":\"outside\"}},\"type\":\"scatterpolargl\"}],\"scatterpolar\":[{\"marker\":{\"colorbar\":{\"outlinewidth\":1,\"tickcolor\":\"rgb(36,36,36)\",\"ticks\":\"outside\"}},\"type\":\"scatterpolar\"}],\"scatter\":[{\"marker\":{\"colorbar\":{\"outlinewidth\":1,\"tickcolor\":\"rgb(36,36,36)\",\"ticks\":\"outside\"}},\"type\":\"scatter\"}],\"scatterternary\":[{\"marker\":{\"colorbar\":{\"outlinewidth\":1,\"tickcolor\":\"rgb(36,36,36)\",\"ticks\":\"outside\"}},\"type\":\"scatterternary\"}],\"surface\":[{\"colorbar\":{\"outlinewidth\":1,\"tickcolor\":\"rgb(36,36,36)\",\"ticks\":\"outside\"},\"colorscale\":[[0.0,\"#440154\"],[0.1111111111111111,\"#482878\"],[0.2222222222222222,\"#3e4989\"],[0.3333333333333333,\"#31688e\"],[0.4444444444444444,\"#26828e\"],[0.5555555555555556,\"#1f9e89\"],[0.6666666666666666,\"#35b779\"],[0.7777777777777778,\"#6ece58\"],[0.8888888888888888,\"#b5de2b\"],[1.0,\"#fde725\"]],\"type\":\"surface\"}],\"table\":[{\"cells\":{\"fill\":{\"color\":\"rgb(237,237,237)\"},\"line\":{\"color\":\"white\"}},\"header\":{\"fill\":{\"color\":\"rgb(217,217,217)\"},\"line\":{\"color\":\"white\"}},\"type\":\"table\"}]},\"layout\":{\"annotationdefaults\":{\"arrowhead\":0,\"arrowwidth\":1},\"autotypenumbers\":\"strict\",\"coloraxis\":{\"colorbar\":{\"outlinewidth\":1,\"tickcolor\":\"rgb(36,36,36)\",\"ticks\":\"outside\"}},\"colorscale\":{\"diverging\":[[0.0,\"rgb(103,0,31)\"],[0.1,\"rgb(178,24,43)\"],[0.2,\"rgb(214,96,77)\"],[0.3,\"rgb(244,165,130)\"],[0.4,\"rgb(253,219,199)\"],[0.5,\"rgb(247,247,247)\"],[0.6,\"rgb(209,229,240)\"],[0.7,\"rgb(146,197,222)\"],[0.8,\"rgb(67,147,195)\"],[0.9,\"rgb(33,102,172)\"],[1.0,\"rgb(5,48,97)\"]],\"sequential\":[[0.0,\"#440154\"],[0.1111111111111111,\"#482878\"],[0.2222222222222222,\"#3e4989\"],[0.3333333333333333,\"#31688e\"],[0.4444444444444444,\"#26828e\"],[0.5555555555555556,\"#1f9e89\"],[0.6666666666666666,\"#35b779\"],[0.7777777777777778,\"#6ece58\"],[0.8888888888888888,\"#b5de2b\"],[1.0,\"#fde725\"]],\"sequentialminus\":[[0.0,\"#440154\"],[0.1111111111111111,\"#482878\"],[0.2222222222222222,\"#3e4989\"],[0.3333333333333333,\"#31688e\"],[0.4444444444444444,\"#26828e\"],[0.5555555555555556,\"#1f9e89\"],[0.6666666666666666,\"#35b779\"],[0.7777777777777778,\"#6ece58\"],[0.8888888888888888,\"#b5de2b\"],[1.0,\"#fde725\"]]},\"colorway\":[\"#1F77B4\",\"#FF7F0E\",\"#2CA02C\",\"#D62728\",\"#9467BD\",\"#8C564B\",\"#E377C2\",\"#7F7F7F\",\"#BCBD22\",\"#17BECF\"],\"font\":{\"color\":\"rgb(36,36,36)\"},\"geo\":{\"bgcolor\":\"white\",\"lakecolor\":\"white\",\"landcolor\":\"white\",\"showlakes\":true,\"showland\":true,\"subunitcolor\":\"white\"},\"hoverlabel\":{\"align\":\"left\"},\"hovermode\":\"closest\",\"mapbox\":{\"style\":\"light\"},\"paper_bgcolor\":\"white\",\"plot_bgcolor\":\"white\",\"polar\":{\"angularaxis\":{\"gridcolor\":\"rgb(232,232,232)\",\"linecolor\":\"rgb(36,36,36)\",\"showgrid\":false,\"showline\":true,\"ticks\":\"outside\"},\"bgcolor\":\"white\",\"radialaxis\":{\"gridcolor\":\"rgb(232,232,232)\",\"linecolor\":\"rgb(36,36,36)\",\"showgrid\":false,\"showline\":true,\"ticks\":\"outside\"}},\"scene\":{\"xaxis\":{\"backgroundcolor\":\"white\",\"gridcolor\":\"rgb(232,232,232)\",\"gridwidth\":2,\"linecolor\":\"rgb(36,36,36)\",\"showbackground\":true,\"showgrid\":false,\"showline\":true,\"ticks\":\"outside\",\"zeroline\":false,\"zerolinecolor\":\"rgb(36,36,36)\"},\"yaxis\":{\"backgroundcolor\":\"white\",\"gridcolor\":\"rgb(232,232,232)\",\"gridwidth\":2,\"linecolor\":\"rgb(36,36,36)\",\"showbackground\":true,\"showgrid\":false,\"showline\":true,\"ticks\":\"outside\",\"zeroline\":false,\"zerolinecolor\":\"rgb(36,36,36)\"},\"zaxis\":{\"backgroundcolor\":\"white\",\"gridcolor\":\"rgb(232,232,232)\",\"gridwidth\":2,\"linecolor\":\"rgb(36,36,36)\",\"showbackground\":true,\"showgrid\":false,\"showline\":true,\"ticks\":\"outside\",\"zeroline\":false,\"zerolinecolor\":\"rgb(36,36,36)\"}},\"shapedefaults\":{\"fillcolor\":\"black\",\"line\":{\"width\":0},\"opacity\":0.3},\"ternary\":{\"aaxis\":{\"gridcolor\":\"rgb(232,232,232)\",\"linecolor\":\"rgb(36,36,36)\",\"showgrid\":false,\"showline\":true,\"ticks\":\"outside\"},\"baxis\":{\"gridcolor\":\"rgb(232,232,232)\",\"linecolor\":\"rgb(36,36,36)\",\"showgrid\":false,\"showline\":true,\"ticks\":\"outside\"},\"bgcolor\":\"white\",\"caxis\":{\"gridcolor\":\"rgb(232,232,232)\",\"linecolor\":\"rgb(36,36,36)\",\"showgrid\":false,\"showline\":true,\"ticks\":\"outside\"}},\"title\":{\"x\":0.05},\"xaxis\":{\"automargin\":true,\"gridcolor\":\"rgb(232,232,232)\",\"linecolor\":\"rgb(36,36,36)\",\"showgrid\":false,\"showline\":true,\"ticks\":\"outside\",\"title\":{\"standoff\":15},\"zeroline\":false,\"zerolinecolor\":\"rgb(36,36,36)\"},\"yaxis\":{\"automargin\":true,\"gridcolor\":\"rgb(232,232,232)\",\"linecolor\":\"rgb(36,36,36)\",\"showgrid\":false,\"showline\":true,\"ticks\":\"outside\",\"title\":{\"standoff\":15},\"zeroline\":false,\"zerolinecolor\":\"rgb(36,36,36)\"}}},\"xaxis\":{\"anchor\":\"y\",\"domain\":[0.0,1.0],\"title\":{\"text\":\"\"},\"visible\":false,\"range\":[-8.182022714614869,9.929032897949218]},\"yaxis\":{\"anchor\":\"x\",\"domain\":[0.0,1.0],\"title\":{\"text\":\"\"},\"visible\":false,\"range\":[-13.277024269104004,12.907254505157471]},\"legend\":{\"tracegroupgap\":0,\"itemsizing\":\"constant\"},\"margin\":{\"t\":60},\"title\":{\"font\":{\"size\":22,\"color\":\"Black\"},\"text\":\"<b>Intertopic Distance Map\",\"y\":0.95,\"x\":0.5,\"xanchor\":\"center\",\"yanchor\":\"top\"},\"hoverlabel\":{\"font\":{\"size\":16,\"family\":\"Rockwell\"},\"bgcolor\":\"white\"},\"width\":650,\"height\":650,\"sliders\":[{\"active\":0,\"pad\":{\"t\":50},\"steps\":[{\"args\":[{\"marker.color\":[[\"red\",\"#B0BEC5\",\"#B0BEC5\",\"#B0BEC5\",\"#B0BEC5\",\"#B0BEC5\",\"#B0BEC5\",\"#B0BEC5\",\"#B0BEC5\",\"#B0BEC5\",\"#B0BEC5\",\"#B0BEC5\",\"#B0BEC5\",\"#B0BEC5\",\"#B0BEC5\",\"#B0BEC5\",\"#B0BEC5\",\"#B0BEC5\",\"#B0BEC5\",\"#B0BEC5\",\"#B0BEC5\",\"#B0BEC5\",\"#B0BEC5\",\"#B0BEC5\",\"#B0BEC5\",\"#B0BEC5\",\"#B0BEC5\",\"#B0BEC5\",\"#B0BEC5\",\"#B0BEC5\",\"#B0BEC5\",\"#B0BEC5\",\"#B0BEC5\",\"#B0BEC5\",\"#B0BEC5\",\"#B0BEC5\",\"#B0BEC5\",\"#B0BEC5\",\"#B0BEC5\",\"#B0BEC5\",\"#B0BEC5\",\"#B0BEC5\",\"#B0BEC5\",\"#B0BEC5\",\"#B0BEC5\",\"#B0BEC5\",\"#B0BEC5\",\"#B0BEC5\",\"#B0BEC5\",\"#B0BEC5\"]]}],\"label\":\"Topic 0\",\"method\":\"update\"},{\"args\":[{\"marker.color\":[[\"#B0BEC5\",\"red\",\"#B0BEC5\",\"#B0BEC5\",\"#B0BEC5\",\"#B0BEC5\",\"#B0BEC5\",\"#B0BEC5\",\"#B0BEC5\",\"#B0BEC5\",\"#B0BEC5\",\"#B0BEC5\",\"#B0BEC5\",\"#B0BEC5\",\"#B0BEC5\",\"#B0BEC5\",\"#B0BEC5\",\"#B0BEC5\",\"#B0BEC5\",\"#B0BEC5\",\"#B0BEC5\",\"#B0BEC5\",\"#B0BEC5\",\"#B0BEC5\",\"#B0BEC5\",\"#B0BEC5\",\"#B0BEC5\",\"#B0BEC5\",\"#B0BEC5\",\"#B0BEC5\",\"#B0BEC5\",\"#B0BEC5\",\"#B0BEC5\",\"#B0BEC5\",\"#B0BEC5\",\"#B0BEC5\",\"#B0BEC5\",\"#B0BEC5\",\"#B0BEC5\",\"#B0BEC5\",\"#B0BEC5\",\"#B0BEC5\",\"#B0BEC5\",\"#B0BEC5\",\"#B0BEC5\",\"#B0BEC5\",\"#B0BEC5\",\"#B0BEC5\",\"#B0BEC5\",\"#B0BEC5\"]]}],\"label\":\"Topic 1\",\"method\":\"update\"},{\"args\":[{\"marker.color\":[[\"#B0BEC5\",\"#B0BEC5\",\"red\",\"#B0BEC5\",\"#B0BEC5\",\"#B0BEC5\",\"#B0BEC5\",\"#B0BEC5\",\"#B0BEC5\",\"#B0BEC5\",\"#B0BEC5\",\"#B0BEC5\",\"#B0BEC5\",\"#B0BEC5\",\"#B0BEC5\",\"#B0BEC5\",\"#B0BEC5\",\"#B0BEC5\",\"#B0BEC5\",\"#B0BEC5\",\"#B0BEC5\",\"#B0BEC5\",\"#B0BEC5\",\"#B0BEC5\",\"#B0BEC5\",\"#B0BEC5\",\"#B0BEC5\",\"#B0BEC5\",\"#B0BEC5\",\"#B0BEC5\",\"#B0BEC5\",\"#B0BEC5\",\"#B0BEC5\",\"#B0BEC5\",\"#B0BEC5\",\"#B0BEC5\",\"#B0BEC5\",\"#B0BEC5\",\"#B0BEC5\",\"#B0BEC5\",\"#B0BEC5\",\"#B0BEC5\",\"#B0BEC5\",\"#B0BEC5\",\"#B0BEC5\",\"#B0BEC5\",\"#B0BEC5\",\"#B0BEC5\",\"#B0BEC5\",\"#B0BEC5\"]]}],\"label\":\"Topic 2\",\"method\":\"update\"},{\"args\":[{\"marker.color\":[[\"#B0BEC5\",\"#B0BEC5\",\"#B0BEC5\",\"red\",\"#B0BEC5\",\"#B0BEC5\",\"#B0BEC5\",\"#B0BEC5\",\"#B0BEC5\",\"#B0BEC5\",\"#B0BEC5\",\"#B0BEC5\",\"#B0BEC5\",\"#B0BEC5\",\"#B0BEC5\",\"#B0BEC5\",\"#B0BEC5\",\"#B0BEC5\",\"#B0BEC5\",\"#B0BEC5\",\"#B0BEC5\",\"#B0BEC5\",\"#B0BEC5\",\"#B0BEC5\",\"#B0BEC5\",\"#B0BEC5\",\"#B0BEC5\",\"#B0BEC5\",\"#B0BEC5\",\"#B0BEC5\",\"#B0BEC5\",\"#B0BEC5\",\"#B0BEC5\",\"#B0BEC5\",\"#B0BEC5\",\"#B0BEC5\",\"#B0BEC5\",\"#B0BEC5\",\"#B0BEC5\",\"#B0BEC5\",\"#B0BEC5\",\"#B0BEC5\",\"#B0BEC5\",\"#B0BEC5\",\"#B0BEC5\",\"#B0BEC5\",\"#B0BEC5\",\"#B0BEC5\",\"#B0BEC5\",\"#B0BEC5\"]]}],\"label\":\"Topic 3\",\"method\":\"update\"},{\"args\":[{\"marker.color\":[[\"#B0BEC5\",\"#B0BEC5\",\"#B0BEC5\",\"#B0BEC5\",\"red\",\"#B0BEC5\",\"#B0BEC5\",\"#B0BEC5\",\"#B0BEC5\",\"#B0BEC5\",\"#B0BEC5\",\"#B0BEC5\",\"#B0BEC5\",\"#B0BEC5\",\"#B0BEC5\",\"#B0BEC5\",\"#B0BEC5\",\"#B0BEC5\",\"#B0BEC5\",\"#B0BEC5\",\"#B0BEC5\",\"#B0BEC5\",\"#B0BEC5\",\"#B0BEC5\",\"#B0BEC5\",\"#B0BEC5\",\"#B0BEC5\",\"#B0BEC5\",\"#B0BEC5\",\"#B0BEC5\",\"#B0BEC5\",\"#B0BEC5\",\"#B0BEC5\",\"#B0BEC5\",\"#B0BEC5\",\"#B0BEC5\",\"#B0BEC5\",\"#B0BEC5\",\"#B0BEC5\",\"#B0BEC5\",\"#B0BEC5\",\"#B0BEC5\",\"#B0BEC5\",\"#B0BEC5\",\"#B0BEC5\",\"#B0BEC5\",\"#B0BEC5\",\"#B0BEC5\",\"#B0BEC5\",\"#B0BEC5\"]]}],\"label\":\"Topic 4\",\"method\":\"update\"},{\"args\":[{\"marker.color\":[[\"#B0BEC5\",\"#B0BEC5\",\"#B0BEC5\",\"#B0BEC5\",\"#B0BEC5\",\"red\",\"#B0BEC5\",\"#B0BEC5\",\"#B0BEC5\",\"#B0BEC5\",\"#B0BEC5\",\"#B0BEC5\",\"#B0BEC5\",\"#B0BEC5\",\"#B0BEC5\",\"#B0BEC5\",\"#B0BEC5\",\"#B0BEC5\",\"#B0BEC5\",\"#B0BEC5\",\"#B0BEC5\",\"#B0BEC5\",\"#B0BEC5\",\"#B0BEC5\",\"#B0BEC5\",\"#B0BEC5\",\"#B0BEC5\",\"#B0BEC5\",\"#B0BEC5\",\"#B0BEC5\",\"#B0BEC5\",\"#B0BEC5\",\"#B0BEC5\",\"#B0BEC5\",\"#B0BEC5\",\"#B0BEC5\",\"#B0BEC5\",\"#B0BEC5\",\"#B0BEC5\",\"#B0BEC5\",\"#B0BEC5\",\"#B0BEC5\",\"#B0BEC5\",\"#B0BEC5\",\"#B0BEC5\",\"#B0BEC5\",\"#B0BEC5\",\"#B0BEC5\",\"#B0BEC5\",\"#B0BEC5\"]]}],\"label\":\"Topic 5\",\"method\":\"update\"},{\"args\":[{\"marker.color\":[[\"#B0BEC5\",\"#B0BEC5\",\"#B0BEC5\",\"#B0BEC5\",\"#B0BEC5\",\"#B0BEC5\",\"red\",\"#B0BEC5\",\"#B0BEC5\",\"#B0BEC5\",\"#B0BEC5\",\"#B0BEC5\",\"#B0BEC5\",\"#B0BEC5\",\"#B0BEC5\",\"#B0BEC5\",\"#B0BEC5\",\"#B0BEC5\",\"#B0BEC5\",\"#B0BEC5\",\"#B0BEC5\",\"#B0BEC5\",\"#B0BEC5\",\"#B0BEC5\",\"#B0BEC5\",\"#B0BEC5\",\"#B0BEC5\",\"#B0BEC5\",\"#B0BEC5\",\"#B0BEC5\",\"#B0BEC5\",\"#B0BEC5\",\"#B0BEC5\",\"#B0BEC5\",\"#B0BEC5\",\"#B0BEC5\",\"#B0BEC5\",\"#B0BEC5\",\"#B0BEC5\",\"#B0BEC5\",\"#B0BEC5\",\"#B0BEC5\",\"#B0BEC5\",\"#B0BEC5\",\"#B0BEC5\",\"#B0BEC5\",\"#B0BEC5\",\"#B0BEC5\",\"#B0BEC5\",\"#B0BEC5\"]]}],\"label\":\"Topic 6\",\"method\":\"update\"},{\"args\":[{\"marker.color\":[[\"#B0BEC5\",\"#B0BEC5\",\"#B0BEC5\",\"#B0BEC5\",\"#B0BEC5\",\"#B0BEC5\",\"#B0BEC5\",\"red\",\"#B0BEC5\",\"#B0BEC5\",\"#B0BEC5\",\"#B0BEC5\",\"#B0BEC5\",\"#B0BEC5\",\"#B0BEC5\",\"#B0BEC5\",\"#B0BEC5\",\"#B0BEC5\",\"#B0BEC5\",\"#B0BEC5\",\"#B0BEC5\",\"#B0BEC5\",\"#B0BEC5\",\"#B0BEC5\",\"#B0BEC5\",\"#B0BEC5\",\"#B0BEC5\",\"#B0BEC5\",\"#B0BEC5\",\"#B0BEC5\",\"#B0BEC5\",\"#B0BEC5\",\"#B0BEC5\",\"#B0BEC5\",\"#B0BEC5\",\"#B0BEC5\",\"#B0BEC5\",\"#B0BEC5\",\"#B0BEC5\",\"#B0BEC5\",\"#B0BEC5\",\"#B0BEC5\",\"#B0BEC5\",\"#B0BEC5\",\"#B0BEC5\",\"#B0BEC5\",\"#B0BEC5\",\"#B0BEC5\",\"#B0BEC5\",\"#B0BEC5\"]]}],\"label\":\"Topic 7\",\"method\":\"update\"},{\"args\":[{\"marker.color\":[[\"#B0BEC5\",\"#B0BEC5\",\"#B0BEC5\",\"#B0BEC5\",\"#B0BEC5\",\"#B0BEC5\",\"#B0BEC5\",\"#B0BEC5\",\"red\",\"#B0BEC5\",\"#B0BEC5\",\"#B0BEC5\",\"#B0BEC5\",\"#B0BEC5\",\"#B0BEC5\",\"#B0BEC5\",\"#B0BEC5\",\"#B0BEC5\",\"#B0BEC5\",\"#B0BEC5\",\"#B0BEC5\",\"#B0BEC5\",\"#B0BEC5\",\"#B0BEC5\",\"#B0BEC5\",\"#B0BEC5\",\"#B0BEC5\",\"#B0BEC5\",\"#B0BEC5\",\"#B0BEC5\",\"#B0BEC5\",\"#B0BEC5\",\"#B0BEC5\",\"#B0BEC5\",\"#B0BEC5\",\"#B0BEC5\",\"#B0BEC5\",\"#B0BEC5\",\"#B0BEC5\",\"#B0BEC5\",\"#B0BEC5\",\"#B0BEC5\",\"#B0BEC5\",\"#B0BEC5\",\"#B0BEC5\",\"#B0BEC5\",\"#B0BEC5\",\"#B0BEC5\",\"#B0BEC5\",\"#B0BEC5\"]]}],\"label\":\"Topic 8\",\"method\":\"update\"},{\"args\":[{\"marker.color\":[[\"#B0BEC5\",\"#B0BEC5\",\"#B0BEC5\",\"#B0BEC5\",\"#B0BEC5\",\"#B0BEC5\",\"#B0BEC5\",\"#B0BEC5\",\"#B0BEC5\",\"red\",\"#B0BEC5\",\"#B0BEC5\",\"#B0BEC5\",\"#B0BEC5\",\"#B0BEC5\",\"#B0BEC5\",\"#B0BEC5\",\"#B0BEC5\",\"#B0BEC5\",\"#B0BEC5\",\"#B0BEC5\",\"#B0BEC5\",\"#B0BEC5\",\"#B0BEC5\",\"#B0BEC5\",\"#B0BEC5\",\"#B0BEC5\",\"#B0BEC5\",\"#B0BEC5\",\"#B0BEC5\",\"#B0BEC5\",\"#B0BEC5\",\"#B0BEC5\",\"#B0BEC5\",\"#B0BEC5\",\"#B0BEC5\",\"#B0BEC5\",\"#B0BEC5\",\"#B0BEC5\",\"#B0BEC5\",\"#B0BEC5\",\"#B0BEC5\",\"#B0BEC5\",\"#B0BEC5\",\"#B0BEC5\",\"#B0BEC5\",\"#B0BEC5\",\"#B0BEC5\",\"#B0BEC5\",\"#B0BEC5\"]]}],\"label\":\"Topic 9\",\"method\":\"update\"},{\"args\":[{\"marker.color\":[[\"#B0BEC5\",\"#B0BEC5\",\"#B0BEC5\",\"#B0BEC5\",\"#B0BEC5\",\"#B0BEC5\",\"#B0BEC5\",\"#B0BEC5\",\"#B0BEC5\",\"#B0BEC5\",\"red\",\"#B0BEC5\",\"#B0BEC5\",\"#B0BEC5\",\"#B0BEC5\",\"#B0BEC5\",\"#B0BEC5\",\"#B0BEC5\",\"#B0BEC5\",\"#B0BEC5\",\"#B0BEC5\",\"#B0BEC5\",\"#B0BEC5\",\"#B0BEC5\",\"#B0BEC5\",\"#B0BEC5\",\"#B0BEC5\",\"#B0BEC5\",\"#B0BEC5\",\"#B0BEC5\",\"#B0BEC5\",\"#B0BEC5\",\"#B0BEC5\",\"#B0BEC5\",\"#B0BEC5\",\"#B0BEC5\",\"#B0BEC5\",\"#B0BEC5\",\"#B0BEC5\",\"#B0BEC5\",\"#B0BEC5\",\"#B0BEC5\",\"#B0BEC5\",\"#B0BEC5\",\"#B0BEC5\",\"#B0BEC5\",\"#B0BEC5\",\"#B0BEC5\",\"#B0BEC5\",\"#B0BEC5\"]]}],\"label\":\"Topic 10\",\"method\":\"update\"},{\"args\":[{\"marker.color\":[[\"#B0BEC5\",\"#B0BEC5\",\"#B0BEC5\",\"#B0BEC5\",\"#B0BEC5\",\"#B0BEC5\",\"#B0BEC5\",\"#B0BEC5\",\"#B0BEC5\",\"#B0BEC5\",\"#B0BEC5\",\"red\",\"#B0BEC5\",\"#B0BEC5\",\"#B0BEC5\",\"#B0BEC5\",\"#B0BEC5\",\"#B0BEC5\",\"#B0BEC5\",\"#B0BEC5\",\"#B0BEC5\",\"#B0BEC5\",\"#B0BEC5\",\"#B0BEC5\",\"#B0BEC5\",\"#B0BEC5\",\"#B0BEC5\",\"#B0BEC5\",\"#B0BEC5\",\"#B0BEC5\",\"#B0BEC5\",\"#B0BEC5\",\"#B0BEC5\",\"#B0BEC5\",\"#B0BEC5\",\"#B0BEC5\",\"#B0BEC5\",\"#B0BEC5\",\"#B0BEC5\",\"#B0BEC5\",\"#B0BEC5\",\"#B0BEC5\",\"#B0BEC5\",\"#B0BEC5\",\"#B0BEC5\",\"#B0BEC5\",\"#B0BEC5\",\"#B0BEC5\",\"#B0BEC5\",\"#B0BEC5\"]]}],\"label\":\"Topic 11\",\"method\":\"update\"},{\"args\":[{\"marker.color\":[[\"#B0BEC5\",\"#B0BEC5\",\"#B0BEC5\",\"#B0BEC5\",\"#B0BEC5\",\"#B0BEC5\",\"#B0BEC5\",\"#B0BEC5\",\"#B0BEC5\",\"#B0BEC5\",\"#B0BEC5\",\"#B0BEC5\",\"red\",\"#B0BEC5\",\"#B0BEC5\",\"#B0BEC5\",\"#B0BEC5\",\"#B0BEC5\",\"#B0BEC5\",\"#B0BEC5\",\"#B0BEC5\",\"#B0BEC5\",\"#B0BEC5\",\"#B0BEC5\",\"#B0BEC5\",\"#B0BEC5\",\"#B0BEC5\",\"#B0BEC5\",\"#B0BEC5\",\"#B0BEC5\",\"#B0BEC5\",\"#B0BEC5\",\"#B0BEC5\",\"#B0BEC5\",\"#B0BEC5\",\"#B0BEC5\",\"#B0BEC5\",\"#B0BEC5\",\"#B0BEC5\",\"#B0BEC5\",\"#B0BEC5\",\"#B0BEC5\",\"#B0BEC5\",\"#B0BEC5\",\"#B0BEC5\",\"#B0BEC5\",\"#B0BEC5\",\"#B0BEC5\",\"#B0BEC5\",\"#B0BEC5\"]]}],\"label\":\"Topic 12\",\"method\":\"update\"},{\"args\":[{\"marker.color\":[[\"#B0BEC5\",\"#B0BEC5\",\"#B0BEC5\",\"#B0BEC5\",\"#B0BEC5\",\"#B0BEC5\",\"#B0BEC5\",\"#B0BEC5\",\"#B0BEC5\",\"#B0BEC5\",\"#B0BEC5\",\"#B0BEC5\",\"#B0BEC5\",\"red\",\"#B0BEC5\",\"#B0BEC5\",\"#B0BEC5\",\"#B0BEC5\",\"#B0BEC5\",\"#B0BEC5\",\"#B0BEC5\",\"#B0BEC5\",\"#B0BEC5\",\"#B0BEC5\",\"#B0BEC5\",\"#B0BEC5\",\"#B0BEC5\",\"#B0BEC5\",\"#B0BEC5\",\"#B0BEC5\",\"#B0BEC5\",\"#B0BEC5\",\"#B0BEC5\",\"#B0BEC5\",\"#B0BEC5\",\"#B0BEC5\",\"#B0BEC5\",\"#B0BEC5\",\"#B0BEC5\",\"#B0BEC5\",\"#B0BEC5\",\"#B0BEC5\",\"#B0BEC5\",\"#B0BEC5\",\"#B0BEC5\",\"#B0BEC5\",\"#B0BEC5\",\"#B0BEC5\",\"#B0BEC5\",\"#B0BEC5\"]]}],\"label\":\"Topic 13\",\"method\":\"update\"},{\"args\":[{\"marker.color\":[[\"#B0BEC5\",\"#B0BEC5\",\"#B0BEC5\",\"#B0BEC5\",\"#B0BEC5\",\"#B0BEC5\",\"#B0BEC5\",\"#B0BEC5\",\"#B0BEC5\",\"#B0BEC5\",\"#B0BEC5\",\"#B0BEC5\",\"#B0BEC5\",\"#B0BEC5\",\"red\",\"#B0BEC5\",\"#B0BEC5\",\"#B0BEC5\",\"#B0BEC5\",\"#B0BEC5\",\"#B0BEC5\",\"#B0BEC5\",\"#B0BEC5\",\"#B0BEC5\",\"#B0BEC5\",\"#B0BEC5\",\"#B0BEC5\",\"#B0BEC5\",\"#B0BEC5\",\"#B0BEC5\",\"#B0BEC5\",\"#B0BEC5\",\"#B0BEC5\",\"#B0BEC5\",\"#B0BEC5\",\"#B0BEC5\",\"#B0BEC5\",\"#B0BEC5\",\"#B0BEC5\",\"#B0BEC5\",\"#B0BEC5\",\"#B0BEC5\",\"#B0BEC5\",\"#B0BEC5\",\"#B0BEC5\",\"#B0BEC5\",\"#B0BEC5\",\"#B0BEC5\",\"#B0BEC5\",\"#B0BEC5\"]]}],\"label\":\"Topic 14\",\"method\":\"update\"},{\"args\":[{\"marker.color\":[[\"#B0BEC5\",\"#B0BEC5\",\"#B0BEC5\",\"#B0BEC5\",\"#B0BEC5\",\"#B0BEC5\",\"#B0BEC5\",\"#B0BEC5\",\"#B0BEC5\",\"#B0BEC5\",\"#B0BEC5\",\"#B0BEC5\",\"#B0BEC5\",\"#B0BEC5\",\"#B0BEC5\",\"red\",\"#B0BEC5\",\"#B0BEC5\",\"#B0BEC5\",\"#B0BEC5\",\"#B0BEC5\",\"#B0BEC5\",\"#B0BEC5\",\"#B0BEC5\",\"#B0BEC5\",\"#B0BEC5\",\"#B0BEC5\",\"#B0BEC5\",\"#B0BEC5\",\"#B0BEC5\",\"#B0BEC5\",\"#B0BEC5\",\"#B0BEC5\",\"#B0BEC5\",\"#B0BEC5\",\"#B0BEC5\",\"#B0BEC5\",\"#B0BEC5\",\"#B0BEC5\",\"#B0BEC5\",\"#B0BEC5\",\"#B0BEC5\",\"#B0BEC5\",\"#B0BEC5\",\"#B0BEC5\",\"#B0BEC5\",\"#B0BEC5\",\"#B0BEC5\",\"#B0BEC5\",\"#B0BEC5\"]]}],\"label\":\"Topic 15\",\"method\":\"update\"},{\"args\":[{\"marker.color\":[[\"#B0BEC5\",\"#B0BEC5\",\"#B0BEC5\",\"#B0BEC5\",\"#B0BEC5\",\"#B0BEC5\",\"#B0BEC5\",\"#B0BEC5\",\"#B0BEC5\",\"#B0BEC5\",\"#B0BEC5\",\"#B0BEC5\",\"#B0BEC5\",\"#B0BEC5\",\"#B0BEC5\",\"#B0BEC5\",\"red\",\"#B0BEC5\",\"#B0BEC5\",\"#B0BEC5\",\"#B0BEC5\",\"#B0BEC5\",\"#B0BEC5\",\"#B0BEC5\",\"#B0BEC5\",\"#B0BEC5\",\"#B0BEC5\",\"#B0BEC5\",\"#B0BEC5\",\"#B0BEC5\",\"#B0BEC5\",\"#B0BEC5\",\"#B0BEC5\",\"#B0BEC5\",\"#B0BEC5\",\"#B0BEC5\",\"#B0BEC5\",\"#B0BEC5\",\"#B0BEC5\",\"#B0BEC5\",\"#B0BEC5\",\"#B0BEC5\",\"#B0BEC5\",\"#B0BEC5\",\"#B0BEC5\",\"#B0BEC5\",\"#B0BEC5\",\"#B0BEC5\",\"#B0BEC5\",\"#B0BEC5\"]]}],\"label\":\"Topic 16\",\"method\":\"update\"},{\"args\":[{\"marker.color\":[[\"#B0BEC5\",\"#B0BEC5\",\"#B0BEC5\",\"#B0BEC5\",\"#B0BEC5\",\"#B0BEC5\",\"#B0BEC5\",\"#B0BEC5\",\"#B0BEC5\",\"#B0BEC5\",\"#B0BEC5\",\"#B0BEC5\",\"#B0BEC5\",\"#B0BEC5\",\"#B0BEC5\",\"#B0BEC5\",\"#B0BEC5\",\"red\",\"#B0BEC5\",\"#B0BEC5\",\"#B0BEC5\",\"#B0BEC5\",\"#B0BEC5\",\"#B0BEC5\",\"#B0BEC5\",\"#B0BEC5\",\"#B0BEC5\",\"#B0BEC5\",\"#B0BEC5\",\"#B0BEC5\",\"#B0BEC5\",\"#B0BEC5\",\"#B0BEC5\",\"#B0BEC5\",\"#B0BEC5\",\"#B0BEC5\",\"#B0BEC5\",\"#B0BEC5\",\"#B0BEC5\",\"#B0BEC5\",\"#B0BEC5\",\"#B0BEC5\",\"#B0BEC5\",\"#B0BEC5\",\"#B0BEC5\",\"#B0BEC5\",\"#B0BEC5\",\"#B0BEC5\",\"#B0BEC5\",\"#B0BEC5\"]]}],\"label\":\"Topic 17\",\"method\":\"update\"},{\"args\":[{\"marker.color\":[[\"#B0BEC5\",\"#B0BEC5\",\"#B0BEC5\",\"#B0BEC5\",\"#B0BEC5\",\"#B0BEC5\",\"#B0BEC5\",\"#B0BEC5\",\"#B0BEC5\",\"#B0BEC5\",\"#B0BEC5\",\"#B0BEC5\",\"#B0BEC5\",\"#B0BEC5\",\"#B0BEC5\",\"#B0BEC5\",\"#B0BEC5\",\"#B0BEC5\",\"red\",\"#B0BEC5\",\"#B0BEC5\",\"#B0BEC5\",\"#B0BEC5\",\"#B0BEC5\",\"#B0BEC5\",\"#B0BEC5\",\"#B0BEC5\",\"#B0BEC5\",\"#B0BEC5\",\"#B0BEC5\",\"#B0BEC5\",\"#B0BEC5\",\"#B0BEC5\",\"#B0BEC5\",\"#B0BEC5\",\"#B0BEC5\",\"#B0BEC5\",\"#B0BEC5\",\"#B0BEC5\",\"#B0BEC5\",\"#B0BEC5\",\"#B0BEC5\",\"#B0BEC5\",\"#B0BEC5\",\"#B0BEC5\",\"#B0BEC5\",\"#B0BEC5\",\"#B0BEC5\",\"#B0BEC5\",\"#B0BEC5\"]]}],\"label\":\"Topic 18\",\"method\":\"update\"},{\"args\":[{\"marker.color\":[[\"#B0BEC5\",\"#B0BEC5\",\"#B0BEC5\",\"#B0BEC5\",\"#B0BEC5\",\"#B0BEC5\",\"#B0BEC5\",\"#B0BEC5\",\"#B0BEC5\",\"#B0BEC5\",\"#B0BEC5\",\"#B0BEC5\",\"#B0BEC5\",\"#B0BEC5\",\"#B0BEC5\",\"#B0BEC5\",\"#B0BEC5\",\"#B0BEC5\",\"#B0BEC5\",\"red\",\"#B0BEC5\",\"#B0BEC5\",\"#B0BEC5\",\"#B0BEC5\",\"#B0BEC5\",\"#B0BEC5\",\"#B0BEC5\",\"#B0BEC5\",\"#B0BEC5\",\"#B0BEC5\",\"#B0BEC5\",\"#B0BEC5\",\"#B0BEC5\",\"#B0BEC5\",\"#B0BEC5\",\"#B0BEC5\",\"#B0BEC5\",\"#B0BEC5\",\"#B0BEC5\",\"#B0BEC5\",\"#B0BEC5\",\"#B0BEC5\",\"#B0BEC5\",\"#B0BEC5\",\"#B0BEC5\",\"#B0BEC5\",\"#B0BEC5\",\"#B0BEC5\",\"#B0BEC5\",\"#B0BEC5\"]]}],\"label\":\"Topic 19\",\"method\":\"update\"},{\"args\":[{\"marker.color\":[[\"#B0BEC5\",\"#B0BEC5\",\"#B0BEC5\",\"#B0BEC5\",\"#B0BEC5\",\"#B0BEC5\",\"#B0BEC5\",\"#B0BEC5\",\"#B0BEC5\",\"#B0BEC5\",\"#B0BEC5\",\"#B0BEC5\",\"#B0BEC5\",\"#B0BEC5\",\"#B0BEC5\",\"#B0BEC5\",\"#B0BEC5\",\"#B0BEC5\",\"#B0BEC5\",\"#B0BEC5\",\"red\",\"#B0BEC5\",\"#B0BEC5\",\"#B0BEC5\",\"#B0BEC5\",\"#B0BEC5\",\"#B0BEC5\",\"#B0BEC5\",\"#B0BEC5\",\"#B0BEC5\",\"#B0BEC5\",\"#B0BEC5\",\"#B0BEC5\",\"#B0BEC5\",\"#B0BEC5\",\"#B0BEC5\",\"#B0BEC5\",\"#B0BEC5\",\"#B0BEC5\",\"#B0BEC5\",\"#B0BEC5\",\"#B0BEC5\",\"#B0BEC5\",\"#B0BEC5\",\"#B0BEC5\",\"#B0BEC5\",\"#B0BEC5\",\"#B0BEC5\",\"#B0BEC5\",\"#B0BEC5\"]]}],\"label\":\"Topic 20\",\"method\":\"update\"},{\"args\":[{\"marker.color\":[[\"#B0BEC5\",\"#B0BEC5\",\"#B0BEC5\",\"#B0BEC5\",\"#B0BEC5\",\"#B0BEC5\",\"#B0BEC5\",\"#B0BEC5\",\"#B0BEC5\",\"#B0BEC5\",\"#B0BEC5\",\"#B0BEC5\",\"#B0BEC5\",\"#B0BEC5\",\"#B0BEC5\",\"#B0BEC5\",\"#B0BEC5\",\"#B0BEC5\",\"#B0BEC5\",\"#B0BEC5\",\"#B0BEC5\",\"red\",\"#B0BEC5\",\"#B0BEC5\",\"#B0BEC5\",\"#B0BEC5\",\"#B0BEC5\",\"#B0BEC5\",\"#B0BEC5\",\"#B0BEC5\",\"#B0BEC5\",\"#B0BEC5\",\"#B0BEC5\",\"#B0BEC5\",\"#B0BEC5\",\"#B0BEC5\",\"#B0BEC5\",\"#B0BEC5\",\"#B0BEC5\",\"#B0BEC5\",\"#B0BEC5\",\"#B0BEC5\",\"#B0BEC5\",\"#B0BEC5\",\"#B0BEC5\",\"#B0BEC5\",\"#B0BEC5\",\"#B0BEC5\",\"#B0BEC5\",\"#B0BEC5\"]]}],\"label\":\"Topic 21\",\"method\":\"update\"},{\"args\":[{\"marker.color\":[[\"#B0BEC5\",\"#B0BEC5\",\"#B0BEC5\",\"#B0BEC5\",\"#B0BEC5\",\"#B0BEC5\",\"#B0BEC5\",\"#B0BEC5\",\"#B0BEC5\",\"#B0BEC5\",\"#B0BEC5\",\"#B0BEC5\",\"#B0BEC5\",\"#B0BEC5\",\"#B0BEC5\",\"#B0BEC5\",\"#B0BEC5\",\"#B0BEC5\",\"#B0BEC5\",\"#B0BEC5\",\"#B0BEC5\",\"#B0BEC5\",\"red\",\"#B0BEC5\",\"#B0BEC5\",\"#B0BEC5\",\"#B0BEC5\",\"#B0BEC5\",\"#B0BEC5\",\"#B0BEC5\",\"#B0BEC5\",\"#B0BEC5\",\"#B0BEC5\",\"#B0BEC5\",\"#B0BEC5\",\"#B0BEC5\",\"#B0BEC5\",\"#B0BEC5\",\"#B0BEC5\",\"#B0BEC5\",\"#B0BEC5\",\"#B0BEC5\",\"#B0BEC5\",\"#B0BEC5\",\"#B0BEC5\",\"#B0BEC5\",\"#B0BEC5\",\"#B0BEC5\",\"#B0BEC5\",\"#B0BEC5\"]]}],\"label\":\"Topic 22\",\"method\":\"update\"},{\"args\":[{\"marker.color\":[[\"#B0BEC5\",\"#B0BEC5\",\"#B0BEC5\",\"#B0BEC5\",\"#B0BEC5\",\"#B0BEC5\",\"#B0BEC5\",\"#B0BEC5\",\"#B0BEC5\",\"#B0BEC5\",\"#B0BEC5\",\"#B0BEC5\",\"#B0BEC5\",\"#B0BEC5\",\"#B0BEC5\",\"#B0BEC5\",\"#B0BEC5\",\"#B0BEC5\",\"#B0BEC5\",\"#B0BEC5\",\"#B0BEC5\",\"#B0BEC5\",\"#B0BEC5\",\"red\",\"#B0BEC5\",\"#B0BEC5\",\"#B0BEC5\",\"#B0BEC5\",\"#B0BEC5\",\"#B0BEC5\",\"#B0BEC5\",\"#B0BEC5\",\"#B0BEC5\",\"#B0BEC5\",\"#B0BEC5\",\"#B0BEC5\",\"#B0BEC5\",\"#B0BEC5\",\"#B0BEC5\",\"#B0BEC5\",\"#B0BEC5\",\"#B0BEC5\",\"#B0BEC5\",\"#B0BEC5\",\"#B0BEC5\",\"#B0BEC5\",\"#B0BEC5\",\"#B0BEC5\",\"#B0BEC5\",\"#B0BEC5\"]]}],\"label\":\"Topic 23\",\"method\":\"update\"},{\"args\":[{\"marker.color\":[[\"#B0BEC5\",\"#B0BEC5\",\"#B0BEC5\",\"#B0BEC5\",\"#B0BEC5\",\"#B0BEC5\",\"#B0BEC5\",\"#B0BEC5\",\"#B0BEC5\",\"#B0BEC5\",\"#B0BEC5\",\"#B0BEC5\",\"#B0BEC5\",\"#B0BEC5\",\"#B0BEC5\",\"#B0BEC5\",\"#B0BEC5\",\"#B0BEC5\",\"#B0BEC5\",\"#B0BEC5\",\"#B0BEC5\",\"#B0BEC5\",\"#B0BEC5\",\"#B0BEC5\",\"red\",\"#B0BEC5\",\"#B0BEC5\",\"#B0BEC5\",\"#B0BEC5\",\"#B0BEC5\",\"#B0BEC5\",\"#B0BEC5\",\"#B0BEC5\",\"#B0BEC5\",\"#B0BEC5\",\"#B0BEC5\",\"#B0BEC5\",\"#B0BEC5\",\"#B0BEC5\",\"#B0BEC5\",\"#B0BEC5\",\"#B0BEC5\",\"#B0BEC5\",\"#B0BEC5\",\"#B0BEC5\",\"#B0BEC5\",\"#B0BEC5\",\"#B0BEC5\",\"#B0BEC5\",\"#B0BEC5\"]]}],\"label\":\"Topic 24\",\"method\":\"update\"},{\"args\":[{\"marker.color\":[[\"#B0BEC5\",\"#B0BEC5\",\"#B0BEC5\",\"#B0BEC5\",\"#B0BEC5\",\"#B0BEC5\",\"#B0BEC5\",\"#B0BEC5\",\"#B0BEC5\",\"#B0BEC5\",\"#B0BEC5\",\"#B0BEC5\",\"#B0BEC5\",\"#B0BEC5\",\"#B0BEC5\",\"#B0BEC5\",\"#B0BEC5\",\"#B0BEC5\",\"#B0BEC5\",\"#B0BEC5\",\"#B0BEC5\",\"#B0BEC5\",\"#B0BEC5\",\"#B0BEC5\",\"#B0BEC5\",\"red\",\"#B0BEC5\",\"#B0BEC5\",\"#B0BEC5\",\"#B0BEC5\",\"#B0BEC5\",\"#B0BEC5\",\"#B0BEC5\",\"#B0BEC5\",\"#B0BEC5\",\"#B0BEC5\",\"#B0BEC5\",\"#B0BEC5\",\"#B0BEC5\",\"#B0BEC5\",\"#B0BEC5\",\"#B0BEC5\",\"#B0BEC5\",\"#B0BEC5\",\"#B0BEC5\",\"#B0BEC5\",\"#B0BEC5\",\"#B0BEC5\",\"#B0BEC5\",\"#B0BEC5\"]]}],\"label\":\"Topic 25\",\"method\":\"update\"},{\"args\":[{\"marker.color\":[[\"#B0BEC5\",\"#B0BEC5\",\"#B0BEC5\",\"#B0BEC5\",\"#B0BEC5\",\"#B0BEC5\",\"#B0BEC5\",\"#B0BEC5\",\"#B0BEC5\",\"#B0BEC5\",\"#B0BEC5\",\"#B0BEC5\",\"#B0BEC5\",\"#B0BEC5\",\"#B0BEC5\",\"#B0BEC5\",\"#B0BEC5\",\"#B0BEC5\",\"#B0BEC5\",\"#B0BEC5\",\"#B0BEC5\",\"#B0BEC5\",\"#B0BEC5\",\"#B0BEC5\",\"#B0BEC5\",\"#B0BEC5\",\"red\",\"#B0BEC5\",\"#B0BEC5\",\"#B0BEC5\",\"#B0BEC5\",\"#B0BEC5\",\"#B0BEC5\",\"#B0BEC5\",\"#B0BEC5\",\"#B0BEC5\",\"#B0BEC5\",\"#B0BEC5\",\"#B0BEC5\",\"#B0BEC5\",\"#B0BEC5\",\"#B0BEC5\",\"#B0BEC5\",\"#B0BEC5\",\"#B0BEC5\",\"#B0BEC5\",\"#B0BEC5\",\"#B0BEC5\",\"#B0BEC5\",\"#B0BEC5\"]]}],\"label\":\"Topic 26\",\"method\":\"update\"},{\"args\":[{\"marker.color\":[[\"#B0BEC5\",\"#B0BEC5\",\"#B0BEC5\",\"#B0BEC5\",\"#B0BEC5\",\"#B0BEC5\",\"#B0BEC5\",\"#B0BEC5\",\"#B0BEC5\",\"#B0BEC5\",\"#B0BEC5\",\"#B0BEC5\",\"#B0BEC5\",\"#B0BEC5\",\"#B0BEC5\",\"#B0BEC5\",\"#B0BEC5\",\"#B0BEC5\",\"#B0BEC5\",\"#B0BEC5\",\"#B0BEC5\",\"#B0BEC5\",\"#B0BEC5\",\"#B0BEC5\",\"#B0BEC5\",\"#B0BEC5\",\"#B0BEC5\",\"red\",\"#B0BEC5\",\"#B0BEC5\",\"#B0BEC5\",\"#B0BEC5\",\"#B0BEC5\",\"#B0BEC5\",\"#B0BEC5\",\"#B0BEC5\",\"#B0BEC5\",\"#B0BEC5\",\"#B0BEC5\",\"#B0BEC5\",\"#B0BEC5\",\"#B0BEC5\",\"#B0BEC5\",\"#B0BEC5\",\"#B0BEC5\",\"#B0BEC5\",\"#B0BEC5\",\"#B0BEC5\",\"#B0BEC5\",\"#B0BEC5\"]]}],\"label\":\"Topic 27\",\"method\":\"update\"},{\"args\":[{\"marker.color\":[[\"#B0BEC5\",\"#B0BEC5\",\"#B0BEC5\",\"#B0BEC5\",\"#B0BEC5\",\"#B0BEC5\",\"#B0BEC5\",\"#B0BEC5\",\"#B0BEC5\",\"#B0BEC5\",\"#B0BEC5\",\"#B0BEC5\",\"#B0BEC5\",\"#B0BEC5\",\"#B0BEC5\",\"#B0BEC5\",\"#B0BEC5\",\"#B0BEC5\",\"#B0BEC5\",\"#B0BEC5\",\"#B0BEC5\",\"#B0BEC5\",\"#B0BEC5\",\"#B0BEC5\",\"#B0BEC5\",\"#B0BEC5\",\"#B0BEC5\",\"#B0BEC5\",\"red\",\"#B0BEC5\",\"#B0BEC5\",\"#B0BEC5\",\"#B0BEC5\",\"#B0BEC5\",\"#B0BEC5\",\"#B0BEC5\",\"#B0BEC5\",\"#B0BEC5\",\"#B0BEC5\",\"#B0BEC5\",\"#B0BEC5\",\"#B0BEC5\",\"#B0BEC5\",\"#B0BEC5\",\"#B0BEC5\",\"#B0BEC5\",\"#B0BEC5\",\"#B0BEC5\",\"#B0BEC5\",\"#B0BEC5\"]]}],\"label\":\"Topic 28\",\"method\":\"update\"},{\"args\":[{\"marker.color\":[[\"#B0BEC5\",\"#B0BEC5\",\"#B0BEC5\",\"#B0BEC5\",\"#B0BEC5\",\"#B0BEC5\",\"#B0BEC5\",\"#B0BEC5\",\"#B0BEC5\",\"#B0BEC5\",\"#B0BEC5\",\"#B0BEC5\",\"#B0BEC5\",\"#B0BEC5\",\"#B0BEC5\",\"#B0BEC5\",\"#B0BEC5\",\"#B0BEC5\",\"#B0BEC5\",\"#B0BEC5\",\"#B0BEC5\",\"#B0BEC5\",\"#B0BEC5\",\"#B0BEC5\",\"#B0BEC5\",\"#B0BEC5\",\"#B0BEC5\",\"#B0BEC5\",\"#B0BEC5\",\"red\",\"#B0BEC5\",\"#B0BEC5\",\"#B0BEC5\",\"#B0BEC5\",\"#B0BEC5\",\"#B0BEC5\",\"#B0BEC5\",\"#B0BEC5\",\"#B0BEC5\",\"#B0BEC5\",\"#B0BEC5\",\"#B0BEC5\",\"#B0BEC5\",\"#B0BEC5\",\"#B0BEC5\",\"#B0BEC5\",\"#B0BEC5\",\"#B0BEC5\",\"#B0BEC5\",\"#B0BEC5\"]]}],\"label\":\"Topic 29\",\"method\":\"update\"},{\"args\":[{\"marker.color\":[[\"#B0BEC5\",\"#B0BEC5\",\"#B0BEC5\",\"#B0BEC5\",\"#B0BEC5\",\"#B0BEC5\",\"#B0BEC5\",\"#B0BEC5\",\"#B0BEC5\",\"#B0BEC5\",\"#B0BEC5\",\"#B0BEC5\",\"#B0BEC5\",\"#B0BEC5\",\"#B0BEC5\",\"#B0BEC5\",\"#B0BEC5\",\"#B0BEC5\",\"#B0BEC5\",\"#B0BEC5\",\"#B0BEC5\",\"#B0BEC5\",\"#B0BEC5\",\"#B0BEC5\",\"#B0BEC5\",\"#B0BEC5\",\"#B0BEC5\",\"#B0BEC5\",\"#B0BEC5\",\"#B0BEC5\",\"red\",\"#B0BEC5\",\"#B0BEC5\",\"#B0BEC5\",\"#B0BEC5\",\"#B0BEC5\",\"#B0BEC5\",\"#B0BEC5\",\"#B0BEC5\",\"#B0BEC5\",\"#B0BEC5\",\"#B0BEC5\",\"#B0BEC5\",\"#B0BEC5\",\"#B0BEC5\",\"#B0BEC5\",\"#B0BEC5\",\"#B0BEC5\",\"#B0BEC5\",\"#B0BEC5\"]]}],\"label\":\"Topic 30\",\"method\":\"update\"},{\"args\":[{\"marker.color\":[[\"#B0BEC5\",\"#B0BEC5\",\"#B0BEC5\",\"#B0BEC5\",\"#B0BEC5\",\"#B0BEC5\",\"#B0BEC5\",\"#B0BEC5\",\"#B0BEC5\",\"#B0BEC5\",\"#B0BEC5\",\"#B0BEC5\",\"#B0BEC5\",\"#B0BEC5\",\"#B0BEC5\",\"#B0BEC5\",\"#B0BEC5\",\"#B0BEC5\",\"#B0BEC5\",\"#B0BEC5\",\"#B0BEC5\",\"#B0BEC5\",\"#B0BEC5\",\"#B0BEC5\",\"#B0BEC5\",\"#B0BEC5\",\"#B0BEC5\",\"#B0BEC5\",\"#B0BEC5\",\"#B0BEC5\",\"#B0BEC5\",\"red\",\"#B0BEC5\",\"#B0BEC5\",\"#B0BEC5\",\"#B0BEC5\",\"#B0BEC5\",\"#B0BEC5\",\"#B0BEC5\",\"#B0BEC5\",\"#B0BEC5\",\"#B0BEC5\",\"#B0BEC5\",\"#B0BEC5\",\"#B0BEC5\",\"#B0BEC5\",\"#B0BEC5\",\"#B0BEC5\",\"#B0BEC5\",\"#B0BEC5\"]]}],\"label\":\"Topic 31\",\"method\":\"update\"},{\"args\":[{\"marker.color\":[[\"#B0BEC5\",\"#B0BEC5\",\"#B0BEC5\",\"#B0BEC5\",\"#B0BEC5\",\"#B0BEC5\",\"#B0BEC5\",\"#B0BEC5\",\"#B0BEC5\",\"#B0BEC5\",\"#B0BEC5\",\"#B0BEC5\",\"#B0BEC5\",\"#B0BEC5\",\"#B0BEC5\",\"#B0BEC5\",\"#B0BEC5\",\"#B0BEC5\",\"#B0BEC5\",\"#B0BEC5\",\"#B0BEC5\",\"#B0BEC5\",\"#B0BEC5\",\"#B0BEC5\",\"#B0BEC5\",\"#B0BEC5\",\"#B0BEC5\",\"#B0BEC5\",\"#B0BEC5\",\"#B0BEC5\",\"#B0BEC5\",\"#B0BEC5\",\"red\",\"#B0BEC5\",\"#B0BEC5\",\"#B0BEC5\",\"#B0BEC5\",\"#B0BEC5\",\"#B0BEC5\",\"#B0BEC5\",\"#B0BEC5\",\"#B0BEC5\",\"#B0BEC5\",\"#B0BEC5\",\"#B0BEC5\",\"#B0BEC5\",\"#B0BEC5\",\"#B0BEC5\",\"#B0BEC5\",\"#B0BEC5\"]]}],\"label\":\"Topic 32\",\"method\":\"update\"},{\"args\":[{\"marker.color\":[[\"#B0BEC5\",\"#B0BEC5\",\"#B0BEC5\",\"#B0BEC5\",\"#B0BEC5\",\"#B0BEC5\",\"#B0BEC5\",\"#B0BEC5\",\"#B0BEC5\",\"#B0BEC5\",\"#B0BEC5\",\"#B0BEC5\",\"#B0BEC5\",\"#B0BEC5\",\"#B0BEC5\",\"#B0BEC5\",\"#B0BEC5\",\"#B0BEC5\",\"#B0BEC5\",\"#B0BEC5\",\"#B0BEC5\",\"#B0BEC5\",\"#B0BEC5\",\"#B0BEC5\",\"#B0BEC5\",\"#B0BEC5\",\"#B0BEC5\",\"#B0BEC5\",\"#B0BEC5\",\"#B0BEC5\",\"#B0BEC5\",\"#B0BEC5\",\"#B0BEC5\",\"red\",\"#B0BEC5\",\"#B0BEC5\",\"#B0BEC5\",\"#B0BEC5\",\"#B0BEC5\",\"#B0BEC5\",\"#B0BEC5\",\"#B0BEC5\",\"#B0BEC5\",\"#B0BEC5\",\"#B0BEC5\",\"#B0BEC5\",\"#B0BEC5\",\"#B0BEC5\",\"#B0BEC5\",\"#B0BEC5\"]]}],\"label\":\"Topic 33\",\"method\":\"update\"},{\"args\":[{\"marker.color\":[[\"#B0BEC5\",\"#B0BEC5\",\"#B0BEC5\",\"#B0BEC5\",\"#B0BEC5\",\"#B0BEC5\",\"#B0BEC5\",\"#B0BEC5\",\"#B0BEC5\",\"#B0BEC5\",\"#B0BEC5\",\"#B0BEC5\",\"#B0BEC5\",\"#B0BEC5\",\"#B0BEC5\",\"#B0BEC5\",\"#B0BEC5\",\"#B0BEC5\",\"#B0BEC5\",\"#B0BEC5\",\"#B0BEC5\",\"#B0BEC5\",\"#B0BEC5\",\"#B0BEC5\",\"#B0BEC5\",\"#B0BEC5\",\"#B0BEC5\",\"#B0BEC5\",\"#B0BEC5\",\"#B0BEC5\",\"#B0BEC5\",\"#B0BEC5\",\"#B0BEC5\",\"#B0BEC5\",\"red\",\"#B0BEC5\",\"#B0BEC5\",\"#B0BEC5\",\"#B0BEC5\",\"#B0BEC5\",\"#B0BEC5\",\"#B0BEC5\",\"#B0BEC5\",\"#B0BEC5\",\"#B0BEC5\",\"#B0BEC5\",\"#B0BEC5\",\"#B0BEC5\",\"#B0BEC5\",\"#B0BEC5\"]]}],\"label\":\"Topic 34\",\"method\":\"update\"},{\"args\":[{\"marker.color\":[[\"#B0BEC5\",\"#B0BEC5\",\"#B0BEC5\",\"#B0BEC5\",\"#B0BEC5\",\"#B0BEC5\",\"#B0BEC5\",\"#B0BEC5\",\"#B0BEC5\",\"#B0BEC5\",\"#B0BEC5\",\"#B0BEC5\",\"#B0BEC5\",\"#B0BEC5\",\"#B0BEC5\",\"#B0BEC5\",\"#B0BEC5\",\"#B0BEC5\",\"#B0BEC5\",\"#B0BEC5\",\"#B0BEC5\",\"#B0BEC5\",\"#B0BEC5\",\"#B0BEC5\",\"#B0BEC5\",\"#B0BEC5\",\"#B0BEC5\",\"#B0BEC5\",\"#B0BEC5\",\"#B0BEC5\",\"#B0BEC5\",\"#B0BEC5\",\"#B0BEC5\",\"#B0BEC5\",\"#B0BEC5\",\"red\",\"#B0BEC5\",\"#B0BEC5\",\"#B0BEC5\",\"#B0BEC5\",\"#B0BEC5\",\"#B0BEC5\",\"#B0BEC5\",\"#B0BEC5\",\"#B0BEC5\",\"#B0BEC5\",\"#B0BEC5\",\"#B0BEC5\",\"#B0BEC5\",\"#B0BEC5\"]]}],\"label\":\"Topic 35\",\"method\":\"update\"},{\"args\":[{\"marker.color\":[[\"#B0BEC5\",\"#B0BEC5\",\"#B0BEC5\",\"#B0BEC5\",\"#B0BEC5\",\"#B0BEC5\",\"#B0BEC5\",\"#B0BEC5\",\"#B0BEC5\",\"#B0BEC5\",\"#B0BEC5\",\"#B0BEC5\",\"#B0BEC5\",\"#B0BEC5\",\"#B0BEC5\",\"#B0BEC5\",\"#B0BEC5\",\"#B0BEC5\",\"#B0BEC5\",\"#B0BEC5\",\"#B0BEC5\",\"#B0BEC5\",\"#B0BEC5\",\"#B0BEC5\",\"#B0BEC5\",\"#B0BEC5\",\"#B0BEC5\",\"#B0BEC5\",\"#B0BEC5\",\"#B0BEC5\",\"#B0BEC5\",\"#B0BEC5\",\"#B0BEC5\",\"#B0BEC5\",\"#B0BEC5\",\"#B0BEC5\",\"red\",\"#B0BEC5\",\"#B0BEC5\",\"#B0BEC5\",\"#B0BEC5\",\"#B0BEC5\",\"#B0BEC5\",\"#B0BEC5\",\"#B0BEC5\",\"#B0BEC5\",\"#B0BEC5\",\"#B0BEC5\",\"#B0BEC5\",\"#B0BEC5\"]]}],\"label\":\"Topic 36\",\"method\":\"update\"},{\"args\":[{\"marker.color\":[[\"#B0BEC5\",\"#B0BEC5\",\"#B0BEC5\",\"#B0BEC5\",\"#B0BEC5\",\"#B0BEC5\",\"#B0BEC5\",\"#B0BEC5\",\"#B0BEC5\",\"#B0BEC5\",\"#B0BEC5\",\"#B0BEC5\",\"#B0BEC5\",\"#B0BEC5\",\"#B0BEC5\",\"#B0BEC5\",\"#B0BEC5\",\"#B0BEC5\",\"#B0BEC5\",\"#B0BEC5\",\"#B0BEC5\",\"#B0BEC5\",\"#B0BEC5\",\"#B0BEC5\",\"#B0BEC5\",\"#B0BEC5\",\"#B0BEC5\",\"#B0BEC5\",\"#B0BEC5\",\"#B0BEC5\",\"#B0BEC5\",\"#B0BEC5\",\"#B0BEC5\",\"#B0BEC5\",\"#B0BEC5\",\"#B0BEC5\",\"#B0BEC5\",\"red\",\"#B0BEC5\",\"#B0BEC5\",\"#B0BEC5\",\"#B0BEC5\",\"#B0BEC5\",\"#B0BEC5\",\"#B0BEC5\",\"#B0BEC5\",\"#B0BEC5\",\"#B0BEC5\",\"#B0BEC5\",\"#B0BEC5\"]]}],\"label\":\"Topic 37\",\"method\":\"update\"},{\"args\":[{\"marker.color\":[[\"#B0BEC5\",\"#B0BEC5\",\"#B0BEC5\",\"#B0BEC5\",\"#B0BEC5\",\"#B0BEC5\",\"#B0BEC5\",\"#B0BEC5\",\"#B0BEC5\",\"#B0BEC5\",\"#B0BEC5\",\"#B0BEC5\",\"#B0BEC5\",\"#B0BEC5\",\"#B0BEC5\",\"#B0BEC5\",\"#B0BEC5\",\"#B0BEC5\",\"#B0BEC5\",\"#B0BEC5\",\"#B0BEC5\",\"#B0BEC5\",\"#B0BEC5\",\"#B0BEC5\",\"#B0BEC5\",\"#B0BEC5\",\"#B0BEC5\",\"#B0BEC5\",\"#B0BEC5\",\"#B0BEC5\",\"#B0BEC5\",\"#B0BEC5\",\"#B0BEC5\",\"#B0BEC5\",\"#B0BEC5\",\"#B0BEC5\",\"#B0BEC5\",\"#B0BEC5\",\"red\",\"#B0BEC5\",\"#B0BEC5\",\"#B0BEC5\",\"#B0BEC5\",\"#B0BEC5\",\"#B0BEC5\",\"#B0BEC5\",\"#B0BEC5\",\"#B0BEC5\",\"#B0BEC5\",\"#B0BEC5\"]]}],\"label\":\"Topic 38\",\"method\":\"update\"},{\"args\":[{\"marker.color\":[[\"#B0BEC5\",\"#B0BEC5\",\"#B0BEC5\",\"#B0BEC5\",\"#B0BEC5\",\"#B0BEC5\",\"#B0BEC5\",\"#B0BEC5\",\"#B0BEC5\",\"#B0BEC5\",\"#B0BEC5\",\"#B0BEC5\",\"#B0BEC5\",\"#B0BEC5\",\"#B0BEC5\",\"#B0BEC5\",\"#B0BEC5\",\"#B0BEC5\",\"#B0BEC5\",\"#B0BEC5\",\"#B0BEC5\",\"#B0BEC5\",\"#B0BEC5\",\"#B0BEC5\",\"#B0BEC5\",\"#B0BEC5\",\"#B0BEC5\",\"#B0BEC5\",\"#B0BEC5\",\"#B0BEC5\",\"#B0BEC5\",\"#B0BEC5\",\"#B0BEC5\",\"#B0BEC5\",\"#B0BEC5\",\"#B0BEC5\",\"#B0BEC5\",\"#B0BEC5\",\"#B0BEC5\",\"red\",\"#B0BEC5\",\"#B0BEC5\",\"#B0BEC5\",\"#B0BEC5\",\"#B0BEC5\",\"#B0BEC5\",\"#B0BEC5\",\"#B0BEC5\",\"#B0BEC5\",\"#B0BEC5\"]]}],\"label\":\"Topic 39\",\"method\":\"update\"},{\"args\":[{\"marker.color\":[[\"#B0BEC5\",\"#B0BEC5\",\"#B0BEC5\",\"#B0BEC5\",\"#B0BEC5\",\"#B0BEC5\",\"#B0BEC5\",\"#B0BEC5\",\"#B0BEC5\",\"#B0BEC5\",\"#B0BEC5\",\"#B0BEC5\",\"#B0BEC5\",\"#B0BEC5\",\"#B0BEC5\",\"#B0BEC5\",\"#B0BEC5\",\"#B0BEC5\",\"#B0BEC5\",\"#B0BEC5\",\"#B0BEC5\",\"#B0BEC5\",\"#B0BEC5\",\"#B0BEC5\",\"#B0BEC5\",\"#B0BEC5\",\"#B0BEC5\",\"#B0BEC5\",\"#B0BEC5\",\"#B0BEC5\",\"#B0BEC5\",\"#B0BEC5\",\"#B0BEC5\",\"#B0BEC5\",\"#B0BEC5\",\"#B0BEC5\",\"#B0BEC5\",\"#B0BEC5\",\"#B0BEC5\",\"#B0BEC5\",\"red\",\"#B0BEC5\",\"#B0BEC5\",\"#B0BEC5\",\"#B0BEC5\",\"#B0BEC5\",\"#B0BEC5\",\"#B0BEC5\",\"#B0BEC5\",\"#B0BEC5\"]]}],\"label\":\"Topic 40\",\"method\":\"update\"},{\"args\":[{\"marker.color\":[[\"#B0BEC5\",\"#B0BEC5\",\"#B0BEC5\",\"#B0BEC5\",\"#B0BEC5\",\"#B0BEC5\",\"#B0BEC5\",\"#B0BEC5\",\"#B0BEC5\",\"#B0BEC5\",\"#B0BEC5\",\"#B0BEC5\",\"#B0BEC5\",\"#B0BEC5\",\"#B0BEC5\",\"#B0BEC5\",\"#B0BEC5\",\"#B0BEC5\",\"#B0BEC5\",\"#B0BEC5\",\"#B0BEC5\",\"#B0BEC5\",\"#B0BEC5\",\"#B0BEC5\",\"#B0BEC5\",\"#B0BEC5\",\"#B0BEC5\",\"#B0BEC5\",\"#B0BEC5\",\"#B0BEC5\",\"#B0BEC5\",\"#B0BEC5\",\"#B0BEC5\",\"#B0BEC5\",\"#B0BEC5\",\"#B0BEC5\",\"#B0BEC5\",\"#B0BEC5\",\"#B0BEC5\",\"#B0BEC5\",\"#B0BEC5\",\"red\",\"#B0BEC5\",\"#B0BEC5\",\"#B0BEC5\",\"#B0BEC5\",\"#B0BEC5\",\"#B0BEC5\",\"#B0BEC5\",\"#B0BEC5\"]]}],\"label\":\"Topic 41\",\"method\":\"update\"},{\"args\":[{\"marker.color\":[[\"#B0BEC5\",\"#B0BEC5\",\"#B0BEC5\",\"#B0BEC5\",\"#B0BEC5\",\"#B0BEC5\",\"#B0BEC5\",\"#B0BEC5\",\"#B0BEC5\",\"#B0BEC5\",\"#B0BEC5\",\"#B0BEC5\",\"#B0BEC5\",\"#B0BEC5\",\"#B0BEC5\",\"#B0BEC5\",\"#B0BEC5\",\"#B0BEC5\",\"#B0BEC5\",\"#B0BEC5\",\"#B0BEC5\",\"#B0BEC5\",\"#B0BEC5\",\"#B0BEC5\",\"#B0BEC5\",\"#B0BEC5\",\"#B0BEC5\",\"#B0BEC5\",\"#B0BEC5\",\"#B0BEC5\",\"#B0BEC5\",\"#B0BEC5\",\"#B0BEC5\",\"#B0BEC5\",\"#B0BEC5\",\"#B0BEC5\",\"#B0BEC5\",\"#B0BEC5\",\"#B0BEC5\",\"#B0BEC5\",\"#B0BEC5\",\"#B0BEC5\",\"red\",\"#B0BEC5\",\"#B0BEC5\",\"#B0BEC5\",\"#B0BEC5\",\"#B0BEC5\",\"#B0BEC5\",\"#B0BEC5\"]]}],\"label\":\"Topic 42\",\"method\":\"update\"},{\"args\":[{\"marker.color\":[[\"#B0BEC5\",\"#B0BEC5\",\"#B0BEC5\",\"#B0BEC5\",\"#B0BEC5\",\"#B0BEC5\",\"#B0BEC5\",\"#B0BEC5\",\"#B0BEC5\",\"#B0BEC5\",\"#B0BEC5\",\"#B0BEC5\",\"#B0BEC5\",\"#B0BEC5\",\"#B0BEC5\",\"#B0BEC5\",\"#B0BEC5\",\"#B0BEC5\",\"#B0BEC5\",\"#B0BEC5\",\"#B0BEC5\",\"#B0BEC5\",\"#B0BEC5\",\"#B0BEC5\",\"#B0BEC5\",\"#B0BEC5\",\"#B0BEC5\",\"#B0BEC5\",\"#B0BEC5\",\"#B0BEC5\",\"#B0BEC5\",\"#B0BEC5\",\"#B0BEC5\",\"#B0BEC5\",\"#B0BEC5\",\"#B0BEC5\",\"#B0BEC5\",\"#B0BEC5\",\"#B0BEC5\",\"#B0BEC5\",\"#B0BEC5\",\"#B0BEC5\",\"#B0BEC5\",\"red\",\"#B0BEC5\",\"#B0BEC5\",\"#B0BEC5\",\"#B0BEC5\",\"#B0BEC5\",\"#B0BEC5\"]]}],\"label\":\"Topic 43\",\"method\":\"update\"},{\"args\":[{\"marker.color\":[[\"#B0BEC5\",\"#B0BEC5\",\"#B0BEC5\",\"#B0BEC5\",\"#B0BEC5\",\"#B0BEC5\",\"#B0BEC5\",\"#B0BEC5\",\"#B0BEC5\",\"#B0BEC5\",\"#B0BEC5\",\"#B0BEC5\",\"#B0BEC5\",\"#B0BEC5\",\"#B0BEC5\",\"#B0BEC5\",\"#B0BEC5\",\"#B0BEC5\",\"#B0BEC5\",\"#B0BEC5\",\"#B0BEC5\",\"#B0BEC5\",\"#B0BEC5\",\"#B0BEC5\",\"#B0BEC5\",\"#B0BEC5\",\"#B0BEC5\",\"#B0BEC5\",\"#B0BEC5\",\"#B0BEC5\",\"#B0BEC5\",\"#B0BEC5\",\"#B0BEC5\",\"#B0BEC5\",\"#B0BEC5\",\"#B0BEC5\",\"#B0BEC5\",\"#B0BEC5\",\"#B0BEC5\",\"#B0BEC5\",\"#B0BEC5\",\"#B0BEC5\",\"#B0BEC5\",\"#B0BEC5\",\"red\",\"#B0BEC5\",\"#B0BEC5\",\"#B0BEC5\",\"#B0BEC5\",\"#B0BEC5\"]]}],\"label\":\"Topic 44\",\"method\":\"update\"},{\"args\":[{\"marker.color\":[[\"#B0BEC5\",\"#B0BEC5\",\"#B0BEC5\",\"#B0BEC5\",\"#B0BEC5\",\"#B0BEC5\",\"#B0BEC5\",\"#B0BEC5\",\"#B0BEC5\",\"#B0BEC5\",\"#B0BEC5\",\"#B0BEC5\",\"#B0BEC5\",\"#B0BEC5\",\"#B0BEC5\",\"#B0BEC5\",\"#B0BEC5\",\"#B0BEC5\",\"#B0BEC5\",\"#B0BEC5\",\"#B0BEC5\",\"#B0BEC5\",\"#B0BEC5\",\"#B0BEC5\",\"#B0BEC5\",\"#B0BEC5\",\"#B0BEC5\",\"#B0BEC5\",\"#B0BEC5\",\"#B0BEC5\",\"#B0BEC5\",\"#B0BEC5\",\"#B0BEC5\",\"#B0BEC5\",\"#B0BEC5\",\"#B0BEC5\",\"#B0BEC5\",\"#B0BEC5\",\"#B0BEC5\",\"#B0BEC5\",\"#B0BEC5\",\"#B0BEC5\",\"#B0BEC5\",\"#B0BEC5\",\"#B0BEC5\",\"red\",\"#B0BEC5\",\"#B0BEC5\",\"#B0BEC5\",\"#B0BEC5\"]]}],\"label\":\"Topic 45\",\"method\":\"update\"},{\"args\":[{\"marker.color\":[[\"#B0BEC5\",\"#B0BEC5\",\"#B0BEC5\",\"#B0BEC5\",\"#B0BEC5\",\"#B0BEC5\",\"#B0BEC5\",\"#B0BEC5\",\"#B0BEC5\",\"#B0BEC5\",\"#B0BEC5\",\"#B0BEC5\",\"#B0BEC5\",\"#B0BEC5\",\"#B0BEC5\",\"#B0BEC5\",\"#B0BEC5\",\"#B0BEC5\",\"#B0BEC5\",\"#B0BEC5\",\"#B0BEC5\",\"#B0BEC5\",\"#B0BEC5\",\"#B0BEC5\",\"#B0BEC5\",\"#B0BEC5\",\"#B0BEC5\",\"#B0BEC5\",\"#B0BEC5\",\"#B0BEC5\",\"#B0BEC5\",\"#B0BEC5\",\"#B0BEC5\",\"#B0BEC5\",\"#B0BEC5\",\"#B0BEC5\",\"#B0BEC5\",\"#B0BEC5\",\"#B0BEC5\",\"#B0BEC5\",\"#B0BEC5\",\"#B0BEC5\",\"#B0BEC5\",\"#B0BEC5\",\"#B0BEC5\",\"#B0BEC5\",\"red\",\"#B0BEC5\",\"#B0BEC5\",\"#B0BEC5\"]]}],\"label\":\"Topic 46\",\"method\":\"update\"},{\"args\":[{\"marker.color\":[[\"#B0BEC5\",\"#B0BEC5\",\"#B0BEC5\",\"#B0BEC5\",\"#B0BEC5\",\"#B0BEC5\",\"#B0BEC5\",\"#B0BEC5\",\"#B0BEC5\",\"#B0BEC5\",\"#B0BEC5\",\"#B0BEC5\",\"#B0BEC5\",\"#B0BEC5\",\"#B0BEC5\",\"#B0BEC5\",\"#B0BEC5\",\"#B0BEC5\",\"#B0BEC5\",\"#B0BEC5\",\"#B0BEC5\",\"#B0BEC5\",\"#B0BEC5\",\"#B0BEC5\",\"#B0BEC5\",\"#B0BEC5\",\"#B0BEC5\",\"#B0BEC5\",\"#B0BEC5\",\"#B0BEC5\",\"#B0BEC5\",\"#B0BEC5\",\"#B0BEC5\",\"#B0BEC5\",\"#B0BEC5\",\"#B0BEC5\",\"#B0BEC5\",\"#B0BEC5\",\"#B0BEC5\",\"#B0BEC5\",\"#B0BEC5\",\"#B0BEC5\",\"#B0BEC5\",\"#B0BEC5\",\"#B0BEC5\",\"#B0BEC5\",\"#B0BEC5\",\"red\",\"#B0BEC5\",\"#B0BEC5\"]]}],\"label\":\"Topic 47\",\"method\":\"update\"},{\"args\":[{\"marker.color\":[[\"#B0BEC5\",\"#B0BEC5\",\"#B0BEC5\",\"#B0BEC5\",\"#B0BEC5\",\"#B0BEC5\",\"#B0BEC5\",\"#B0BEC5\",\"#B0BEC5\",\"#B0BEC5\",\"#B0BEC5\",\"#B0BEC5\",\"#B0BEC5\",\"#B0BEC5\",\"#B0BEC5\",\"#B0BEC5\",\"#B0BEC5\",\"#B0BEC5\",\"#B0BEC5\",\"#B0BEC5\",\"#B0BEC5\",\"#B0BEC5\",\"#B0BEC5\",\"#B0BEC5\",\"#B0BEC5\",\"#B0BEC5\",\"#B0BEC5\",\"#B0BEC5\",\"#B0BEC5\",\"#B0BEC5\",\"#B0BEC5\",\"#B0BEC5\",\"#B0BEC5\",\"#B0BEC5\",\"#B0BEC5\",\"#B0BEC5\",\"#B0BEC5\",\"#B0BEC5\",\"#B0BEC5\",\"#B0BEC5\",\"#B0BEC5\",\"#B0BEC5\",\"#B0BEC5\",\"#B0BEC5\",\"#B0BEC5\",\"#B0BEC5\",\"#B0BEC5\",\"#B0BEC5\",\"red\",\"#B0BEC5\"]]}],\"label\":\"Topic 48\",\"method\":\"update\"},{\"args\":[{\"marker.color\":[[\"#B0BEC5\",\"#B0BEC5\",\"#B0BEC5\",\"#B0BEC5\",\"#B0BEC5\",\"#B0BEC5\",\"#B0BEC5\",\"#B0BEC5\",\"#B0BEC5\",\"#B0BEC5\",\"#B0BEC5\",\"#B0BEC5\",\"#B0BEC5\",\"#B0BEC5\",\"#B0BEC5\",\"#B0BEC5\",\"#B0BEC5\",\"#B0BEC5\",\"#B0BEC5\",\"#B0BEC5\",\"#B0BEC5\",\"#B0BEC5\",\"#B0BEC5\",\"#B0BEC5\",\"#B0BEC5\",\"#B0BEC5\",\"#B0BEC5\",\"#B0BEC5\",\"#B0BEC5\",\"#B0BEC5\",\"#B0BEC5\",\"#B0BEC5\",\"#B0BEC5\",\"#B0BEC5\",\"#B0BEC5\",\"#B0BEC5\",\"#B0BEC5\",\"#B0BEC5\",\"#B0BEC5\",\"#B0BEC5\",\"#B0BEC5\",\"#B0BEC5\",\"#B0BEC5\",\"#B0BEC5\",\"#B0BEC5\",\"#B0BEC5\",\"#B0BEC5\",\"#B0BEC5\",\"#B0BEC5\",\"red\"]]}],\"label\":\"Topic 49\",\"method\":\"update\"}]}],\"shapes\":[{\"line\":{\"color\":\"#CFD8DC\",\"width\":2},\"type\":\"line\",\"x0\":0.8735050916671749,\"x1\":0.8735050916671749,\"y0\":-13.277024269104004,\"y1\":12.907254505157471},{\"line\":{\"color\":\"#9E9E9E\",\"width\":2},\"type\":\"line\",\"x0\":-8.182022714614869,\"x1\":9.929032897949218,\"y0\":-0.18488488197326625,\"y1\":-0.18488488197326625}],\"annotations\":[{\"showarrow\":false,\"text\":\"D1\",\"x\":-8.182022714614869,\"y\":-0.18488488197326625,\"yshift\":10},{\"showarrow\":false,\"text\":\"D2\",\"x\":0.8735050916671749,\"xshift\":10,\"y\":12.907254505157471}]},                        {\"responsive\": true}                    ).then(function(){\n",
       "                            \n",
       "var gd = document.getElementById('670209ed-8051-4f31-bae8-768e81e312c0');\n",
       "var x = new MutationObserver(function (mutations, observer) {{\n",
       "        var display = window.getComputedStyle(gd).display;\n",
       "        if (!display || display === 'none') {{\n",
       "            console.log([gd, 'removed!']);\n",
       "            Plotly.purge(gd);\n",
       "            observer.disconnect();\n",
       "        }}\n",
       "}});\n",
       "\n",
       "// Listen for the removal of the full notebook cells\n",
       "var notebookContainer = gd.closest('#notebook-container');\n",
       "if (notebookContainer) {{\n",
       "    x.observe(notebookContainer, {childList: true});\n",
       "}}\n",
       "\n",
       "// Listen for the clearing of the current output cell\n",
       "var outputEl = gd.closest('.output');\n",
       "if (outputEl) {{\n",
       "    x.observe(outputEl, {childList: true});\n",
       "}}\n",
       "\n",
       "                        })                };                            </script>        </div>\n",
       "</body>\n",
       "</html>"
      ]
     },
     "metadata": {}
    }
   ]
  },
  {
   "cell_type": "code",
   "source": [
    "fig_Cluster.write_html(\"/content/drive/MyDrive/Interim/fig_Cluster.html\")"
   ],
   "metadata": {
    "id": "hW_2Cz53f258",
    "pycharm": {
     "name": "#%%\n"
    }
   },
   "execution_count": null,
   "outputs": []
  },
  {
   "cell_type": "code",
   "source": [
    "fig_hierarchy = topic_model.visualize_hierarchy()\n",
    "fig_hierarchy\n"
   ],
   "metadata": {
    "colab": {
     "base_uri": "https://localhost:8080/",
     "height": 967
    },
    "id": "Oix24PdB-eDW",
    "executionInfo": {
     "status": "ok",
     "timestamp": 1668099952718,
     "user_tz": -60,
     "elapsed": 5,
     "user": {
      "displayName": "Naemi Graf",
      "userId": "00297558433787857996"
     }
    },
    "outputId": "b94d9bb5-58c3-4556-867a-3075b3d277aa",
    "pycharm": {
     "name": "#%%\n"
    }
   },
   "execution_count": null,
   "outputs": [
    {
     "output_type": "display_data",
     "data": {
      "text/html": [
       "<html>\n",
       "<head><meta charset=\"utf-8\" /></head>\n",
       "<body>\n",
       "    <div>            <script src=\"https://cdnjs.cloudflare.com/ajax/libs/mathjax/2.7.5/MathJax.js?config=TeX-AMS-MML_SVG\"></script><script type=\"text/javascript\">if (window.MathJax) {MathJax.Hub.Config({SVG: {font: \"STIX-Web\"}});}</script>                <script type=\"text/javascript\">window.PlotlyConfig = {MathJaxConfig: 'local'};</script>\n",
       "        <script src=\"https://cdn.plot.ly/plotly-2.8.3.min.js\"></script>                <div id=\"b1a8dd6d-4b65-4ebf-8146-213511c2147b\" class=\"plotly-graph-div\" style=\"height:950px; width:1000px;\"></div>            <script type=\"text/javascript\">                                    window.PLOTLYENV=window.PLOTLYENV || {};                                    if (document.getElementById(\"b1a8dd6d-4b65-4ebf-8146-213511c2147b\")) {                    Plotly.newPlot(                        \"b1a8dd6d-4b65-4ebf-8146-213511c2147b\",                        [{\"hoverinfo\":\"text\",\"marker\":{\"color\":\"rgb(61,153,112)\"},\"mode\":\"lines\",\"x\":[0.0,0.7689900259866168,0.7689900259866168,0.0],\"xaxis\":\"x\",\"y\":[-5.0,-5.0,-15.0,-15.0],\"yaxis\":\"y\",\"type\":\"scatter\"},{\"hoverinfo\":\"text\",\"marker\":{\"color\":\"rgb(255,65,54)\"},\"mode\":\"lines\",\"x\":[0.0,0.9203498125774522,0.9203498125774522,0.0],\"xaxis\":\"x\",\"y\":[-25.0,-25.0,-35.0,-35.0],\"yaxis\":\"y\",\"type\":\"scatter\"},{\"hoverinfo\":\"text\",\"marker\":{\"color\":\"rgb(0,116,217)\"},\"mode\":\"lines\",\"x\":[0.9203498125774522,1.090108598678913,1.090108598678913,0.0],\"xaxis\":\"x\",\"y\":[-30.0,-30.0,-45.0,-45.0],\"yaxis\":\"y\",\"type\":\"scatter\"},{\"hoverinfo\":\"text\",\"marker\":{\"color\":\"rgb(0,116,217)\"},\"mode\":\"lines\",\"x\":[0.7689900259866168,1.6619512421622957,1.6619512421622957,1.090108598678913],\"xaxis\":\"x\",\"y\":[-10.0,-10.0,-37.5,-37.5],\"yaxis\":\"y\",\"type\":\"scatter\"},{\"hoverinfo\":\"text\",\"marker\":{\"color\":\"rgb(0,116,217)\"},\"mode\":\"lines\",\"x\":[0.0,1.1120849096286287,1.1120849096286287,0.0],\"xaxis\":\"x\",\"y\":[-55.0,-55.0,-65.0,-65.0],\"yaxis\":\"y\",\"type\":\"scatter\"},{\"hoverinfo\":\"text\",\"marker\":{\"color\":\"rgb(35,205,205)\"},\"mode\":\"lines\",\"x\":[0.0,0.8281061654050723,0.8281061654050723,0.0],\"xaxis\":\"x\",\"y\":[-75.0,-75.0,-85.0,-85.0],\"yaxis\":\"y\",\"type\":\"scatter\"},{\"hoverinfo\":\"text\",\"marker\":{\"color\":\"rgb(0,116,217)\"},\"mode\":\"lines\",\"x\":[1.1120849096286287,1.5397347083859974,1.5397347083859974,0.8281061654050723],\"xaxis\":\"x\",\"y\":[-60.0,-60.0,-80.0,-80.0],\"yaxis\":\"y\",\"type\":\"scatter\"},{\"hoverinfo\":\"text\",\"marker\":{\"color\":\"rgb(0,116,217)\"},\"mode\":\"lines\",\"x\":[0.0,1.2918579857167418,1.2918579857167418,0.0],\"xaxis\":\"x\",\"y\":[-105.0,-105.0,-115.0,-115.0],\"yaxis\":\"y\",\"type\":\"scatter\"},{\"hoverinfo\":\"text\",\"marker\":{\"color\":\"rgb(0,116,217)\"},\"mode\":\"lines\",\"x\":[1.2918579857167418,1.3125405476757974,1.3125405476757974,0.0],\"xaxis\":\"x\",\"y\":[-110.0,-110.0,-125.0,-125.0],\"yaxis\":\"y\",\"type\":\"scatter\"},{\"hoverinfo\":\"text\",\"marker\":{\"color\":\"rgb(0,116,217)\"},\"mode\":\"lines\",\"x\":[0.0,1.3410042334914147,1.3410042334914147,1.3125405476757974],\"xaxis\":\"x\",\"y\":[-95.0,-95.0,-117.5,-117.5],\"yaxis\":\"y\",\"type\":\"scatter\"},{\"hoverinfo\":\"text\",\"marker\":{\"color\":\"rgb(0,116,217)\"},\"mode\":\"lines\",\"x\":[0.0,1.2258944466662012,1.2258944466662012,0.0],\"xaxis\":\"x\",\"y\":[-135.0,-135.0,-145.0,-145.0],\"yaxis\":\"y\",\"type\":\"scatter\"},{\"hoverinfo\":\"text\",\"marker\":{\"color\":\"rgb(0,116,217)\"},\"mode\":\"lines\",\"x\":[1.2258944466662012,1.3072295789189206,1.3072295789189206,0.0],\"xaxis\":\"x\",\"y\":[-140.0,-140.0,-155.0,-155.0],\"yaxis\":\"y\",\"type\":\"scatter\"},{\"hoverinfo\":\"text\",\"marker\":{\"color\":\"rgb(0,116,217)\"},\"mode\":\"lines\",\"x\":[1.3410042334914147,1.4735182772096018,1.4735182772096018,1.3072295789189206],\"xaxis\":\"x\",\"y\":[-106.25,-106.25,-147.5,-147.5],\"yaxis\":\"y\",\"type\":\"scatter\"},{\"hoverinfo\":\"text\",\"marker\":{\"color\":\"rgb(0,116,217)\"},\"mode\":\"lines\",\"x\":[0.0,1.2472237077306896,1.2472237077306896,0.0],\"xaxis\":\"x\",\"y\":[-165.0,-165.0,-175.0,-175.0],\"yaxis\":\"y\",\"type\":\"scatter\"},{\"hoverinfo\":\"text\",\"marker\":{\"color\":\"rgb(0,116,217)\"},\"mode\":\"lines\",\"x\":[0.0,1.27993921874789,1.27993921874789,0.0],\"xaxis\":\"x\",\"y\":[-185.0,-185.0,-195.0,-195.0],\"yaxis\":\"y\",\"type\":\"scatter\"},{\"hoverinfo\":\"text\",\"marker\":{\"color\":\"rgb(0,116,217)\"},\"mode\":\"lines\",\"x\":[1.2472237077306896,1.3438056278003014,1.3438056278003014,1.27993921874789],\"xaxis\":\"x\",\"y\":[-170.0,-170.0,-190.0,-190.0],\"yaxis\":\"y\",\"type\":\"scatter\"},{\"hoverinfo\":\"text\",\"marker\":{\"color\":\"rgb(0,116,217)\"},\"mode\":\"lines\",\"x\":[0.0,1.2086152521193705,1.2086152521193705,0.0],\"xaxis\":\"x\",\"y\":[-215.0,-215.0,-225.0,-225.0],\"yaxis\":\"y\",\"type\":\"scatter\"},{\"hoverinfo\":\"text\",\"marker\":{\"color\":\"rgb(0,116,217)\"},\"mode\":\"lines\",\"x\":[0.0,1.2320794689414125,1.2320794689414125,1.2086152521193705],\"xaxis\":\"x\",\"y\":[-205.0,-205.0,-220.0,-220.0],\"yaxis\":\"y\",\"type\":\"scatter\"},{\"hoverinfo\":\"text\",\"marker\":{\"color\":\"rgb(0,116,217)\"},\"mode\":\"lines\",\"x\":[0.0,1.2488737840865705,1.2488737840865705,0.0],\"xaxis\":\"x\",\"y\":[-235.0,-235.0,-245.0,-245.0],\"yaxis\":\"y\",\"type\":\"scatter\"},{\"hoverinfo\":\"text\",\"marker\":{\"color\":\"rgb(0,116,217)\"},\"mode\":\"lines\",\"x\":[1.2320794689414125,1.2884749141702716,1.2884749141702716,1.2488737840865705],\"xaxis\":\"x\",\"y\":[-212.5,-212.5,-240.0,-240.0],\"yaxis\":\"y\",\"type\":\"scatter\"},{\"hoverinfo\":\"text\",\"marker\":{\"color\":\"rgb(0,116,217)\"},\"mode\":\"lines\",\"x\":[1.3438056278003014,1.4256262836780664,1.4256262836780664,1.2884749141702716],\"xaxis\":\"x\",\"y\":[-180.0,-180.0,-226.25,-226.25],\"yaxis\":\"y\",\"type\":\"scatter\"},{\"hoverinfo\":\"text\",\"marker\":{\"color\":\"rgb(0,116,217)\"},\"mode\":\"lines\",\"x\":[1.4735182772096018,1.5807926112267718,1.5807926112267718,1.4256262836780664],\"xaxis\":\"x\",\"y\":[-126.875,-126.875,-203.125,-203.125],\"yaxis\":\"y\",\"type\":\"scatter\"},{\"hoverinfo\":\"text\",\"marker\":{\"color\":\"rgb(0,116,217)\"},\"mode\":\"lines\",\"x\":[0.0,1.320607268727252,1.320607268727252,0.0],\"xaxis\":\"x\",\"y\":[-255.0,-255.0,-265.0,-265.0],\"yaxis\":\"y\",\"type\":\"scatter\"},{\"hoverinfo\":\"text\",\"marker\":{\"color\":\"rgb(0,116,217)\"},\"mode\":\"lines\",\"x\":[0.0,1.2133849364697882,1.2133849364697882,0.0],\"xaxis\":\"x\",\"y\":[-275.0,-275.0,-285.0,-285.0],\"yaxis\":\"y\",\"type\":\"scatter\"},{\"hoverinfo\":\"text\",\"marker\":{\"color\":\"rgb(0,116,217)\"},\"mode\":\"lines\",\"x\":[1.320607268727252,1.3880265519581472,1.3880265519581472,1.2133849364697882],\"xaxis\":\"x\",\"y\":[-260.0,-260.0,-280.0,-280.0],\"yaxis\":\"y\",\"type\":\"scatter\"},{\"hoverinfo\":\"text\",\"marker\":{\"color\":\"rgb(0,116,217)\"},\"mode\":\"lines\",\"x\":[0.0,1.2553965174602038,1.2553965174602038,0.0],\"xaxis\":\"x\",\"y\":[-295.0,-295.0,-305.0,-305.0],\"yaxis\":\"y\",\"type\":\"scatter\"},{\"hoverinfo\":\"text\",\"marker\":{\"color\":\"rgb(0,116,217)\"},\"mode\":\"lines\",\"x\":[1.2553965174602038,1.319475834515172,1.319475834515172,0.0],\"xaxis\":\"x\",\"y\":[-300.0,-300.0,-315.0,-315.0],\"yaxis\":\"y\",\"type\":\"scatter\"},{\"hoverinfo\":\"text\",\"marker\":{\"color\":\"rgb(0,116,217)\"},\"mode\":\"lines\",\"x\":[0.0,1.3577318825210007,1.3577318825210007,0.0],\"xaxis\":\"x\",\"y\":[-325.0,-325.0,-335.0,-335.0],\"yaxis\":\"y\",\"type\":\"scatter\"},{\"hoverinfo\":\"text\",\"marker\":{\"color\":\"rgb(0,116,217)\"},\"mode\":\"lines\",\"x\":[0.0,1.3532861815515562,1.3532861815515562,0.0],\"xaxis\":\"x\",\"y\":[-345.0,-345.0,-355.0,-355.0],\"yaxis\":\"y\",\"type\":\"scatter\"},{\"hoverinfo\":\"text\",\"marker\":{\"color\":\"rgb(0,116,217)\"},\"mode\":\"lines\",\"x\":[1.3577318825210007,1.418354211527391,1.418354211527391,1.3532861815515562],\"xaxis\":\"x\",\"y\":[-330.0,-330.0,-350.0,-350.0],\"yaxis\":\"y\",\"type\":\"scatter\"},{\"hoverinfo\":\"text\",\"marker\":{\"color\":\"rgb(0,116,217)\"},\"mode\":\"lines\",\"x\":[1.319475834515172,1.5619640797344705,1.5619640797344705,1.418354211527391],\"xaxis\":\"x\",\"y\":[-307.5,-307.5,-340.0,-340.0],\"yaxis\":\"y\",\"type\":\"scatter\"},{\"hoverinfo\":\"text\",\"marker\":{\"color\":\"rgb(0,116,217)\"},\"mode\":\"lines\",\"x\":[1.3880265519581472,1.585988004530001,1.585988004530001,1.5619640797344705],\"xaxis\":\"x\",\"y\":[-270.0,-270.0,-323.75,-323.75],\"yaxis\":\"y\",\"type\":\"scatter\"},{\"hoverinfo\":\"text\",\"marker\":{\"color\":\"rgb(0,116,217)\"},\"mode\":\"lines\",\"x\":[1.5807926112267718,1.792217871243796,1.792217871243796,1.585988004530001],\"xaxis\":\"x\",\"y\":[-165.0,-165.0,-296.875,-296.875],\"yaxis\":\"y\",\"type\":\"scatter\"},{\"hoverinfo\":\"text\",\"marker\":{\"color\":\"rgb(0,116,217)\"},\"mode\":\"lines\",\"x\":[1.5397347083859974,1.927158767961317,1.927158767961317,1.792217871243796],\"xaxis\":\"x\",\"y\":[-70.0,-70.0,-230.9375,-230.9375],\"yaxis\":\"y\",\"type\":\"scatter\"},{\"hoverinfo\":\"text\",\"marker\":{\"color\":\"rgb(0,116,217)\"},\"mode\":\"lines\",\"x\":[0.0,1.244429502758192,1.244429502758192,0.0],\"xaxis\":\"x\",\"y\":[-375.0,-375.0,-385.0,-385.0],\"yaxis\":\"y\",\"type\":\"scatter\"},{\"hoverinfo\":\"text\",\"marker\":{\"color\":\"rgb(0,116,217)\"},\"mode\":\"lines\",\"x\":[0.0,1.2834000222193147,1.2834000222193147,1.244429502758192],\"xaxis\":\"x\",\"y\":[-365.0,-365.0,-380.0,-380.0],\"yaxis\":\"y\",\"type\":\"scatter\"},{\"hoverinfo\":\"text\",\"marker\":{\"color\":\"rgb(0,116,217)\"},\"mode\":\"lines\",\"x\":[0.0,1.112779665059893,1.112779665059893,0.0],\"xaxis\":\"x\",\"y\":[-395.0,-395.0,-405.0,-405.0],\"yaxis\":\"y\",\"type\":\"scatter\"},{\"hoverinfo\":\"text\",\"marker\":{\"color\":\"rgb(0,116,217)\"},\"mode\":\"lines\",\"x\":[1.2834000222193147,1.4073140670976767,1.4073140670976767,1.112779665059893],\"xaxis\":\"x\",\"y\":[-372.5,-372.5,-400.0,-400.0],\"yaxis\":\"y\",\"type\":\"scatter\"},{\"hoverinfo\":\"text\",\"marker\":{\"color\":\"rgb(0,116,217)\"},\"mode\":\"lines\",\"x\":[0.0,1.1343310812260263,1.1343310812260263,0.0],\"xaxis\":\"x\",\"y\":[-415.0,-415.0,-425.0,-425.0],\"yaxis\":\"y\",\"type\":\"scatter\"},{\"hoverinfo\":\"text\",\"marker\":{\"color\":\"rgb(0,116,217)\"},\"mode\":\"lines\",\"x\":[0.0,1.230492542052782,1.230492542052782,0.0],\"xaxis\":\"x\",\"y\":[-435.0,-435.0,-445.0,-445.0],\"yaxis\":\"y\",\"type\":\"scatter\"},{\"hoverinfo\":\"text\",\"marker\":{\"color\":\"rgb(0,116,217)\"},\"mode\":\"lines\",\"x\":[1.230492542052782,1.2916315788988633,1.2916315788988633,0.0],\"xaxis\":\"x\",\"y\":[-440.0,-440.0,-455.0,-455.0],\"yaxis\":\"y\",\"type\":\"scatter\"},{\"hoverinfo\":\"text\",\"marker\":{\"color\":\"rgb(0,116,217)\"},\"mode\":\"lines\",\"x\":[1.1343310812260263,1.3907628196167112,1.3907628196167112,1.2916315788988633],\"xaxis\":\"x\",\"y\":[-420.0,-420.0,-447.5,-447.5],\"yaxis\":\"y\",\"type\":\"scatter\"},{\"hoverinfo\":\"text\",\"marker\":{\"color\":\"rgb(0,116,217)\"},\"mode\":\"lines\",\"x\":[1.4073140670976767,1.5652472915541238,1.5652472915541238,1.3907628196167112],\"xaxis\":\"x\",\"y\":[-386.25,-386.25,-433.75,-433.75],\"yaxis\":\"y\",\"type\":\"scatter\"},{\"hoverinfo\":\"text\",\"marker\":{\"color\":\"rgb(133,20,75)\"},\"mode\":\"lines\",\"x\":[0.0,0.9568107069187941,0.9568107069187941,0.0],\"xaxis\":\"x\",\"y\":[-465.0,-465.0,-475.0,-475.0],\"yaxis\":\"y\",\"type\":\"scatter\"},{\"hoverinfo\":\"text\",\"marker\":{\"color\":\"rgb(0,116,217)\"},\"mode\":\"lines\",\"x\":[1.5652472915541238,1.7111851762816324,1.7111851762816324,0.9568107069187941],\"xaxis\":\"x\",\"y\":[-410.0,-410.0,-470.0,-470.0],\"yaxis\":\"y\",\"type\":\"scatter\"},{\"hoverinfo\":\"text\",\"marker\":{\"color\":\"rgb(0,116,217)\"},\"mode\":\"lines\",\"x\":[1.927158767961317,2.078855537526836,2.078855537526836,1.7111851762816324],\"xaxis\":\"x\",\"y\":[-150.46875,-150.46875,-440.0,-440.0],\"yaxis\":\"y\",\"type\":\"scatter\"},{\"hoverinfo\":\"text\",\"marker\":{\"color\":\"rgb(255,220,0)\"},\"mode\":\"lines\",\"x\":[0.0,0.6105160709442399,0.6105160709442399,0.0],\"xaxis\":\"x\",\"y\":[-485.0,-485.0,-495.0,-495.0],\"yaxis\":\"y\",\"type\":\"scatter\"},{\"hoverinfo\":\"text\",\"marker\":{\"color\":\"rgb(0,116,217)\"},\"mode\":\"lines\",\"x\":[2.078855537526836,2.0996719847421246,2.0996719847421246,0.6105160709442399],\"xaxis\":\"x\",\"y\":[-295.234375,-295.234375,-490.0,-490.0],\"yaxis\":\"y\",\"type\":\"scatter\"},{\"hoverinfo\":\"text\",\"marker\":{\"color\":\"rgb(0,116,217)\"},\"mode\":\"lines\",\"x\":[1.6619512421622957,2.5567358870043675,2.5567358870043675,2.0996719847421246],\"xaxis\":\"x\",\"y\":[-23.75,-23.75,-392.6171875,-392.6171875],\"yaxis\":\"y\",\"type\":\"scatter\"}],                        {\"autosize\":false,\"height\":950,\"hovermode\":\"closest\",\"showlegend\":false,\"width\":1000,\"xaxis\":{\"mirror\":\"allticks\",\"rangemode\":\"tozero\",\"showgrid\":false,\"showline\":true,\"showticklabels\":true,\"ticks\":\"outside\",\"type\":\"linear\",\"zeroline\":false},\"yaxis\":{\"mirror\":\"allticks\",\"rangemode\":\"tozero\",\"showgrid\":false,\"showline\":true,\"showticklabels\":true,\"tickmode\":\"array\",\"ticks\":\"outside\",\"ticktext\":[\"1_music_dj_bookings\",\"14_music_football_realmadrid\",\"30_music_manchester_united\",\"5_manchester_united_die\",\"17_trust_smile_grace\",\"49_endorsements_endorsement...\",\"48_views_opinions_opinion\",\"8_tweets_tweet_twitter\",\"42_twitter_villa_leeds\",\"38_liverpool_lfc_ynwa\",\"40_messi_barcelona_barca\",\"19_chelsea_chelseafc_fc\",\"22_arsenal_fan_coyg\",\"34_celtics_yankees_patriots\",\"33_manutd_fan_die\",\"43_ronaldo_cristiano_manutd\",\"15_red_glory_devil\",\"12_ggmu_united_manchester\",\"41_allah_muslim_alhamdulillah\",\"28_cricket_indian_tennis\",\"46_ireland_irish_dublin\",\"23_utd_man_fan\",\"0_father_husband_dad\",\"29_beer_coffee_wine\",\"10_life_live_living\",\"44_fpl_rank_top\",\"16_podcast_host_podcaster\",\"20_betting_tips_odds\",\"32_live_watch_stream\",\"24_glazersout_glazers_mufc\",\"9_mufc_ok_aminulh\",\"47_boxing_ufc_mma\",\"26_ig_follow_st\",\"37_instagram_snapchat_insta\",\"3_de_la_en\",\"18_yang_dan_di\",\"36_doctor_health_pharmacist\",\"31_human_political_activist\",\"45_accountant_accounting_fi...\",\"21_data_politics_analyst\",\"4_journalist_sports_reporter\",\"2_photographer_photography_...\",\"6_designer_graphic_design\",\"39_whatsapp_logistics_car\",\"27_marketing_digital_marketer\",\"7_crypto_nft_trader\",\"11_developer_engineer_softw...\",\"35_engineer_civil_engineering\",\"13_news_sports_latest\",\"25_news_transfer_transfers\"],\"tickvals\":[-5.0,-15.0,-25.0,-35.0,-45.0,-55.0,-65.0,-75.0,-85.0,-95.0,-105.0,-115.0,-125.0,-135.0,-145.0,-155.0,-165.0,-175.0,-185.0,-195.0,-205.0,-215.0,-225.0,-235.0,-245.0,-255.0,-265.0,-275.0,-285.0,-295.0,-305.0,-315.0,-325.0,-335.0,-345.0,-355.0,-365.0,-375.0,-385.0,-395.0,-405.0,-415.0,-425.0,-435.0,-445.0,-455.0,-465.0,-475.0,-485.0,-495.0],\"type\":\"linear\",\"zeroline\":false,\"range\":[-500.0,0.0]},\"template\":{\"data\":{\"barpolar\":[{\"marker\":{\"line\":{\"color\":\"white\",\"width\":0.5},\"pattern\":{\"fillmode\":\"overlay\",\"size\":10,\"solidity\":0.2}},\"type\":\"barpolar\"}],\"bar\":[{\"error_x\":{\"color\":\"#2a3f5f\"},\"error_y\":{\"color\":\"#2a3f5f\"},\"marker\":{\"line\":{\"color\":\"white\",\"width\":0.5},\"pattern\":{\"fillmode\":\"overlay\",\"size\":10,\"solidity\":0.2}},\"type\":\"bar\"}],\"carpet\":[{\"aaxis\":{\"endlinecolor\":\"#2a3f5f\",\"gridcolor\":\"#C8D4E3\",\"linecolor\":\"#C8D4E3\",\"minorgridcolor\":\"#C8D4E3\",\"startlinecolor\":\"#2a3f5f\"},\"baxis\":{\"endlinecolor\":\"#2a3f5f\",\"gridcolor\":\"#C8D4E3\",\"linecolor\":\"#C8D4E3\",\"minorgridcolor\":\"#C8D4E3\",\"startlinecolor\":\"#2a3f5f\"},\"type\":\"carpet\"}],\"choropleth\":[{\"colorbar\":{\"outlinewidth\":0,\"ticks\":\"\"},\"type\":\"choropleth\"}],\"contourcarpet\":[{\"colorbar\":{\"outlinewidth\":0,\"ticks\":\"\"},\"type\":\"contourcarpet\"}],\"contour\":[{\"colorbar\":{\"outlinewidth\":0,\"ticks\":\"\"},\"colorscale\":[[0.0,\"#0d0887\"],[0.1111111111111111,\"#46039f\"],[0.2222222222222222,\"#7201a8\"],[0.3333333333333333,\"#9c179e\"],[0.4444444444444444,\"#bd3786\"],[0.5555555555555556,\"#d8576b\"],[0.6666666666666666,\"#ed7953\"],[0.7777777777777778,\"#fb9f3a\"],[0.8888888888888888,\"#fdca26\"],[1.0,\"#f0f921\"]],\"type\":\"contour\"}],\"heatmapgl\":[{\"colorbar\":{\"outlinewidth\":0,\"ticks\":\"\"},\"colorscale\":[[0.0,\"#0d0887\"],[0.1111111111111111,\"#46039f\"],[0.2222222222222222,\"#7201a8\"],[0.3333333333333333,\"#9c179e\"],[0.4444444444444444,\"#bd3786\"],[0.5555555555555556,\"#d8576b\"],[0.6666666666666666,\"#ed7953\"],[0.7777777777777778,\"#fb9f3a\"],[0.8888888888888888,\"#fdca26\"],[1.0,\"#f0f921\"]],\"type\":\"heatmapgl\"}],\"heatmap\":[{\"colorbar\":{\"outlinewidth\":0,\"ticks\":\"\"},\"colorscale\":[[0.0,\"#0d0887\"],[0.1111111111111111,\"#46039f\"],[0.2222222222222222,\"#7201a8\"],[0.3333333333333333,\"#9c179e\"],[0.4444444444444444,\"#bd3786\"],[0.5555555555555556,\"#d8576b\"],[0.6666666666666666,\"#ed7953\"],[0.7777777777777778,\"#fb9f3a\"],[0.8888888888888888,\"#fdca26\"],[1.0,\"#f0f921\"]],\"type\":\"heatmap\"}],\"histogram2dcontour\":[{\"colorbar\":{\"outlinewidth\":0,\"ticks\":\"\"},\"colorscale\":[[0.0,\"#0d0887\"],[0.1111111111111111,\"#46039f\"],[0.2222222222222222,\"#7201a8\"],[0.3333333333333333,\"#9c179e\"],[0.4444444444444444,\"#bd3786\"],[0.5555555555555556,\"#d8576b\"],[0.6666666666666666,\"#ed7953\"],[0.7777777777777778,\"#fb9f3a\"],[0.8888888888888888,\"#fdca26\"],[1.0,\"#f0f921\"]],\"type\":\"histogram2dcontour\"}],\"histogram2d\":[{\"colorbar\":{\"outlinewidth\":0,\"ticks\":\"\"},\"colorscale\":[[0.0,\"#0d0887\"],[0.1111111111111111,\"#46039f\"],[0.2222222222222222,\"#7201a8\"],[0.3333333333333333,\"#9c179e\"],[0.4444444444444444,\"#bd3786\"],[0.5555555555555556,\"#d8576b\"],[0.6666666666666666,\"#ed7953\"],[0.7777777777777778,\"#fb9f3a\"],[0.8888888888888888,\"#fdca26\"],[1.0,\"#f0f921\"]],\"type\":\"histogram2d\"}],\"histogram\":[{\"marker\":{\"pattern\":{\"fillmode\":\"overlay\",\"size\":10,\"solidity\":0.2}},\"type\":\"histogram\"}],\"mesh3d\":[{\"colorbar\":{\"outlinewidth\":0,\"ticks\":\"\"},\"type\":\"mesh3d\"}],\"parcoords\":[{\"line\":{\"colorbar\":{\"outlinewidth\":0,\"ticks\":\"\"}},\"type\":\"parcoords\"}],\"pie\":[{\"automargin\":true,\"type\":\"pie\"}],\"scatter3d\":[{\"line\":{\"colorbar\":{\"outlinewidth\":0,\"ticks\":\"\"}},\"marker\":{\"colorbar\":{\"outlinewidth\":0,\"ticks\":\"\"}},\"type\":\"scatter3d\"}],\"scattercarpet\":[{\"marker\":{\"colorbar\":{\"outlinewidth\":0,\"ticks\":\"\"}},\"type\":\"scattercarpet\"}],\"scattergeo\":[{\"marker\":{\"colorbar\":{\"outlinewidth\":0,\"ticks\":\"\"}},\"type\":\"scattergeo\"}],\"scattergl\":[{\"marker\":{\"colorbar\":{\"outlinewidth\":0,\"ticks\":\"\"}},\"type\":\"scattergl\"}],\"scattermapbox\":[{\"marker\":{\"colorbar\":{\"outlinewidth\":0,\"ticks\":\"\"}},\"type\":\"scattermapbox\"}],\"scatterpolargl\":[{\"marker\":{\"colorbar\":{\"outlinewidth\":0,\"ticks\":\"\"}},\"type\":\"scatterpolargl\"}],\"scatterpolar\":[{\"marker\":{\"colorbar\":{\"outlinewidth\":0,\"ticks\":\"\"}},\"type\":\"scatterpolar\"}],\"scatter\":[{\"marker\":{\"colorbar\":{\"outlinewidth\":0,\"ticks\":\"\"}},\"type\":\"scatter\"}],\"scatterternary\":[{\"marker\":{\"colorbar\":{\"outlinewidth\":0,\"ticks\":\"\"}},\"type\":\"scatterternary\"}],\"surface\":[{\"colorbar\":{\"outlinewidth\":0,\"ticks\":\"\"},\"colorscale\":[[0.0,\"#0d0887\"],[0.1111111111111111,\"#46039f\"],[0.2222222222222222,\"#7201a8\"],[0.3333333333333333,\"#9c179e\"],[0.4444444444444444,\"#bd3786\"],[0.5555555555555556,\"#d8576b\"],[0.6666666666666666,\"#ed7953\"],[0.7777777777777778,\"#fb9f3a\"],[0.8888888888888888,\"#fdca26\"],[1.0,\"#f0f921\"]],\"type\":\"surface\"}],\"table\":[{\"cells\":{\"fill\":{\"color\":\"#EBF0F8\"},\"line\":{\"color\":\"white\"}},\"header\":{\"fill\":{\"color\":\"#C8D4E3\"},\"line\":{\"color\":\"white\"}},\"type\":\"table\"}]},\"layout\":{\"annotationdefaults\":{\"arrowcolor\":\"#2a3f5f\",\"arrowhead\":0,\"arrowwidth\":1},\"autotypenumbers\":\"strict\",\"coloraxis\":{\"colorbar\":{\"outlinewidth\":0,\"ticks\":\"\"}},\"colorscale\":{\"diverging\":[[0,\"#8e0152\"],[0.1,\"#c51b7d\"],[0.2,\"#de77ae\"],[0.3,\"#f1b6da\"],[0.4,\"#fde0ef\"],[0.5,\"#f7f7f7\"],[0.6,\"#e6f5d0\"],[0.7,\"#b8e186\"],[0.8,\"#7fbc41\"],[0.9,\"#4d9221\"],[1,\"#276419\"]],\"sequential\":[[0.0,\"#0d0887\"],[0.1111111111111111,\"#46039f\"],[0.2222222222222222,\"#7201a8\"],[0.3333333333333333,\"#9c179e\"],[0.4444444444444444,\"#bd3786\"],[0.5555555555555556,\"#d8576b\"],[0.6666666666666666,\"#ed7953\"],[0.7777777777777778,\"#fb9f3a\"],[0.8888888888888888,\"#fdca26\"],[1.0,\"#f0f921\"]],\"sequentialminus\":[[0.0,\"#0d0887\"],[0.1111111111111111,\"#46039f\"],[0.2222222222222222,\"#7201a8\"],[0.3333333333333333,\"#9c179e\"],[0.4444444444444444,\"#bd3786\"],[0.5555555555555556,\"#d8576b\"],[0.6666666666666666,\"#ed7953\"],[0.7777777777777778,\"#fb9f3a\"],[0.8888888888888888,\"#fdca26\"],[1.0,\"#f0f921\"]]},\"colorway\":[\"#636efa\",\"#EF553B\",\"#00cc96\",\"#ab63fa\",\"#FFA15A\",\"#19d3f3\",\"#FF6692\",\"#B6E880\",\"#FF97FF\",\"#FECB52\"],\"font\":{\"color\":\"#2a3f5f\"},\"geo\":{\"bgcolor\":\"white\",\"lakecolor\":\"white\",\"landcolor\":\"white\",\"showlakes\":true,\"showland\":true,\"subunitcolor\":\"#C8D4E3\"},\"hoverlabel\":{\"align\":\"left\"},\"hovermode\":\"closest\",\"mapbox\":{\"style\":\"light\"},\"paper_bgcolor\":\"white\",\"plot_bgcolor\":\"white\",\"polar\":{\"angularaxis\":{\"gridcolor\":\"#EBF0F8\",\"linecolor\":\"#EBF0F8\",\"ticks\":\"\"},\"bgcolor\":\"white\",\"radialaxis\":{\"gridcolor\":\"#EBF0F8\",\"linecolor\":\"#EBF0F8\",\"ticks\":\"\"}},\"scene\":{\"xaxis\":{\"backgroundcolor\":\"white\",\"gridcolor\":\"#DFE8F3\",\"gridwidth\":2,\"linecolor\":\"#EBF0F8\",\"showbackground\":true,\"ticks\":\"\",\"zerolinecolor\":\"#EBF0F8\"},\"yaxis\":{\"backgroundcolor\":\"white\",\"gridcolor\":\"#DFE8F3\",\"gridwidth\":2,\"linecolor\":\"#EBF0F8\",\"showbackground\":true,\"ticks\":\"\",\"zerolinecolor\":\"#EBF0F8\"},\"zaxis\":{\"backgroundcolor\":\"white\",\"gridcolor\":\"#DFE8F3\",\"gridwidth\":2,\"linecolor\":\"#EBF0F8\",\"showbackground\":true,\"ticks\":\"\",\"zerolinecolor\":\"#EBF0F8\"}},\"shapedefaults\":{\"line\":{\"color\":\"#2a3f5f\"}},\"ternary\":{\"aaxis\":{\"gridcolor\":\"#DFE8F3\",\"linecolor\":\"#A2B1C6\",\"ticks\":\"\"},\"baxis\":{\"gridcolor\":\"#DFE8F3\",\"linecolor\":\"#A2B1C6\",\"ticks\":\"\"},\"bgcolor\":\"white\",\"caxis\":{\"gridcolor\":\"#DFE8F3\",\"linecolor\":\"#A2B1C6\",\"ticks\":\"\"}},\"title\":{\"x\":0.05},\"xaxis\":{\"automargin\":true,\"gridcolor\":\"#EBF0F8\",\"linecolor\":\"#EBF0F8\",\"ticks\":\"\",\"title\":{\"standoff\":15},\"zerolinecolor\":\"#EBF0F8\",\"zerolinewidth\":2},\"yaxis\":{\"automargin\":true,\"gridcolor\":\"#EBF0F8\",\"linecolor\":\"#EBF0F8\",\"ticks\":\"\",\"title\":{\"standoff\":15},\"zerolinecolor\":\"#EBF0F8\",\"zerolinewidth\":2}}},\"title\":{\"font\":{\"size\":22,\"color\":\"Black\"},\"text\":\"<b>Hierarchical Clustering\",\"x\":0.5,\"xanchor\":\"center\",\"yanchor\":\"top\"},\"hoverlabel\":{\"font\":{\"size\":16,\"family\":\"Rockwell\"},\"bgcolor\":\"white\"},\"plot_bgcolor\":\"#ECEFF1\"},                        {\"responsive\": true}                    ).then(function(){\n",
       "                            \n",
       "var gd = document.getElementById('b1a8dd6d-4b65-4ebf-8146-213511c2147b');\n",
       "var x = new MutationObserver(function (mutations, observer) {{\n",
       "        var display = window.getComputedStyle(gd).display;\n",
       "        if (!display || display === 'none') {{\n",
       "            console.log([gd, 'removed!']);\n",
       "            Plotly.purge(gd);\n",
       "            observer.disconnect();\n",
       "        }}\n",
       "}});\n",
       "\n",
       "// Listen for the removal of the full notebook cells\n",
       "var notebookContainer = gd.closest('#notebook-container');\n",
       "if (notebookContainer) {{\n",
       "    x.observe(notebookContainer, {childList: true});\n",
       "}}\n",
       "\n",
       "// Listen for the clearing of the current output cell\n",
       "var outputEl = gd.closest('.output');\n",
       "if (outputEl) {{\n",
       "    x.observe(outputEl, {childList: true});\n",
       "}}\n",
       "\n",
       "                        })                };                            </script>        </div>\n",
       "</body>\n",
       "</html>"
      ]
     },
     "metadata": {}
    }
   ]
  },
  {
   "cell_type": "code",
   "source": [
    "fig_hierarchy.write_html(\"/content/drive/MyDrive/Interim/fig_hierarchy.html\")"
   ],
   "metadata": {
    "id": "EH8UBs2FgWH4",
    "pycharm": {
     "name": "#%%\n"
    }
   },
   "execution_count": null,
   "outputs": []
  },
  {
   "cell_type": "code",
   "source": [
    "fig_heatmap = topic_model.visualize_heatmap(); fig_heatmap"
   ],
   "metadata": {
    "colab": {
     "base_uri": "https://localhost:8080/",
     "height": 817
    },
    "id": "zKXFQq4z_AI0",
    "executionInfo": {
     "status": "ok",
     "timestamp": 1668100008643,
     "user_tz": -60,
     "elapsed": 634,
     "user": {
      "displayName": "Naemi Graf",
      "userId": "00297558433787857996"
     }
    },
    "outputId": "63df6654-2549-42d7-a597-cf35885d1093",
    "pycharm": {
     "name": "#%%\n"
    }
   },
   "execution_count": null,
   "outputs": [
    {
     "output_type": "display_data",
     "data": {
      "text/html": [
       "<html>\n",
       "<head><meta charset=\"utf-8\" /></head>\n",
       "<body>\n",
       "    <div>            <script src=\"https://cdnjs.cloudflare.com/ajax/libs/mathjax/2.7.5/MathJax.js?config=TeX-AMS-MML_SVG\"></script><script type=\"text/javascript\">if (window.MathJax) {MathJax.Hub.Config({SVG: {font: \"STIX-Web\"}});}</script>                <script type=\"text/javascript\">window.PlotlyConfig = {MathJaxConfig: 'local'};</script>\n",
       "        <script src=\"https://cdn.plot.ly/plotly-2.8.3.min.js\"></script>                <div id=\"0e9079f8-7df9-4949-aff7-02c8dbb0bd25\" class=\"plotly-graph-div\" style=\"height:800px; width:800px;\"></div>            <script type=\"text/javascript\">                                    window.PLOTLYENV=window.PLOTLYENV || {};                                    if (document.getElementById(\"0e9079f8-7df9-4949-aff7-02c8dbb0bd25\")) {                    Plotly.newPlot(                        \"0e9079f8-7df9-4949-aff7-02c8dbb0bd25\",                        [{\"coloraxis\":\"coloraxis\",\"name\":\"0\",\"x\":[\"0_father_husband_dad\",\"1_music_dj_bookings\",\"2_photographer_photography_...\",\"3_de_la_en\",\"4_journalist_sports_reporter\",\"5_manchester_united_die\",\"6_designer_graphic_design\",\"7_crypto_nft_trader\",\"8_tweets_tweet_twitter\",\"9_mufc_ok_aminulh\",\"10_life_live_living\",\"11_developer_engineer_softw...\",\"12_ggmu_united_manchester\",\"13_news_sports_latest\",\"14_music_football_realmadrid\",\"15_red_glory_devil\",\"16_podcast_host_podcaster\",\"17_trust_smile_grace\",\"18_yang_dan_di\",\"19_chelsea_chelseafc_fc\",\"20_betting_tips_odds\",\"21_data_politics_analyst\",\"22_arsenal_fan_coyg\",\"23_utd_man_fan\",\"24_glazersout_glazers_mufc\",\"25_news_transfer_transfers\",\"26_ig_follow_st\",\"27_marketing_digital_marketer\",\"28_cricket_indian_tennis\",\"29_beer_coffee_wine\",\"30_music_manchester_united\",\"31_human_political_activist\",\"32_live_watch_stream\",\"33_manutd_fan_die\",\"34_celtics_yankees_patriots\",\"35_engineer_civil_engineering\",\"36_doctor_health_pharmacist\",\"37_instagram_snapchat_insta\",\"38_liverpool_lfc_ynwa\",\"39_whatsapp_logistics_car\",\"40_messi_barcelona_barca\",\"41_allah_muslim_alhamdulillah\",\"42_twitter_villa_leeds\",\"43_ronaldo_cristiano_manutd\",\"44_fpl_rank_top\",\"45_accountant_accounting_fi...\",\"46_ireland_irish_dublin\",\"47_boxing_ufc_mma\",\"48_views_opinions_opinion\",\"49_endorsements_endorsement...\"],\"y\":[\"0_father_husband_dad\",\"1_music_dj_bookings\",\"2_photographer_photography_...\",\"3_de_la_en\",\"4_journalist_sports_reporter\",\"5_manchester_united_die\",\"6_designer_graphic_design\",\"7_crypto_nft_trader\",\"8_tweets_tweet_twitter\",\"9_mufc_ok_aminulh\",\"10_life_live_living\",\"11_developer_engineer_softw...\",\"12_ggmu_united_manchester\",\"13_news_sports_latest\",\"14_music_football_realmadrid\",\"15_red_glory_devil\",\"16_podcast_host_podcaster\",\"17_trust_smile_grace\",\"18_yang_dan_di\",\"19_chelsea_chelseafc_fc\",\"20_betting_tips_odds\",\"21_data_politics_analyst\",\"22_arsenal_fan_coyg\",\"23_utd_man_fan\",\"24_glazersout_glazers_mufc\",\"25_news_transfer_transfers\",\"26_ig_follow_st\",\"27_marketing_digital_marketer\",\"28_cricket_indian_tennis\",\"29_beer_coffee_wine\",\"30_music_manchester_united\",\"31_human_political_activist\",\"32_live_watch_stream\",\"33_manutd_fan_die\",\"34_celtics_yankees_patriots\",\"35_engineer_civil_engineering\",\"36_doctor_health_pharmacist\",\"37_instagram_snapchat_insta\",\"38_liverpool_lfc_ynwa\",\"39_whatsapp_logistics_car\",\"40_messi_barcelona_barca\",\"41_allah_muslim_alhamdulillah\",\"42_twitter_villa_leeds\",\"43_ronaldo_cristiano_manutd\",\"44_fpl_rank_top\",\"45_accountant_accounting_fi...\",\"46_ireland_irish_dublin\",\"47_boxing_ufc_mma\",\"48_views_opinions_opinion\",\"49_endorsements_endorsement...\"],\"z\":[[1.0,0.668254310276204,0.5734741547255131,0.4468980135965751,0.568789088817121,0.549631813855149,0.8794703871170125,0.5547103445045638,0.5214528165054697,0.5581297955147986,0.5695721088736734,0.7532267933040797,0.6661573792295878,0.5968185606180769,0.6604484767442008,0.7411752950617281,0.7247162912102278,0.4514042407156228,0.8131442673085307,0.6255507851165072,0.7400727529076652,0.5777670044473456,0.7101533905335482,0.7018968076311185,0.8122462605678835,0.41750023792178187,0.7072170146209185,0.6766013906857236,0.6032351048698981,0.6406525972219372,0.5828433023034671,0.892816584526916,0.6408653240908422,0.6694520856121281,0.6958012839117739,0.6326137798883052,0.5918733447533675,0.552989065973052,0.4985372937741438,0.7617734821007462,0.620051388023361,0.5621081450419818,0.5658585881899902,0.7467857504927315,0.6046313284297624,0.6352510035462788,0.4848446106201737,0.5650265680299438,0.5798111648358015,0.6567865384328606],[0.668254310276204,1.0000000000000002,0.5796826791510097,0.5024756428236666,0.4587356739229362,0.5346147394273686,0.5668689170813885,0.5243892771681186,0.4664199599688761,0.45273605544922624,0.3539834487295376,0.6086517991916166,0.5741128876240351,0.39064667298651656,0.5659852142815838,0.643489108521739,0.589100034357147,0.43392567147825456,0.667363837166418,0.6318338674551107,0.47608249758349286,0.46380591351455813,0.6176565874100503,0.4802624322867388,0.5471904748630997,0.32369482889926326,0.5138217412152044,0.5840043336499583,0.5648260323353066,0.5579631769669262,0.5659915193052262,0.6531797735083582,0.6008909527994046,0.5434672553510821,0.4919804289709535,0.48345815253384206,0.5239452101075048,0.5851711462256098,0.4569927176129416,0.5080562060677826,0.6183034728025085,0.42187274670115693,0.54767194457164,0.49401951379005293,0.5079019007608843,0.4972819539197587,0.483441950061846,0.43050555846231564,0.44686151400665247,0.5737379500167635],[0.5734741547255131,0.5796826791510097,1.0,0.5906461017929193,0.47605995598236117,0.5929714645603263,0.519605629703385,0.5910030063308221,0.43016665820513944,0.4560340724762381,0.3602391080642413,0.5214346230333449,0.5865454377200479,0.38987199952442303,0.5421000699872124,0.8038219709254208,0.5169684026021979,0.5891057776439035,0.5669547816811156,0.5932565401523971,0.4423093478320923,0.425725356904318,0.5983336015938031,0.43957642228143123,0.4381390189884034,0.3511549788388203,0.5248704264402333,0.5565557949316837,0.6015875316878934,0.4779482681012345,0.5460495791893794,0.7348277207089532,0.5705893036621337,0.5361340637088193,0.37798547372154545,0.43424002704719955,0.4801793586216925,0.5270774858215366,0.45014573378255496,0.534536370983806,0.5836499990372346,0.41300008776631114,0.4832547062813187,0.5285942510265084,0.47725456396925475,0.4955745790133741,0.46974060056190536,0.43554880587527345,0.4532148061987446,0.46900252325026576],[0.4468980135965751,0.5024756428236666,0.5906461017929193,1.0,0.4264311128636639,0.6551879345414355,0.40695066715554806,0.6136362930544188,0.37671459667007445,0.37936416544786256,0.2865925566318708,0.4167115558964446,0.5652216921536211,0.33328467013498797,0.4699787940465988,0.5276205806641301,0.43636786176782627,0.43272175939101376,0.4401071807057405,0.5138999103237157,0.3551246708481222,0.3234312466434357,0.5266726597997448,0.3607377839207925,0.335263125505906,0.2934105042262317,0.4376259446083674,0.4648259816580398,0.5432634666640794,0.40825979233970944,0.4251639597109866,0.4849701656332335,0.504259099205361,0.4596952141326242,0.3064364127281554,0.34518202241692114,0.4734783194555325,0.5151245942577465,0.4979949451801683,0.4109727575077435,0.5085661860056024,0.342465474828064,0.38003229474176764,0.45289433765386605,0.4296995877994606,0.4169694445023995,0.43639044131010885,0.35388031572305356,0.37208061579773716,0.45404232904673536],[0.568789088817121,0.4587356739229362,0.47605995598236117,0.4264311128636639,0.9999999999999998,0.44972749766029685,0.557527694652441,0.49637041391719366,0.4178799620568665,0.4058697310106409,0.36257173657385633,0.5162062235305392,0.5193441085145698,0.36517982576697255,0.4959782657459193,0.5203473297701315,0.5640996876901762,0.38767815605053957,0.5368187655370662,0.6710284532515874,0.46524802273718524,0.38076429668647394,0.5018381969105806,0.46524002743319126,0.5090630993407654,0.2893844450279278,0.535866539030788,0.6077232238196584,0.5289165971824311,0.40554439287329724,0.4681779507550305,0.5668397936850681,0.5055849378584454,0.5431824273196255,0.4338563380234961,0.4826234169332888,0.4570142644891876,0.4180128748684986,0.4690430668948475,0.5535799249070438,0.5244501774194653,0.5517213787794615,0.35648780578252426,0.5598212200354231,0.5061021256680911,0.5338584806005096,0.4324956078712452,0.4811846595620494,0.3697734453792998,0.4529262716674006],[0.549631813855149,0.5346147394273686,0.5929714645603263,0.6551879345414355,0.44972749766029685,0.9999999999999998,0.48633889069082137,0.49679474297520654,0.4118494334749886,0.531448364700276,0.3638326318390863,0.4803945647966307,0.6087399761301557,0.3662305180884533,0.7306484630184256,0.6295957063720178,0.4449420938526103,0.6313466730236754,0.506993631408605,0.5321265396898569,0.4408275443028964,0.4832162829390244,0.7307657482179826,0.43908320242668336,0.41820698322540373,0.2678768632243321,0.6141552262275238,0.5034368398785716,0.6490833999805723,0.5843566644435568,0.5217871874477343,0.5458570892131341,0.6289372186185606,0.5487485868917423,0.3567435970386233,0.44546480660941845,0.5760873432589633,0.5774993389001658,0.5047259994658176,0.4991821428698644,0.5487005073644449,0.4080836202952457,0.43893210481160116,0.5718883793226957,0.458486863172871,0.4426391925857726,0.5220080573540548,0.4186561994436735,0.5707934426518232,0.5051607623082319],[0.8794703871170125,0.5668689170813885,0.519605629703385,0.40695066715554806,0.557527694652441,0.48633889069082137,0.9999999999999997,0.4593880151095443,0.44213179751862774,0.4555124700403076,0.3975955411469778,0.6077423899347031,0.6443297267448724,0.5508192366157569,0.6058297077997796,0.6252117493424665,0.7111414908349126,0.40903278528030884,0.7455901290453804,0.5254020771556708,0.7537522487539341,0.51972026753731,0.5943069842531943,0.7305382771431004,0.7537537130247103,0.36134255977479424,0.6533013903516689,0.6291100913161147,0.5175342949442934,0.5663125993135842,0.5157366315044978,0.8970779022754861,0.5931959501126886,0.6069292171204446,0.6156485837832484,0.6380758651992171,0.49637622427244454,0.45556301478490013,0.4298094255172248,0.7297684283819563,0.5595596599372794,0.5641107303243023,0.5281296361245598,0.7960236600515058,0.5705086580349912,0.5586285453353645,0.4275455142972902,0.5809032972172603,0.47465200047691003,0.5482508662165202],[0.5547103445045638,0.5243892771681186,0.5910030063308221,0.6136362930544188,0.49637041391719366,0.49679474297520654,0.4593880151095443,1.0,0.5134300468979797,0.4292924250668413,0.3815770283991158,0.5289492290230389,0.7049415547148069,0.4003452544888268,0.49159750389872603,0.5977038477504621,0.5250369105871522,0.36897064501051796,0.5347135601463697,0.5747876621541149,0.4065085456572925,0.37302678901861297,0.5918270370217114,0.4160181076599428,0.4406338683358432,0.3923625586242487,0.4835217931344514,0.5635660504376119,0.614085647426228,0.41961537774558355,0.4931982218336787,0.552933508087212,0.5634427908109226,0.4842523668437875,0.39827614764077324,0.35405277141459734,0.6309388113343135,0.5140426260261288,0.5072860262083752,0.4734114925255243,0.5769966133912573,0.3943670102634413,0.4161835465572288,0.47946489362456696,0.42232998701733476,0.5062006576223633,0.47468563643592454,0.3622275310624055,0.4254104151017325,0.5849832395195695],[0.5214528165054697,0.4664199599688761,0.43016665820513944,0.37671459667007445,0.4178799620568665,0.4118494334749886,0.44213179751862774,0.5134300468979797,1.0000000000000007,0.3919537817356542,0.4096875656581681,0.431445057212743,0.5534359631505202,0.4004534511274156,0.5027729621576597,0.5153247845358885,0.47865256389940225,0.40285234646487533,0.49620757875818233,0.5160436495099714,0.4194007085900877,0.5191744260801964,0.5699385546912262,0.41075875162325615,0.3976105644555956,0.30923701835196615,0.5839563085540933,0.5368752533796141,0.6342915481479457,0.37317060735053087,0.41692995595948446,0.49110502907670706,0.4681871680457838,0.46708490890677623,0.38508397036571484,0.3434747255579056,0.47435974628980127,0.44091061261009085,0.40199696585295364,0.48541382198358546,0.6008443936448478,0.3203864476907129,0.43968907090345444,0.4650714317613353,0.33725834196661575,0.5341132778877097,0.6216141528750373,0.3446440954267205,0.4436014316684124,0.4874357055245102],[0.5581297955147986,0.45273605544922624,0.4560340724762381,0.37936416544786256,0.4058697310106409,0.531448364700276,0.4555124700403076,0.4292924250668413,0.3919537817356542,1.0,0.3562510680390096,0.5322375479286738,0.49237874811347493,0.36700559833530366,0.6298947687381851,0.5471647993518635,0.4503206926775194,0.4203760487962167,0.5523394228048359,0.47317577446415193,0.4182687879935719,0.4425687996478708,0.5530953544796794,0.4133988246771445,0.4221007860421323,0.28953249552750676,0.5755103915800006,0.626717783233519,0.5555084725031444,0.43610478975921774,0.46162763718771993,0.501064425713776,0.5443246966694043,0.5634720515789515,0.42295879911004736,0.4026351221322293,0.3868789956228091,0.4262013515141812,0.643540759874054,0.5007483646047587,0.5172502964781382,0.3505819843613034,0.4164212642073929,0.7572160928733263,0.39243738137206513,0.46482177854193485,0.31703429936946975,0.3595046736570253,0.3648655326524321,0.5694099122529309],[0.5695721088736734,0.3539834487295376,0.3602391080642413,0.2865925566318708,0.36257173657385633,0.3638326318390863,0.3975955411469778,0.3815770283991158,0.4096875656581681,0.3562510680390096,1.0000000000000002,0.4438426890580811,0.3749297203337161,0.4022967197610089,0.39747798609312807,0.41144864598585973,0.39347661819601654,0.28829874487488527,0.4153742751091664,0.4630622805404718,0.4864237173498942,0.3572807419204119,0.4011837214588364,0.4125495794773667,0.37129612601740125,0.31370962904629096,0.45942094557278856,0.4380839066630756,0.35953797051516995,0.33317465979817407,0.3618287192512999,0.40959826653540565,0.335993566840469,0.3585237230386149,0.21516045400694805,0.3038035359754365,0.46765201366251574,0.3337793776503657,0.30259046840549636,0.6077317667156062,0.3741155688778144,0.39931283313532767,0.35029895338790484,0.4312855750099471,0.3320740279956057,0.4636312380864315,0.43861989990162964,0.3520350194846016,0.47176324771328,0.36786362499566316],[0.7532267933040797,0.6086517991916166,0.5214346230333449,0.4167115558964446,0.5162062235305392,0.4803945647966307,0.6077423899347031,0.5289492290230389,0.431445057212743,0.5322375479286738,0.4438426890580811,0.9999999999999993,0.5382048767706531,0.4063290069171063,0.6424863228029771,0.6534353054243831,0.5987645890390256,0.4444003457858064,0.7355561938638371,0.5846648048039176,0.5022479208673679,0.5032705503605077,0.617557551459225,0.4422546695804369,0.5548084285674341,0.2923755735590045,0.5951889938294592,0.6027749981006543,0.5561255413525273,0.48257371356998613,0.5558133148944915,0.6474083842696852,0.6230671237041991,0.7178343099523865,0.4893836851298896,0.42641250467239034,0.49395971869118105,0.5118399909917177,0.47705169748049947,0.5855125076025329,0.5751475944658491,0.4016903184810112,0.471131433564866,0.5417259157151595,0.4142715237684811,0.5203425752012956,0.42519305447939126,0.39823811008834187,0.445965415848401,0.623054972618815],[0.6661573792295878,0.5741128876240351,0.5865454377200479,0.5652216921536211,0.5193441085145698,0.6087399761301557,0.6443297267448724,0.7049415547148069,0.5534359631505202,0.49237874811347493,0.3749297203337161,0.5382048767706531,1.0000000000000007,0.46979627651942424,0.6024859931192577,0.653755774943166,0.5878988800320288,0.5319275406519504,0.6104390147117054,0.5777217714630118,0.5315590974893332,0.4337205784316269,0.6925277261642431,0.5443513909232234,0.5672023644206121,0.38440899684373575,0.6113581792824397,0.6006035039999116,0.6923184653258764,0.5556194491668724,0.5291384552901743,0.6977493353272686,0.6103602397623108,0.6000953391427202,0.4480905600821382,0.475905271587016,0.7590533178845409,0.5770098222626441,0.5141552856908079,0.5826831923283357,0.679107405614576,0.4683579375290997,0.4710087505828676,0.6655001860166646,0.4701032515249956,0.5775751118760519,0.5468025526181645,0.45446840845096226,0.45496372502906113,0.5648631772019103],[0.5968185606180769,0.39064667298651656,0.38987199952442303,0.33328467013498797,0.36517982576697255,0.3662305180884533,0.5508192366157569,0.4003452544888268,0.4004534511274156,0.36700559833530366,0.4022967197610089,0.4063290069171063,0.46979627651942424,1.0,0.41625174772851525,0.45347359262776377,0.5159692378510122,0.33648868556486133,0.539403364640963,0.4821025082795777,0.462761314097777,0.31775641731904924,0.42234139725836073,0.3608468599966879,0.4849430566519476,0.6058142448601921,0.444412870840731,0.5593495951832611,0.39133962075199535,0.376099347969562,0.3747915806906973,0.566490449571792,0.4088919869850035,0.41739033753851995,0.48511658379455,0.3465793217873966,0.40306791101417083,0.4190985281367259,0.402475358843551,0.4850780574016186,0.4110242500332072,0.42441631728329365,0.37601522778236673,0.5274599135660634,0.46282021654190847,0.5152436094945063,0.3018330099481926,0.29426778772979045,0.35940014683933286,0.3790516575191195],[0.6604484767442008,0.5659852142815838,0.5421000699872124,0.4699787940465988,0.4959782657459193,0.7306484630184256,0.6058297077997796,0.49159750389872603,0.5027729621576597,0.6298947687381851,0.39747798609312807,0.6424863228029771,0.6024859931192577,0.41625174772851525,1.0,0.6816044731398452,0.5369308696908126,0.5632716744480266,0.6185076428157387,0.5739136522502772,0.5116413517572034,0.5051724792192077,0.7272031722682133,0.5008238498324706,0.5177934040341542,0.268972389783107,0.824595878203507,0.6356958293978501,0.6532981237821585,0.5921208819603794,0.5425068638977012,0.6281559492429876,0.6144505097303189,0.6513317436602112,0.42852060659408964,0.5037363165562092,0.513671513318857,0.5558716662178481,0.5477770194388398,0.5642222977120656,0.63885311878517,0.4205584471140712,0.49737790476350585,0.6703806410758877,0.4103525373993717,0.52691768515188,0.4660995930559301,0.443405922666848,0.5141780753718672,0.6243527895384677],[0.7411752950617281,0.643489108521739,0.8038219709254208,0.5276205806641301,0.5203473297701315,0.6295957063720178,0.6252117493424665,0.5977038477504621,0.5153247845358885,0.5471647993518635,0.41144864598585973,0.6534353054243831,0.653755774943166,0.45347359262776377,0.6816044731398452,0.9999999999999994,0.6348409861501554,0.5991743270944255,0.7004264979599049,0.5818680697688225,0.5904331564289695,0.5503335937133392,0.8125281188779008,0.5681773370439833,0.5502978386612805,0.3529275184498729,0.6543535620021304,0.6123202183734315,0.6857651701960006,0.6991990615821482,0.6507608982292302,0.8318648612298349,0.6650648788672742,0.6516042478252819,0.45763611649609137,0.5675804835165503,0.5965598343431633,0.6241029186347216,0.5082255858965921,0.6217843736307165,0.6717688230159229,0.4625151879735593,0.5145651554484065,0.6205335611661633,0.5109509286120024,0.551976489924207,0.5095089756126528,0.5009121865011921,0.5792525161982582,0.6037726779512719],[0.7247162912102278,0.589100034357147,0.5169684026021979,0.43636786176782627,0.5640996876901762,0.4449420938526103,0.7111414908349126,0.5250369105871522,0.47865256389940225,0.4503206926775194,0.39347661819601654,0.5987645890390256,0.5878988800320288,0.5159692378510122,0.5369308696908126,0.6348409861501554,1.0000000000000002,0.36196392996231486,0.7096364257939896,0.6402492901421619,0.6064741494226029,0.5002197236110659,0.6045975783323558,0.5502469875604943,0.6119075501560028,0.407582609676078,0.5742362827025538,0.6342667923634454,0.5097847351225137,0.5387031815049236,0.5824040155569694,0.7101568455236871,0.5950130511095759,0.5824155372672153,0.517454553402795,0.5624533579226292,0.49534255928453086,0.47798130537619193,0.43169906493804916,0.620614510894576,0.571106686898406,0.46964876530662314,0.5060895583441227,0.603081620972965,0.48270613640659843,0.6088466973076953,0.4047486754364463,0.505086559054197,0.5201192301771772,0.5496217800323417],[0.4514042407156228,0.43392567147825456,0.5891057776439035,0.43272175939101376,0.38767815605053957,0.6313466730236754,0.40903278528030884,0.36897064501051796,0.40285234646487533,0.4203760487962167,0.28829874487488527,0.4444003457858064,0.5319275406519504,0.33648868556486133,0.5632716744480266,0.5991743270944255,0.36196392996231486,1.0,0.41613401238939673,0.453786496123512,0.35219969849683297,0.35278958046151887,0.5068211588566961,0.36647725483163646,0.3496355584765304,0.2141507508929006,0.495782032842734,0.49494367151310076,0.5061104884555669,0.4025099166503482,0.42851616820740446,0.5179844224736423,0.43665855439557144,0.6107351830785274,0.32533654214012364,0.3478888655091298,0.3872686527768803,0.4607676322792029,0.4770679681552821,0.42435843861360534,0.4823955838578866,0.2854641430502163,0.35802546080568787,0.45804620883552727,0.3112465889345559,0.4111800838378178,0.37042660257752147,0.31576226553423026,0.42761243001432636,0.405292511424875],[0.8131442673085307,0.667363837166418,0.5669547816811156,0.4401071807057405,0.5368187655370662,0.506993631408605,0.7455901290453804,0.5347135601463697,0.49620757875818233,0.5523394228048359,0.4153742751091664,0.7355561938638371,0.6104390147117054,0.539403364640963,0.6185076428157387,0.7004264979599049,0.7096364257939896,0.41613401238939673,1.0,0.6332599818438143,0.6350135169889947,0.5667282657667772,0.6311938520687509,0.5695656995028793,0.6594877737062581,0.373338054589984,0.624178849468733,0.6782048325475056,0.5829841132047893,0.5328169998167944,0.5477011492244762,0.8085673126505947,0.6501606534859614,0.6198766508012765,0.5445642428880108,0.5502762614872412,0.5326312997508716,0.5323903882269918,0.5293390120560231,0.6533239768772714,0.597460736837776,0.4930017154461419,0.5822659922677856,0.6673475558626725,0.520456587413916,0.5791007425654437,0.4541239690624638,0.4752225155155094,0.45466519140336814,0.6161806770459737],[0.6255507851165072,0.6318338674551107,0.5932565401523971,0.5138999103237157,0.6710284532515874,0.5321265396898569,0.5254020771556708,0.5747876621541149,0.5160436495099714,0.47317577446415193,0.4630622805404718,0.5846648048039176,0.5777217714630118,0.4821025082795777,0.5739136522502772,0.5818680697688225,0.6402492901421619,0.453786496123512,0.6332599818438143,1.0,0.44382102525975997,0.4610455286365671,0.5874209914278606,0.41957663979032356,0.5844080065131317,0.3845802657088919,0.5671084324763954,0.7047288604603832,0.5646588565239611,0.5121324001760867,0.5207305665677779,0.5854560320068691,0.5823012916680063,0.5705529140921202,0.49762695930164924,0.44786147292701795,0.49143039728190685,0.5045398756493424,0.5214382660395838,0.5588683802004684,0.5427021844306894,0.48437080679047667,0.518368861610915,0.5116717576198082,0.5038882125531909,0.6123366888778519,0.49737557920389974,0.4866610333766146,0.4866335401021328,0.5518618800674873],[0.7400727529076652,0.47608249758349286,0.4423093478320923,0.3551246708481222,0.46524802273718524,0.4408275443028964,0.7537522487539341,0.4065085456572925,0.4194007085900877,0.4182687879935719,0.4864237173498942,0.5022479208673679,0.5315590974893332,0.462761314097777,0.5116413517572034,0.5904331564289695,0.6064741494226029,0.35219969849683297,0.6350135169889947,0.44382102525975997,0.9999999999999989,0.46771282684129106,0.568438576378002,0.7897438185440657,0.5866469141948656,0.321942049446414,0.6046830330688086,0.5071243405402851,0.4664947046375919,0.5256181338883725,0.4789846651573846,0.7109108292786824,0.46022599217126714,0.48631861184963354,0.41758855831872754,0.6587713414732594,0.4475673713416283,0.45985606579356464,0.36547027369331864,0.7922650761898322,0.4907177905099982,0.6663360246587073,0.42902055675929207,0.691845009089868,0.5497905339731453,0.5220721570375493,0.4443317886602042,0.49062996311714724,0.4872645785346139,0.45159550678432736],[0.5777670044473456,0.46380591351455813,0.425725356904318,0.3234312466434357,0.38076429668647394,0.4832162829390244,0.51972026753731,0.37302678901861297,0.5191744260801964,0.4425687996478708,0.3572807419204119,0.5032705503605077,0.4337205784316269,0.31775641731904924,0.5051724792192077,0.5503335937133392,0.5002197236110659,0.35278958046151887,0.5667282657667772,0.4610455286365671,0.46771282684129106,1.0,0.5738433109853361,0.4667110328960496,0.46237346436782023,0.3234640844655505,0.5322353386025772,0.5006616062325769,0.5100959185854925,0.46572385516196246,0.4935534358218807,0.5294494047984893,0.42723825936508486,0.5528653074199008,0.38012245815191226,0.46903879873965826,0.34971868996307254,0.3830395132762754,0.3294603277195951,0.48484650380979144,0.47131796211935806,0.40472367137541054,0.36190733001718167,0.5047552307458415,0.3790719791525694,0.49577319636462425,0.43619325065245607,0.3897221911924957,0.5027098753451326,0.45536661720725485],[0.7101533905335482,0.6176565874100503,0.5983336015938031,0.5266726597997448,0.5018381969105806,0.7307657482179826,0.5943069842531943,0.5918270370217114,0.5699385546912262,0.5530953544796794,0.4011837214588364,0.617557551459225,0.6925277261642431,0.42234139725836073,0.7272031722682133,0.8125281188779008,0.6045975783323558,0.5068211588566961,0.6311938520687509,0.5874209914278606,0.568438576378002,0.5738433109853361,0.9999999999999999,0.5419672921360306,0.5396399973517487,0.28052826442335166,0.6822488145630923,0.5831052216030727,0.751510510781932,0.7043518145303842,0.6162659621342678,0.6800376671509437,0.7382232743697352,0.618935616936731,0.4261700972672834,0.5502109939498303,0.6716884723233415,0.6738948587782156,0.5099034367030344,0.5841120940255327,0.6775244468347987,0.4649482438093304,0.48390351822887734,0.6223845667881907,0.5032014042955841,0.5545009632323716,0.6630074811783317,0.48171340352038583,0.6338285130684131,0.639976259834215],[0.7018968076311185,0.4802624322867388,0.43957642228143123,0.3607377839207925,0.46524002743319126,0.43908320242668336,0.7305382771431004,0.4160181076599428,0.41075875162325615,0.4133988246771445,0.4125495794773667,0.4422546695804369,0.5443513909232234,0.3608468599966879,0.5008238498324706,0.5681773370439833,0.5502469875604943,0.36647725483163646,0.5695656995028793,0.41957663979032356,0.7897438185440657,0.4667110328960496,0.5419672921360306,0.9999999999999996,0.5698945964172876,0.3076414246300009,0.5826995801742844,0.5378940638633922,0.45321830552755527,0.5275470868688799,0.4498279954861769,0.6876385681018131,0.43768374380859243,0.500513823842521,0.4015010422125421,0.6627311088964851,0.454519226262066,0.4158621658077417,0.3859473692137667,0.7124976168774771,0.4682464377316061,0.6205331649238816,0.47761110736741696,0.6709571812128061,0.5518242975319004,0.4860612947343752,0.3828046056023845,0.5490490395275089,0.45302097863501256,0.43998751333469266],[0.8122462605678835,0.5471904748630997,0.4381390189884034,0.335263125505906,0.5090630993407654,0.41820698322540373,0.7537537130247103,0.4406338683358432,0.3976105644555956,0.4221007860421323,0.37129612601740125,0.5548084285674341,0.5672023644206121,0.4849430566519476,0.5177934040341542,0.5502978386612805,0.6119075501560028,0.3496355584765304,0.6594877737062581,0.5844080065131317,0.5866469141948656,0.46237346436782023,0.5396399973517487,0.5698945964172876,1.0,0.3287769955417428,0.5975540888528706,0.5485361031134228,0.4658456983659798,0.5113209599591164,0.46416028192005826,0.768442667341956,0.49801457015829337,0.5504071147014225,0.6744427954441871,0.5398929659232713,0.47741440292769516,0.46883187215559385,0.3629292140861523,0.5627395631903429,0.46784728322280045,0.443526911975449,0.4724567191561202,0.6065154516306412,0.46248696336410866,0.5541272300626849,0.3835633100429848,0.4638340387350779,0.44545219155816373,0.5027183929086705],[0.41750023792178187,0.32369482889926326,0.3511549788388203,0.2934105042262317,0.2893844450279278,0.2678768632243321,0.36134255977479424,0.3923625586242487,0.30923701835196615,0.28953249552750676,0.31370962904629096,0.2923755735590045,0.38440899684373575,0.6058142448601921,0.268972389783107,0.3529275184498729,0.407582609676078,0.2141507508929006,0.373338054589984,0.3845802657088919,0.321942049446414,0.3234640844655505,0.28052826442335166,0.3076414246300009,0.3287769955417428,1.0,0.3020981127619167,0.42357399269897555,0.3395840765804894,0.29018105124098226,0.3255213082319612,0.39931906610358875,0.26928599811280324,0.28811465582804524,0.47207181570137036,0.3249249647907161,0.2847933018296089,0.3161062794897898,0.29785412812152595,0.37562533111923196,0.3372969559782608,0.2563227485942508,0.2773790478318092,0.39744923055726133,0.33974493753198326,0.4248017404388775,0.235172860263975,0.2865695526310757,0.17090109278026328,0.2794983226942567],[0.7072170146209185,0.5138217412152044,0.5248704264402333,0.4376259446083674,0.535866539030788,0.6141552262275238,0.6533013903516689,0.4835217931344514,0.5839563085540933,0.5755103915800006,0.45942094557278856,0.5951889938294592,0.6113581792824397,0.444412870840731,0.824595878203507,0.6543535620021304,0.5742362827025538,0.495782032842734,0.624178849468733,0.5671084324763954,0.6046830330688086,0.5322353386025772,0.6822488145630923,0.5826995801742844,0.5975540888528706,0.3020981127619167,1.0000000000000004,0.6476865624078683,0.6274964673134624,0.5396044193719934,0.5193890687145856,0.6618337316224616,0.5270665183275152,0.6750891066158848,0.4643102347183685,0.523866362331699,0.5237932528101444,0.4921242936825182,0.4821302980219168,0.626575541826027,0.6557826722202462,0.5001081759249256,0.453940485842382,0.6978575663794769,0.4876788277881416,0.5998475186911683,0.5374292332671773,0.44968072513403906,0.5220822997009268,0.5707268755115047],[0.6766013906857236,0.5840043336499583,0.5565557949316837,0.4648259816580398,0.6077232238196584,0.5034368398785716,0.6291100913161147,0.5635660504376119,0.5368752533796141,0.626717783233519,0.4380839066630756,0.6027749981006543,0.6006035039999116,0.5593495951832611,0.6356958293978501,0.6123202183734315,0.6342667923634454,0.49494367151310076,0.6782048325475056,0.7047288604603832,0.5071243405402851,0.5006616062325769,0.5831052216030727,0.5378940638633922,0.5485361031134228,0.42357399269897555,0.6476865624078683,0.9999999999999998,0.5958260496908381,0.4848386767284631,0.5225416343975151,0.648888144168712,0.5757833482320267,0.6511754298121205,0.545358813998439,0.5053775680598428,0.4802752950339118,0.4772340700217397,0.682564835387664,0.6188672752900697,0.624496354085117,0.49915703102547315,0.48285405280998883,0.680695496864302,0.47780724599245084,0.6621818821897523,0.4385152930291235,0.477588365531295,0.4184992955688227,0.595466283107011],[0.6032351048698981,0.5648260323353066,0.6015875316878934,0.5432634666640794,0.5289165971824311,0.6490833999805723,0.5175342949442934,0.614085647426228,0.6342915481479457,0.5555084725031444,0.35953797051516995,0.5561255413525273,0.6923184653258764,0.39133962075199535,0.6532981237821585,0.6857651701960006,0.5097847351225137,0.5061104884555669,0.5829841132047893,0.5646588565239611,0.4664947046375919,0.5100959185854925,0.751510510781932,0.45321830552755527,0.4658456983659798,0.3395840765804894,0.6274964673134624,0.5958260496908381,1.0000000000000007,0.49850541630537915,0.5417265787101759,0.6113193263439214,0.6477662319469164,0.5832910009447985,0.41581888267995804,0.430948320029683,0.5957897497376743,0.5642640956228699,0.5542511307131558,0.4985462694212729,0.7029446610425105,0.40059278619743993,0.4149707137168731,0.587174113152799,0.4051151686742489,0.5372434788627795,0.6357700485040265,0.38128492715533485,0.40594367212220384,0.6094221428997161],[0.6406525972219372,0.5579631769669262,0.4779482681012345,0.40825979233970944,0.40554439287329724,0.5843566644435568,0.5663125993135842,0.41961537774558355,0.37317060735053087,0.43610478975921774,0.33317465979817407,0.48257371356998613,0.5556194491668724,0.376099347969562,0.5921208819603794,0.6991990615821482,0.5387031815049236,0.4025099166503482,0.5328169998167944,0.5121324001760867,0.5256181338883725,0.46572385516196246,0.7043518145303842,0.5275470868688799,0.5113209599591164,0.29018105124098226,0.5396044193719934,0.4848386767284631,0.49850541630537915,1.0000000000000002,0.5148556471676351,0.6046724162085065,0.5631511181118934,0.5240152232917696,0.4057204291847648,0.5677581852232337,0.5289923561351304,0.4812338683999069,0.4292344689986952,0.5409725255682682,0.4839446168641017,0.48548589327062786,0.5442090104098739,0.5496263537947432,0.46841469048014184,0.4399706493840122,0.4496266071016074,0.5303789789950737,0.5951714787923387,0.47539120328630713],[0.5828433023034671,0.5659915193052262,0.5460495791893794,0.4251639597109866,0.4681779507550305,0.5217871874477343,0.5157366315044978,0.4931982218336787,0.41692995595948446,0.46162763718771993,0.3618287192512999,0.5558133148944915,0.5291384552901743,0.3747915806906973,0.5425068638977012,0.6507608982292302,0.5824040155569694,0.42851616820740446,0.5477011492244762,0.5207305665677779,0.4789846651573846,0.4935534358218807,0.6162659621342678,0.4498279954861769,0.46416028192005826,0.3255213082319612,0.5193890687145856,0.5225416343975151,0.5417265787101759,0.5148556471676351,0.9999999999999998,0.5937091597176818,0.5267110077332894,0.5565398707793479,0.38500560292827335,0.4682331650656333,0.5063673727808926,0.5434678232066713,0.3774655323658863,0.5354600517999945,0.6033312151200131,0.43925728064902414,0.44986334578117587,0.5180980342790609,0.3902045927899904,0.45864374726784973,0.4457024284704415,0.4697069259749236,0.49420250269281474,0.49013897419523056],[0.892816584526916,0.6531797735083582,0.7348277207089532,0.4849701656332335,0.5668397936850681,0.5458570892131341,0.8970779022754861,0.552933508087212,0.49110502907670706,0.501064425713776,0.40959826653540565,0.6474083842696852,0.6977493353272686,0.566490449571792,0.6281559492429876,0.8318648612298349,0.7101568455236871,0.5179844224736423,0.8085673126505947,0.5854560320068691,0.7109108292786824,0.5294494047984893,0.6800376671509437,0.6876385681018131,0.768442667341956,0.39931906610358875,0.6618337316224616,0.648888144168712,0.6113193263439214,0.6046724162085065,0.5937091597176818,1.0,0.6359791037275618,0.639037959224618,0.6023210946697344,0.6244386175550891,0.5703238377433445,0.5547965424538939,0.47490778888684304,0.7106113476656422,0.6347601362007309,0.5344142293630469,0.5509471187158531,0.7548065892744056,0.5768516298527626,0.5972677636129993,0.4649022324319486,0.5681086066007912,0.5027350685466894,0.5837350200576086],[0.6408653240908422,0.6008909527994046,0.5705893036621337,0.504259099205361,0.5055849378584454,0.6289372186185606,0.5931959501126886,0.5634427908109226,0.4681871680457838,0.5443246966694043,0.335993566840469,0.6230671237041991,0.6103602397623108,0.4088919869850035,0.6144505097303189,0.6650648788672742,0.5950130511095759,0.43665855439557144,0.6501606534859614,0.5823012916680063,0.46022599217126714,0.42723825936508486,0.7382232743697352,0.43768374380859243,0.49801457015829337,0.26928599811280324,0.5270665183275152,0.5757833482320267,0.6477662319469164,0.5631511181118934,0.5267110077332894,0.6359791037275618,1.0000000000000009,0.5674212654560473,0.47107331757840826,0.42702833498751974,0.586146680124191,0.6175750056354125,0.48665048338337835,0.522864605408282,0.5683403459775933,0.42556616661193813,0.5341650337702424,0.5667908998015019,0.4691971048634652,0.461669788290095,0.5099365278545184,0.44505402740702404,0.4785591202853168,0.5976096659086672],[0.6694520856121281,0.5434672553510821,0.5361340637088193,0.4596952141326242,0.5431824273196255,0.5487485868917423,0.6069292171204446,0.4842523668437875,0.46708490890677623,0.5634720515789515,0.3585237230386149,0.7178343099523865,0.6000953391427202,0.41739033753851995,0.6513317436602112,0.6516042478252819,0.5824155372672153,0.6107351830785274,0.6198766508012765,0.5705529140921202,0.48631861184963354,0.5528653074199008,0.618935616936731,0.500513823842521,0.5504071147014225,0.28811465582804524,0.6750891066158848,0.6511754298121205,0.5832910009447985,0.5240152232917696,0.5565398707793479,0.639037959224618,0.5674212654560473,0.9999999999999994,0.4645476771448709,0.4617333459669628,0.452021048404676,0.4376759556111346,0.5240375079387966,0.5529180366022755,0.5684214365784469,0.4125812368342444,0.42113316616957475,0.6250859550407598,0.41547046574069246,0.5780247073609434,0.4088408823303675,0.3960041271649104,0.45591403565378685,0.5894933393510782],[0.6958012839117739,0.4919804289709535,0.37798547372154545,0.3064364127281554,0.4338563380234961,0.3567435970386233,0.6156485837832484,0.39827614764077324,0.38508397036571484,0.42295879911004736,0.21516045400694805,0.4893836851298896,0.4480905600821382,0.48511658379455,0.42852060659408964,0.45763611649609137,0.517454553402795,0.32533654214012364,0.5445642428880108,0.49762695930164924,0.41758855831872754,0.38012245815191226,0.4261700972672834,0.4015010422125421,0.6744427954441871,0.47207181570137036,0.4643102347183685,0.545358813998439,0.41581888267995804,0.4057204291847648,0.38500560292827335,0.6023210946697344,0.47107331757840826,0.4645476771448709,0.9999999999999994,0.37278178910472304,0.3550204219616838,0.3873119549217945,0.3745218507199234,0.4177830170168144,0.42197371413322116,0.34126585906248985,0.42933322405033614,0.5021937804863017,0.4805122234762035,0.46735213722353103,0.274587243836007,0.35492949621267883,0.35353172863143123,0.47229010717789716],[0.6326137798883052,0.48345815253384206,0.43424002704719955,0.34518202241692114,0.4826234169332888,0.44546480660941845,0.6380758651992171,0.35405277141459734,0.3434747255579056,0.4026351221322293,0.3038035359754365,0.42641250467239034,0.475905271587016,0.3465793217873966,0.5037363165562092,0.5675804835165503,0.5624533579226292,0.3478888655091298,0.5502762614872412,0.44786147292701795,0.6587713414732594,0.46903879873965826,0.5502109939498303,0.6627311088964851,0.5398929659232713,0.3249249647907161,0.523866362331699,0.5053775680598428,0.430948320029683,0.5677581852232337,0.4682331650656333,0.6244386175550891,0.42702833498751974,0.4617333459669628,0.37278178910472304,1.0000000000000002,0.39303837220838467,0.40627104063867275,0.3768860671246398,0.6059850865215319,0.4529753071196257,0.4629239414773685,0.41200381764862354,0.6012074368639392,0.4296341649328753,0.46526991020508246,0.33597202141911886,0.5563078020711173,0.44726699547416127,0.4346518299363526],[0.5918733447533675,0.5239452101075048,0.4801793586216925,0.4734783194555325,0.4570142644891876,0.5760873432589633,0.49637622427244454,0.6309388113343135,0.47435974628980127,0.3868789956228091,0.46765201366251574,0.49395971869118105,0.7590533178845409,0.40306791101417083,0.513671513318857,0.5965598343431633,0.49534255928453086,0.3872686527768803,0.5326312997508716,0.49143039728190685,0.4475673713416283,0.34971868996307254,0.6716884723233415,0.454519226262066,0.47741440292769516,0.2847933018296089,0.5237932528101444,0.4802752950339118,0.5957897497376743,0.5289923561351304,0.5063673727808926,0.5703238377433445,0.586146680124191,0.452021048404676,0.3550204219616838,0.39303837220838467,0.999999999999999,0.5664432356463287,0.4016258220098813,0.513016295936608,0.5899099024669144,0.4077143939605982,0.38447935181148885,0.5032089819190848,0.38141063842007883,0.4696100211667254,0.5436318955011801,0.41697539443814674,0.4897718762300299,0.5022740326758187],[0.552989065973052,0.5851711462256098,0.5270774858215366,0.5151245942577465,0.4180128748684986,0.5774993389001658,0.45556301478490013,0.5140426260261288,0.44091061261009085,0.4262013515141812,0.3337793776503657,0.5118399909917177,0.5770098222626441,0.4190985281367259,0.5558716662178481,0.6241029186347216,0.47798130537619193,0.4607676322792029,0.5323903882269918,0.5045398756493424,0.45985606579356464,0.3830395132762754,0.6738948587782156,0.4158621658077417,0.46883187215559385,0.3161062794897898,0.4921242936825182,0.4772340700217397,0.5642640956228699,0.4812338683999069,0.5434678232066713,0.5547965424538939,0.6175750056354125,0.4376759556111346,0.3873119549217945,0.40627104063867275,0.5664432356463287,0.9999999999999998,0.392039849559953,0.47099472870951997,0.5720741487782615,0.35875972980026183,0.4559161361695136,0.4389257566858614,0.4304587107317378,0.4460178569250324,0.5123549913937935,0.3876646599862543,0.4744114964567996,0.511709528455323],[0.4985372937741438,0.4569927176129416,0.45014573378255496,0.4979949451801683,0.4690430668948475,0.5047259994658176,0.4298094255172248,0.5072860262083752,0.40199696585295364,0.643540759874054,0.30259046840549636,0.47705169748049947,0.5141552856908079,0.402475358843551,0.5477770194388398,0.5082255858965921,0.43169906493804916,0.4770679681552821,0.5293390120560231,0.5214382660395838,0.36547027369331864,0.3294603277195951,0.5099034367030344,0.3859473692137667,0.3629292140861523,0.29785412812152595,0.4821302980219168,0.682564835387664,0.5542511307131558,0.4292344689986952,0.3774655323658863,0.47490778888684304,0.48665048338337835,0.5240375079387966,0.3745218507199234,0.3768860671246398,0.4016258220098813,0.392039849559953,0.9999999999999997,0.4564076946523771,0.5223185360247652,0.3783590376234306,0.36600023017208017,0.6023613848742497,0.377542606023391,0.4547288725089491,0.3304367692652189,0.38740167372873524,0.3327461332924724,0.4859556532915689],[0.7617734821007462,0.5080562060677826,0.534536370983806,0.4109727575077435,0.5535799249070438,0.4991821428698644,0.7297684283819563,0.4734114925255243,0.48541382198358546,0.5007483646047587,0.6077317667156062,0.5855125076025329,0.5826831923283357,0.4850780574016186,0.5642222977120656,0.6217843736307165,0.620614510894576,0.42435843861360534,0.6533239768772714,0.5588683802004684,0.7922650761898322,0.48484650380979144,0.5841120940255327,0.7124976168774771,0.5627395631903429,0.37562533111923196,0.626575541826027,0.6188672752900697,0.4985462694212729,0.5409725255682682,0.5354600517999945,0.7106113476656422,0.522864605408282,0.5529180366022755,0.4177830170168144,0.6059850865215319,0.513016295936608,0.47099472870951997,0.4564076946523771,0.9999999999999998,0.5341022626383426,0.6288902283699622,0.45561732888833895,0.7030772364530622,0.5457855647731397,0.6395476729495706,0.4664514159011114,0.555519629162933,0.4965835162426333,0.5467983250799574],[0.620051388023361,0.6183034728025085,0.5836499990372346,0.5085661860056024,0.5244501774194653,0.5487005073644449,0.5595596599372794,0.5769966133912573,0.6008443936448478,0.5172502964781382,0.3741155688778144,0.5751475944658491,0.679107405614576,0.4110242500332072,0.63885311878517,0.6717688230159229,0.571106686898406,0.4823955838578866,0.597460736837776,0.5427021844306894,0.4907177905099982,0.47131796211935806,0.6775244468347987,0.4682464377316061,0.46784728322280045,0.3372969559782608,0.6557826722202462,0.624496354085117,0.7029446610425105,0.4839446168641017,0.6033312151200131,0.6347601362007309,0.5683403459775933,0.5684214365784469,0.42197371413322116,0.4529753071196257,0.5899099024669144,0.5720741487782615,0.5223185360247652,0.5341022626383426,1.0000000000000002,0.42032394643009435,0.42013013711563574,0.5885852156906818,0.3945591052589723,0.5690702102983582,0.5452739858316934,0.3863983204963591,0.4512911810912242,0.554179902128412],[0.5621081450419818,0.42187274670115693,0.41300008776631114,0.342465474828064,0.5517213787794615,0.4080836202952457,0.5641107303243023,0.3943670102634413,0.3203864476907129,0.3505819843613034,0.39931283313532767,0.4016903184810112,0.4683579375290997,0.42441631728329365,0.4205584471140712,0.4625151879735593,0.46964876530662314,0.2854641430502163,0.4930017154461419,0.48437080679047667,0.6663360246587073,0.40472367137541054,0.4649482438093304,0.6205331649238816,0.443526911975449,0.2563227485942508,0.5001081759249256,0.49915703102547315,0.40059278619743993,0.48548589327062786,0.43925728064902414,0.5344142293630469,0.42556616661193813,0.4125812368342444,0.34126585906248985,0.4629239414773685,0.4077143939605982,0.35875972980026183,0.3783590376234306,0.6288902283699622,0.42032394643009435,0.9999999999999999,0.38907718815788395,0.5422517011965876,0.6936159360775893,0.46661134411840477,0.41946006612525766,0.4449338853782291,0.3951526807420308,0.39915202174833786],[0.5658585881899902,0.54767194457164,0.4832547062813187,0.38003229474176764,0.35648780578252426,0.43893210481160116,0.5281296361245598,0.4161835465572288,0.43968907090345444,0.4164212642073929,0.35029895338790484,0.471131433564866,0.4710087505828676,0.37601522778236673,0.49737790476350585,0.5145651554484065,0.5060895583441227,0.35802546080568787,0.5822659922677856,0.518368861610915,0.42902055675929207,0.36190733001718167,0.48390351822887734,0.47761110736741696,0.4724567191561202,0.2773790478318092,0.453940485842382,0.48285405280998883,0.4149707137168731,0.5442090104098739,0.44986334578117587,0.5509471187158531,0.5341650337702424,0.42113316616957475,0.42933322405033614,0.41200381764862354,0.38447935181148885,0.4559161361695136,0.36600023017208017,0.45561732888833895,0.42013013711563574,0.38907718815788395,1.0000000000000002,0.46705334639745655,0.4324582698054085,0.38257987011798555,0.3925161360735937,0.4913538311261942,0.4281782892347543,0.4875790806024093],[0.7467857504927315,0.49401951379005293,0.5285942510265084,0.45289433765386605,0.5598212200354231,0.5718883793226957,0.7960236600515058,0.47946489362456696,0.4650714317613353,0.7572160928733263,0.4312855750099471,0.5417259157151595,0.6655001860166646,0.5274599135660634,0.6703806410758877,0.6205335611661633,0.603081620972965,0.45804620883552727,0.6673475558626725,0.5116717576198082,0.691845009089868,0.5047552307458415,0.6223845667881907,0.6709571812128061,0.6065154516306412,0.39744923055726133,0.6978575663794769,0.680695496864302,0.587174113152799,0.5496263537947432,0.5180980342790609,0.7548065892744056,0.5667908998015019,0.6250859550407598,0.5021937804863017,0.6012074368639392,0.5032089819190848,0.4389257566858614,0.6023613848742497,0.7030772364530622,0.5885852156906818,0.5422517011965876,0.46705334639745655,1.0000000000000002,0.5586741552671495,0.5884217269787422,0.442862974445706,0.5655016910183872,0.45266746014184867,0.5314955060964328],[0.6046313284297624,0.5079019007608843,0.47725456396925475,0.4296995877994606,0.5061021256680911,0.458486863172871,0.5705086580349912,0.42232998701733476,0.33725834196661575,0.39243738137206513,0.3320740279956057,0.4142715237684811,0.4701032515249956,0.46282021654190847,0.4103525373993717,0.5109509286120024,0.48270613640659843,0.3112465889345559,0.520456587413916,0.5038882125531909,0.5497905339731453,0.3790719791525694,0.5032014042955841,0.5518242975319004,0.46248696336410866,0.33974493753198326,0.4876788277881416,0.47780724599245084,0.4051151686742489,0.46841469048014184,0.3902045927899904,0.5768516298527626,0.4691971048634652,0.41547046574069246,0.4805122234762035,0.4296341649328753,0.38141063842007883,0.4304587107317378,0.377542606023391,0.5457855647731397,0.3945591052589723,0.6936159360775893,0.4324582698054085,0.5586741552671495,1.0,0.44281104904272195,0.3691496617253945,0.40511656322651723,0.38655481212989207,0.40936683733519547],[0.6352510035462788,0.4972819539197587,0.4955745790133741,0.4169694445023995,0.5338584806005096,0.4426391925857726,0.5586285453353645,0.5062006576223633,0.5341132778877097,0.46482177854193485,0.4636312380864315,0.5203425752012956,0.5775751118760519,0.5152436094945063,0.52691768515188,0.551976489924207,0.6088466973076953,0.4111800838378178,0.5791007425654437,0.6123366888778519,0.5220721570375493,0.49577319636462425,0.5545009632323716,0.4860612947343752,0.5541272300626849,0.4248017404388775,0.5998475186911683,0.6621818821897523,0.5372434788627795,0.4399706493840122,0.45864374726784973,0.5972677636129993,0.461669788290095,0.5780247073609434,0.46735213722353103,0.46526991020508246,0.4696100211667254,0.4460178569250324,0.4547288725089491,0.6395476729495706,0.5690702102983582,0.46661134411840477,0.38257987011798555,0.5884217269787422,0.44281104904272195,1.0,0.4773750812883919,0.417632832854931,0.4355099444974843,0.5310920686830611],[0.4848446106201737,0.483441950061846,0.46974060056190536,0.43639044131010885,0.4324956078712452,0.5220080573540548,0.4275455142972902,0.47468563643592454,0.6216141528750373,0.31703429936946975,0.43861989990162964,0.42519305447939126,0.5468025526181645,0.3018330099481926,0.4660995930559301,0.5095089756126528,0.4047486754364463,0.37042660257752147,0.4541239690624638,0.49737557920389974,0.4443317886602042,0.43619325065245607,0.6630074811783317,0.3828046056023845,0.3835633100429848,0.235172860263975,0.5374292332671773,0.4385152930291235,0.6357700485040265,0.4496266071016074,0.4457024284704415,0.4649022324319486,0.5099365278545184,0.4088408823303675,0.274587243836007,0.33597202141911886,0.5436318955011801,0.5123549913937935,0.3304367692652189,0.4664514159011114,0.5452739858316934,0.41946006612525766,0.3925161360735937,0.442862974445706,0.3691496617253945,0.4773750812883919,1.0000000000000004,0.4112882043163498,0.4030921691003847,0.4340174057575238],[0.5650265680299438,0.43050555846231564,0.43554880587527345,0.35388031572305356,0.4811846595620494,0.4186561994436735,0.5809032972172603,0.3622275310624055,0.3446440954267205,0.3595046736570253,0.3520350194846016,0.39823811008834187,0.45446840845096226,0.29426778772979045,0.443405922666848,0.5009121865011921,0.505086559054197,0.31576226553423026,0.4752225155155094,0.4866610333766146,0.49062996311714724,0.3897221911924957,0.48171340352038583,0.5490490395275089,0.4638340387350779,0.2865695526310757,0.44968072513403906,0.477588365531295,0.38128492715533485,0.5303789789950737,0.4697069259749236,0.5681086066007912,0.44505402740702404,0.3960041271649104,0.35492949621267883,0.5563078020711173,0.41697539443814674,0.3876646599862543,0.38740167372873524,0.555519629162933,0.3863983204963591,0.4449338853782291,0.4913538311261942,0.5655016910183872,0.40511656322651723,0.417632832854931,0.4112882043163498,1.0000000000000004,0.4369984721083596,0.39310236555546496],[0.5798111648358015,0.44686151400665247,0.4532148061987446,0.37208061579773716,0.3697734453792998,0.5707934426518232,0.47465200047691003,0.4254104151017325,0.4436014316684124,0.3648655326524321,0.47176324771328,0.445965415848401,0.45496372502906113,0.35940014683933286,0.5141780753718672,0.5792525161982582,0.5201192301771772,0.42761243001432636,0.45466519140336814,0.4866335401021328,0.4872645785346139,0.5027098753451326,0.6338285130684131,0.45302097863501256,0.44545219155816373,0.17090109278026328,0.5220822997009268,0.4184992955688227,0.40594367212220384,0.5951714787923387,0.49420250269281474,0.5027350685466894,0.4785591202853168,0.45591403565378685,0.35353172863143123,0.44726699547416127,0.4897718762300299,0.4744114964567996,0.3327461332924724,0.4965835162426333,0.4512911810912242,0.3951526807420308,0.4281782892347543,0.45266746014184867,0.38655481212989207,0.4355099444974843,0.4030921691003847,0.4369984721083596,1.0000000000000009,0.42012180069032246],[0.6567865384328606,0.5737379500167635,0.46900252325026576,0.45404232904673536,0.4529262716674006,0.5051607623082319,0.5482508662165202,0.5849832395195695,0.4874357055245102,0.5694099122529309,0.36786362499566316,0.623054972618815,0.5648631772019103,0.3790516575191195,0.6243527895384677,0.6037726779512719,0.5496217800323417,0.405292511424875,0.6161806770459737,0.5518618800674873,0.45159550678432736,0.45536661720725485,0.639976259834215,0.43998751333469266,0.5027183929086705,0.2794983226942567,0.5707268755115047,0.595466283107011,0.6094221428997161,0.47539120328630713,0.49013897419523056,0.5837350200576086,0.5976096659086672,0.5894933393510782,0.47229010717789716,0.4346518299363526,0.5022740326758187,0.511709528455323,0.4859556532915689,0.5467983250799574,0.554179902128412,0.39915202174833786,0.4875790806024093,0.5314955060964328,0.40936683733519547,0.5310920686830611,0.4340174057575238,0.39310236555546496,0.42012180069032246,1.0]],\"type\":\"heatmap\",\"xaxis\":\"x\",\"yaxis\":\"y\",\"hovertemplate\":\"x: %{x}<br>y: %{y}<br>Similarity Score: %{z}<extra></extra>\"}],                        {\"template\":{\"data\":{\"bar\":[{\"error_x\":{\"color\":\"#2a3f5f\"},\"error_y\":{\"color\":\"#2a3f5f\"},\"marker\":{\"line\":{\"color\":\"#E5ECF6\",\"width\":0.5},\"pattern\":{\"fillmode\":\"overlay\",\"size\":10,\"solidity\":0.2}},\"type\":\"bar\"}],\"barpolar\":[{\"marker\":{\"line\":{\"color\":\"#E5ECF6\",\"width\":0.5},\"pattern\":{\"fillmode\":\"overlay\",\"size\":10,\"solidity\":0.2}},\"type\":\"barpolar\"}],\"carpet\":[{\"aaxis\":{\"endlinecolor\":\"#2a3f5f\",\"gridcolor\":\"white\",\"linecolor\":\"white\",\"minorgridcolor\":\"white\",\"startlinecolor\":\"#2a3f5f\"},\"baxis\":{\"endlinecolor\":\"#2a3f5f\",\"gridcolor\":\"white\",\"linecolor\":\"white\",\"minorgridcolor\":\"white\",\"startlinecolor\":\"#2a3f5f\"},\"type\":\"carpet\"}],\"choropleth\":[{\"colorbar\":{\"outlinewidth\":0,\"ticks\":\"\"},\"type\":\"choropleth\"}],\"contour\":[{\"colorbar\":{\"outlinewidth\":0,\"ticks\":\"\"},\"colorscale\":[[0.0,\"#0d0887\"],[0.1111111111111111,\"#46039f\"],[0.2222222222222222,\"#7201a8\"],[0.3333333333333333,\"#9c179e\"],[0.4444444444444444,\"#bd3786\"],[0.5555555555555556,\"#d8576b\"],[0.6666666666666666,\"#ed7953\"],[0.7777777777777778,\"#fb9f3a\"],[0.8888888888888888,\"#fdca26\"],[1.0,\"#f0f921\"]],\"type\":\"contour\"}],\"contourcarpet\":[{\"colorbar\":{\"outlinewidth\":0,\"ticks\":\"\"},\"type\":\"contourcarpet\"}],\"heatmap\":[{\"colorbar\":{\"outlinewidth\":0,\"ticks\":\"\"},\"colorscale\":[[0.0,\"#0d0887\"],[0.1111111111111111,\"#46039f\"],[0.2222222222222222,\"#7201a8\"],[0.3333333333333333,\"#9c179e\"],[0.4444444444444444,\"#bd3786\"],[0.5555555555555556,\"#d8576b\"],[0.6666666666666666,\"#ed7953\"],[0.7777777777777778,\"#fb9f3a\"],[0.8888888888888888,\"#fdca26\"],[1.0,\"#f0f921\"]],\"type\":\"heatmap\"}],\"heatmapgl\":[{\"colorbar\":{\"outlinewidth\":0,\"ticks\":\"\"},\"colorscale\":[[0.0,\"#0d0887\"],[0.1111111111111111,\"#46039f\"],[0.2222222222222222,\"#7201a8\"],[0.3333333333333333,\"#9c179e\"],[0.4444444444444444,\"#bd3786\"],[0.5555555555555556,\"#d8576b\"],[0.6666666666666666,\"#ed7953\"],[0.7777777777777778,\"#fb9f3a\"],[0.8888888888888888,\"#fdca26\"],[1.0,\"#f0f921\"]],\"type\":\"heatmapgl\"}],\"histogram\":[{\"marker\":{\"pattern\":{\"fillmode\":\"overlay\",\"size\":10,\"solidity\":0.2}},\"type\":\"histogram\"}],\"histogram2d\":[{\"colorbar\":{\"outlinewidth\":0,\"ticks\":\"\"},\"colorscale\":[[0.0,\"#0d0887\"],[0.1111111111111111,\"#46039f\"],[0.2222222222222222,\"#7201a8\"],[0.3333333333333333,\"#9c179e\"],[0.4444444444444444,\"#bd3786\"],[0.5555555555555556,\"#d8576b\"],[0.6666666666666666,\"#ed7953\"],[0.7777777777777778,\"#fb9f3a\"],[0.8888888888888888,\"#fdca26\"],[1.0,\"#f0f921\"]],\"type\":\"histogram2d\"}],\"histogram2dcontour\":[{\"colorbar\":{\"outlinewidth\":0,\"ticks\":\"\"},\"colorscale\":[[0.0,\"#0d0887\"],[0.1111111111111111,\"#46039f\"],[0.2222222222222222,\"#7201a8\"],[0.3333333333333333,\"#9c179e\"],[0.4444444444444444,\"#bd3786\"],[0.5555555555555556,\"#d8576b\"],[0.6666666666666666,\"#ed7953\"],[0.7777777777777778,\"#fb9f3a\"],[0.8888888888888888,\"#fdca26\"],[1.0,\"#f0f921\"]],\"type\":\"histogram2dcontour\"}],\"mesh3d\":[{\"colorbar\":{\"outlinewidth\":0,\"ticks\":\"\"},\"type\":\"mesh3d\"}],\"parcoords\":[{\"line\":{\"colorbar\":{\"outlinewidth\":0,\"ticks\":\"\"}},\"type\":\"parcoords\"}],\"pie\":[{\"automargin\":true,\"type\":\"pie\"}],\"scatter\":[{\"marker\":{\"colorbar\":{\"outlinewidth\":0,\"ticks\":\"\"}},\"type\":\"scatter\"}],\"scatter3d\":[{\"line\":{\"colorbar\":{\"outlinewidth\":0,\"ticks\":\"\"}},\"marker\":{\"colorbar\":{\"outlinewidth\":0,\"ticks\":\"\"}},\"type\":\"scatter3d\"}],\"scattercarpet\":[{\"marker\":{\"colorbar\":{\"outlinewidth\":0,\"ticks\":\"\"}},\"type\":\"scattercarpet\"}],\"scattergeo\":[{\"marker\":{\"colorbar\":{\"outlinewidth\":0,\"ticks\":\"\"}},\"type\":\"scattergeo\"}],\"scattergl\":[{\"marker\":{\"colorbar\":{\"outlinewidth\":0,\"ticks\":\"\"}},\"type\":\"scattergl\"}],\"scattermapbox\":[{\"marker\":{\"colorbar\":{\"outlinewidth\":0,\"ticks\":\"\"}},\"type\":\"scattermapbox\"}],\"scatterpolar\":[{\"marker\":{\"colorbar\":{\"outlinewidth\":0,\"ticks\":\"\"}},\"type\":\"scatterpolar\"}],\"scatterpolargl\":[{\"marker\":{\"colorbar\":{\"outlinewidth\":0,\"ticks\":\"\"}},\"type\":\"scatterpolargl\"}],\"scatterternary\":[{\"marker\":{\"colorbar\":{\"outlinewidth\":0,\"ticks\":\"\"}},\"type\":\"scatterternary\"}],\"surface\":[{\"colorbar\":{\"outlinewidth\":0,\"ticks\":\"\"},\"colorscale\":[[0.0,\"#0d0887\"],[0.1111111111111111,\"#46039f\"],[0.2222222222222222,\"#7201a8\"],[0.3333333333333333,\"#9c179e\"],[0.4444444444444444,\"#bd3786\"],[0.5555555555555556,\"#d8576b\"],[0.6666666666666666,\"#ed7953\"],[0.7777777777777778,\"#fb9f3a\"],[0.8888888888888888,\"#fdca26\"],[1.0,\"#f0f921\"]],\"type\":\"surface\"}],\"table\":[{\"cells\":{\"fill\":{\"color\":\"#EBF0F8\"},\"line\":{\"color\":\"white\"}},\"header\":{\"fill\":{\"color\":\"#C8D4E3\"},\"line\":{\"color\":\"white\"}},\"type\":\"table\"}]},\"layout\":{\"annotationdefaults\":{\"arrowcolor\":\"#2a3f5f\",\"arrowhead\":0,\"arrowwidth\":1},\"autotypenumbers\":\"strict\",\"coloraxis\":{\"colorbar\":{\"outlinewidth\":0,\"ticks\":\"\"}},\"colorscale\":{\"diverging\":[[0,\"#8e0152\"],[0.1,\"#c51b7d\"],[0.2,\"#de77ae\"],[0.3,\"#f1b6da\"],[0.4,\"#fde0ef\"],[0.5,\"#f7f7f7\"],[0.6,\"#e6f5d0\"],[0.7,\"#b8e186\"],[0.8,\"#7fbc41\"],[0.9,\"#4d9221\"],[1,\"#276419\"]],\"sequential\":[[0.0,\"#0d0887\"],[0.1111111111111111,\"#46039f\"],[0.2222222222222222,\"#7201a8\"],[0.3333333333333333,\"#9c179e\"],[0.4444444444444444,\"#bd3786\"],[0.5555555555555556,\"#d8576b\"],[0.6666666666666666,\"#ed7953\"],[0.7777777777777778,\"#fb9f3a\"],[0.8888888888888888,\"#fdca26\"],[1.0,\"#f0f921\"]],\"sequentialminus\":[[0.0,\"#0d0887\"],[0.1111111111111111,\"#46039f\"],[0.2222222222222222,\"#7201a8\"],[0.3333333333333333,\"#9c179e\"],[0.4444444444444444,\"#bd3786\"],[0.5555555555555556,\"#d8576b\"],[0.6666666666666666,\"#ed7953\"],[0.7777777777777778,\"#fb9f3a\"],[0.8888888888888888,\"#fdca26\"],[1.0,\"#f0f921\"]]},\"colorway\":[\"#636efa\",\"#EF553B\",\"#00cc96\",\"#ab63fa\",\"#FFA15A\",\"#19d3f3\",\"#FF6692\",\"#B6E880\",\"#FF97FF\",\"#FECB52\"],\"font\":{\"color\":\"#2a3f5f\"},\"geo\":{\"bgcolor\":\"white\",\"lakecolor\":\"white\",\"landcolor\":\"#E5ECF6\",\"showlakes\":true,\"showland\":true,\"subunitcolor\":\"white\"},\"hoverlabel\":{\"align\":\"left\"},\"hovermode\":\"closest\",\"mapbox\":{\"style\":\"light\"},\"paper_bgcolor\":\"white\",\"plot_bgcolor\":\"#E5ECF6\",\"polar\":{\"angularaxis\":{\"gridcolor\":\"white\",\"linecolor\":\"white\",\"ticks\":\"\"},\"bgcolor\":\"#E5ECF6\",\"radialaxis\":{\"gridcolor\":\"white\",\"linecolor\":\"white\",\"ticks\":\"\"}},\"scene\":{\"xaxis\":{\"backgroundcolor\":\"#E5ECF6\",\"gridcolor\":\"white\",\"gridwidth\":2,\"linecolor\":\"white\",\"showbackground\":true,\"ticks\":\"\",\"zerolinecolor\":\"white\"},\"yaxis\":{\"backgroundcolor\":\"#E5ECF6\",\"gridcolor\":\"white\",\"gridwidth\":2,\"linecolor\":\"white\",\"showbackground\":true,\"ticks\":\"\",\"zerolinecolor\":\"white\"},\"zaxis\":{\"backgroundcolor\":\"#E5ECF6\",\"gridcolor\":\"white\",\"gridwidth\":2,\"linecolor\":\"white\",\"showbackground\":true,\"ticks\":\"\",\"zerolinecolor\":\"white\"}},\"shapedefaults\":{\"line\":{\"color\":\"#2a3f5f\"}},\"ternary\":{\"aaxis\":{\"gridcolor\":\"white\",\"linecolor\":\"white\",\"ticks\":\"\"},\"baxis\":{\"gridcolor\":\"white\",\"linecolor\":\"white\",\"ticks\":\"\"},\"bgcolor\":\"#E5ECF6\",\"caxis\":{\"gridcolor\":\"white\",\"linecolor\":\"white\",\"ticks\":\"\"}},\"title\":{\"x\":0.05},\"xaxis\":{\"automargin\":true,\"gridcolor\":\"white\",\"linecolor\":\"white\",\"ticks\":\"\",\"title\":{\"standoff\":15},\"zerolinecolor\":\"white\",\"zerolinewidth\":2},\"yaxis\":{\"automargin\":true,\"gridcolor\":\"white\",\"linecolor\":\"white\",\"ticks\":\"\",\"title\":{\"standoff\":15},\"zerolinecolor\":\"white\",\"zerolinewidth\":2}}},\"xaxis\":{\"anchor\":\"y\",\"domain\":[0.0,1.0],\"scaleanchor\":\"y\",\"constrain\":\"domain\"},\"yaxis\":{\"anchor\":\"x\",\"domain\":[0.0,1.0],\"autorange\":\"reversed\",\"constrain\":\"domain\"},\"coloraxis\":{\"colorbar\":{\"title\":{\"text\":\"Similarity Score\"}},\"colorscale\":[[0.0,\"rgb(247,252,240)\"],[0.125,\"rgb(224,243,219)\"],[0.25,\"rgb(204,235,197)\"],[0.375,\"rgb(168,221,181)\"],[0.5,\"rgb(123,204,196)\"],[0.625,\"rgb(78,179,211)\"],[0.75,\"rgb(43,140,190)\"],[0.875,\"rgb(8,104,172)\"],[1.0,\"rgb(8,64,129)\"]]},\"margin\":{\"t\":60},\"title\":{\"font\":{\"size\":22,\"color\":\"Black\"},\"text\":\"<b>Similarity Matrix\",\"y\":0.95,\"x\":0.55,\"xanchor\":\"center\",\"yanchor\":\"top\"},\"hoverlabel\":{\"font\":{\"size\":16,\"family\":\"Rockwell\"},\"bgcolor\":\"white\"},\"width\":800,\"height\":800,\"showlegend\":true,\"legend\":{\"title\":{\"text\":\"Trend\"}}},                        {\"responsive\": true}                    ).then(function(){\n",
       "                            \n",
       "var gd = document.getElementById('0e9079f8-7df9-4949-aff7-02c8dbb0bd25');\n",
       "var x = new MutationObserver(function (mutations, observer) {{\n",
       "        var display = window.getComputedStyle(gd).display;\n",
       "        if (!display || display === 'none') {{\n",
       "            console.log([gd, 'removed!']);\n",
       "            Plotly.purge(gd);\n",
       "            observer.disconnect();\n",
       "        }}\n",
       "}});\n",
       "\n",
       "// Listen for the removal of the full notebook cells\n",
       "var notebookContainer = gd.closest('#notebook-container');\n",
       "if (notebookContainer) {{\n",
       "    x.observe(notebookContainer, {childList: true});\n",
       "}}\n",
       "\n",
       "// Listen for the clearing of the current output cell\n",
       "var outputEl = gd.closest('.output');\n",
       "if (outputEl) {{\n",
       "    x.observe(outputEl, {childList: true});\n",
       "}}\n",
       "\n",
       "                        })                };                            </script>        </div>\n",
       "</body>\n",
       "</html>"
      ]
     },
     "metadata": {}
    }
   ]
  },
  {
   "cell_type": "code",
   "source": [
    "fig_heatmap.write_html(\"/content/drive/MyDrive/Interim/fig_heatmap.html\")"
   ],
   "metadata": {
    "id": "BalxLBJ_gfbw",
    "pycharm": {
     "name": "#%%\n"
    }
   },
   "execution_count": null,
   "outputs": []
  },
  {
   "cell_type": "code",
   "source": [
    "fig_barchar = topic_model.visualize_barchart(top_n_topics = 10, n_words = 10); fig_barchar"
   ],
   "metadata": {
    "colab": {
     "base_uri": "https://localhost:8080/",
     "height": 767
    },
    "id": "L5Bydo8b_YbG",
    "executionInfo": {
     "status": "ok",
     "timestamp": 1668100102321,
     "user_tz": -60,
     "elapsed": 308,
     "user": {
      "displayName": "Naemi Graf",
      "userId": "00297558433787857996"
     }
    },
    "outputId": "44bc10fa-9a56-480b-dee9-9b4365aec446",
    "pycharm": {
     "name": "#%%\n"
    }
   },
   "execution_count": null,
   "outputs": [
    {
     "output_type": "display_data",
     "data": {
      "text/html": [
       "<html>\n",
       "<head><meta charset=\"utf-8\" /></head>\n",
       "<body>\n",
       "    <div>            <script src=\"https://cdnjs.cloudflare.com/ajax/libs/mathjax/2.7.5/MathJax.js?config=TeX-AMS-MML_SVG\"></script><script type=\"text/javascript\">if (window.MathJax) {MathJax.Hub.Config({SVG: {font: \"STIX-Web\"}});}</script>                <script type=\"text/javascript\">window.PlotlyConfig = {MathJaxConfig: 'local'};</script>\n",
       "        <script src=\"https://cdn.plot.ly/plotly-2.8.3.min.js\"></script>                <div id=\"4a066c0a-863a-464d-bb2b-fe3d7da84bd8\" class=\"plotly-graph-div\" style=\"height:750px; width:1000px;\"></div>            <script type=\"text/javascript\">                                    window.PLOTLYENV=window.PLOTLYENV || {};                                    if (document.getElementById(\"4a066c0a-863a-464d-bb2b-fe3d7da84bd8\")) {                    Plotly.newPlot(                        \"4a066c0a-863a-464d-bb2b-fe3d7da84bd8\",                        [{\"marker\":{\"color\":\"#D55E00\"},\"orientation\":\"h\",\"x\":[0.017360255005672426,0.018087481188544606,0.018386148455973292,0.020548843600966805,0.02637011207828986,0.02890427102962656,0.031170843349516756,0.06816168452257276,0.08105848615407804,0.08359446467774696],\"y\":[\"beautiful  \",\"fan  \",\"kids  \",\"son  \",\"proud  \",\"wife  \",\"married  \",\"dad  \",\"husband  \",\"father  \"],\"type\":\"bar\",\"xaxis\":\"x\",\"yaxis\":\"y\"},{\"marker\":{\"color\":\"#0072B2\"},\"orientation\":\"h\",\"x\":[0.019362457555808035,0.02424973355281795,0.025957483516360014,0.027973721278453278,0.02978265819512322,0.03164500632279419,0.03174416115213499,0.03353649028943355,0.04332657877709653,0.07144185625082161],\"y\":[\"musician  \",\"rapper  \",\"song  \",\"singer  \",\"songwriter  \",\"artist  \",\"producer  \",\"bookings  \",\"dj  \",\"music  \"],\"type\":\"bar\",\"xaxis\":\"x2\",\"yaxis\":\"y2\"},{\"marker\":{\"color\":\"#CC79A7\"},\"orientation\":\"h\",\"x\":[0.017429680603624834,0.020361733625512496,0.021612357620245652,0.02379965717717396,0.025437945655373037,0.028697193716610093,0.029051565451614306,0.029213567905344063,0.07476076130915102,0.15401656194473257],\"y\":[\"camera  \",\"filmmaker  \",\"video  \",\"videographer  \",\"editor  \",\"director  \",\"cinematographer  \",\"film  \",\"photography  \",\"photographer  \"],\"type\":\"bar\",\"xaxis\":\"x3\",\"yaxis\":\"y3\"},{\"marker\":{\"color\":\"#E69F00\"},\"orientation\":\"h\",\"x\":[0.023755475531467833,0.025488236751270363,0.03061734445971749,0.03327747187888656,0.033554583469542695,0.03616828603185145,0.04052119127718326,0.058920991373507633,0.06286352063763352,0.11060667372753057],\"y\":[\"je  \",\"un  \",\"et  \",\"le  \",\"el  \",\"del  \",\"que  \",\"en  \",\"la  \",\"de  \"],\"type\":\"bar\",\"xaxis\":\"x4\",\"yaxis\":\"y4\"},{\"marker\":{\"color\":\"#56B4E9\"},\"orientation\":\"h\",\"x\":[0.02720883823565678,0.027514639851928212,0.029561844404718807,0.032467723776811,0.036387892805978664,0.03932989697363081,0.041839535127672356,0.042502120817964985,0.06651534308882667,0.10984798761463235],\"y\":[\"editor  \",\"radio  \",\"freelance  \",\"presenter  \",\"writer  \",\"journalism  \",\"commentator  \",\"reporter  \",\"sports  \",\"journalist  \"],\"type\":\"bar\",\"xaxis\":\"x5\",\"yaxis\":\"y5\"},{\"marker\":{\"color\":\"#009E73\"},\"orientation\":\"h\",\"x\":[0.0185843156378242,0.030464811961441067,0.03069784155857742,0.039534074394178276,0.04962572526184809,0.05912559942160986,0.059751673025019714,0.06360339958198499,0.16958523562509642,0.17240932947015158],\"y\":[\"official  \",\"work  \",\"till  \",\"supporters  \",\"club  \",\"hard  \",\"fan  \",\"die  \",\"united  \",\"manchester  \"],\"type\":\"bar\",\"xaxis\":\"x6\",\"yaxis\":\"y6\"},{\"marker\":{\"color\":\"#F0E442\"},\"orientation\":\"h\",\"x\":[0.022555150312215812,0.02338073329131168,0.026505301308617116,0.03998894695243307,0.04115011992957106,0.0444983464619225,0.06455497735389927,0.07271538780494287,0.08420374665340531,0.13642013742773665],\"y\":[\"uiux  \",\"printing  \",\"creative  \",\"artist  \",\"illustrator  \",\"art  \",\"graphics  \",\"design  \",\"graphic  \",\"designer  \"],\"type\":\"bar\",\"xaxis\":\"x7\",\"yaxis\":\"y7\"},{\"marker\":{\"color\":\"#D55E00\"},\"orientation\":\"h\",\"x\":[0.025170476751939567,0.02598758488000854,0.029645204078689008,0.041781022320850555,0.043212892257363696,0.04960997297190205,0.058221695223672744,0.07955915323522204,0.0850044088777434,0.1319566954147585],\"y\":[\"trading  \",\"btc  \",\"investor  \",\"bitcoin  \",\"blockchain  \",\"nfts  \",\"forex  \",\"trader  \",\"nft  \",\"crypto  \"],\"type\":\"bar\",\"xaxis\":\"x8\",\"yaxis\":\"y8\"},{\"marker\":{\"color\":\"#0072B2\"},\"orientation\":\"h\",\"x\":[0.019845648710423335,0.024548422876010115,0.039023414253899616,0.03922569554596284,0.039790425139370644,0.04383021742023242,0.046971255924577696,0.07476795105780241,0.095349368678707,0.10776388599099104],\"y\":[\"mostly  \",\"retweet  \",\"thoughts  \",\"think  \",\"tweeting  \",\"not  \",\"mind  \",\"twitter  \",\"tweet  \",\"tweets  \"],\"type\":\"bar\",\"xaxis\":\"x9\",\"yaxis\":\"y9\"},{\"marker\":{\"color\":\"#CC79A7\"},\"orientation\":\"h\",\"x\":[0.010282964648096136,0.010579644331874808,0.010928456531040501,0.010928456531040501,0.011321455833206791,0.013589546824588955,0.015870349257894188,0.01723229619613254,0.019424927975280414,0.4119266554285264],\"y\":[\"wethenorth  \",\"know  \",\"eire  \",\"ittihad  \",\"good  \",\"cr  \",\"not  \",\"aminulh  \",\"ok  \",\"mufc  \"],\"type\":\"bar\",\"xaxis\":\"x10\",\"yaxis\":\"y10\"}],                        {\"template\":{\"data\":{\"barpolar\":[{\"marker\":{\"line\":{\"color\":\"white\",\"width\":0.5},\"pattern\":{\"fillmode\":\"overlay\",\"size\":10,\"solidity\":0.2}},\"type\":\"barpolar\"}],\"bar\":[{\"error_x\":{\"color\":\"#2a3f5f\"},\"error_y\":{\"color\":\"#2a3f5f\"},\"marker\":{\"line\":{\"color\":\"white\",\"width\":0.5},\"pattern\":{\"fillmode\":\"overlay\",\"size\":10,\"solidity\":0.2}},\"type\":\"bar\"}],\"carpet\":[{\"aaxis\":{\"endlinecolor\":\"#2a3f5f\",\"gridcolor\":\"#C8D4E3\",\"linecolor\":\"#C8D4E3\",\"minorgridcolor\":\"#C8D4E3\",\"startlinecolor\":\"#2a3f5f\"},\"baxis\":{\"endlinecolor\":\"#2a3f5f\",\"gridcolor\":\"#C8D4E3\",\"linecolor\":\"#C8D4E3\",\"minorgridcolor\":\"#C8D4E3\",\"startlinecolor\":\"#2a3f5f\"},\"type\":\"carpet\"}],\"choropleth\":[{\"colorbar\":{\"outlinewidth\":0,\"ticks\":\"\"},\"type\":\"choropleth\"}],\"contourcarpet\":[{\"colorbar\":{\"outlinewidth\":0,\"ticks\":\"\"},\"type\":\"contourcarpet\"}],\"contour\":[{\"colorbar\":{\"outlinewidth\":0,\"ticks\":\"\"},\"colorscale\":[[0.0,\"#0d0887\"],[0.1111111111111111,\"#46039f\"],[0.2222222222222222,\"#7201a8\"],[0.3333333333333333,\"#9c179e\"],[0.4444444444444444,\"#bd3786\"],[0.5555555555555556,\"#d8576b\"],[0.6666666666666666,\"#ed7953\"],[0.7777777777777778,\"#fb9f3a\"],[0.8888888888888888,\"#fdca26\"],[1.0,\"#f0f921\"]],\"type\":\"contour\"}],\"heatmapgl\":[{\"colorbar\":{\"outlinewidth\":0,\"ticks\":\"\"},\"colorscale\":[[0.0,\"#0d0887\"],[0.1111111111111111,\"#46039f\"],[0.2222222222222222,\"#7201a8\"],[0.3333333333333333,\"#9c179e\"],[0.4444444444444444,\"#bd3786\"],[0.5555555555555556,\"#d8576b\"],[0.6666666666666666,\"#ed7953\"],[0.7777777777777778,\"#fb9f3a\"],[0.8888888888888888,\"#fdca26\"],[1.0,\"#f0f921\"]],\"type\":\"heatmapgl\"}],\"heatmap\":[{\"colorbar\":{\"outlinewidth\":0,\"ticks\":\"\"},\"colorscale\":[[0.0,\"#0d0887\"],[0.1111111111111111,\"#46039f\"],[0.2222222222222222,\"#7201a8\"],[0.3333333333333333,\"#9c179e\"],[0.4444444444444444,\"#bd3786\"],[0.5555555555555556,\"#d8576b\"],[0.6666666666666666,\"#ed7953\"],[0.7777777777777778,\"#fb9f3a\"],[0.8888888888888888,\"#fdca26\"],[1.0,\"#f0f921\"]],\"type\":\"heatmap\"}],\"histogram2dcontour\":[{\"colorbar\":{\"outlinewidth\":0,\"ticks\":\"\"},\"colorscale\":[[0.0,\"#0d0887\"],[0.1111111111111111,\"#46039f\"],[0.2222222222222222,\"#7201a8\"],[0.3333333333333333,\"#9c179e\"],[0.4444444444444444,\"#bd3786\"],[0.5555555555555556,\"#d8576b\"],[0.6666666666666666,\"#ed7953\"],[0.7777777777777778,\"#fb9f3a\"],[0.8888888888888888,\"#fdca26\"],[1.0,\"#f0f921\"]],\"type\":\"histogram2dcontour\"}],\"histogram2d\":[{\"colorbar\":{\"outlinewidth\":0,\"ticks\":\"\"},\"colorscale\":[[0.0,\"#0d0887\"],[0.1111111111111111,\"#46039f\"],[0.2222222222222222,\"#7201a8\"],[0.3333333333333333,\"#9c179e\"],[0.4444444444444444,\"#bd3786\"],[0.5555555555555556,\"#d8576b\"],[0.6666666666666666,\"#ed7953\"],[0.7777777777777778,\"#fb9f3a\"],[0.8888888888888888,\"#fdca26\"],[1.0,\"#f0f921\"]],\"type\":\"histogram2d\"}],\"histogram\":[{\"marker\":{\"pattern\":{\"fillmode\":\"overlay\",\"size\":10,\"solidity\":0.2}},\"type\":\"histogram\"}],\"mesh3d\":[{\"colorbar\":{\"outlinewidth\":0,\"ticks\":\"\"},\"type\":\"mesh3d\"}],\"parcoords\":[{\"line\":{\"colorbar\":{\"outlinewidth\":0,\"ticks\":\"\"}},\"type\":\"parcoords\"}],\"pie\":[{\"automargin\":true,\"type\":\"pie\"}],\"scatter3d\":[{\"line\":{\"colorbar\":{\"outlinewidth\":0,\"ticks\":\"\"}},\"marker\":{\"colorbar\":{\"outlinewidth\":0,\"ticks\":\"\"}},\"type\":\"scatter3d\"}],\"scattercarpet\":[{\"marker\":{\"colorbar\":{\"outlinewidth\":0,\"ticks\":\"\"}},\"type\":\"scattercarpet\"}],\"scattergeo\":[{\"marker\":{\"colorbar\":{\"outlinewidth\":0,\"ticks\":\"\"}},\"type\":\"scattergeo\"}],\"scattergl\":[{\"marker\":{\"colorbar\":{\"outlinewidth\":0,\"ticks\":\"\"}},\"type\":\"scattergl\"}],\"scattermapbox\":[{\"marker\":{\"colorbar\":{\"outlinewidth\":0,\"ticks\":\"\"}},\"type\":\"scattermapbox\"}],\"scatterpolargl\":[{\"marker\":{\"colorbar\":{\"outlinewidth\":0,\"ticks\":\"\"}},\"type\":\"scatterpolargl\"}],\"scatterpolar\":[{\"marker\":{\"colorbar\":{\"outlinewidth\":0,\"ticks\":\"\"}},\"type\":\"scatterpolar\"}],\"scatter\":[{\"marker\":{\"colorbar\":{\"outlinewidth\":0,\"ticks\":\"\"}},\"type\":\"scatter\"}],\"scatterternary\":[{\"marker\":{\"colorbar\":{\"outlinewidth\":0,\"ticks\":\"\"}},\"type\":\"scatterternary\"}],\"surface\":[{\"colorbar\":{\"outlinewidth\":0,\"ticks\":\"\"},\"colorscale\":[[0.0,\"#0d0887\"],[0.1111111111111111,\"#46039f\"],[0.2222222222222222,\"#7201a8\"],[0.3333333333333333,\"#9c179e\"],[0.4444444444444444,\"#bd3786\"],[0.5555555555555556,\"#d8576b\"],[0.6666666666666666,\"#ed7953\"],[0.7777777777777778,\"#fb9f3a\"],[0.8888888888888888,\"#fdca26\"],[1.0,\"#f0f921\"]],\"type\":\"surface\"}],\"table\":[{\"cells\":{\"fill\":{\"color\":\"#EBF0F8\"},\"line\":{\"color\":\"white\"}},\"header\":{\"fill\":{\"color\":\"#C8D4E3\"},\"line\":{\"color\":\"white\"}},\"type\":\"table\"}]},\"layout\":{\"annotationdefaults\":{\"arrowcolor\":\"#2a3f5f\",\"arrowhead\":0,\"arrowwidth\":1},\"autotypenumbers\":\"strict\",\"coloraxis\":{\"colorbar\":{\"outlinewidth\":0,\"ticks\":\"\"}},\"colorscale\":{\"diverging\":[[0,\"#8e0152\"],[0.1,\"#c51b7d\"],[0.2,\"#de77ae\"],[0.3,\"#f1b6da\"],[0.4,\"#fde0ef\"],[0.5,\"#f7f7f7\"],[0.6,\"#e6f5d0\"],[0.7,\"#b8e186\"],[0.8,\"#7fbc41\"],[0.9,\"#4d9221\"],[1,\"#276419\"]],\"sequential\":[[0.0,\"#0d0887\"],[0.1111111111111111,\"#46039f\"],[0.2222222222222222,\"#7201a8\"],[0.3333333333333333,\"#9c179e\"],[0.4444444444444444,\"#bd3786\"],[0.5555555555555556,\"#d8576b\"],[0.6666666666666666,\"#ed7953\"],[0.7777777777777778,\"#fb9f3a\"],[0.8888888888888888,\"#fdca26\"],[1.0,\"#f0f921\"]],\"sequentialminus\":[[0.0,\"#0d0887\"],[0.1111111111111111,\"#46039f\"],[0.2222222222222222,\"#7201a8\"],[0.3333333333333333,\"#9c179e\"],[0.4444444444444444,\"#bd3786\"],[0.5555555555555556,\"#d8576b\"],[0.6666666666666666,\"#ed7953\"],[0.7777777777777778,\"#fb9f3a\"],[0.8888888888888888,\"#fdca26\"],[1.0,\"#f0f921\"]]},\"colorway\":[\"#636efa\",\"#EF553B\",\"#00cc96\",\"#ab63fa\",\"#FFA15A\",\"#19d3f3\",\"#FF6692\",\"#B6E880\",\"#FF97FF\",\"#FECB52\"],\"font\":{\"color\":\"#2a3f5f\"},\"geo\":{\"bgcolor\":\"white\",\"lakecolor\":\"white\",\"landcolor\":\"white\",\"showlakes\":true,\"showland\":true,\"subunitcolor\":\"#C8D4E3\"},\"hoverlabel\":{\"align\":\"left\"},\"hovermode\":\"closest\",\"mapbox\":{\"style\":\"light\"},\"paper_bgcolor\":\"white\",\"plot_bgcolor\":\"white\",\"polar\":{\"angularaxis\":{\"gridcolor\":\"#EBF0F8\",\"linecolor\":\"#EBF0F8\",\"ticks\":\"\"},\"bgcolor\":\"white\",\"radialaxis\":{\"gridcolor\":\"#EBF0F8\",\"linecolor\":\"#EBF0F8\",\"ticks\":\"\"}},\"scene\":{\"xaxis\":{\"backgroundcolor\":\"white\",\"gridcolor\":\"#DFE8F3\",\"gridwidth\":2,\"linecolor\":\"#EBF0F8\",\"showbackground\":true,\"ticks\":\"\",\"zerolinecolor\":\"#EBF0F8\"},\"yaxis\":{\"backgroundcolor\":\"white\",\"gridcolor\":\"#DFE8F3\",\"gridwidth\":2,\"linecolor\":\"#EBF0F8\",\"showbackground\":true,\"ticks\":\"\",\"zerolinecolor\":\"#EBF0F8\"},\"zaxis\":{\"backgroundcolor\":\"white\",\"gridcolor\":\"#DFE8F3\",\"gridwidth\":2,\"linecolor\":\"#EBF0F8\",\"showbackground\":true,\"ticks\":\"\",\"zerolinecolor\":\"#EBF0F8\"}},\"shapedefaults\":{\"line\":{\"color\":\"#2a3f5f\"}},\"ternary\":{\"aaxis\":{\"gridcolor\":\"#DFE8F3\",\"linecolor\":\"#A2B1C6\",\"ticks\":\"\"},\"baxis\":{\"gridcolor\":\"#DFE8F3\",\"linecolor\":\"#A2B1C6\",\"ticks\":\"\"},\"bgcolor\":\"white\",\"caxis\":{\"gridcolor\":\"#DFE8F3\",\"linecolor\":\"#A2B1C6\",\"ticks\":\"\"}},\"title\":{\"x\":0.05},\"xaxis\":{\"automargin\":true,\"gridcolor\":\"#EBF0F8\",\"linecolor\":\"#EBF0F8\",\"ticks\":\"\",\"title\":{\"standoff\":15},\"zerolinecolor\":\"#EBF0F8\",\"zerolinewidth\":2},\"yaxis\":{\"automargin\":true,\"gridcolor\":\"#EBF0F8\",\"linecolor\":\"#EBF0F8\",\"ticks\":\"\",\"title\":{\"standoff\":15},\"zerolinecolor\":\"#EBF0F8\",\"zerolinewidth\":2}}},\"xaxis\":{\"anchor\":\"y\",\"domain\":[0.0,0.175],\"showgrid\":true},\"yaxis\":{\"anchor\":\"x\",\"domain\":[0.7555555555555555,1.0],\"showgrid\":true},\"xaxis2\":{\"anchor\":\"y2\",\"domain\":[0.275,0.45],\"showgrid\":true},\"yaxis2\":{\"anchor\":\"x2\",\"domain\":[0.7555555555555555,1.0],\"showgrid\":true},\"xaxis3\":{\"anchor\":\"y3\",\"domain\":[0.55,0.7250000000000001],\"showgrid\":true},\"yaxis3\":{\"anchor\":\"x3\",\"domain\":[0.7555555555555555,1.0],\"showgrid\":true},\"xaxis4\":{\"anchor\":\"y4\",\"domain\":[0.825,1.0],\"showgrid\":true},\"yaxis4\":{\"anchor\":\"x4\",\"domain\":[0.7555555555555555,1.0],\"showgrid\":true},\"xaxis5\":{\"anchor\":\"y5\",\"domain\":[0.0,0.175],\"showgrid\":true},\"yaxis5\":{\"anchor\":\"x5\",\"domain\":[0.37777777777777777,0.6222222222222222],\"showgrid\":true},\"xaxis6\":{\"anchor\":\"y6\",\"domain\":[0.275,0.45],\"showgrid\":true},\"yaxis6\":{\"anchor\":\"x6\",\"domain\":[0.37777777777777777,0.6222222222222222],\"showgrid\":true},\"xaxis7\":{\"anchor\":\"y7\",\"domain\":[0.55,0.7250000000000001],\"showgrid\":true},\"yaxis7\":{\"anchor\":\"x7\",\"domain\":[0.37777777777777777,0.6222222222222222],\"showgrid\":true},\"xaxis8\":{\"anchor\":\"y8\",\"domain\":[0.825,1.0],\"showgrid\":true},\"yaxis8\":{\"anchor\":\"x8\",\"domain\":[0.37777777777777777,0.6222222222222222],\"showgrid\":true},\"xaxis9\":{\"anchor\":\"y9\",\"domain\":[0.0,0.175],\"showgrid\":true},\"yaxis9\":{\"anchor\":\"x9\",\"domain\":[0.0,0.24444444444444446],\"showgrid\":true},\"xaxis10\":{\"anchor\":\"y10\",\"domain\":[0.275,0.45],\"showgrid\":true},\"yaxis10\":{\"anchor\":\"x10\",\"domain\":[0.0,0.24444444444444446],\"showgrid\":true},\"xaxis11\":{\"anchor\":\"y11\",\"domain\":[0.55,0.7250000000000001],\"showgrid\":true},\"yaxis11\":{\"anchor\":\"x11\",\"domain\":[0.0,0.24444444444444446],\"showgrid\":true},\"xaxis12\":{\"anchor\":\"y12\",\"domain\":[0.825,1.0],\"showgrid\":true},\"yaxis12\":{\"anchor\":\"x12\",\"domain\":[0.0,0.24444444444444446],\"showgrid\":true},\"annotations\":[{\"font\":{\"size\":16},\"showarrow\":false,\"text\":\"Topic 0\",\"x\":0.0875,\"xanchor\":\"center\",\"xref\":\"paper\",\"y\":1.0,\"yanchor\":\"bottom\",\"yref\":\"paper\"},{\"font\":{\"size\":16},\"showarrow\":false,\"text\":\"Topic 1\",\"x\":0.36250000000000004,\"xanchor\":\"center\",\"xref\":\"paper\",\"y\":1.0,\"yanchor\":\"bottom\",\"yref\":\"paper\"},{\"font\":{\"size\":16},\"showarrow\":false,\"text\":\"Topic 2\",\"x\":0.6375000000000001,\"xanchor\":\"center\",\"xref\":\"paper\",\"y\":1.0,\"yanchor\":\"bottom\",\"yref\":\"paper\"},{\"font\":{\"size\":16},\"showarrow\":false,\"text\":\"Topic 3\",\"x\":0.9125,\"xanchor\":\"center\",\"xref\":\"paper\",\"y\":1.0,\"yanchor\":\"bottom\",\"yref\":\"paper\"},{\"font\":{\"size\":16},\"showarrow\":false,\"text\":\"Topic 4\",\"x\":0.0875,\"xanchor\":\"center\",\"xref\":\"paper\",\"y\":0.6222222222222222,\"yanchor\":\"bottom\",\"yref\":\"paper\"},{\"font\":{\"size\":16},\"showarrow\":false,\"text\":\"Topic 5\",\"x\":0.36250000000000004,\"xanchor\":\"center\",\"xref\":\"paper\",\"y\":0.6222222222222222,\"yanchor\":\"bottom\",\"yref\":\"paper\"},{\"font\":{\"size\":16},\"showarrow\":false,\"text\":\"Topic 6\",\"x\":0.6375000000000001,\"xanchor\":\"center\",\"xref\":\"paper\",\"y\":0.6222222222222222,\"yanchor\":\"bottom\",\"yref\":\"paper\"},{\"font\":{\"size\":16},\"showarrow\":false,\"text\":\"Topic 7\",\"x\":0.9125,\"xanchor\":\"center\",\"xref\":\"paper\",\"y\":0.6222222222222222,\"yanchor\":\"bottom\",\"yref\":\"paper\"},{\"font\":{\"size\":16},\"showarrow\":false,\"text\":\"Topic 8\",\"x\":0.0875,\"xanchor\":\"center\",\"xref\":\"paper\",\"y\":0.24444444444444446,\"yanchor\":\"bottom\",\"yref\":\"paper\"},{\"font\":{\"size\":16},\"showarrow\":false,\"text\":\"Topic 9\",\"x\":0.36250000000000004,\"xanchor\":\"center\",\"xref\":\"paper\",\"y\":0.24444444444444446,\"yanchor\":\"bottom\",\"yref\":\"paper\"}],\"title\":{\"font\":{\"size\":22,\"color\":\"Black\"},\"text\":\"<b>Topic Word Scores\",\"x\":0.5,\"xanchor\":\"center\",\"yanchor\":\"top\"},\"hoverlabel\":{\"font\":{\"size\":16,\"family\":\"Rockwell\"},\"bgcolor\":\"white\"},\"showlegend\":false,\"width\":1000,\"height\":750},                        {\"responsive\": true}                    ).then(function(){\n",
       "                            \n",
       "var gd = document.getElementById('4a066c0a-863a-464d-bb2b-fe3d7da84bd8');\n",
       "var x = new MutationObserver(function (mutations, observer) {{\n",
       "        var display = window.getComputedStyle(gd).display;\n",
       "        if (!display || display === 'none') {{\n",
       "            console.log([gd, 'removed!']);\n",
       "            Plotly.purge(gd);\n",
       "            observer.disconnect();\n",
       "        }}\n",
       "}});\n",
       "\n",
       "// Listen for the removal of the full notebook cells\n",
       "var notebookContainer = gd.closest('#notebook-container');\n",
       "if (notebookContainer) {{\n",
       "    x.observe(notebookContainer, {childList: true});\n",
       "}}\n",
       "\n",
       "// Listen for the clearing of the current output cell\n",
       "var outputEl = gd.closest('.output');\n",
       "if (outputEl) {{\n",
       "    x.observe(outputEl, {childList: true});\n",
       "}}\n",
       "\n",
       "                        })                };                            </script>        </div>\n",
       "</body>\n",
       "</html>"
      ]
     },
     "metadata": {}
    }
   ]
  },
  {
   "cell_type": "code",
   "source": [
    "fig_barchar.write_html(\"/content/drive/MyDrive/Interim/fig_barchar.html\")"
   ],
   "metadata": {
    "id": "sQGIIgqBgzye",
    "pycharm": {
     "name": "#%%\n"
    }
   },
   "execution_count": null,
   "outputs": []
  },
  {
   "cell_type": "code",
   "source": [
    "topic_1 = topic_model.get_representative_docs(topic = 48)\n",
    "topic_1"
   ],
   "metadata": {
    "colab": {
     "base_uri": "https://localhost:8080/"
    },
    "id": "bvccKoSBAw2l",
    "executionInfo": {
     "status": "ok",
     "timestamp": 1668092397018,
     "user_tz": -60,
     "elapsed": 967,
     "user": {
      "displayName": "Naemi Graf",
      "userId": "00297558433787857996"
     }
    },
    "outputId": "95ecf5a9-0d2d-4d68-fb11-e80ffbafd1b0",
    "pycharm": {
     "name": "#%%\n"
    }
   },
   "execution_count": null,
   "outputs": [
    {
     "output_type": "execute_result",
     "data": {
      "text/plain": [
       "['Views',\n",
       " 'views',\n",
       " 'Brightcove views',\n",
       " 'opinions mine opinionated',\n",
       " 'Expert nothing opinions everything',\n",
       " 'Opinionated',\n",
       " 'views not employer not not need tell',\n",
       " 'Personal account not reflect views opinions employer HABS Pens NYR BLUE JAYSYankeesPatriotsBengals ManUBUGATTI VEYRON Cats coolest',\n",
       " 'Taking life day day Sports junkie Jaded Leafs fan Raptors Pats Portuguese National Team opinions not judge employer']"
      ]
     },
     "metadata": {},
     "execution_count": 68
    }
   ]
  }
 ],
 "metadata": {
  "accelerator": "GPU",
  "colab": {
   "provenance": [
    {
     "file_id": "1L-Z8b_RN-S7WR0jIyx0s4pSl6LsvMe-O",
     "timestamp": 1668084406734
    }
   ],
   "collapsed_sections": [],
   "toc_visible": true,
   "mount_file_id": "1U8EPy1kt_bgZfs74xDzQdPSJWncXCYOM",
   "authorship_tag": "ABX9TyOOEACKo4aQ2A6VDjxSLP2p"
  },
  "gpuClass": "premium",
  "kernelspec": {
   "display_name": "Python 3",
   "name": "python3"
  },
  "language_info": {
   "name": "python"
  },
  "widgets": {
   "application/vnd.jupyter.widget-state+json": {
    "53f77796c7cd4484b2f6dc94cfa5cd68": {
     "model_module": "@jupyter-widgets/controls",
     "model_name": "HBoxModel",
     "model_module_version": "1.5.0",
     "state": {
      "_dom_classes": [],
      "_model_module": "@jupyter-widgets/controls",
      "_model_module_version": "1.5.0",
      "_model_name": "HBoxModel",
      "_view_count": null,
      "_view_module": "@jupyter-widgets/controls",
      "_view_module_version": "1.5.0",
      "_view_name": "HBoxView",
      "box_style": "",
      "children": [
       "IPY_MODEL_1b3ae699a97f4c2cbce2a9d236b00177",
       "IPY_MODEL_9ce9607e7abb45be8e3f9f4fe4f9bad1",
       "IPY_MODEL_899d706c3ac442c0a94c8efe10492dda"
      ],
      "layout": "IPY_MODEL_86399bb51df2452da2d4f1aee13f4899"
     }
    },
    "1b3ae699a97f4c2cbce2a9d236b00177": {
     "model_module": "@jupyter-widgets/controls",
     "model_name": "HTMLModel",
     "model_module_version": "1.5.0",
     "state": {
      "_dom_classes": [],
      "_model_module": "@jupyter-widgets/controls",
      "_model_module_version": "1.5.0",
      "_model_name": "HTMLModel",
      "_view_count": null,
      "_view_module": "@jupyter-widgets/controls",
      "_view_module_version": "1.5.0",
      "_view_name": "HTMLView",
      "description": "",
      "description_tooltip": null,
      "layout": "IPY_MODEL_f05172d3e93e4af79f8562f6d09b1c79",
      "placeholder": "​",
      "style": "IPY_MODEL_0db9998147cc44a2a11416f80b42c501",
      "value": "Batches: 100%"
     }
    },
    "9ce9607e7abb45be8e3f9f4fe4f9bad1": {
     "model_module": "@jupyter-widgets/controls",
     "model_name": "FloatProgressModel",
     "model_module_version": "1.5.0",
     "state": {
      "_dom_classes": [],
      "_model_module": "@jupyter-widgets/controls",
      "_model_module_version": "1.5.0",
      "_model_name": "FloatProgressModel",
      "_view_count": null,
      "_view_module": "@jupyter-widgets/controls",
      "_view_module_version": "1.5.0",
      "_view_name": "ProgressView",
      "bar_style": "success",
      "description": "",
      "description_tooltip": null,
      "layout": "IPY_MODEL_72121d5345954b0a8793224e85afa35a",
      "max": 2546,
      "min": 0,
      "orientation": "horizontal",
      "style": "IPY_MODEL_a3d96db22f1b4ef0a415f441e061ad39",
      "value": 2546
     }
    },
    "899d706c3ac442c0a94c8efe10492dda": {
     "model_module": "@jupyter-widgets/controls",
     "model_name": "HTMLModel",
     "model_module_version": "1.5.0",
     "state": {
      "_dom_classes": [],
      "_model_module": "@jupyter-widgets/controls",
      "_model_module_version": "1.5.0",
      "_model_name": "HTMLModel",
      "_view_count": null,
      "_view_module": "@jupyter-widgets/controls",
      "_view_module_version": "1.5.0",
      "_view_name": "HTMLView",
      "description": "",
      "description_tooltip": null,
      "layout": "IPY_MODEL_0fbcc3fe447f4204a52f03336f072ae6",
      "placeholder": "​",
      "style": "IPY_MODEL_af7461bf7ed14135ae4b27a008ed170c",
      "value": " 2546/2546 [00:24&lt;00:00, 143.74it/s]"
     }
    },
    "86399bb51df2452da2d4f1aee13f4899": {
     "model_module": "@jupyter-widgets/base",
     "model_name": "LayoutModel",
     "model_module_version": "1.2.0",
     "state": {
      "_model_module": "@jupyter-widgets/base",
      "_model_module_version": "1.2.0",
      "_model_name": "LayoutModel",
      "_view_count": null,
      "_view_module": "@jupyter-widgets/base",
      "_view_module_version": "1.2.0",
      "_view_name": "LayoutView",
      "align_content": null,
      "align_items": null,
      "align_self": null,
      "border": null,
      "bottom": null,
      "display": null,
      "flex": null,
      "flex_flow": null,
      "grid_area": null,
      "grid_auto_columns": null,
      "grid_auto_flow": null,
      "grid_auto_rows": null,
      "grid_column": null,
      "grid_gap": null,
      "grid_row": null,
      "grid_template_areas": null,
      "grid_template_columns": null,
      "grid_template_rows": null,
      "height": null,
      "justify_content": null,
      "justify_items": null,
      "left": null,
      "margin": null,
      "max_height": null,
      "max_width": null,
      "min_height": null,
      "min_width": null,
      "object_fit": null,
      "object_position": null,
      "order": null,
      "overflow": null,
      "overflow_x": null,
      "overflow_y": null,
      "padding": null,
      "right": null,
      "top": null,
      "visibility": null,
      "width": null
     }
    },
    "f05172d3e93e4af79f8562f6d09b1c79": {
     "model_module": "@jupyter-widgets/base",
     "model_name": "LayoutModel",
     "model_module_version": "1.2.0",
     "state": {
      "_model_module": "@jupyter-widgets/base",
      "_model_module_version": "1.2.0",
      "_model_name": "LayoutModel",
      "_view_count": null,
      "_view_module": "@jupyter-widgets/base",
      "_view_module_version": "1.2.0",
      "_view_name": "LayoutView",
      "align_content": null,
      "align_items": null,
      "align_self": null,
      "border": null,
      "bottom": null,
      "display": null,
      "flex": null,
      "flex_flow": null,
      "grid_area": null,
      "grid_auto_columns": null,
      "grid_auto_flow": null,
      "grid_auto_rows": null,
      "grid_column": null,
      "grid_gap": null,
      "grid_row": null,
      "grid_template_areas": null,
      "grid_template_columns": null,
      "grid_template_rows": null,
      "height": null,
      "justify_content": null,
      "justify_items": null,
      "left": null,
      "margin": null,
      "max_height": null,
      "max_width": null,
      "min_height": null,
      "min_width": null,
      "object_fit": null,
      "object_position": null,
      "order": null,
      "overflow": null,
      "overflow_x": null,
      "overflow_y": null,
      "padding": null,
      "right": null,
      "top": null,
      "visibility": null,
      "width": null
     }
    },
    "0db9998147cc44a2a11416f80b42c501": {
     "model_module": "@jupyter-widgets/controls",
     "model_name": "DescriptionStyleModel",
     "model_module_version": "1.5.0",
     "state": {
      "_model_module": "@jupyter-widgets/controls",
      "_model_module_version": "1.5.0",
      "_model_name": "DescriptionStyleModel",
      "_view_count": null,
      "_view_module": "@jupyter-widgets/base",
      "_view_module_version": "1.2.0",
      "_view_name": "StyleView",
      "description_width": ""
     }
    },
    "72121d5345954b0a8793224e85afa35a": {
     "model_module": "@jupyter-widgets/base",
     "model_name": "LayoutModel",
     "model_module_version": "1.2.0",
     "state": {
      "_model_module": "@jupyter-widgets/base",
      "_model_module_version": "1.2.0",
      "_model_name": "LayoutModel",
      "_view_count": null,
      "_view_module": "@jupyter-widgets/base",
      "_view_module_version": "1.2.0",
      "_view_name": "LayoutView",
      "align_content": null,
      "align_items": null,
      "align_self": null,
      "border": null,
      "bottom": null,
      "display": null,
      "flex": null,
      "flex_flow": null,
      "grid_area": null,
      "grid_auto_columns": null,
      "grid_auto_flow": null,
      "grid_auto_rows": null,
      "grid_column": null,
      "grid_gap": null,
      "grid_row": null,
      "grid_template_areas": null,
      "grid_template_columns": null,
      "grid_template_rows": null,
      "height": null,
      "justify_content": null,
      "justify_items": null,
      "left": null,
      "margin": null,
      "max_height": null,
      "max_width": null,
      "min_height": null,
      "min_width": null,
      "object_fit": null,
      "object_position": null,
      "order": null,
      "overflow": null,
      "overflow_x": null,
      "overflow_y": null,
      "padding": null,
      "right": null,
      "top": null,
      "visibility": null,
      "width": null
     }
    },
    "a3d96db22f1b4ef0a415f441e061ad39": {
     "model_module": "@jupyter-widgets/controls",
     "model_name": "ProgressStyleModel",
     "model_module_version": "1.5.0",
     "state": {
      "_model_module": "@jupyter-widgets/controls",
      "_model_module_version": "1.5.0",
      "_model_name": "ProgressStyleModel",
      "_view_count": null,
      "_view_module": "@jupyter-widgets/base",
      "_view_module_version": "1.2.0",
      "_view_name": "StyleView",
      "bar_color": null,
      "description_width": ""
     }
    },
    "0fbcc3fe447f4204a52f03336f072ae6": {
     "model_module": "@jupyter-widgets/base",
     "model_name": "LayoutModel",
     "model_module_version": "1.2.0",
     "state": {
      "_model_module": "@jupyter-widgets/base",
      "_model_module_version": "1.2.0",
      "_model_name": "LayoutModel",
      "_view_count": null,
      "_view_module": "@jupyter-widgets/base",
      "_view_module_version": "1.2.0",
      "_view_name": "LayoutView",
      "align_content": null,
      "align_items": null,
      "align_self": null,
      "border": null,
      "bottom": null,
      "display": null,
      "flex": null,
      "flex_flow": null,
      "grid_area": null,
      "grid_auto_columns": null,
      "grid_auto_flow": null,
      "grid_auto_rows": null,
      "grid_column": null,
      "grid_gap": null,
      "grid_row": null,
      "grid_template_areas": null,
      "grid_template_columns": null,
      "grid_template_rows": null,
      "height": null,
      "justify_content": null,
      "justify_items": null,
      "left": null,
      "margin": null,
      "max_height": null,
      "max_width": null,
      "min_height": null,
      "min_width": null,
      "object_fit": null,
      "object_position": null,
      "order": null,
      "overflow": null,
      "overflow_x": null,
      "overflow_y": null,
      "padding": null,
      "right": null,
      "top": null,
      "visibility": null,
      "width": null
     }
    },
    "af7461bf7ed14135ae4b27a008ed170c": {
     "model_module": "@jupyter-widgets/controls",
     "model_name": "DescriptionStyleModel",
     "model_module_version": "1.5.0",
     "state": {
      "_model_module": "@jupyter-widgets/controls",
      "_model_module_version": "1.5.0",
      "_model_name": "DescriptionStyleModel",
      "_view_count": null,
      "_view_module": "@jupyter-widgets/base",
      "_view_module_version": "1.2.0",
      "_view_name": "StyleView",
      "description_width": ""
     }
    }
   }
  }
 },
 "nbformat": 4,
 "nbformat_minor": 0
}