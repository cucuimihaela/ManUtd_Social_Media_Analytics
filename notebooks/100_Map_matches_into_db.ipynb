{
 "cells": [
  {
   "cell_type": "markdown",
   "source": [
    "\n",
    "\n",
    "-----------------------------------------------------------------------------------------------------------------------------------------------------------------------\n",
    "This notebook maps the matches into the twitter posts dataframe.\n",
    "The matches schedule and results were obtained from https://www.skysports.com/manchester-united-results/2022-23\n",
    "Additionally, it creates two datetime columns to indicate when the match started and ended, with a time window before and after, in order to capture the tweets that occured during the match.\n",
    "-----------------------------------------------------------------------------------------------------------------------------------------------------------------------"
   ],
   "metadata": {
    "collapsed": false,
    "pycharm": {
     "name": "#%% md\n"
    }
   }
  },
  {
   "cell_type": "code",
   "execution_count": 7,
   "outputs": [],
   "source": [
    "import pandas as pd"
   ],
   "metadata": {
    "collapsed": false,
    "pycharm": {
     "name": "#%%\n"
    }
   }
  },
  {
   "cell_type": "code",
   "execution_count": 8,
   "outputs": [],
   "source": [
    "matches=pd.read_csv(\"../data/raw/matches_May_20Oct.csv\")\n",
    "posts=pd.read_csv(\"../data/processed/Post_Twitter_all_Hashtags.csv\")"
   ],
   "metadata": {
    "collapsed": false,
    "pycharm": {
     "name": "#%%\n"
    }
   }
  },
  {
   "cell_type": "code",
   "execution_count": 9,
   "outputs": [],
   "source": [
    "# Import matches csv, add the dayfirst to make sure the day is not swapped with month\n",
    "matches['match_datetime']=pd.to_datetime(matches['match_datetime'],dayfirst=True)"
   ],
   "metadata": {
    "collapsed": false,
    "pycharm": {
     "name": "#%%\n"
    }
   }
  },
  {
   "cell_type": "code",
   "execution_count": 10,
   "outputs": [
    {
     "data": {
      "text/plain": "match_type\nFriendly Match                 6\nPremier League                13\nUEFA Europa League Group E     4\ndtype: int64"
     },
     "execution_count": 10,
     "metadata": {},
     "output_type": "execute_result"
    }
   ],
   "source": [
    "matches.groupby(['match_type']).size()"
   ],
   "metadata": {
    "collapsed": false,
    "pycharm": {
     "name": "#%%\n"
    }
   }
  },
  {
   "cell_type": "code",
   "execution_count": 11,
   "outputs": [],
   "source": [
    "#Add the window during which the users could be tweeting: 1 hour before the match and 2hours after\n",
    "\n",
    "matches['match_adj_start_time']=matches['match_datetime'].apply(lambda x: x+pd.DateOffset(minutes=-60))\n",
    "matches['match_adj_end_time'] =matches['match_datetime'].apply(lambda x: x+pd.DateOffset(hours=3))\n",
    "posts['Date_Created']=pd.to_datetime(posts['Date_Created'])\n",
    "posts['Date_Created_UTC'] = posts['Date_Created'].dt.tz_convert(None)"
   ],
   "metadata": {
    "collapsed": false,
    "pycharm": {
     "name": "#%%\n"
    }
   }
  },
  {
   "cell_type": "code",
   "execution_count": 6,
   "outputs": [],
   "source": [
    "#map the match number into the tweets dataframe, if no match use 999\n",
    "posts['match']=999\n",
    "for row, index in matches.iterrows():\n",
    "    posts.loc[posts['match']==999,'match'] =posts.loc[posts['match']==999,'Date_Created_UTC'].apply(lambda x: row if ((x >= matches.loc[row,'match_adj_start_time'])  & (x <= matches.loc[row,'match_adj_end_time'])) else 999)"
   ],
   "metadata": {
    "collapsed": false,
    "pycharm": {
     "name": "#%%\n"
    }
   }
  },
  {
   "cell_type": "code",
   "execution_count": 7,
   "outputs": [],
   "source": [
    "# Merge the post df with the matches df based on match number\n",
    "posts=pd.merge(posts,matches,how='left',left_on='match',right_index=True)"
   ],
   "metadata": {
    "collapsed": false,
    "pycharm": {
     "name": "#%%\n"
    }
   }
  },
  {
   "cell_type": "code",
   "execution_count": 8,
   "outputs": [],
   "source": [
    "posts.to_csv('../data/processed/Post_Twitter_all_Hashtags_with_matches.csv', encoding='utf-8', index = False)"
   ],
   "metadata": {
    "collapsed": false,
    "pycharm": {
     "name": "#%%\n"
    }
   }
  },
  {
   "cell_type": "code",
   "execution_count": null,
   "outputs": [],
   "source": [],
   "metadata": {
    "collapsed": false,
    "pycharm": {
     "name": "#%%\n"
    }
   }
  }
 ],
 "metadata": {
  "kernelspec": {
   "name": "sit4",
   "language": "python",
   "display_name": "SIT4"
  },
  "language_info": {
   "codemirror_mode": {
    "name": "ipython",
    "version": 2
   },
   "file_extension": ".py",
   "mimetype": "text/x-python",
   "name": "python",
   "nbconvert_exporter": "python",
   "pygments_lexer": "ipython2",
   "version": "2.7.6"
  }
 },
 "nbformat": 4,
 "nbformat_minor": 0
}